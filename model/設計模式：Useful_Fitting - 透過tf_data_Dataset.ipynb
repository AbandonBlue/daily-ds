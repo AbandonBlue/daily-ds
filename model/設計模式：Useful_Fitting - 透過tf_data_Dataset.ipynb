{
  "nbformat": 4,
  "nbformat_minor": 0,
  "metadata": {
    "colab": {
      "name": "測試Useful Fitting 透過tf.data.Dataset.ipynb",
      "provenance": []
    },
    "kernelspec": {
      "name": "python3",
      "display_name": "Python 3"
    },
    "language_info": {
      "name": "python"
    },
    "accelerator": "GPU"
  },
  "cells": [
    {
      "cell_type": "code",
      "metadata": {
        "id": "lPCjHfsNjVqy"
      },
      "source": [
        "import tensorflow as tf\n",
        "from tensorflow import keras\n",
        "from tensorflow.keras import layers\n",
        "import numpy as np"
      ],
      "execution_count": 1,
      "outputs": []
    },
    {
      "cell_type": "code",
      "metadata": {
        "id": "_7ORvyeZjmX1"
      },
      "source": [
        "(x_train, y_train), (x_test, y_test) = keras.datasets.cifar10.load_data()"
      ],
      "execution_count": 26,
      "outputs": []
    },
    {
      "cell_type": "code",
      "metadata": {
        "id": "CxHDwi6tmsJD"
      },
      "source": [
        "y_train = keras.utils.to_categorical(y_train, 10)\n",
        "y_test = keras.utils.to_categorical(y_test, 10)\n",
        "\n",
        "x_train = x_train / 255.0\n",
        "x_test = x_test / 255.0"
      ],
      "execution_count": 27,
      "outputs": []
    },
    {
      "cell_type": "code",
      "metadata": {
        "colab": {
          "base_uri": "https://localhost:8080/"
        },
        "id": "bxD-ISuDju1L",
        "outputId": "4e505e68-4330-4c3f-fde8-cb1a089df34d"
      },
      "source": [
        "# 裝回tf.data.Dataset\n",
        "\n",
        "ds_train = tf.data.Dataset.from_tensor_slices((x_train, y_train))\n",
        "ds_train"
      ],
      "execution_count": 28,
      "outputs": [
        {
          "output_type": "execute_result",
          "data": {
            "text/plain": [
              "<TensorSliceDataset shapes: ((32, 32, 3), (10,)), types: (tf.float64, tf.float32)>"
            ]
          },
          "metadata": {
            "tags": []
          },
          "execution_count": 28
        }
      ]
    },
    {
      "cell_type": "code",
      "metadata": {
        "colab": {
          "base_uri": "https://localhost:8080/"
        },
        "id": "85nDPeKdj7JH",
        "outputId": "b980ed98-b867-4f9b-e246-c61ba90ef644"
      },
      "source": [
        "# 取得單一batch\n",
        "\n",
        "one_batch = ds_train.batch(batch_size=128).take(1)\n",
        "\n",
        "for (x, y) in one_batch:\n",
        "    print(x.shape)\n",
        "    print(y.shape)"
      ],
      "execution_count": 29,
      "outputs": [
        {
          "output_type": "stream",
          "text": [
            "(128, 32, 32, 3)\n",
            "(128, 10)\n"
          ],
          "name": "stdout"
        }
      ]
    },
    {
      "cell_type": "code",
      "metadata": {
        "colab": {
          "base_uri": "https://localhost:8080/"
        },
        "id": "_BkrcF8hkTsr",
        "outputId": "3010268e-ca90-4a72-c1c3-f796b28ffd05"
      },
      "source": [
        "# 透過模型去擬合\n",
        "\n",
        "\n",
        "model = keras.Sequential([\n",
        "    layers.InputLayer(input_shape=(32, 32, 3)),\n",
        "    layers.Conv2D(64, 3, padding='same'),\n",
        "    layers.MaxPooling2D(),\n",
        "    layers.GlobalMaxPooling2D(),\n",
        "    layers.Dense(10, activation='softmax')\n",
        "])\n",
        "\n",
        "model.compile(\n",
        "    optimizer=keras.optimizers.Adam(),\n",
        "    loss=keras.losses.CategoricalCrossentropy(from_logits=False),\n",
        "    metrics='acc'\n",
        ")\n",
        "\n",
        "model.fit(one_batch.repeat(),epochs=20, steps_per_epoch=100, validation_data=(x_test, y_test))"
      ],
      "execution_count": 31,
      "outputs": [
        {
          "output_type": "stream",
          "text": [
            "Epoch 1/20\n",
            "100/100 [==============================] - 2s 17ms/step - loss: 2.1263 - acc: 0.2592 - val_loss: 2.2556 - val_acc: 0.1730\n",
            "Epoch 2/20\n",
            "100/100 [==============================] - 1s 13ms/step - loss: 1.7548 - acc: 0.4154 - val_loss: 2.1928 - val_acc: 0.2014\n",
            "Epoch 3/20\n",
            "100/100 [==============================] - 1s 13ms/step - loss: 1.2836 - acc: 0.6327 - val_loss: 2.2868 - val_acc: 0.2159\n",
            "Epoch 4/20\n",
            "100/100 [==============================] - 1s 13ms/step - loss: 0.8713 - acc: 0.7967 - val_loss: 2.4848 - val_acc: 0.2265\n",
            "Epoch 5/20\n",
            "100/100 [==============================] - 1s 13ms/step - loss: 0.5730 - acc: 0.8945 - val_loss: 2.7329 - val_acc: 0.2299\n",
            "Epoch 6/20\n",
            "100/100 [==============================] - 1s 13ms/step - loss: 0.3735 - acc: 0.9651 - val_loss: 2.9905 - val_acc: 0.2322\n",
            "Epoch 7/20\n",
            "100/100 [==============================] - 1s 13ms/step - loss: 0.2452 - acc: 0.9967 - val_loss: 3.2458 - val_acc: 0.2339\n",
            "Epoch 8/20\n",
            "100/100 [==============================] - 1s 13ms/step - loss: 0.1646 - acc: 1.0000 - val_loss: 3.4866 - val_acc: 0.2343\n",
            "Epoch 9/20\n",
            "100/100 [==============================] - 1s 13ms/step - loss: 0.1141 - acc: 1.0000 - val_loss: 3.7079 - val_acc: 0.2347\n",
            "Epoch 10/20\n",
            "100/100 [==============================] - 1s 13ms/step - loss: 0.0821 - acc: 1.0000 - val_loss: 3.9103 - val_acc: 0.2335\n",
            "Epoch 11/20\n",
            "100/100 [==============================] - 1s 13ms/step - loss: 0.0611 - acc: 1.0000 - val_loss: 4.0903 - val_acc: 0.2352\n",
            "Epoch 12/20\n",
            "100/100 [==============================] - 1s 13ms/step - loss: 0.0470 - acc: 1.0000 - val_loss: 4.2505 - val_acc: 0.2347\n",
            "Epoch 13/20\n",
            "100/100 [==============================] - 1s 13ms/step - loss: 0.0371 - acc: 1.0000 - val_loss: 4.3952 - val_acc: 0.2341\n",
            "Epoch 14/20\n",
            "100/100 [==============================] - 1s 13ms/step - loss: 0.0300 - acc: 1.0000 - val_loss: 4.5270 - val_acc: 0.2348\n",
            "Epoch 15/20\n",
            "100/100 [==============================] - 1s 13ms/step - loss: 0.0246 - acc: 1.0000 - val_loss: 4.6494 - val_acc: 0.2352\n",
            "Epoch 16/20\n",
            "100/100 [==============================] - 1s 13ms/step - loss: 0.0205 - acc: 1.0000 - val_loss: 4.7628 - val_acc: 0.2358\n",
            "Epoch 17/20\n",
            "100/100 [==============================] - 1s 13ms/step - loss: 0.0173 - acc: 1.0000 - val_loss: 4.8680 - val_acc: 0.2359\n",
            "Epoch 18/20\n",
            "100/100 [==============================] - 1s 13ms/step - loss: 0.0148 - acc: 1.0000 - val_loss: 4.9651 - val_acc: 0.2354\n",
            "Epoch 19/20\n",
            "100/100 [==============================] - 1s 13ms/step - loss: 0.0127 - acc: 1.0000 - val_loss: 5.0575 - val_acc: 0.2360\n",
            "Epoch 20/20\n",
            "100/100 [==============================] - 1s 13ms/step - loss: 0.0111 - acc: 1.0000 - val_loss: 5.1450 - val_acc: 0.2353\n"
          ],
          "name": "stdout"
        },
        {
          "output_type": "execute_result",
          "data": {
            "text/plain": [
              "<tensorflow.python.keras.callbacks.History at 0x7fe8a63e7850>"
            ]
          },
          "metadata": {
            "tags": []
          },
          "execution_count": 31
        }
      ]
    },
    {
      "cell_type": "code",
      "metadata": {
        "colab": {
          "base_uri": "https://localhost:8080/"
        },
        "id": "OP-nkVvhlbry",
        "outputId": "0b4b9b0b-8622-4b45-d152-356d6703bf41"
      },
      "source": [
        "model.summary()"
      ],
      "execution_count": 32,
      "outputs": [
        {
          "output_type": "stream",
          "text": [
            "Model: \"sequential_7\"\n",
            "_________________________________________________________________\n",
            "Layer (type)                 Output Shape              Param #   \n",
            "=================================================================\n",
            "conv2d_7 (Conv2D)            (None, 32, 32, 64)        1792      \n",
            "_________________________________________________________________\n",
            "max_pooling2d_7 (MaxPooling2 (None, 16, 16, 64)        0         \n",
            "_________________________________________________________________\n",
            "global_max_pooling2d_7 (Glob (None, 64)                0         \n",
            "_________________________________________________________________\n",
            "dense_7 (Dense)              (None, 10)                650       \n",
            "=================================================================\n",
            "Total params: 2,442\n",
            "Trainable params: 2,442\n",
            "Non-trainable params: 0\n",
            "_________________________________________________________________\n"
          ],
          "name": "stdout"
        }
      ]
    },
    {
      "cell_type": "code",
      "metadata": {
        "id": "4jxDACgYn1-f"
      },
      "source": [
        ""
      ],
      "execution_count": null,
      "outputs": []
    },
    {
      "cell_type": "markdown",
      "metadata": {
        "id": "MDdgxLj1n9Ag"
      },
      "source": [
        "> 透過single_batch去測試模型fit能力，雖然模型不大，但fit能力足夠，但很顯然general是差的。"
      ]
    },
    {
      "cell_type": "code",
      "metadata": {
        "id": "HcnolMZaoNDN"
      },
      "source": [
        ""
      ],
      "execution_count": null,
      "outputs": []
    }
  ]
}