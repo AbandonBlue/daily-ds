{
  "nbformat": 4,
  "nbformat_minor": 0,
  "metadata": {
    "colab": {
      "name": "設計模式：分散策略.ipynb",
      "provenance": [],
      "collapsed_sections": []
    },
    "kernelspec": {
      "name": "python3",
      "display_name": "Python 3"
    },
    "language_info": {
      "name": "python"
    },
    "accelerator": "GPU"
  },
  "cells": [
    {
      "cell_type": "code",
      "metadata": {
        "id": "XCZGBbWpA9RM"
      },
      "source": [
        "import tensorflow as tf\n",
        "from tensorflow import keras\n",
        "from tensorflow.keras import layers\n",
        "import numpy as np"
      ],
      "execution_count": 1,
      "outputs": []
    },
    {
      "cell_type": "code",
      "metadata": {
        "colab": {
          "base_uri": "https://localhost:8080/"
        },
        "id": "MYcgXM6IBRPx",
        "outputId": "9a56b347-2253-4eed-8b35-92366c02e5c8"
      },
      "source": [
        "# 簡單資料使用\n",
        "\n",
        "(x_train, y_train), (x_test, y_test) = keras.datasets.cifar10.load_data()\n",
        "\n",
        "x_train =  x_train / 255.0\n",
        "x_test = x_test / 255.0\n",
        "\n",
        "y_train = keras.utils.to_categorical(y_train, 10)\n",
        "y_test = keras.utils.to_categorical(y_test, 10)"
      ],
      "execution_count": 2,
      "outputs": [
        {
          "output_type": "stream",
          "text": [
            "Downloading data from https://www.cs.toronto.edu/~kriz/cifar-10-python.tar.gz\n",
            "170500096/170498071 [==============================] - 2s 0us/step\n"
          ],
          "name": "stdout"
        }
      ]
    },
    {
      "cell_type": "code",
      "metadata": {
        "colab": {
          "base_uri": "https://localhost:8080/"
        },
        "id": "so1Ue8TPBswP",
        "outputId": "4a7e7275-0e75-4db5-c67c-ad355105a847"
      },
      "source": [
        "# 使用分散策略!\n",
        "\n",
        "\n",
        "mirroed_strategy = tf.distribute.MirroredStrategy()\n",
        "with mirroed_strategy.scope():\n",
        "    model = keras.Sequential([\n",
        "        layers.InputLayer((32, 32, 3)),\n",
        "        layers.Conv2D(64, 3, activation='relu'),\n",
        "        layers.GlobalAveragePooling2D(),\n",
        "        layers.Dense(64, activation='relu'),\n",
        "        layers.Dense(32, activation='relu'),\n",
        "        layers.Dense(10, activation='softmax')\n",
        "    ])\n",
        "    model.compile(loss=keras.losses.CategoricalCrossentropy(), optimizer=keras.optimizers.Adam(), metrics=['acc'])"
      ],
      "execution_count": 11,
      "outputs": [
        {
          "output_type": "stream",
          "text": [
            "WARNING:tensorflow:Collective ops is not configured at program startup. Some performance features may not be enabled.\n",
            "INFO:tensorflow:Using MirroredStrategy with devices ('/job:localhost/replica:0/task:0/device:GPU:0',)\n"
          ],
          "name": "stdout"
        }
      ]
    },
    {
      "cell_type": "code",
      "metadata": {
        "colab": {
          "base_uri": "https://localhost:8080/"
        },
        "id": "8a462NgGCoVE",
        "outputId": "e63f11b0-2557-45f8-8ef9-894e0f1e8c45"
      },
      "source": [
        "model.fit(x_train, y_train, batch_size=128, epochs=5, validation_data=(x_test, y_test))\n",
        "model.evaluate(x_test, y_test)"
      ],
      "execution_count": 12,
      "outputs": [
        {
          "output_type": "stream",
          "text": [
            "Epoch 1/5\n",
            "391/391 [==============================] - 8s 15ms/step - loss: 2.1160 - acc: 0.2002 - val_loss: 2.0172 - val_acc: 0.2480\n",
            "Epoch 2/5\n",
            "391/391 [==============================] - 4s 11ms/step - loss: 1.9466 - acc: 0.2618 - val_loss: 1.8716 - val_acc: 0.2949\n",
            "Epoch 3/5\n",
            "391/391 [==============================] - 4s 11ms/step - loss: 1.8191 - acc: 0.3087 - val_loss: 1.7588 - val_acc: 0.3279\n",
            "Epoch 4/5\n",
            "391/391 [==============================] - 4s 11ms/step - loss: 1.7416 - acc: 0.3331 - val_loss: 1.7091 - val_acc: 0.3506\n",
            "Epoch 5/5\n",
            "391/391 [==============================] - 4s 11ms/step - loss: 1.7137 - acc: 0.3464 - val_loss: 1.6875 - val_acc: 0.3599\n",
            "313/313 [==============================] - 1s 4ms/step - loss: 1.6875 - acc: 0.3599\n"
          ],
          "name": "stdout"
        },
        {
          "output_type": "execute_result",
          "data": {
            "text/plain": [
              "[1.6875019073486328, 0.35989999771118164]"
            ]
          },
          "metadata": {
            "tags": []
          },
          "execution_count": 12
        }
      ]
    },
    {
      "cell_type": "code",
      "metadata": {
        "colab": {
          "base_uri": "https://localhost:8080/"
        },
        "id": "Re5zouzuDGKr",
        "outputId": "dbe7b726-b1e0-4567-d36d-ed65711fbcae"
      },
      "source": [
        "# 沒有使用分散策略(基本上這個例子會沒差，因為只有一顆GPU)\n",
        "\n",
        "model_2 = keras.Sequential([\n",
        "    layers.InputLayer((32, 32, 3)),\n",
        "    layers.Conv2D(64, 3, activation='relu'),\n",
        "    layers.GlobalAveragePooling2D(),\n",
        "    layers.Dense(64, activation='relu'),\n",
        "    layers.Dense(32, activation='relu'),\n",
        "    layers.Dense(10, activation='softmax')\n",
        "])\n",
        "model_2.compile(loss=keras.losses.CategoricalCrossentropy(), optimizer=keras.optimizers.Adam(), metrics=['acc'])\n",
        "\n",
        "model_2.fit(x_train, y_train, batch_size=128, epochs=5, validation_data=(x_test, y_test))\n",
        "model_2.evaluate(x_test, y_test)"
      ],
      "execution_count": 13,
      "outputs": [
        {
          "output_type": "stream",
          "text": [
            "Epoch 1/5\n",
            "391/391 [==============================] - 4s 10ms/step - loss: 2.1179 - acc: 0.1923 - val_loss: 2.0116 - val_acc: 0.2334\n",
            "Epoch 2/5\n",
            "391/391 [==============================] - 3s 9ms/step - loss: 1.9426 - acc: 0.2599 - val_loss: 1.8881 - val_acc: 0.2846\n",
            "Epoch 3/5\n",
            "391/391 [==============================] - 4s 9ms/step - loss: 1.8374 - acc: 0.2972 - val_loss: 1.7744 - val_acc: 0.3190\n",
            "Epoch 4/5\n",
            "391/391 [==============================] - 3s 9ms/step - loss: 1.7698 - acc: 0.3209 - val_loss: 1.7442 - val_acc: 0.3348\n",
            "Epoch 5/5\n",
            "391/391 [==============================] - 3s 9ms/step - loss: 1.7380 - acc: 0.3354 - val_loss: 1.7202 - val_acc: 0.3464\n",
            "313/313 [==============================] - 1s 3ms/step - loss: 1.7202 - acc: 0.3464\n"
          ],
          "name": "stdout"
        },
        {
          "output_type": "execute_result",
          "data": {
            "text/plain": [
              "[1.7202215194702148, 0.3463999927043915]"
            ]
          },
          "metadata": {
            "tags": []
          },
          "execution_count": 13
        }
      ]
    },
    {
      "cell_type": "code",
      "metadata": {
        "id": "xDR8jtR7C7jI"
      },
      "source": [
        ""
      ],
      "execution_count": null,
      "outputs": []
    }
  ]
}