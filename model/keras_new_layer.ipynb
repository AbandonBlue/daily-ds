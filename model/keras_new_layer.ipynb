{
  "nbformat": 4,
  "nbformat_minor": 0,
  "metadata": {
    "colab": {
      "name": "keras-new-layer.ipynb",
      "provenance": [],
      "collapsed_sections": []
    },
    "kernelspec": {
      "name": "python3",
      "display_name": "Python 3"
    },
    "language_info": {
      "name": "python"
    },
    "accelerator": "GPU"
  },
  "cells": [
    {
      "cell_type": "code",
      "metadata": {
        "id": "n_-2t5z3pFsZ"
      },
      "source": [
        "import tensorflow as tf\n",
        "from tensorflow import keras\n",
        "from tensorflow.keras import layers\n",
        "import numpy as np"
      ],
      "execution_count": 1,
      "outputs": []
    },
    {
      "cell_type": "code",
      "metadata": {
        "id": "VpFa-wRspVne"
      },
      "source": [
        "# 透過keras layer創建一個自己的dense-layer\n",
        "# 參數在Layer會自動追蹤\n",
        "\n",
        "class DenseLayer(layers.Layer):\n",
        "    def __init__(self, units, input_dim):\n",
        "        super(DenseLayer, self).__init__()\n",
        "        w_init = tf.random_normal_initializer()\n",
        "        b_init = tf.random_normal_initializer()\n",
        "        self.w = tf.Variable(\n",
        "            initial_value=w_init(shape=(input_dim, units), dtype='float32'),\n",
        "            trainable=True,\n",
        "        )\n",
        "        self.b = tf.Variable(\n",
        "            initial_value=b_init(shape=(units,), dtype='float32'),\n",
        "            trainable=True\n",
        "        )\n",
        "\n",
        "    def call(self, inputs):\n",
        "        return tf.matmul(inputs, self.w) + self.b\n",
        "# class Linear(keras.layers.Layer):\n",
        "#     def __init__(self, units=32, input_dim=32):\n",
        "#         super(Linear, self).__init__()\n",
        "#         w_init = tf.random_normal_initializer()\n",
        "#         self.w = tf.Variable(\n",
        "#             initial_value=w_init(shape=(input_dim, units), dtype=\"float32\"),\n",
        "#             trainable=True,\n",
        "#         )\n",
        "#         b_init = tf.zeros_initializer()\n",
        "#         self.b = tf.Variable(\n",
        "#             initial_value=b_init(shape=(units,), dtype=\"float32\"), trainable=True\n",
        "#         )\n",
        "\n",
        "#     def call(self, inputs):\n",
        "#         return tf.matmul(inputs, self.w) + self.b"
      ],
      "execution_count": 12,
      "outputs": []
    },
    {
      "cell_type": "code",
      "metadata": {
        "colab": {
          "base_uri": "https://localhost:8080/"
        },
        "id": "aVlnjQHcqatR",
        "outputId": "d23771e6-5614-4ae5-9be3-7026110cf15b"
      },
      "source": [
        "x = tf.ones((3, 3))\n",
        "linear_layer = DenseLayer(4, 3)\n",
        "# linear_layer = Linear(4, 3)\n",
        "y = linear_layer(x)\n",
        "\n",
        "y"
      ],
      "execution_count": 14,
      "outputs": [
        {
          "output_type": "execute_result",
          "data": {
            "text/plain": [
              "<tf.Tensor: shape=(3, 4), dtype=float32, numpy=\n",
              "array([[0.09184986, 0.08719187, 0.00100254, 0.22106475],\n",
              "       [0.09184986, 0.08719187, 0.00100254, 0.22106475],\n",
              "       [0.09184986, 0.08719187, 0.00100254, 0.22106475]], dtype=float32)>"
            ]
          },
          "metadata": {
            "tags": []
          },
          "execution_count": 14
        }
      ]
    },
    {
      "cell_type": "code",
      "metadata": {
        "id": "2VtQKa_FqrZo"
      },
      "source": [
        "assert linear_layer.weights == [linear_layer.w, linear_layer.b]"
      ],
      "execution_count": 15,
      "outputs": []
    },
    {
      "cell_type": "code",
      "metadata": {
        "id": "UUBq30QvsHDq"
      },
      "source": [
        "# 但上面比較繁瑣，可以透過add_weight()幫助快速建立模型參數\n",
        "\n",
        "class Linear(layers.Layer):\n",
        "    def __init__(self, input_dim, units):\n",
        "        super(Linear, self).__init__()\n",
        "        self.w = self.add_weight(\n",
        "            shape=(input_dim, units),\n",
        "            initializer='random_normal',\n",
        "            trainable=True\n",
        "        )\n",
        "        self.b = self.add_weight(\n",
        "            shape=(units,),\n",
        "            initializer='zeros',\n",
        "            trainable=True\n",
        "        )\n",
        "    \n",
        "    def call(self, inputs):\n",
        "        return tf.matmul(inputs, self.w) + self.b\n",
        "\n"
      ],
      "execution_count": 16,
      "outputs": []
    },
    {
      "cell_type": "code",
      "metadata": {
        "colab": {
          "base_uri": "https://localhost:8080/"
        },
        "id": "65V_fuphs7dX",
        "outputId": "b9104f47-2347-4441-b58c-229dfb0336fe"
      },
      "source": [
        "x = tf.ones((12, 3))\n",
        "la = Linear(3, 20)\n",
        "y = la(x)\n",
        "\n",
        "print(y)"
      ],
      "execution_count": 17,
      "outputs": [
        {
          "output_type": "stream",
          "text": [
            "tf.Tensor(\n",
            "[[-0.03926901 -0.03419858 -0.01376631  0.12769729  0.15336572 -0.13010372\n",
            "  -0.02338034 -0.01656438 -0.04477892  0.0151759  -0.08023205 -0.0214783\n",
            "   0.17287059  0.0479687  -0.09878155 -0.10114719 -0.16871123  0.0141742\n",
            "  -0.09235399  0.01231059]\n",
            " [-0.03926901 -0.03419858 -0.01376631  0.12769729  0.15336572 -0.13010372\n",
            "  -0.02338034 -0.01656438 -0.04477892  0.0151759  -0.08023205 -0.0214783\n",
            "   0.17287059  0.0479687  -0.09878155 -0.10114719 -0.16871123  0.0141742\n",
            "  -0.09235399  0.01231059]\n",
            " [-0.03926901 -0.03419858 -0.01376631  0.12769729  0.15336572 -0.13010372\n",
            "  -0.02338034 -0.01656438 -0.04477892  0.0151759  -0.08023205 -0.0214783\n",
            "   0.17287059  0.0479687  -0.09878155 -0.10114719 -0.16871123  0.0141742\n",
            "  -0.09235399  0.01231059]\n",
            " [-0.03926901 -0.03419858 -0.01376631  0.12769729  0.15336572 -0.13010372\n",
            "  -0.02338034 -0.01656438 -0.04477892  0.0151759  -0.08023205 -0.0214783\n",
            "   0.17287059  0.0479687  -0.09878155 -0.10114719 -0.16871123  0.0141742\n",
            "  -0.09235399  0.01231059]\n",
            " [-0.03926901 -0.03419858 -0.01376631  0.12769729  0.15336572 -0.13010372\n",
            "  -0.02338034 -0.01656438 -0.04477892  0.0151759  -0.08023205 -0.0214783\n",
            "   0.17287059  0.0479687  -0.09878155 -0.10114719 -0.16871123  0.0141742\n",
            "  -0.09235399  0.01231059]\n",
            " [-0.03926901 -0.03419858 -0.01376631  0.12769729  0.15336572 -0.13010372\n",
            "  -0.02338034 -0.01656438 -0.04477892  0.0151759  -0.08023205 -0.0214783\n",
            "   0.17287059  0.0479687  -0.09878155 -0.10114719 -0.16871123  0.0141742\n",
            "  -0.09235399  0.01231059]\n",
            " [-0.03926901 -0.03419858 -0.01376631  0.12769729  0.15336572 -0.13010372\n",
            "  -0.02338034 -0.01656438 -0.04477892  0.0151759  -0.08023205 -0.0214783\n",
            "   0.17287059  0.0479687  -0.09878155 -0.10114719 -0.16871123  0.0141742\n",
            "  -0.09235399  0.01231059]\n",
            " [-0.03926901 -0.03419858 -0.01376631  0.12769729  0.15336572 -0.13010372\n",
            "  -0.02338034 -0.01656438 -0.04477892  0.0151759  -0.08023205 -0.0214783\n",
            "   0.17287059  0.0479687  -0.09878155 -0.10114719 -0.16871123  0.0141742\n",
            "  -0.09235399  0.01231059]\n",
            " [-0.03926901 -0.03419858 -0.01376631  0.12769729  0.15336572 -0.13010372\n",
            "  -0.02338034 -0.01656438 -0.04477892  0.0151759  -0.08023205 -0.0214783\n",
            "   0.17287059  0.0479687  -0.09878155 -0.10114719 -0.16871123  0.0141742\n",
            "  -0.09235399  0.01231059]\n",
            " [-0.03926901 -0.03419858 -0.01376631  0.12769729  0.15336572 -0.13010372\n",
            "  -0.02338034 -0.01656438 -0.04477892  0.0151759  -0.08023205 -0.0214783\n",
            "   0.17287059  0.0479687  -0.09878155 -0.10114719 -0.16871123  0.0141742\n",
            "  -0.09235399  0.01231059]\n",
            " [-0.03926901 -0.03419858 -0.01376631  0.12769729  0.15336572 -0.13010372\n",
            "  -0.02338034 -0.01656438 -0.04477892  0.0151759  -0.08023205 -0.0214783\n",
            "   0.17287059  0.0479687  -0.09878155 -0.10114719 -0.16871123  0.0141742\n",
            "  -0.09235399  0.01231059]\n",
            " [-0.03926901 -0.03419858 -0.01376631  0.12769729  0.15336572 -0.13010372\n",
            "  -0.02338034 -0.01656438 -0.04477892  0.0151759  -0.08023205 -0.0214783\n",
            "   0.17287059  0.0479687  -0.09878155 -0.10114719 -0.16871123  0.0141742\n",
            "  -0.09235399  0.01231059]], shape=(12, 20), dtype=float32)\n"
          ],
          "name": "stdout"
        }
      ]
    },
    {
      "cell_type": "code",
      "metadata": {
        "colab": {
          "base_uri": "https://localhost:8080/"
        },
        "id": "X0ibusxttE91",
        "outputId": "bbedafee-9527-4be4-867e-592d75d27556"
      },
      "source": [
        "# 模型內也可以有不可訓練參數，誤差反向傳地就會不記錄其梯度\n",
        "\n",
        "\n",
        "class ComputeSum(layers.Layer):\n",
        "    def __init__(self, input_dim):\n",
        "        super(ComputeSum, self).__init__()\n",
        "        self.total = tf.Variable(\n",
        "            initial_value=tf.ones(input_dim,),\n",
        "            trainable=False\n",
        "        )\n",
        "    \n",
        "    def call(self, inputs):\n",
        "        self.total.assign_add(tf.reduce_sum(inputs, axis=0))\n",
        "        # https://www.tensorflow.org/api_docs/python/tf/Variable#assign_add\n",
        "        return self.total\n",
        "\n",
        "\n",
        "\n",
        "x = tf.ones((3, 6))\n",
        "cs = ComputeSum(6)\n",
        "y = cs(x)\n",
        "print(y.numpy())        # [1+3]*6\n",
        "\n",
        "y = cs(x)\n",
        "print(y.numpy())        # [4 + 3] * 6"
      ],
      "execution_count": 19,
      "outputs": [
        {
          "output_type": "stream",
          "text": [
            "[4. 4. 4. 4. 4. 4.]\n",
            "[7. 7. 7. 7. 7. 7.]\n"
          ],
          "name": "stdout"
        }
      ]
    },
    {
      "cell_type": "code",
      "metadata": {
        "colab": {
          "base_uri": "https://localhost:8080/"
        },
        "id": "mniFHsXFukfo",
        "outputId": "f6dcc4ad-1d60-4753-841c-40bf96ea547e"
      },
      "source": [
        "# 觀看layer的權重資訊\n",
        "\n",
        "print(len(cs.weights))\n",
        "\n",
        "print(len(cs.non_trainable_weights))\n",
        "\n",
        "print(len(cs.trainable_weights))"
      ],
      "execution_count": 20,
      "outputs": [
        {
          "output_type": "stream",
          "text": [
            "1\n",
            "1\n",
            "0\n"
          ],
          "name": "stdout"
        }
      ]
    },
    {
      "cell_type": "code",
      "metadata": {
        "colab": {
          "base_uri": "https://localhost:8080/"
        },
        "id": "lwhdZj19vtL_",
        "outputId": "ae426e2c-2a82-4215-9571-23443567818b"
      },
      "source": [
        "cs.trainable_weights"
      ],
      "execution_count": 21,
      "outputs": [
        {
          "output_type": "execute_result",
          "data": {
            "text/plain": [
              "[]"
            ]
          },
          "metadata": {
            "tags": []
          },
          "execution_count": 21
        }
      ]
    },
    {
      "cell_type": "code",
      "metadata": {
        "colab": {
          "base_uri": "https://localhost:8080/"
        },
        "id": "PMhZn0dPvwG8",
        "outputId": "118a07aa-bf4b-48f6-aab9-6ffff51ef103"
      },
      "source": [
        "cs.non_trainable_variables"
      ],
      "execution_count": 22,
      "outputs": [
        {
          "output_type": "execute_result",
          "data": {
            "text/plain": [
              "[<tf.Variable 'Variable:0' shape=(6,) dtype=float32, numpy=array([7., 7., 7., 7., 7., 7.], dtype=float32)>]"
            ]
          },
          "metadata": {
            "tags": []
          },
          "execution_count": 22
        }
      ]
    },
    {
      "cell_type": "code",
      "metadata": {
        "colab": {
          "base_uri": "https://localhost:8080/"
        },
        "id": "XhREJi0EvxxU",
        "outputId": "b90f0c99-0ddc-462b-ed18-2d0929ed684a"
      },
      "source": [
        "cs.non_trainable_weights"
      ],
      "execution_count": 23,
      "outputs": [
        {
          "output_type": "execute_result",
          "data": {
            "text/plain": [
              "[<tf.Variable 'Variable:0' shape=(6,) dtype=float32, numpy=array([7., 7., 7., 7., 7., 7.], dtype=float32)>]"
            ]
          },
          "metadata": {
            "tags": []
          },
          "execution_count": 23
        }
      ]
    },
    {
      "cell_type": "code",
      "metadata": {
        "id": "9Wcyt65zvzde"
      },
      "source": [
        ""
      ],
      "execution_count": null,
      "outputs": []
    }
  ]
}