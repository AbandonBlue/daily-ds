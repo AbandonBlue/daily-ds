{
 "cells": [
  {
   "cell_type": "markdown",
   "metadata": {},
   "source": [
    "## 設計模式: hashed feature\n",
    "情境\n",
    "- 解決類別特徵有關的三個問題\n",
    "    1. 詞彙表不完整: 如有些特徵有出現訓練沒有見過的\"類別\"。\n",
    "    2. 由於基數造成的模型大小: 類別數目可能太大。\n",
    "    3. 冷啟動: 其實跟1是差不多的。\n",
    "\n",
    "實作\n",
    "- 將類別特徵分組，並且接受可能產生碰撞(collision) 的代表。\n",
    "    - [tf](https://www.tensorflow.org/api_docs/python/tf/feature_column/categorical_column_with_hash_bucket)\n",
    "\n",
    "優點\n",
    "- 解決冷啟動問題\n",
    "\n",
    "缺點\n",
    "- 喪失模型準確率\n"
   ]
  },
  {
   "cell_type": "code",
   "execution_count": 1,
   "metadata": {
    "ExecuteTime": {
     "end_time": "2021-12-17T14:03:29.596752Z",
     "start_time": "2021-12-17T14:03:29.568551Z"
    }
   },
   "outputs": [],
   "source": [
    "# bigquery"
   ]
  },
  {
   "cell_type": "code",
   "execution_count": 2,
   "metadata": {
    "ExecuteTime": {
     "end_time": "2021-12-17T14:04:01.836017Z",
     "start_time": "2021-12-17T14:03:42.558779Z"
    }
   },
   "outputs": [],
   "source": [
    "import tensorflow as tf"
   ]
  },
  {
   "cell_type": "code",
   "execution_count": 8,
   "metadata": {
    "ExecuteTime": {
     "end_time": "2021-12-17T14:13:38.983988Z",
     "start_time": "2021-12-17T14:13:38.873891Z"
    }
   },
   "outputs": [],
   "source": [
    "features = {\n",
    "    'words': \n",
    "        tf.constant([\n",
    "            ['Tensorflow', 'Keras', 'RNN', 'LSTM','CNN'], \n",
    "            ['LSTM', 'CNN', 'Tensorflow', 'Keras', 'RNN'], \n",
    "            ['CNN', 'Tensorflow','LSTM', 'Keras', 'RNN']])\n",
    "}\n",
    "\n",
    "# 建立物件\n",
    "words = tf.feature_column.categorical_column_with_hash_bucket(\n",
    "    key='words', hash_bucket_size=10, dtype=tf.string\n",
    ") # key 對應上面features 的words\n",
    "\n",
    "# \n",
    "words_embedded = tf.feature_column.embedding_column(categorical_column=words, dimension=16)\n",
    "columns = [words_embedded]\n",
    "\n",
    "input_layer = tf.keras.layers.DenseFeatures(columns)\n",
    "dense_tensor = input_layer(features)"
   ]
  },
  {
   "cell_type": "code",
   "execution_count": 9,
   "metadata": {
    "ExecuteTime": {
     "end_time": "2021-12-17T14:13:57.263291Z",
     "start_time": "2021-12-17T14:13:57.249807Z"
    }
   },
   "outputs": [
    {
     "data": {
      "text/plain": [
       "<tf.Tensor: shape=(3, 16), dtype=float32, numpy=\n",
       "array([[ 0.18836786, -0.10930021, -0.00112247, -0.3538489 , -0.1907592 ,\n",
       "         0.02508214, -0.03321335, -0.01071842, -0.05055372,  0.16551732,\n",
       "        -0.04368504,  0.19830208, -0.08976967,  0.21544245,  0.05605598,\n",
       "        -0.012444  ],\n",
       "       [ 0.18836786, -0.10930023, -0.00112247, -0.3538489 , -0.19075921,\n",
       "         0.02508214, -0.03321335, -0.01071842, -0.05055372,  0.16551732,\n",
       "        -0.04368504,  0.19830206, -0.08976966,  0.21544245,  0.05605597,\n",
       "        -0.012444  ],\n",
       "       [ 0.18836786, -0.10930023, -0.00112247, -0.3538489 , -0.19075921,\n",
       "         0.02508214, -0.03321335, -0.01071842, -0.05055372,  0.16551732,\n",
       "        -0.04368504,  0.19830206, -0.08976966,  0.21544245,  0.05605597,\n",
       "        -0.012444  ]], dtype=float32)>"
      ]
     },
     "execution_count": 9,
     "metadata": {},
     "output_type": "execute_result"
    }
   ],
   "source": [
    "dense_tensor"
   ]
  },
  {
   "cell_type": "code",
   "execution_count": null,
   "metadata": {},
   "outputs": [],
   "source": []
  }
 ],
 "metadata": {
  "kernelspec": {
   "display_name": "Python 3",
   "language": "python",
   "name": "python3"
  },
  "language_info": {
   "codemirror_mode": {
    "name": "ipython",
    "version": 3
   },
   "file_extension": ".py",
   "mimetype": "text/x-python",
   "name": "python",
   "nbconvert_exporter": "python",
   "pygments_lexer": "ipython3",
   "version": "3.7.3"
  }
 },
 "nbformat": 4,
 "nbformat_minor": 4
}
