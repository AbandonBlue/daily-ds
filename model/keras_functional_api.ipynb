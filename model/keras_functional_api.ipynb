{
  "nbformat": 4,
  "nbformat_minor": 0,
  "metadata": {
    "colab": {
      "name": "keras-functional-api.ipynb",
      "provenance": []
    },
    "kernelspec": {
      "name": "python3",
      "display_name": "Python 3"
    },
    "language_info": {
      "name": "python"
    },
    "accelerator": "GPU"
  },
  "cells": [
    {
      "cell_type": "code",
      "metadata": {
        "id": "BpoffpoKDgoA"
      },
      "source": [
        "# 套件\n",
        "\n",
        "import numpy as np\n",
        "import tensorflow as tf\n",
        "from tensorflow import keras\n",
        "from tensorflow.keras import layers"
      ],
      "execution_count": 1,
      "outputs": []
    },
    {
      "cell_type": "code",
      "metadata": {
        "id": "p1gO_J4yDwfL"
      },
      "source": [
        "# 彈性的方式: 可以分享參數\n",
        "\n",
        "\n",
        "inputs = keras.Input(shape=(784, ))     # batch_size 不用指定"
      ],
      "execution_count": 2,
      "outputs": []
    },
    {
      "cell_type": "code",
      "metadata": {
        "id": "P9Ok7vDSEPkj"
      },
      "source": [
        "# 圖片inputs\n",
        "\n",
        "img_inputs = keras.Input((32, 32, 3))"
      ],
      "execution_count": 3,
      "outputs": []
    },
    {
      "cell_type": "code",
      "metadata": {
        "colab": {
          "base_uri": "https://localhost:8080/"
        },
        "id": "zSoUmsP5EW0k",
        "outputId": "a8a9bedf-a38e-44ea-f691-daa8f3e2ac1a"
      },
      "source": [
        "inputs.shape"
      ],
      "execution_count": 4,
      "outputs": [
        {
          "output_type": "execute_result",
          "data": {
            "text/plain": [
              "TensorShape([None, 784])"
            ]
          },
          "metadata": {
            "tags": []
          },
          "execution_count": 4
        }
      ]
    },
    {
      "cell_type": "code",
      "metadata": {
        "colab": {
          "base_uri": "https://localhost:8080/"
        },
        "id": "viIbXN2HEZ42",
        "outputId": "61562786-1a19-4f84-e4bd-e8b71da59b48"
      },
      "source": [
        "inputs.dtype"
      ],
      "execution_count": 5,
      "outputs": [
        {
          "output_type": "execute_result",
          "data": {
            "text/plain": [
              "tf.float32"
            ]
          },
          "metadata": {
            "tags": []
          },
          "execution_count": 5
        }
      ]
    },
    {
      "cell_type": "code",
      "metadata": {
        "id": "E7R8eOBEEb2W"
      },
      "source": [
        "dense = layers.Dense(units=64)\n",
        "\n",
        "x = dense(inputs)   "
      ],
      "execution_count": 6,
      "outputs": []
    },
    {
      "cell_type": "code",
      "metadata": {
        "id": "5Rt7V2r5Ek0b"
      },
      "source": [
        "x = layers.Dense(units=64, activation='relu')(x)\n",
        "outputs = layers.Dense(units=10)(x)"
      ],
      "execution_count": 7,
      "outputs": []
    },
    {
      "cell_type": "code",
      "metadata": {
        "id": "nUqnHAxlE0jV"
      },
      "source": [
        "model = keras.Model(inputs=inputs, outputs=outputs, name='mnist_model')"
      ],
      "execution_count": 8,
      "outputs": []
    },
    {
      "cell_type": "code",
      "metadata": {
        "colab": {
          "base_uri": "https://localhost:8080/"
        },
        "id": "3ONvdCPrE9qy",
        "outputId": "619f5ba4-3ae3-4425-e310-eb7d9f88937d"
      },
      "source": [
        "model.summary()"
      ],
      "execution_count": 9,
      "outputs": [
        {
          "output_type": "stream",
          "text": [
            "Model: \"mnist_model\"\n",
            "_________________________________________________________________\n",
            "Layer (type)                 Output Shape              Param #   \n",
            "=================================================================\n",
            "input_1 (InputLayer)         [(None, 784)]             0         \n",
            "_________________________________________________________________\n",
            "dense (Dense)                (None, 64)                50240     \n",
            "_________________________________________________________________\n",
            "dense_1 (Dense)              (None, 64)                4160      \n",
            "_________________________________________________________________\n",
            "dense_2 (Dense)              (None, 10)                650       \n",
            "=================================================================\n",
            "Total params: 55,050\n",
            "Trainable params: 55,050\n",
            "Non-trainable params: 0\n",
            "_________________________________________________________________\n"
          ],
          "name": "stdout"
        }
      ]
    },
    {
      "cell_type": "code",
      "metadata": {
        "colab": {
          "base_uri": "https://localhost:8080/",
          "height": 369
        },
        "id": "S7Z6XQViE-6Y",
        "outputId": "474cf883-4378-4730-dca6-d202bc5f4c3a"
      },
      "source": [
        "keras.utils.plot_model(model, 'mnist_model.png')"
      ],
      "execution_count": 10,
      "outputs": [
        {
          "output_type": "execute_result",
          "data": {
            "image/png": "[encoded data removed]",
            "text/plain": [
              "<IPython.core.display.Image object>"
            ]
          },
          "metadata": {
            "tags": []
          },
          "execution_count": 10
        }
      ]
    },
    {
      "cell_type": "code",
      "metadata": {
        "colab": {
          "base_uri": "https://localhost:8080/",
          "height": 422
        },
        "id": "RSdqiSxXFDWX",
        "outputId": "126c59a9-ae21-4e56-ce03-0b1ffc4af91b"
      },
      "source": [
        "keras.utils.plot_model(model, 'mnist_model.png', show_shapes=True)"
      ],
      "execution_count": 11,
      "outputs": [
        {
          "output_type": "execute_result",
          "data": {
            "image/png": "[encoded data removed]",
            "text/plain": [
              "<IPython.core.display.Image object>"
            ]
          },
          "metadata": {
            "tags": []
          },
          "execution_count": 11
        }
      ]
    },
    {
      "cell_type": "code",
      "metadata": {
        "colab": {
          "base_uri": "https://localhost:8080/"
        },
        "id": "GL_PLNPbFW39",
        "outputId": "e1109cd5-f19d-4b37-bdc7-1cacf034bd01"
      },
      "source": [
        "# train, evaluate, inference\n",
        "\n",
        "(x_train, y_train), (x_test, y_test) = keras.datasets.mnist.load_data()\n",
        "\n",
        "x_train = x_train.reshape(60000, 784).astype('float32') / 255.0\n",
        "x_test = x_test.reshape(10000, 784).astype('float32') / 255.0\n",
        "\n",
        "model.compile(optimizer='adam', loss=keras.losses.SparseCategoricalCrossentropy(from_logits=True), metrics=['acc'])      # 因為模型沒有softmax, from_logits=True, 代表輸出還沒有機率化\n",
        "history = model.fit(x_train, y_train, 64, 10, validation_split=0.2)\n",
        "\n",
        "test_scores = model.evaluate(x_test, y_test, verbose=2)"
      ],
      "execution_count": 12,
      "outputs": [
        {
          "output_type": "stream",
          "text": [
            "Downloading data from https://storage.googleapis.com/tensorflow/tf-keras-datasets/mnist.npz\n",
            "11493376/11490434 [==============================] - 0s 0us/step\n",
            "Epoch 1/10\n",
            "750/750 [==============================] - 5s 2ms/step - loss: 0.3562 - acc: 0.8969 - val_loss: 0.1897 - val_acc: 0.9447\n",
            "Epoch 2/10\n",
            "750/750 [==============================] - 2s 2ms/step - loss: 0.1728 - acc: 0.9477 - val_loss: 0.1582 - val_acc: 0.9525\n",
            "Epoch 3/10\n",
            "750/750 [==============================] - 2s 2ms/step - loss: 0.1298 - acc: 0.9609 - val_loss: 0.1329 - val_acc: 0.9612\n",
            "Epoch 4/10\n",
            "750/750 [==============================] - 2s 2ms/step - loss: 0.1053 - acc: 0.9685 - val_loss: 0.1209 - val_acc: 0.9638\n",
            "Epoch 5/10\n",
            "750/750 [==============================] - 2s 2ms/step - loss: 0.0891 - acc: 0.9729 - val_loss: 0.1092 - val_acc: 0.9688\n",
            "Epoch 6/10\n",
            "750/750 [==============================] - 2s 2ms/step - loss: 0.0794 - acc: 0.9751 - val_loss: 0.1060 - val_acc: 0.9685\n",
            "Epoch 7/10\n",
            "750/750 [==============================] - 2s 2ms/step - loss: 0.0686 - acc: 0.9782 - val_loss: 0.1150 - val_acc: 0.9643\n",
            "Epoch 8/10\n",
            "750/750 [==============================] - 2s 2ms/step - loss: 0.0610 - acc: 0.9804 - val_loss: 0.1038 - val_acc: 0.9699\n",
            "Epoch 9/10\n",
            "750/750 [==============================] - 2s 2ms/step - loss: 0.0537 - acc: 0.9832 - val_loss: 0.1002 - val_acc: 0.9722\n",
            "Epoch 10/10\n",
            "750/750 [==============================] - 2s 2ms/step - loss: 0.0513 - acc: 0.9837 - val_loss: 0.0983 - val_acc: 0.9712\n",
            "313/313 - 0s - loss: 0.0995 - acc: 0.9717\n"
          ],
          "name": "stdout"
        }
      ]
    },
    {
      "cell_type": "code",
      "metadata": {
        "colab": {
          "base_uri": "https://localhost:8080/"
        },
        "id": "xsM5QiAYG7Ag",
        "outputId": "d7d1a9a7-59f7-4b22-d7df-1935854b9fc1"
      },
      "source": [
        "print('Test loss: ', test_scores[0])\n",
        "print('Test acc: ', test_scores[1])"
      ],
      "execution_count": 13,
      "outputs": [
        {
          "output_type": "stream",
          "text": [
            "Test loss:  0.09945399314165115\n",
            "Test acc:  0.9717000126838684\n"
          ],
          "name": "stdout"
        }
      ]
    },
    {
      "cell_type": "code",
      "metadata": {
        "colab": {
          "base_uri": "https://localhost:8080/"
        },
        "id": "NnwAjK8lHT8U",
        "outputId": "746a44fd-470f-4dad-c0d5-75affa75d8d7"
      },
      "source": [
        "# save and serialize\n",
        "\n",
        "model.save('path_to_my_model')\n",
        "del model"
      ],
      "execution_count": 14,
      "outputs": [
        {
          "output_type": "stream",
          "text": [
            "INFO:tensorflow:Assets written to: path_to_my_model/assets\n"
          ],
          "name": "stdout"
        }
      ]
    },
    {
      "cell_type": "code",
      "metadata": {
        "id": "ptZMX-oKHfJL"
      },
      "source": [
        "# Recreate the exact same model purely from the file:\n",
        "model = keras.models.load_model(\"path_to_my_model\")"
      ],
      "execution_count": 15,
      "outputs": []
    },
    {
      "cell_type": "code",
      "metadata": {
        "colab": {
          "base_uri": "https://localhost:8080/"
        },
        "id": "kSbnqWBiHkbC",
        "outputId": "ce459eeb-1ea1-474a-95d0-aab152845e0d"
      },
      "source": [
        "model.summary()"
      ],
      "execution_count": 16,
      "outputs": [
        {
          "output_type": "stream",
          "text": [
            "Model: \"mnist_model\"\n",
            "_________________________________________________________________\n",
            "Layer (type)                 Output Shape              Param #   \n",
            "=================================================================\n",
            "input_1 (InputLayer)         [(None, 784)]             0         \n",
            "_________________________________________________________________\n",
            "dense (Dense)                (None, 64)                50240     \n",
            "_________________________________________________________________\n",
            "dense_1 (Dense)              (None, 64)                4160      \n",
            "_________________________________________________________________\n",
            "dense_2 (Dense)              (None, 10)                650       \n",
            "=================================================================\n",
            "Total params: 55,050\n",
            "Trainable params: 55,050\n",
            "Non-trainable params: 0\n",
            "_________________________________________________________________\n"
          ],
          "name": "stdout"
        }
      ]
    },
    {
      "cell_type": "code",
      "metadata": {
        "colab": {
          "base_uri": "https://localhost:8080/"
        },
        "id": "lrs5j1AtHmNw",
        "outputId": "b9ac2da1-94d8-496b-e8fb-b3cd48ebcecd"
      },
      "source": [
        "model.evaluate(x_test, y_test)"
      ],
      "execution_count": 17,
      "outputs": [
        {
          "output_type": "stream",
          "text": [
            "313/313 [==============================] - 1s 2ms/step - loss: 0.0995 - acc: 0.9717\n"
          ],
          "name": "stdout"
        },
        {
          "output_type": "execute_result",
          "data": {
            "text/plain": [
              "[0.09945399314165115, 0.9717000126838684]"
            ]
          },
          "metadata": {
            "tags": []
          },
          "execution_count": 17
        }
      ]
    },
    {
      "cell_type": "code",
      "metadata": {
        "id": "1GPFBrYAHqtD"
      },
      "source": [
        "# autoencoder"
      ],
      "execution_count": 18,
      "outputs": []
    },
    {
      "cell_type": "code",
      "metadata": {
        "colab": {
          "base_uri": "https://localhost:8080/"
        },
        "id": "vd35eA8tGhWk",
        "outputId": "056dfe64-4034-4efa-d242-3d9e767d0ec1"
      },
      "source": [
        "encoder_input = keras.Input(shape=(28, 28, 1), name='img')\n",
        "x = layers.Conv2D(16, 3, activation='relu')(encoder_input)\n",
        "x = layers.Conv2D(32, 3, activation='relu')(x)\n",
        "x = layers.MaxPool2D(3)(x)\n",
        "x = layers.Conv2D(32, 3, activation='relu')(x)\n",
        "x = layers.Conv2D(16, 3, activation='relu')(x)\n",
        "encoder_output = layers.GlobalAveragePooling2D()(x)\n",
        "\n",
        "encoder = keras.Model(inputs=encoder_input, outputs=encoder_output, name='encoder')\n",
        "encoder.summary()"
      ],
      "execution_count": 19,
      "outputs": [
        {
          "output_type": "stream",
          "text": [
            "Model: \"encoder\"\n",
            "_________________________________________________________________\n",
            "Layer (type)                 Output Shape              Param #   \n",
            "=================================================================\n",
            "img (InputLayer)             [(None, 28, 28, 1)]       0         \n",
            "_________________________________________________________________\n",
            "conv2d (Conv2D)              (None, 26, 26, 16)        160       \n",
            "_________________________________________________________________\n",
            "conv2d_1 (Conv2D)            (None, 24, 24, 32)        4640      \n",
            "_________________________________________________________________\n",
            "max_pooling2d (MaxPooling2D) (None, 8, 8, 32)          0         \n",
            "_________________________________________________________________\n",
            "conv2d_2 (Conv2D)            (None, 6, 6, 32)          9248      \n",
            "_________________________________________________________________\n",
            "conv2d_3 (Conv2D)            (None, 4, 4, 16)          4624      \n",
            "_________________________________________________________________\n",
            "global_average_pooling2d (Gl (None, 16)                0         \n",
            "=================================================================\n",
            "Total params: 18,672\n",
            "Trainable params: 18,672\n",
            "Non-trainable params: 0\n",
            "_________________________________________________________________\n"
          ],
          "name": "stdout"
        }
      ]
    },
    {
      "cell_type": "code",
      "metadata": {
        "colab": {
          "base_uri": "https://localhost:8080/"
        },
        "id": "VmcDFkRDHgnc",
        "outputId": "d6e761e0-b1cc-421b-ea52-cf6c0e5edbc2"
      },
      "source": [
        "x = layers.Reshape((4, 4, 1))(encoder_output)\n",
        "x = layers.Conv2DTranspose(16, 3, activation='relu')(x)\n",
        "x = layers.Conv2DTranspose(32, 3, activation='relu')(x)\n",
        "x = layers.UpSampling2D(3)(x)\n",
        "x = layers.Conv2DTranspose(16, 3, activation='relu')(x)\n",
        "decoder_output = layers.Conv2DTranspose(1, 3, activation='relu')(x)\n",
        "\n",
        "\n",
        "autoencoder = keras.Model(encoder_input, decoder_output, name='autoencoder')\n",
        "autoencoder.summary()"
      ],
      "execution_count": 20,
      "outputs": [
        {
          "output_type": "stream",
          "text": [
            "Model: \"autoencoder\"\n",
            "_________________________________________________________________\n",
            "Layer (type)                 Output Shape              Param #   \n",
            "=================================================================\n",
            "img (InputLayer)             [(None, 28, 28, 1)]       0         \n",
            "_________________________________________________________________\n",
            "conv2d (Conv2D)              (None, 26, 26, 16)        160       \n",
            "_________________________________________________________________\n",
            "conv2d_1 (Conv2D)            (None, 24, 24, 32)        4640      \n",
            "_________________________________________________________________\n",
            "max_pooling2d (MaxPooling2D) (None, 8, 8, 32)          0         \n",
            "_________________________________________________________________\n",
            "conv2d_2 (Conv2D)            (None, 6, 6, 32)          9248      \n",
            "_________________________________________________________________\n",
            "conv2d_3 (Conv2D)            (None, 4, 4, 16)          4624      \n",
            "_________________________________________________________________\n",
            "global_average_pooling2d (Gl (None, 16)                0         \n",
            "_________________________________________________________________\n",
            "reshape (Reshape)            (None, 4, 4, 1)           0         \n",
            "_________________________________________________________________\n",
            "conv2d_transpose (Conv2DTran (None, 6, 6, 16)          160       \n",
            "_________________________________________________________________\n",
            "conv2d_transpose_1 (Conv2DTr (None, 8, 8, 32)          4640      \n",
            "_________________________________________________________________\n",
            "up_sampling2d (UpSampling2D) (None, 24, 24, 32)        0         \n",
            "_________________________________________________________________\n",
            "conv2d_transpose_2 (Conv2DTr (None, 26, 26, 16)        4624      \n",
            "_________________________________________________________________\n",
            "conv2d_transpose_3 (Conv2DTr (None, 28, 28, 1)         145       \n",
            "=================================================================\n",
            "Total params: 28,241\n",
            "Trainable params: 28,241\n",
            "Non-trainable params: 0\n",
            "_________________________________________________________________\n"
          ],
          "name": "stdout"
        }
      ]
    },
    {
      "cell_type": "markdown",
      "metadata": {
        "id": "mPiUWtyx3Ln2"
      },
      "source": [
        "## All models are callable, just like layers"
      ]
    },
    {
      "cell_type": "code",
      "metadata": {
        "id": "04BDRyZ-IPzj",
        "colab": {
          "base_uri": "https://localhost:8080/"
        },
        "outputId": "077e9ca1-c4a6-4f1c-cf95-ccb501dd3bae"
      },
      "source": [
        "# ensemble: 每一個model可以被視為一個layer\n",
        "\n",
        "def get_model():\n",
        "    inputs = keras.Input(shape=(128,))\n",
        "    outputs = layers.Dense(1)(inputs)\n",
        "    return keras.Model(inputs, outputs)\n",
        "\n",
        "\n",
        "model1 = get_model()\n",
        "model2 = get_model()\n",
        "model3 = get_model()\n",
        "\n",
        "inputs = keras.Input(shape=(128,))\n",
        "y1 = model1(inputs)\n",
        "y2 = model2(inputs)\n",
        "y3 = model3(inputs)\n",
        "\n",
        "outputs = layers.Average()([y1, y2, y3])\n",
        "ensemble_model = keras.Model(inputs, outputs)\n",
        "\n",
        "ensemble_model.summary()"
      ],
      "execution_count": 22,
      "outputs": [
        {
          "output_type": "stream",
          "text": [
            "Model: \"model_6\"\n",
            "__________________________________________________________________________________________________\n",
            "Layer (type)                    Output Shape         Param #     Connected to                     \n",
            "==================================================================================================\n",
            "input_10 (InputLayer)           [(None, 128)]        0                                            \n",
            "__________________________________________________________________________________________________\n",
            "model_3 (Functional)            (None, 1)            129         input_10[0][0]                   \n",
            "__________________________________________________________________________________________________\n",
            "model_4 (Functional)            (None, 1)            129         input_10[0][0]                   \n",
            "__________________________________________________________________________________________________\n",
            "model_5 (Functional)            (None, 1)            129         input_10[0][0]                   \n",
            "__________________________________________________________________________________________________\n",
            "average (Average)               (None, 1)            0           model_3[0][0]                    \n",
            "                                                                 model_4[0][0]                    \n",
            "                                                                 model_5[0][0]                    \n",
            "==================================================================================================\n",
            "Total params: 387\n",
            "Trainable params: 387\n",
            "Non-trainable params: 0\n",
            "__________________________________________________________________________________________________\n"
          ],
          "name": "stdout"
        }
      ]
    },
    {
      "cell_type": "code",
      "metadata": {
        "id": "nW3DwiXF2tZB"
      },
      "source": [
        "# 建立一個消費者問題分配系統\n",
        "# input 1: ticket title\n",
        "# input 2: text body\n",
        "# input 3: tags\n",
        "\n",
        "num_tags = 12\n",
        "num_words = 10000\n",
        "num_departments = 4\n",
        "\n",
        "title_input = keras.Input(shape=(None, ), name='title')    \n",
        "body_input = keras.Input(shape=(None, ), name='body')\n",
        "tags_input = keras.Input(shape=(num_tags, ), name='tags')       # one-hot\n",
        "\n",
        "# embedding\n",
        "title_features = layers.Embedding(num_words, 64)(title_input)\n",
        "body_features = layers.Embedding(num_words, 64)(body_input)\n",
        "\n",
        "# 將embedding words 縮減成單一128、32-dimensional vector\n",
        "title_features = layers.LSTM(128)(title_features)\n",
        "body_features = layers.LSTM(32)(body_features)\n",
        "\n",
        "\n",
        "# Merge all available features into a single large vector via concatenation\n",
        "x = layers.concatenate([title_features, body_features, tags_input])\n",
        "\n",
        "# output1: 優先順序(機率評分)\n",
        "priority_pred = layers.Dense(1, name='priority', activation='sigmoid')(x)\n",
        "# output2: 部分分類(機率)\n",
        "department_pred = layers.Dense(num_departments, name='department', activation='softmax')(x)\n",
        "\n",
        "# 結合模型\n",
        "model = keras.Model(\n",
        "    inputs=[title_input, body_input, tags_input],\n",
        "    outputs=[priority_pred, department_pred]\n",
        ")"
      ],
      "execution_count": 24,
      "outputs": []
    },
    {
      "cell_type": "code",
      "metadata": {
        "colab": {
          "base_uri": "https://localhost:8080/",
          "height": 527
        },
        "id": "DAi9z9tB74Xx",
        "outputId": "ef867a41-dab0-4886-a9bf-4c27da46bbd9"
      },
      "source": [
        "keras.utils.plot_model(model , 'multi_input_and_output_model.png', show_shapes=True)"
      ],
      "execution_count": 25,
      "outputs": [
        {
          "output_type": "execute_result",
          "data": {
            "image/png": "[encoded data removed]",
            "text/plain": [
              "<IPython.core.display.Image object>"
            ]
          },
          "metadata": {
            "tags": []
          },
          "execution_count": 25
        }
      ]
    },
    {
      "cell_type": "code",
      "metadata": {
        "id": "S1uNAoY68AZ0"
      },
      "source": [
        "# compile 模型，指定loss function、optimizer、weights(可分開指定權重)\n",
        "\n",
        "model.compile(\n",
        "    optimizer=keras.optimizers.Adam(1e-3),\n",
        "    loss=[\n",
        "          keras.losses.BinaryCrossentropy(from_logits=False),   # 因為已經用了sigmoid\n",
        "          keras.losses.CategoricalCrossentropy(from_logits=False)       # 因為已經使用了softmax\n",
        "    ],\n",
        "    loss_weights=[1.0, 0.2],\n",
        ")"
      ],
      "execution_count": 26,
      "outputs": []
    },
    {
      "cell_type": "code",
      "metadata": {
        "id": "0qdlpX4q8wwz"
      },
      "source": [
        "# 也可以透過名字指定\n",
        "\n",
        "model.compile(\n",
        "    optimizer=keras.optimizers.Adam(),\n",
        "    loss={\n",
        "        'priority': keras.losses.BinaryCrossentropy(),\n",
        "        'department': keras.losses.CategoricalCrossentropy()\n",
        "    },\n",
        "    loss_weights={'priority': 1.0, 'department': 0.2}\n",
        ")"
      ],
      "execution_count": 27,
      "outputs": []
    },
    {
      "cell_type": "code",
      "metadata": {
        "colab": {
          "base_uri": "https://localhost:8080/"
        },
        "id": "KnhBqtax9mTG",
        "outputId": "327a7d75-9c5c-4589-ef0a-2e111d49c239"
      },
      "source": [
        "# dummy input data\n",
        "title_data = np.random.randint(num_words, size=(1280, 10))\n",
        "body_data = np.random.randint(num_words, size=(1280, 100))\n",
        "tags_data = np.random.randint(2, size=(1280, num_tags)).astype('float32')\n",
        "\n",
        "# dummy target data\n",
        "priority_targets = np.random.random(size=(1280, 1))\n",
        "dept_targets = np.random.randint(2, size=(1280, num_departments))\n",
        "\n",
        "model.fit(\n",
        "    x={'title':title_data, 'body': body_data, 'tags': tags_data},\n",
        "    y={'priority': priority_targets, 'department': dept_targets},\n",
        "    epochs=2,\n",
        "    batch_size=32\n",
        ")\n",
        "\n",
        "\n",
        "# end/2021/7/31"
      ],
      "execution_count": 30,
      "outputs": [
        {
          "output_type": "stream",
          "text": [
            "Epoch 1/2\n",
            "40/40 [==============================] - 7s 21ms/step - loss: 1.2887 - priority_loss: 0.7053 - department_loss: 2.9172\n",
            "Epoch 2/2\n",
            "40/40 [==============================] - 1s 21ms/step - loss: 1.3503 - priority_loss: 0.7005 - department_loss: 3.2490\n"
          ],
          "name": "stdout"
        },
        {
          "output_type": "execute_result",
          "data": {
            "text/plain": [
              "<tensorflow.python.keras.callbacks.History at 0x7fd1a746c8d0>"
            ]
          },
          "metadata": {
            "tags": []
          },
          "execution_count": 30
        }
      ]
    },
    {
      "cell_type": "code",
      "metadata": {
        "id": "rQXzRBOW-dOa"
      },
      "source": [
        ""
      ],
      "execution_count": null,
      "outputs": []
    }
  ]
}