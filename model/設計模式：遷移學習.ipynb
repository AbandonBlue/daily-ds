{
  "nbformat": 4,
  "nbformat_minor": 0,
  "metadata": {
    "colab": {
      "name": "設計模式：遷移學習.ipynb",
      "provenance": [],
      "collapsed_sections": []
    },
    "kernelspec": {
      "name": "python3",
      "display_name": "Python 3"
    },
    "language_info": {
      "name": "python"
    },
    "accelerator": "GPU"
  },
  "cells": [
    {
      "cell_type": "markdown",
      "metadata": {
        "id": "a8M_Vo_kHWPB"
      },
      "source": [
        "## 參考\n",
        "- [TF hub - BERT](https://www.tensorflow.org/text/tutorials/classify_text_with_bert?hl=zh-tw)"
      ]
    },
    {
      "cell_type": "code",
      "metadata": {
        "id": "PsiEXuYdGUEm"
      },
      "source": [
        "import tensorflow as tf\n",
        "from tensorflow import keras\n",
        "from tensorflow.keras import layers\n",
        "import numpy as np"
      ],
      "execution_count": 1,
      "outputs": []
    },
    {
      "cell_type": "code",
      "metadata": {
        "colab": {
          "base_uri": "https://localhost:8080/"
        },
        "id": "HaDVeRa6HL11",
        "outputId": "59d75096-fa08-4943-b710-9c495e8ebe08"
      },
      "source": [
        "# TF BERT 的相依套件\n",
        "\n",
        "!pip install tensorflow-text"
      ],
      "execution_count": 2,
      "outputs": [
        {
          "output_type": "stream",
          "text": [
            "Collecting tensorflow-text\n",
            "  Downloading tensorflow_text-2.5.0-cp37-cp37m-manylinux1_x86_64.whl (4.3 MB)\n",
            "\u001b[K     |████████████████████████████████| 4.3 MB 8.2 MB/s \n",
            "\u001b[?25hRequirement already satisfied: tensorflow-hub>=0.8.0 in /usr/local/lib/python3.7/dist-packages (from tensorflow-text) (0.12.0)\n",
            "Requirement already satisfied: tensorflow<2.6,>=2.5.0 in /usr/local/lib/python3.7/dist-packages (from tensorflow-text) (2.5.0)\n",
            "Requirement already satisfied: flatbuffers~=1.12.0 in /usr/local/lib/python3.7/dist-packages (from tensorflow<2.6,>=2.5.0->tensorflow-text) (1.12)\n",
            "Requirement already satisfied: grpcio~=1.34.0 in /usr/local/lib/python3.7/dist-packages (from tensorflow<2.6,>=2.5.0->tensorflow-text) (1.34.1)\n",
            "Requirement already satisfied: keras-nightly~=2.5.0.dev in /usr/local/lib/python3.7/dist-packages (from tensorflow<2.6,>=2.5.0->tensorflow-text) (2.5.0.dev2021032900)\n",
            "Requirement already satisfied: gast==0.4.0 in /usr/local/lib/python3.7/dist-packages (from tensorflow<2.6,>=2.5.0->tensorflow-text) (0.4.0)\n",
            "Requirement already satisfied: opt-einsum~=3.3.0 in /usr/local/lib/python3.7/dist-packages (from tensorflow<2.6,>=2.5.0->tensorflow-text) (3.3.0)\n",
            "Requirement already satisfied: tensorboard~=2.5 in /usr/local/lib/python3.7/dist-packages (from tensorflow<2.6,>=2.5.0->tensorflow-text) (2.5.0)\n",
            "Requirement already satisfied: six~=1.15.0 in /usr/local/lib/python3.7/dist-packages (from tensorflow<2.6,>=2.5.0->tensorflow-text) (1.15.0)\n",
            "Requirement already satisfied: tensorflow-estimator<2.6.0,>=2.5.0rc0 in /usr/local/lib/python3.7/dist-packages (from tensorflow<2.6,>=2.5.0->tensorflow-text) (2.5.0)\n",
            "Requirement already satisfied: h5py~=3.1.0 in /usr/local/lib/python3.7/dist-packages (from tensorflow<2.6,>=2.5.0->tensorflow-text) (3.1.0)\n",
            "Requirement already satisfied: typing-extensions~=3.7.4 in /usr/local/lib/python3.7/dist-packages (from tensorflow<2.6,>=2.5.0->tensorflow-text) (3.7.4.3)\n",
            "Requirement already satisfied: wheel~=0.35 in /usr/local/lib/python3.7/dist-packages (from tensorflow<2.6,>=2.5.0->tensorflow-text) (0.36.2)\n",
            "Requirement already satisfied: wrapt~=1.12.1 in /usr/local/lib/python3.7/dist-packages (from tensorflow<2.6,>=2.5.0->tensorflow-text) (1.12.1)\n",
            "Requirement already satisfied: google-pasta~=0.2 in /usr/local/lib/python3.7/dist-packages (from tensorflow<2.6,>=2.5.0->tensorflow-text) (0.2.0)\n",
            "Requirement already satisfied: numpy~=1.19.2 in /usr/local/lib/python3.7/dist-packages (from tensorflow<2.6,>=2.5.0->tensorflow-text) (1.19.5)\n",
            "Requirement already satisfied: absl-py~=0.10 in /usr/local/lib/python3.7/dist-packages (from tensorflow<2.6,>=2.5.0->tensorflow-text) (0.12.0)\n",
            "Requirement already satisfied: astunparse~=1.6.3 in /usr/local/lib/python3.7/dist-packages (from tensorflow<2.6,>=2.5.0->tensorflow-text) (1.6.3)\n",
            "Requirement already satisfied: termcolor~=1.1.0 in /usr/local/lib/python3.7/dist-packages (from tensorflow<2.6,>=2.5.0->tensorflow-text) (1.1.0)\n",
            "Requirement already satisfied: protobuf>=3.9.2 in /usr/local/lib/python3.7/dist-packages (from tensorflow<2.6,>=2.5.0->tensorflow-text) (3.17.3)\n",
            "Requirement already satisfied: keras-preprocessing~=1.1.2 in /usr/local/lib/python3.7/dist-packages (from tensorflow<2.6,>=2.5.0->tensorflow-text) (1.1.2)\n",
            "Requirement already satisfied: cached-property in /usr/local/lib/python3.7/dist-packages (from h5py~=3.1.0->tensorflow<2.6,>=2.5.0->tensorflow-text) (1.5.2)\n",
            "Requirement already satisfied: tensorboard-plugin-wit>=1.6.0 in /usr/local/lib/python3.7/dist-packages (from tensorboard~=2.5->tensorflow<2.6,>=2.5.0->tensorflow-text) (1.8.0)\n",
            "Requirement already satisfied: werkzeug>=0.11.15 in /usr/local/lib/python3.7/dist-packages (from tensorboard~=2.5->tensorflow<2.6,>=2.5.0->tensorflow-text) (1.0.1)\n",
            "Requirement already satisfied: tensorboard-data-server<0.7.0,>=0.6.0 in /usr/local/lib/python3.7/dist-packages (from tensorboard~=2.5->tensorflow<2.6,>=2.5.0->tensorflow-text) (0.6.1)\n",
            "Requirement already satisfied: google-auth<2,>=1.6.3 in /usr/local/lib/python3.7/dist-packages (from tensorboard~=2.5->tensorflow<2.6,>=2.5.0->tensorflow-text) (1.32.1)\n",
            "Requirement already satisfied: markdown>=2.6.8 in /usr/local/lib/python3.7/dist-packages (from tensorboard~=2.5->tensorflow<2.6,>=2.5.0->tensorflow-text) (3.3.4)\n",
            "Requirement already satisfied: setuptools>=41.0.0 in /usr/local/lib/python3.7/dist-packages (from tensorboard~=2.5->tensorflow<2.6,>=2.5.0->tensorflow-text) (57.2.0)\n",
            "Requirement already satisfied: requests<3,>=2.21.0 in /usr/local/lib/python3.7/dist-packages (from tensorboard~=2.5->tensorflow<2.6,>=2.5.0->tensorflow-text) (2.23.0)\n",
            "Requirement already satisfied: google-auth-oauthlib<0.5,>=0.4.1 in /usr/local/lib/python3.7/dist-packages (from tensorboard~=2.5->tensorflow<2.6,>=2.5.0->tensorflow-text) (0.4.4)\n",
            "Requirement already satisfied: cachetools<5.0,>=2.0.0 in /usr/local/lib/python3.7/dist-packages (from google-auth<2,>=1.6.3->tensorboard~=2.5->tensorflow<2.6,>=2.5.0->tensorflow-text) (4.2.2)\n",
            "Requirement already satisfied: pyasn1-modules>=0.2.1 in /usr/local/lib/python3.7/dist-packages (from google-auth<2,>=1.6.3->tensorboard~=2.5->tensorflow<2.6,>=2.5.0->tensorflow-text) (0.2.8)\n",
            "Requirement already satisfied: rsa<5,>=3.1.4 in /usr/local/lib/python3.7/dist-packages (from google-auth<2,>=1.6.3->tensorboard~=2.5->tensorflow<2.6,>=2.5.0->tensorflow-text) (4.7.2)\n",
            "Requirement already satisfied: requests-oauthlib>=0.7.0 in /usr/local/lib/python3.7/dist-packages (from google-auth-oauthlib<0.5,>=0.4.1->tensorboard~=2.5->tensorflow<2.6,>=2.5.0->tensorflow-text) (1.3.0)\n",
            "Requirement already satisfied: importlib-metadata in /usr/local/lib/python3.7/dist-packages (from markdown>=2.6.8->tensorboard~=2.5->tensorflow<2.6,>=2.5.0->tensorflow-text) (4.6.1)\n",
            "Requirement already satisfied: pyasn1<0.5.0,>=0.4.6 in /usr/local/lib/python3.7/dist-packages (from pyasn1-modules>=0.2.1->google-auth<2,>=1.6.3->tensorboard~=2.5->tensorflow<2.6,>=2.5.0->tensorflow-text) (0.4.8)\n",
            "Requirement already satisfied: chardet<4,>=3.0.2 in /usr/local/lib/python3.7/dist-packages (from requests<3,>=2.21.0->tensorboard~=2.5->tensorflow<2.6,>=2.5.0->tensorflow-text) (3.0.4)\n",
            "Requirement already satisfied: urllib3!=1.25.0,!=1.25.1,<1.26,>=1.21.1 in /usr/local/lib/python3.7/dist-packages (from requests<3,>=2.21.0->tensorboard~=2.5->tensorflow<2.6,>=2.5.0->tensorflow-text) (1.24.3)\n",
            "Requirement already satisfied: idna<3,>=2.5 in /usr/local/lib/python3.7/dist-packages (from requests<3,>=2.21.0->tensorboard~=2.5->tensorflow<2.6,>=2.5.0->tensorflow-text) (2.10)\n",
            "Requirement already satisfied: certifi>=2017.4.17 in /usr/local/lib/python3.7/dist-packages (from requests<3,>=2.21.0->tensorboard~=2.5->tensorflow<2.6,>=2.5.0->tensorflow-text) (2021.5.30)\n",
            "Requirement already satisfied: oauthlib>=3.0.0 in /usr/local/lib/python3.7/dist-packages (from requests-oauthlib>=0.7.0->google-auth-oauthlib<0.5,>=0.4.1->tensorboard~=2.5->tensorflow<2.6,>=2.5.0->tensorflow-text) (3.1.1)\n",
            "Requirement already satisfied: zipp>=0.5 in /usr/local/lib/python3.7/dist-packages (from importlib-metadata->markdown>=2.6.8->tensorboard~=2.5->tensorflow<2.6,>=2.5.0->tensorflow-text) (3.5.0)\n",
            "Installing collected packages: tensorflow-text\n",
            "Successfully installed tensorflow-text-2.5.0\n"
          ],
          "name": "stdout"
        }
      ]
    },
    {
      "cell_type": "code",
      "metadata": {
        "colab": {
          "base_uri": "https://localhost:8080/"
        },
        "id": "BCaPafURGmd1",
        "outputId": "5a9793db-3dca-4778-9ed6-9d15648f21b2"
      },
      "source": [
        "# BERT的optimizer\n",
        "\n",
        "!pip install -q tf-models-official"
      ],
      "execution_count": 3,
      "outputs": [
        {
          "output_type": "stream",
          "text": [
            "\u001b[?25l\r\u001b[K     |▏                               | 10 kB 32.0 MB/s eta 0:00:01\r\u001b[K     |▍                               | 20 kB 31.4 MB/s eta 0:00:01\r\u001b[K     |▋                               | 30 kB 21.0 MB/s eta 0:00:01\r\u001b[K     |▉                               | 40 kB 17.0 MB/s eta 0:00:01\r\u001b[K     |█                               | 51 kB 8.8 MB/s eta 0:00:01\r\u001b[K     |█▏                              | 61 kB 8.7 MB/s eta 0:00:01\r\u001b[K     |█▍                              | 71 kB 9.0 MB/s eta 0:00:01\r\u001b[K     |█▋                              | 81 kB 10.1 MB/s eta 0:00:01\r\u001b[K     |█▉                              | 92 kB 10.4 MB/s eta 0:00:01\r\u001b[K     |██                              | 102 kB 8.3 MB/s eta 0:00:01\r\u001b[K     |██▏                             | 112 kB 8.3 MB/s eta 0:00:01\r\u001b[K     |██▍                             | 122 kB 8.3 MB/s eta 0:00:01\r\u001b[K     |██▋                             | 133 kB 8.3 MB/s eta 0:00:01\r\u001b[K     |██▉                             | 143 kB 8.3 MB/s eta 0:00:01\r\u001b[K     |███                             | 153 kB 8.3 MB/s eta 0:00:01\r\u001b[K     |███▏                            | 163 kB 8.3 MB/s eta 0:00:01\r\u001b[K     |███▍                            | 174 kB 8.3 MB/s eta 0:00:01\r\u001b[K     |███▋                            | 184 kB 8.3 MB/s eta 0:00:01\r\u001b[K     |███▉                            | 194 kB 8.3 MB/s eta 0:00:01\r\u001b[K     |████                            | 204 kB 8.3 MB/s eta 0:00:01\r\u001b[K     |████▏                           | 215 kB 8.3 MB/s eta 0:00:01\r\u001b[K     |████▍                           | 225 kB 8.3 MB/s eta 0:00:01\r\u001b[K     |████▋                           | 235 kB 8.3 MB/s eta 0:00:01\r\u001b[K     |████▉                           | 245 kB 8.3 MB/s eta 0:00:01\r\u001b[K     |█████                           | 256 kB 8.3 MB/s eta 0:00:01\r\u001b[K     |█████▎                          | 266 kB 8.3 MB/s eta 0:00:01\r\u001b[K     |█████▍                          | 276 kB 8.3 MB/s eta 0:00:01\r\u001b[K     |█████▋                          | 286 kB 8.3 MB/s eta 0:00:01\r\u001b[K     |█████▉                          | 296 kB 8.3 MB/s eta 0:00:01\r\u001b[K     |██████                          | 307 kB 8.3 MB/s eta 0:00:01\r\u001b[K     |██████▎                         | 317 kB 8.3 MB/s eta 0:00:01\r\u001b[K     |██████▍                         | 327 kB 8.3 MB/s eta 0:00:01\r\u001b[K     |██████▋                         | 337 kB 8.3 MB/s eta 0:00:01\r\u001b[K     |██████▉                         | 348 kB 8.3 MB/s eta 0:00:01\r\u001b[K     |███████                         | 358 kB 8.3 MB/s eta 0:00:01\r\u001b[K     |███████▎                        | 368 kB 8.3 MB/s eta 0:00:01\r\u001b[K     |███████▍                        | 378 kB 8.3 MB/s eta 0:00:01\r\u001b[K     |███████▋                        | 389 kB 8.3 MB/s eta 0:00:01\r\u001b[K     |███████▉                        | 399 kB 8.3 MB/s eta 0:00:01\r\u001b[K     |████████                        | 409 kB 8.3 MB/s eta 0:00:01\r\u001b[K     |████████▎                       | 419 kB 8.3 MB/s eta 0:00:01\r\u001b[K     |████████▍                       | 430 kB 8.3 MB/s eta 0:00:01\r\u001b[K     |████████▋                       | 440 kB 8.3 MB/s eta 0:00:01\r\u001b[K     |████████▉                       | 450 kB 8.3 MB/s eta 0:00:01\r\u001b[K     |█████████                       | 460 kB 8.3 MB/s eta 0:00:01\r\u001b[K     |█████████▎                      | 471 kB 8.3 MB/s eta 0:00:01\r\u001b[K     |█████████▌                      | 481 kB 8.3 MB/s eta 0:00:01\r\u001b[K     |█████████▋                      | 491 kB 8.3 MB/s eta 0:00:01\r\u001b[K     |█████████▉                      | 501 kB 8.3 MB/s eta 0:00:01\r\u001b[K     |██████████                      | 512 kB 8.3 MB/s eta 0:00:01\r\u001b[K     |██████████▎                     | 522 kB 8.3 MB/s eta 0:00:01\r\u001b[K     |██████████▌                     | 532 kB 8.3 MB/s eta 0:00:01\r\u001b[K     |██████████▋                     | 542 kB 8.3 MB/s eta 0:00:01\r\u001b[K     |██████████▉                     | 552 kB 8.3 MB/s eta 0:00:01\r\u001b[K     |███████████                     | 563 kB 8.3 MB/s eta 0:00:01\r\u001b[K     |███████████▎                    | 573 kB 8.3 MB/s eta 0:00:01\r\u001b[K     |███████████▌                    | 583 kB 8.3 MB/s eta 0:00:01\r\u001b[K     |███████████▋                    | 593 kB 8.3 MB/s eta 0:00:01\r\u001b[K     |███████████▉                    | 604 kB 8.3 MB/s eta 0:00:01\r\u001b[K     |████████████                    | 614 kB 8.3 MB/s eta 0:00:01\r\u001b[K     |████████████▎                   | 624 kB 8.3 MB/s eta 0:00:01\r\u001b[K     |████████████▌                   | 634 kB 8.3 MB/s eta 0:00:01\r\u001b[K     |████████████▋                   | 645 kB 8.3 MB/s eta 0:00:01\r\u001b[K     |████████████▉                   | 655 kB 8.3 MB/s eta 0:00:01\r\u001b[K     |█████████████                   | 665 kB 8.3 MB/s eta 0:00:01\r\u001b[K     |█████████████▎                  | 675 kB 8.3 MB/s eta 0:00:01\r\u001b[K     |█████████████▌                  | 686 kB 8.3 MB/s eta 0:00:01\r\u001b[K     |█████████████▊                  | 696 kB 8.3 MB/s eta 0:00:01\r\u001b[K     |█████████████▉                  | 706 kB 8.3 MB/s eta 0:00:01\r\u001b[K     |██████████████                  | 716 kB 8.3 MB/s eta 0:00:01\r\u001b[K     |██████████████▎                 | 727 kB 8.3 MB/s eta 0:00:01\r\u001b[K     |██████████████▌                 | 737 kB 8.3 MB/s eta 0:00:01\r\u001b[K     |██████████████▊                 | 747 kB 8.3 MB/s eta 0:00:01\r\u001b[K     |██████████████▉                 | 757 kB 8.3 MB/s eta 0:00:01\r\u001b[K     |███████████████                 | 768 kB 8.3 MB/s eta 0:00:01\r\u001b[K     |███████████████▎                | 778 kB 8.3 MB/s eta 0:00:01\r\u001b[K     |███████████████▌                | 788 kB 8.3 MB/s eta 0:00:01\r\u001b[K     |███████████████▊                | 798 kB 8.3 MB/s eta 0:00:01\r\u001b[K     |███████████████▉                | 808 kB 8.3 MB/s eta 0:00:01\r\u001b[K     |████████████████                | 819 kB 8.3 MB/s eta 0:00:01\r\u001b[K     |████████████████▎               | 829 kB 8.3 MB/s eta 0:00:01\r\u001b[K     |████████████████▌               | 839 kB 8.3 MB/s eta 0:00:01\r\u001b[K     |████████████████▊               | 849 kB 8.3 MB/s eta 0:00:01\r\u001b[K     |████████████████▉               | 860 kB 8.3 MB/s eta 0:00:01\r\u001b[K     |█████████████████               | 870 kB 8.3 MB/s eta 0:00:01\r\u001b[K     |█████████████████▎              | 880 kB 8.3 MB/s eta 0:00:01\r\u001b[K     |█████████████████▌              | 890 kB 8.3 MB/s eta 0:00:01\r\u001b[K     |█████████████████▊              | 901 kB 8.3 MB/s eta 0:00:01\r\u001b[K     |██████████████████              | 911 kB 8.3 MB/s eta 0:00:01\r\u001b[K     |██████████████████              | 921 kB 8.3 MB/s eta 0:00:01\r\u001b[K     |██████████████████▎             | 931 kB 8.3 MB/s eta 0:00:01\r\u001b[K     |██████████████████▌             | 942 kB 8.3 MB/s eta 0:00:01\r\u001b[K     |██████████████████▊             | 952 kB 8.3 MB/s eta 0:00:01\r\u001b[K     |███████████████████             | 962 kB 8.3 MB/s eta 0:00:01\r\u001b[K     |███████████████████             | 972 kB 8.3 MB/s eta 0:00:01\r\u001b[K     |███████████████████▎            | 983 kB 8.3 MB/s eta 0:00:01\r\u001b[K     |███████████████████▌            | 993 kB 8.3 MB/s eta 0:00:01\r\u001b[K     |███████████████████▊            | 1.0 MB 8.3 MB/s eta 0:00:01\r\u001b[K     |████████████████████            | 1.0 MB 8.3 MB/s eta 0:00:01\r\u001b[K     |████████████████████            | 1.0 MB 8.3 MB/s eta 0:00:01\r\u001b[K     |████████████████████▎           | 1.0 MB 8.3 MB/s eta 0:00:01\r\u001b[K     |████████████████████▌           | 1.0 MB 8.3 MB/s eta 0:00:01\r\u001b[K     |████████████████████▊           | 1.1 MB 8.3 MB/s eta 0:00:01\r\u001b[K     |█████████████████████           | 1.1 MB 8.3 MB/s eta 0:00:01\r\u001b[K     |█████████████████████           | 1.1 MB 8.3 MB/s eta 0:00:01\r\u001b[K     |█████████████████████▎          | 1.1 MB 8.3 MB/s eta 0:00:01\r\u001b[K     |█████████████████████▌          | 1.1 MB 8.3 MB/s eta 0:00:01\r\u001b[K     |█████████████████████▊          | 1.1 MB 8.3 MB/s eta 0:00:01\r\u001b[K     |██████████████████████          | 1.1 MB 8.3 MB/s eta 0:00:01\r\u001b[K     |██████████████████████▏         | 1.1 MB 8.3 MB/s eta 0:00:01\r\u001b[K     |██████████████████████▎         | 1.1 MB 8.3 MB/s eta 0:00:01\r\u001b[K     |██████████████████████▌         | 1.1 MB 8.3 MB/s eta 0:00:01\r\u001b[K     |██████████████████████▊         | 1.2 MB 8.3 MB/s eta 0:00:01\r\u001b[K     |███████████████████████         | 1.2 MB 8.3 MB/s eta 0:00:01\r\u001b[K     |███████████████████████▏        | 1.2 MB 8.3 MB/s eta 0:00:01\r\u001b[K     |███████████████████████▎        | 1.2 MB 8.3 MB/s eta 0:00:01\r\u001b[K     |███████████████████████▌        | 1.2 MB 8.3 MB/s eta 0:00:01\r\u001b[K     |███████████████████████▊        | 1.2 MB 8.3 MB/s eta 0:00:01\r\u001b[K     |████████████████████████        | 1.2 MB 8.3 MB/s eta 0:00:01\r\u001b[K     |████████████████████████▏       | 1.2 MB 8.3 MB/s eta 0:00:01\r\u001b[K     |████████████████████████▎       | 1.2 MB 8.3 MB/s eta 0:00:01\r\u001b[K     |████████████████████████▌       | 1.2 MB 8.3 MB/s eta 0:00:01\r\u001b[K     |████████████████████████▊       | 1.3 MB 8.3 MB/s eta 0:00:01\r\u001b[K     |█████████████████████████       | 1.3 MB 8.3 MB/s eta 0:00:01\r\u001b[K     |█████████████████████████▏      | 1.3 MB 8.3 MB/s eta 0:00:01\r\u001b[K     |█████████████████████████▎      | 1.3 MB 8.3 MB/s eta 0:00:01\r\u001b[K     |█████████████████████████▌      | 1.3 MB 8.3 MB/s eta 0:00:01\r\u001b[K     |█████████████████████████▊      | 1.3 MB 8.3 MB/s eta 0:00:01\r\u001b[K     |██████████████████████████      | 1.3 MB 8.3 MB/s eta 0:00:01\r\u001b[K     |██████████████████████████▏     | 1.3 MB 8.3 MB/s eta 0:00:01\r\u001b[K     |██████████████████████████▍     | 1.3 MB 8.3 MB/s eta 0:00:01\r\u001b[K     |██████████████████████████▌     | 1.4 MB 8.3 MB/s eta 0:00:01\r\u001b[K     |██████████████████████████▊     | 1.4 MB 8.3 MB/s eta 0:00:01\r\u001b[K     |███████████████████████████     | 1.4 MB 8.3 MB/s eta 0:00:01\r\u001b[K     |███████████████████████████▏    | 1.4 MB 8.3 MB/s eta 0:00:01\r\u001b[K     |███████████████████████████▍    | 1.4 MB 8.3 MB/s eta 0:00:01\r\u001b[K     |███████████████████████████▌    | 1.4 MB 8.3 MB/s eta 0:00:01\r\u001b[K     |███████████████████████████▊    | 1.4 MB 8.3 MB/s eta 0:00:01\r\u001b[K     |████████████████████████████    | 1.4 MB 8.3 MB/s eta 0:00:01\r\u001b[K     |████████████████████████████▏   | 1.4 MB 8.3 MB/s eta 0:00:01\r\u001b[K     |████████████████████████████▍   | 1.4 MB 8.3 MB/s eta 0:00:01\r\u001b[K     |████████████████████████████▌   | 1.5 MB 8.3 MB/s eta 0:00:01\r\u001b[K     |████████████████████████████▊   | 1.5 MB 8.3 MB/s eta 0:00:01\r\u001b[K     |█████████████████████████████   | 1.5 MB 8.3 MB/s eta 0:00:01\r\u001b[K     |█████████████████████████████▏  | 1.5 MB 8.3 MB/s eta 0:00:01\r\u001b[K     |█████████████████████████████▍  | 1.5 MB 8.3 MB/s eta 0:00:01\r\u001b[K     |█████████████████████████████▌  | 1.5 MB 8.3 MB/s eta 0:00:01\r\u001b[K     |█████████████████████████████▊  | 1.5 MB 8.3 MB/s eta 0:00:01\r\u001b[K     |██████████████████████████████  | 1.5 MB 8.3 MB/s eta 0:00:01\r\u001b[K     |██████████████████████████████▏ | 1.5 MB 8.3 MB/s eta 0:00:01\r\u001b[K     |██████████████████████████████▍ | 1.5 MB 8.3 MB/s eta 0:00:01\r\u001b[K     |██████████████████████████████▋ | 1.6 MB 8.3 MB/s eta 0:00:01\r\u001b[K     |██████████████████████████████▊ | 1.6 MB 8.3 MB/s eta 0:00:01\r\u001b[K     |███████████████████████████████ | 1.6 MB 8.3 MB/s eta 0:00:01\r\u001b[K     |███████████████████████████████▏| 1.6 MB 8.3 MB/s eta 0:00:01\r\u001b[K     |███████████████████████████████▍| 1.6 MB 8.3 MB/s eta 0:00:01\r\u001b[K     |███████████████████████████████▋| 1.6 MB 8.3 MB/s eta 0:00:01\r\u001b[K     |███████████████████████████████▊| 1.6 MB 8.3 MB/s eta 0:00:01\r\u001b[K     |████████████████████████████████| 1.6 MB 8.3 MB/s eta 0:00:01\r\u001b[K     |████████████████████████████████| 1.6 MB 8.3 MB/s \n",
            "\u001b[K     |████████████████████████████████| 99 kB 10.8 MB/s \n",
            "\u001b[K     |████████████████████████████████| 636 kB 45.2 MB/s \n",
            "\u001b[K     |████████████████████████████████| 1.2 MB 47.7 MB/s \n",
            "\u001b[K     |████████████████████████████████| 352 kB 55.1 MB/s \n",
            "\u001b[K     |████████████████████████████████| 54 kB 3.5 MB/s \n",
            "\u001b[K     |████████████████████████████████| 37.1 MB 52 kB/s \n",
            "\u001b[K     |████████████████████████████████| 679 kB 40.4 MB/s \n",
            "\u001b[K     |████████████████████████████████| 211 kB 74.3 MB/s \n",
            "\u001b[K     |████████████████████████████████| 43 kB 2.1 MB/s \n",
            "\u001b[?25h  Building wheel for py-cpuinfo (setup.py) ... \u001b[?25l\u001b[?25hdone\n",
            "  Building wheel for seqeval (setup.py) ... \u001b[?25l\u001b[?25hdone\n"
          ],
          "name": "stdout"
        }
      ]
    },
    {
      "cell_type": "code",
      "metadata": {
        "id": "sbTiQMVDHgeH"
      },
      "source": [
        "import os\n",
        "import shutil           # 複製以及取得資料夾的套件\n",
        "\n",
        "import tensorflow_hub as hub\n",
        "import tensorflow_text as text\n",
        "from official.nlp import optimization       # AdamW optimizer\n",
        "\n",
        "import matplotlib.pyplot as plt\n"
      ],
      "execution_count": 4,
      "outputs": []
    },
    {
      "cell_type": "code",
      "metadata": {
        "colab": {
          "base_uri": "https://localhost:8080/"
        },
        "id": "fdlhzhy7H7cE",
        "outputId": "2770acfd-48c8-4dc0-c24a-da98a35c69a7"
      },
      "source": [
        "# 讀取IMDB 資料集\n",
        "\n",
        "url = 'https://ai.stanford.edu/~amaas/data/sentiment/aclImdb_v1.tar.gz'\n",
        "\n",
        "dataset = keras.utils.get_file(\n",
        "    fname='aclImdb_v1.tar.gz',\n",
        "    origin=url,\n",
        "    untar=True,\n",
        "    cache_dir='.',\n",
        "    cache_subdir=''\n",
        ")\n",
        "\n",
        "dataset_dir = os.path.join(os.path.dirname(dataset), 'aclImdb')\n",
        "\n",
        "train_dir = os.path.join(dataset_dir, 'train')\n",
        "\n",
        "# 刪除沒用到的folders\n",
        "remove_dir = os.path.join(train_dir, 'unsup')\n",
        "shutil.rmtree(path=remove_dir)      # recursive 刪除資料夾"
      ],
      "execution_count": 6,
      "outputs": [
        {
          "output_type": "stream",
          "text": [
            "Downloading data from https://ai.stanford.edu/~amaas/data/sentiment/aclImdb_v1.tar.gz\n",
            "84131840/84125825 [==============================] - 1s 0us/step\n"
          ],
          "name": "stdout"
        }
      ]
    },
    {
      "cell_type": "code",
      "metadata": {
        "colab": {
          "base_uri": "https://localhost:8080/"
        },
        "id": "9OAvTv4iI95U",
        "outputId": "d9ffcb6c-c6b2-4fad-dafa-9e1a766b10ed"
      },
      "source": [
        "# 使用text_dataset_from_directory 去取得label-data轉換成tf.data.Dataset\n",
        "\n",
        "AUTOTUNE = tf.data.AUTOTUNE\n",
        "batch_size = 32\n",
        "seed = 41\n",
        "\n",
        "raw_train_ds = keras.preprocessing.text_dataset_from_directory(\n",
        "    directory='aclImdb/train',\n",
        "    batch_size=batch_size,\n",
        "    validation_split=0.2,\n",
        "    subset='training',\n",
        "    seed=seed\n",
        ")\n",
        "\n",
        "class_names = raw_train_ds.class_names\n",
        "print(class_names)\n",
        "\n",
        "train_ds = raw_train_ds.cache().prefetch(buffer_size=AUTOTUNE)\n",
        "\n",
        "val_ds = keras.preprocessing.text_dataset_from_directory(\n",
        "    directory='aclImdb/train',\n",
        "    validation_split=0.2,\n",
        "    subset='validation',\n",
        "    seed=seed\n",
        ")\n",
        "\n",
        "val_ds = val_ds.cache().prefetch(buffer_size=AUTOTUNE)\n",
        "\n",
        "test_ds = keras.preprocessing.text_dataset_from_directory(\n",
        "    'aclImdb/test',\n",
        "    batch_size=batch_size\n",
        ")\n",
        "\n",
        "test_ds = test_ds.cache().prefetch(buffer_size=AUTOTUNE)"
      ],
      "execution_count": 7,
      "outputs": [
        {
          "output_type": "stream",
          "text": [
            "Found 25000 files belonging to 2 classes.\n",
            "Using 20000 files for training.\n",
            "['neg', 'pos']\n",
            "Found 25000 files belonging to 2 classes.\n",
            "Using 5000 files for validation.\n",
            "Found 25000 files belonging to 2 classes.\n"
          ],
          "name": "stdout"
        }
      ]
    },
    {
      "cell_type": "code",
      "metadata": {
        "colab": {
          "base_uri": "https://localhost:8080/"
        },
        "id": "_iFTrrkjKVmg",
        "outputId": "a9ced5ca-a124-41fc-ab58-865e63e936ce"
      },
      "source": [
        "# 看一下reviews\n",
        "\n",
        "for text_batch, label_batch in train_ds.take(1):\n",
        "    for i in range(3):\n",
        "        print(f'Review: {text_batch.numpy()[i]}')\n",
        "        label = label_batch.numpy()[i]\n",
        "        print(f'Label: {label} ({class_names[label]})')"
      ],
      "execution_count": 8,
      "outputs": [
        {
          "output_type": "stream",
          "text": [
            "Review: b\"This is one the few movies I can watch over and over. If you've never seen it, give it a shot. Richard Dreyfus and Raoul Julia are wonderful together and although the movie amuses me greatly, it reminds me of Julia's untimely demise. It is a good opportunity to sit back and laugh at the international intrigue that is too much with us in these time of terror and fear.\"\n",
            "Label: 1 (pos)\n",
            "Review: b\"I should never have started this film, and stopped watching after 3/4's. I missed the really botched ending. This film was a disappointment because it could have been so much better. It had nice atmosphere, a top notch cast and director, good locations. But a baaaaaad story line, a bad script. I paid attention to Kenneth Branagh's southern accent--it was better than the script. The plot was stupid--driven by characters acting in unreal and improbable ways. No one behaves like this outside of Hollywood scripts.\"\n",
            "Label: 0 (neg)\n",
            "Review: b'It is not the same as the other films about dancing. A few normal people found themselves from dancing. Unlike the dancing films in Hollywood, the characters in this film are not handsome or hot young people. They are someone that you may see everyday in your offices. They are some depressed about their lives and finally find themselves and their dreams from dancing. This touches me very deeply.'\n",
            "Label: 1 (pos)\n"
          ],
          "name": "stdout"
        }
      ]
    },
    {
      "cell_type": "code",
      "metadata": {
        "colab": {
          "base_uri": "https://localhost:8080/"
        },
        "id": "QQBIrHrDK1wG",
        "outputId": "1392cc7f-fb7c-4c07-d789-8844a7db8580"
      },
      "source": [
        "# load model from tf hub\n",
        "\n",
        "bert_model_name = 'small_bert/bert_en_uncased_L-4_H-512_A-8' \n",
        "\n",
        "map_name_to_handle = {\n",
        "    'bert_en_uncased_L-12_H-768_A-12':\n",
        "        'https://tfhub.dev/tensorflow/bert_en_uncased_L-12_H-768_A-12/3',\n",
        "    'bert_en_cased_L-12_H-768_A-12':\n",
        "        'https://tfhub.dev/tensorflow/bert_en_cased_L-12_H-768_A-12/3',\n",
        "    'bert_multi_cased_L-12_H-768_A-12':\n",
        "        'https://tfhub.dev/tensorflow/bert_multi_cased_L-12_H-768_A-12/3',\n",
        "    'small_bert/bert_en_uncased_L-2_H-128_A-2':\n",
        "        'https://tfhub.dev/tensorflow/small_bert/bert_en_uncased_L-2_H-128_A-2/1',\n",
        "    'small_bert/bert_en_uncased_L-2_H-256_A-4':\n",
        "        'https://tfhub.dev/tensorflow/small_bert/bert_en_uncased_L-2_H-256_A-4/1',\n",
        "    'small_bert/bert_en_uncased_L-2_H-512_A-8':\n",
        "        'https://tfhub.dev/tensorflow/small_bert/bert_en_uncased_L-2_H-512_A-8/1',\n",
        "    'small_bert/bert_en_uncased_L-2_H-768_A-12':\n",
        "        'https://tfhub.dev/tensorflow/small_bert/bert_en_uncased_L-2_H-768_A-12/1',\n",
        "    'small_bert/bert_en_uncased_L-4_H-128_A-2':\n",
        "        'https://tfhub.dev/tensorflow/small_bert/bert_en_uncased_L-4_H-128_A-2/1',\n",
        "    'small_bert/bert_en_uncased_L-4_H-256_A-4':\n",
        "        'https://tfhub.dev/tensorflow/small_bert/bert_en_uncased_L-4_H-256_A-4/1',\n",
        "    'small_bert/bert_en_uncased_L-4_H-512_A-8':\n",
        "        'https://tfhub.dev/tensorflow/small_bert/bert_en_uncased_L-4_H-512_A-8/1',\n",
        "    'small_bert/bert_en_uncased_L-4_H-768_A-12':\n",
        "        'https://tfhub.dev/tensorflow/small_bert/bert_en_uncased_L-4_H-768_A-12/1',\n",
        "    'small_bert/bert_en_uncased_L-6_H-128_A-2':\n",
        "        'https://tfhub.dev/tensorflow/small_bert/bert_en_uncased_L-6_H-128_A-2/1',\n",
        "    'small_bert/bert_en_uncased_L-6_H-256_A-4':\n",
        "        'https://tfhub.dev/tensorflow/small_bert/bert_en_uncased_L-6_H-256_A-4/1',\n",
        "    'small_bert/bert_en_uncased_L-6_H-512_A-8':\n",
        "        'https://tfhub.dev/tensorflow/small_bert/bert_en_uncased_L-6_H-512_A-8/1',\n",
        "    'small_bert/bert_en_uncased_L-6_H-768_A-12':\n",
        "        'https://tfhub.dev/tensorflow/small_bert/bert_en_uncased_L-6_H-768_A-12/1',\n",
        "    'small_bert/bert_en_uncased_L-8_H-128_A-2':\n",
        "        'https://tfhub.dev/tensorflow/small_bert/bert_en_uncased_L-8_H-128_A-2/1',\n",
        "    'small_bert/bert_en_uncased_L-8_H-256_A-4':\n",
        "        'https://tfhub.dev/tensorflow/small_bert/bert_en_uncased_L-8_H-256_A-4/1',\n",
        "    'small_bert/bert_en_uncased_L-8_H-512_A-8':\n",
        "        'https://tfhub.dev/tensorflow/small_bert/bert_en_uncased_L-8_H-512_A-8/1',\n",
        "    'small_bert/bert_en_uncased_L-8_H-768_A-12':\n",
        "        'https://tfhub.dev/tensorflow/small_bert/bert_en_uncased_L-8_H-768_A-12/1',\n",
        "    'small_bert/bert_en_uncased_L-10_H-128_A-2':\n",
        "        'https://tfhub.dev/tensorflow/small_bert/bert_en_uncased_L-10_H-128_A-2/1',\n",
        "    'small_bert/bert_en_uncased_L-10_H-256_A-4':\n",
        "        'https://tfhub.dev/tensorflow/small_bert/bert_en_uncased_L-10_H-256_A-4/1',\n",
        "    'small_bert/bert_en_uncased_L-10_H-512_A-8':\n",
        "        'https://tfhub.dev/tensorflow/small_bert/bert_en_uncased_L-10_H-512_A-8/1',\n",
        "    'small_bert/bert_en_uncased_L-10_H-768_A-12':\n",
        "        'https://tfhub.dev/tensorflow/small_bert/bert_en_uncased_L-10_H-768_A-12/1',\n",
        "    'small_bert/bert_en_uncased_L-12_H-128_A-2':\n",
        "        'https://tfhub.dev/tensorflow/small_bert/bert_en_uncased_L-12_H-128_A-2/1',\n",
        "    'small_bert/bert_en_uncased_L-12_H-256_A-4':\n",
        "        'https://tfhub.dev/tensorflow/small_bert/bert_en_uncased_L-12_H-256_A-4/1',\n",
        "    'small_bert/bert_en_uncased_L-12_H-512_A-8':\n",
        "        'https://tfhub.dev/tensorflow/small_bert/bert_en_uncased_L-12_H-512_A-8/1',\n",
        "    'small_bert/bert_en_uncased_L-12_H-768_A-12':\n",
        "        'https://tfhub.dev/tensorflow/small_bert/bert_en_uncased_L-12_H-768_A-12/1',\n",
        "    'albert_en_base':\n",
        "        'https://tfhub.dev/tensorflow/albert_en_base/2',\n",
        "    'electra_small':\n",
        "        'https://tfhub.dev/google/electra_small/2',\n",
        "    'electra_base':\n",
        "        'https://tfhub.dev/google/electra_base/2',\n",
        "    'experts_pubmed':\n",
        "        'https://tfhub.dev/google/experts/bert/pubmed/2',\n",
        "    'experts_wiki_books':\n",
        "        'https://tfhub.dev/google/experts/bert/wiki_books/2',\n",
        "    'talking-heads_base':\n",
        "        'https://tfhub.dev/tensorflow/talkheads_ggelu_bert_en_base/1',\n",
        "}\n",
        "\n",
        "map_model_to_preprocess = {\n",
        "    'bert_en_uncased_L-12_H-768_A-12':\n",
        "        'https://tfhub.dev/tensorflow/bert_en_uncased_preprocess/3',\n",
        "    'bert_en_cased_L-12_H-768_A-12':\n",
        "        'https://tfhub.dev/tensorflow/bert_en_cased_preprocess/3',\n",
        "    'small_bert/bert_en_uncased_L-2_H-128_A-2':\n",
        "        'https://tfhub.dev/tensorflow/bert_en_uncased_preprocess/3',\n",
        "    'small_bert/bert_en_uncased_L-2_H-256_A-4':\n",
        "        'https://tfhub.dev/tensorflow/bert_en_uncased_preprocess/3',\n",
        "    'small_bert/bert_en_uncased_L-2_H-512_A-8':\n",
        "        'https://tfhub.dev/tensorflow/bert_en_uncased_preprocess/3',\n",
        "    'small_bert/bert_en_uncased_L-2_H-768_A-12':\n",
        "        'https://tfhub.dev/tensorflow/bert_en_uncased_preprocess/3',\n",
        "    'small_bert/bert_en_uncased_L-4_H-128_A-2':\n",
        "        'https://tfhub.dev/tensorflow/bert_en_uncased_preprocess/3',\n",
        "    'small_bert/bert_en_uncased_L-4_H-256_A-4':\n",
        "        'https://tfhub.dev/tensorflow/bert_en_uncased_preprocess/3',\n",
        "    'small_bert/bert_en_uncased_L-4_H-512_A-8':\n",
        "        'https://tfhub.dev/tensorflow/bert_en_uncased_preprocess/3',\n",
        "    'small_bert/bert_en_uncased_L-4_H-768_A-12':\n",
        "        'https://tfhub.dev/tensorflow/bert_en_uncased_preprocess/3',\n",
        "    'small_bert/bert_en_uncased_L-6_H-128_A-2':\n",
        "        'https://tfhub.dev/tensorflow/bert_en_uncased_preprocess/3',\n",
        "    'small_bert/bert_en_uncased_L-6_H-256_A-4':\n",
        "        'https://tfhub.dev/tensorflow/bert_en_uncased_preprocess/3',\n",
        "    'small_bert/bert_en_uncased_L-6_H-512_A-8':\n",
        "        'https://tfhub.dev/tensorflow/bert_en_uncased_preprocess/3',\n",
        "    'small_bert/bert_en_uncased_L-6_H-768_A-12':\n",
        "        'https://tfhub.dev/tensorflow/bert_en_uncased_preprocess/3',\n",
        "    'small_bert/bert_en_uncased_L-8_H-128_A-2':\n",
        "        'https://tfhub.dev/tensorflow/bert_en_uncased_preprocess/3',\n",
        "    'small_bert/bert_en_uncased_L-8_H-256_A-4':\n",
        "        'https://tfhub.dev/tensorflow/bert_en_uncased_preprocess/3',\n",
        "    'small_bert/bert_en_uncased_L-8_H-512_A-8':\n",
        "        'https://tfhub.dev/tensorflow/bert_en_uncased_preprocess/3',\n",
        "    'small_bert/bert_en_uncased_L-8_H-768_A-12':\n",
        "        'https://tfhub.dev/tensorflow/bert_en_uncased_preprocess/3',\n",
        "    'small_bert/bert_en_uncased_L-10_H-128_A-2':\n",
        "        'https://tfhub.dev/tensorflow/bert_en_uncased_preprocess/3',\n",
        "    'small_bert/bert_en_uncased_L-10_H-256_A-4':\n",
        "        'https://tfhub.dev/tensorflow/bert_en_uncased_preprocess/3',\n",
        "    'small_bert/bert_en_uncased_L-10_H-512_A-8':\n",
        "        'https://tfhub.dev/tensorflow/bert_en_uncased_preprocess/3',\n",
        "    'small_bert/bert_en_uncased_L-10_H-768_A-12':\n",
        "        'https://tfhub.dev/tensorflow/bert_en_uncased_preprocess/3',\n",
        "    'small_bert/bert_en_uncased_L-12_H-128_A-2':\n",
        "        'https://tfhub.dev/tensorflow/bert_en_uncased_preprocess/3',\n",
        "    'small_bert/bert_en_uncased_L-12_H-256_A-4':\n",
        "        'https://tfhub.dev/tensorflow/bert_en_uncased_preprocess/3',\n",
        "    'small_bert/bert_en_uncased_L-12_H-512_A-8':\n",
        "        'https://tfhub.dev/tensorflow/bert_en_uncased_preprocess/3',\n",
        "    'small_bert/bert_en_uncased_L-12_H-768_A-12':\n",
        "        'https://tfhub.dev/tensorflow/bert_en_uncased_preprocess/3',\n",
        "    'bert_multi_cased_L-12_H-768_A-12':\n",
        "        'https://tfhub.dev/tensorflow/bert_multi_cased_preprocess/3',\n",
        "    'albert_en_base':\n",
        "        'https://tfhub.dev/tensorflow/albert_en_preprocess/3',\n",
        "    'electra_small':\n",
        "        'https://tfhub.dev/tensorflow/bert_en_uncased_preprocess/3',\n",
        "    'electra_base':\n",
        "        'https://tfhub.dev/tensorflow/bert_en_uncased_preprocess/3',\n",
        "    'experts_pubmed':\n",
        "        'https://tfhub.dev/tensorflow/bert_en_uncased_preprocess/3',\n",
        "    'experts_wiki_books':\n",
        "        'https://tfhub.dev/tensorflow/bert_en_uncased_preprocess/3',\n",
        "    'talking-heads_base':\n",
        "        'https://tfhub.dev/tensorflow/bert_en_uncased_preprocess/3',\n",
        "}\n",
        "\n",
        "tfhub_handle_encoder = map_name_to_handle[bert_model_name]\n",
        "tfhub_handle_preprocess = map_model_to_preprocess[bert_model_name]\n",
        "\n",
        "print(f'BERT model selected           : {tfhub_handle_encoder}')\n",
        "print(f'Preprocess model auto-selected: {tfhub_handle_preprocess}')"
      ],
      "execution_count": 9,
      "outputs": [
        {
          "output_type": "stream",
          "text": [
            "BERT model selected           : https://tfhub.dev/tensorflow/small_bert/bert_en_uncased_L-4_H-512_A-8/1\n",
            "Preprocess model auto-selected: https://tfhub.dev/tensorflow/bert_en_uncased_preprocess/3\n"
          ],
          "name": "stdout"
        }
      ]
    },
    {
      "cell_type": "code",
      "metadata": {
        "id": "XtvxPXbrLKrv"
      },
      "source": [
        "bert_preprocess_model = hub.KerasLayer(tfhub_handle_preprocess)"
      ],
      "execution_count": 10,
      "outputs": []
    },
    {
      "cell_type": "code",
      "metadata": {
        "colab": {
          "base_uri": "https://localhost:8080/"
        },
        "id": "aovO44tyLS5C",
        "outputId": "d02dac0e-a422-4606-fe45-1274b28355f9"
      },
      "source": [
        "bert_preprocess_model"
      ],
      "execution_count": 12,
      "outputs": [
        {
          "output_type": "execute_result",
          "data": {
            "text/plain": [
              "<tensorflow_hub.keras_layer.KerasLayer at 0x7fdfc26eedd0>"
            ]
          },
          "metadata": {
            "tags": []
          },
          "execution_count": 12
        }
      ]
    },
    {
      "cell_type": "code",
      "metadata": {
        "colab": {
          "base_uri": "https://localhost:8080/"
        },
        "id": "v6E8Uc-lLWcH",
        "outputId": "148b2653-0cb7-4815-8316-0bdb7f991a2b"
      },
      "source": [
        "# 看看前處理會輸出什麼\n",
        "\n",
        "text_test = ['this is such an good movie!']\n",
        "text_preprocessed = bert_preprocess_model(text_test)\n",
        "\n",
        "print(f'Keys       : {list(text_preprocessed.keys())}')\n",
        "print(f'Shape      : {text_preprocessed[\"input_word_ids\"].shape}')\n",
        "print(f'Word Ids   : {text_preprocessed[\"input_word_ids\"][0, :12]}')\n",
        "print(f'Input Mask : {text_preprocessed[\"input_mask\"][0, :12]}')\n",
        "print(f'Type Ids   : {text_preprocessed[\"input_type_ids\"][0, :12]}')"
      ],
      "execution_count": 14,
      "outputs": [
        {
          "output_type": "stream",
          "text": [
            "Keys       : ['input_mask', 'input_type_ids', 'input_word_ids']\n",
            "Shape      : (1, 128)\n",
            "Word Ids   : [ 101 2023 2003 2107 2019 2204 3185  999  102    0    0    0]\n",
            "Input Mask : [1 1 1 1 1 1 1 1 1 0 0 0]\n",
            "Type Ids   : [0 0 0 0 0 0 0 0 0 0 0 0]\n"
          ],
          "name": "stdout"
        }
      ]
    },
    {
      "cell_type": "code",
      "metadata": {
        "id": "hyPBc0apLrFH"
      },
      "source": [
        "# 使用BERT model\n",
        "\n",
        "bert_model = hub.KerasLayer(tfhub_handle_encoder)"
      ],
      "execution_count": 15,
      "outputs": []
    },
    {
      "cell_type": "code",
      "metadata": {
        "colab": {
          "base_uri": "https://localhost:8080/"
        },
        "id": "mW3fhkQcL_Kt",
        "outputId": "05af5400-c208-4fbb-c5a5-2fe74e2a7ab9"
      },
      "source": [
        "bert_model"
      ],
      "execution_count": 16,
      "outputs": [
        {
          "output_type": "execute_result",
          "data": {
            "text/plain": [
              "<tensorflow_hub.keras_layer.KerasLayer at 0x7fdfc0233490>"
            ]
          },
          "metadata": {
            "tags": []
          },
          "execution_count": 16
        }
      ]
    },
    {
      "cell_type": "code",
      "metadata": {
        "colab": {
          "base_uri": "https://localhost:8080/"
        },
        "id": "sdY9uhl2MEv7",
        "outputId": "d55fd888-8d1e-47ed-bf58-c3337ef8f274"
      },
      "source": [
        "# 看看完整輸出\n",
        "bert_results = bert_model(text_preprocessed)\n",
        "\n",
        "print(f'Loaded BERT: {tfhub_handle_encoder}')\n",
        "print(f'Pooled Outputs Shape:{bert_results[\"pooled_output\"].shape}')\n",
        "print(f'Pooled Outputs Values:{bert_results[\"pooled_output\"][0, :12]}')\n",
        "print(f'Sequence Outputs Shape:{bert_results[\"sequence_output\"].shape}')\n",
        "print(f'Sequence Outputs Values:{bert_results[\"sequence_output\"][0, :12]}')"
      ],
      "execution_count": 17,
      "outputs": [
        {
          "output_type": "stream",
          "text": [
            "Loaded BERT: https://tfhub.dev/tensorflow/small_bert/bert_en_uncased_L-4_H-512_A-8/1\n",
            "Pooled Outputs Shape:(1, 512)\n",
            "Pooled Outputs Values:[ 0.7760244   0.9919606  -0.23069267  0.3477891   0.21938871  0.9455895\n",
            "  0.9725394  -0.9392861  -0.06431275 -0.9974963   0.25446337 -0.9836152 ]\n",
            "Sequence Outputs Shape:(1, 128, 512)\n",
            "Sequence Outputs Values:[[-0.06612377  0.2695772   0.1751931  ...  0.30825734  0.7647733\n",
            "  -0.13137072]\n",
            " [-0.19479156  0.49483222 -0.22872084 ...  0.7739614  -0.2617575\n",
            "   0.6725074 ]\n",
            " [-0.5814107   1.0846024  -0.96998256 ...  0.18343674 -0.3233314\n",
            "   0.6918202 ]\n",
            " ...\n",
            " [-0.05868349 -0.12320548 -0.09408286 ...  0.6606093   0.8057301\n",
            "   0.3929798 ]\n",
            " [-0.06659925 -0.01904541 -0.12796964 ...  0.56476456  1.1508014\n",
            "   0.19506854]\n",
            " [-0.10508919  0.28273582 -0.05061601 ...  0.45446795  1.2504025\n",
            "  -0.06665991]]\n"
          ],
          "name": "stdout"
        }
      ]
    },
    {
      "cell_type": "code",
      "metadata": {
        "id": "Te5IcU8UMOWn"
      },
      "source": [
        "# 上面三種各有不同意思，但基本上我們會使用到pooled_output去fine-tune\n",
        "\n",
        "def build_classifier_model():\n",
        "    # funtional api\n",
        "    text_input = layers.Input(shape=(), dtype=tf.string, name='text')\n",
        "    preprocessing_layer = hub.KerasLayer(tfhub_handle_preprocess, name='preprocessing')\n",
        "    encoder_inputs = preprocessing_layer(text_input)\n",
        "    encoder = hub.KerasLayer(tfhub_handle_encoder, trainable=True, name='BERT_encoder')\n",
        "    outputs = encoder(encoder_inputs)\n",
        "    net = outputs['pooled_output']\n",
        "    net = layers.Dropout(0.1)(net)\n",
        "    net = layers.Dense(1, activation=None, name='classifier')(net)\n",
        "    return tf.keras.Model(text_input, net)\n",
        "    "
      ],
      "execution_count": 18,
      "outputs": []
    },
    {
      "cell_type": "code",
      "metadata": {
        "colab": {
          "base_uri": "https://localhost:8080/"
        },
        "id": "_0sYXaqNNaKM",
        "outputId": "9e9fef9e-0fca-4260-da58-60f8a1db30c1"
      },
      "source": [
        "# 拼接\n",
        "\n",
        "classifier_model = build_classifier_model()\n",
        "bert_raw_result = classifier_model(tf.constant(text_test))\n",
        "print(tf.sigmoid(bert_raw_result))"
      ],
      "execution_count": 19,
      "outputs": [
        {
          "output_type": "stream",
          "text": [
            "tf.Tensor([[0.45547438]], shape=(1, 1), dtype=float32)\n"
          ],
          "name": "stdout"
        }
      ]
    },
    {
      "cell_type": "code",
      "metadata": {
        "colab": {
          "base_uri": "https://localhost:8080/"
        },
        "id": "9EI-r9miNj-D",
        "outputId": "92ff2755-0305-4d3b-e5bf-f4695f569a93"
      },
      "source": [
        "# 上面的輸出目前意義不大，因為還沒訓練\n",
        "\n",
        "classifier_model.summary()"
      ],
      "execution_count": 20,
      "outputs": [
        {
          "output_type": "stream",
          "text": [
            "Model: \"model\"\n",
            "__________________________________________________________________________________________________\n",
            "Layer (type)                    Output Shape         Param #     Connected to                     \n",
            "==================================================================================================\n",
            "text (InputLayer)               [(None,)]            0                                            \n",
            "__________________________________________________________________________________________________\n",
            "preprocessing (KerasLayer)      {'input_type_ids': ( 0           text[0][0]                       \n",
            "__________________________________________________________________________________________________\n",
            "BERT_encoder (KerasLayer)       {'encoder_outputs':  28763649    preprocessing[0][0]              \n",
            "                                                                 preprocessing[0][1]              \n",
            "                                                                 preprocessing[0][2]              \n",
            "__________________________________________________________________________________________________\n",
            "dropout (Dropout)               (None, 512)          0           BERT_encoder[0][5]               \n",
            "__________________________________________________________________________________________________\n",
            "classifier (Dense)              (None, 1)            513         dropout[0][0]                    \n",
            "==================================================================================================\n",
            "Total params: 28,764,162\n",
            "Trainable params: 28,764,161\n",
            "Non-trainable params: 1\n",
            "__________________________________________________________________________________________________\n"
          ],
          "name": "stdout"
        }
      ]
    },
    {
      "cell_type": "code",
      "metadata": {
        "colab": {
          "base_uri": "https://localhost:8080/",
          "height": 359
        },
        "id": "e7nYxhXtN1l1",
        "outputId": "95b2c13c-f1e3-495b-dd7a-742adba6bb12"
      },
      "source": [
        "# 畫出模型圖\n",
        "\n",
        "keras.utils.plot_model(\n",
        "    classifier_model,\n",
        "    show_shapes=True\n",
        ")"
      ],
      "execution_count": 21,
      "outputs": [
        {
          "output_type": "execute_result",
          "data": {
            "image/png": "[encoded data removed]",
            "text/plain": [
              "<IPython.core.display.Image object>"
            ]
          },
          "metadata": {
            "tags": []
          },
          "execution_count": 21
        }
      ]
    },
    {
      "cell_type": "code",
      "metadata": {
        "id": "R9BN1-QUN_Y2"
      },
      "source": [
        "# 訓練!\n",
        "\n",
        "loss = keras.losses.BinaryCrossentropy(from_logits=True)    # 最後一層沒有sigmoid, 因此from_logits=True\n",
        "metrics = tf.metrics.BinaryAccuracy()"
      ],
      "execution_count": 22,
      "outputs": []
    },
    {
      "cell_type": "code",
      "metadata": {
        "id": "UQkMQ07fOqYv"
      },
      "source": [
        "# 準備\n",
        "\n",
        "epochs = 5\n",
        "steps_per_epoch = tf.data.experimental.cardinality(\n",
        "    dataset=train_ds\n",
        ").numpy()\n",
        "num_train_steps = steps_per_epoch * epochs\n",
        "num_warmup_steps = int(0.1*num_train_steps)\n",
        "\n",
        "init_lr = 3e-5\n",
        "optimizer = optimization.create_optimizer(\n",
        "    init_lr=init_lr,\n",
        "    num_train_steps=num_train_steps,\n",
        "    num_warmup_steps=num_warmup_steps,\n",
        "    optimizer_type='adamw'\n",
        ")"
      ],
      "execution_count": 24,
      "outputs": []
    },
    {
      "cell_type": "code",
      "metadata": {
        "id": "yPKs5CrAPSl4"
      },
      "source": [
        "classifier_model.compile(optimizer=optimizer,\n",
        "                         loss=loss,\n",
        "                         metrics=metrics)"
      ],
      "execution_count": 25,
      "outputs": []
    },
    {
      "cell_type": "code",
      "metadata": {
        "colab": {
          "base_uri": "https://localhost:8080/"
        },
        "id": "-eJSMK2wPXYZ",
        "outputId": "d8105424-44a5-4ca0-f550-a43000a6b79c"
      },
      "source": [
        "print(f'Training model with {tfhub_handle_encoder}')\n",
        "history = classifier_model.fit(x=train_ds,\n",
        "                               validation_data=val_ds,\n",
        "                               epochs=epochs)"
      ],
      "execution_count": 26,
      "outputs": [
        {
          "output_type": "stream",
          "text": [
            "Training model with https://tfhub.dev/tensorflow/small_bert/bert_en_uncased_L-4_H-512_A-8/1\n",
            "Epoch 1/5\n",
            "625/625 [==============================] - 164s 254ms/step - loss: 0.4864 - binary_accuracy: 0.7395 - val_loss: 0.3744 - val_binary_accuracy: 0.8292\n",
            "Epoch 2/5\n",
            "625/625 [==============================] - 155s 247ms/step - loss: 0.3290 - binary_accuracy: 0.8533 - val_loss: 0.3871 - val_binary_accuracy: 0.8476\n",
            "Epoch 3/5\n",
            "625/625 [==============================] - 154s 247ms/step - loss: 0.2489 - binary_accuracy: 0.8963 - val_loss: 0.4190 - val_binary_accuracy: 0.8544\n",
            "Epoch 4/5\n",
            "625/625 [==============================] - 156s 249ms/step - loss: 0.1908 - binary_accuracy: 0.9240 - val_loss: 0.4511 - val_binary_accuracy: 0.8578\n",
            "Epoch 5/5\n",
            "625/625 [==============================] - 155s 248ms/step - loss: 0.1514 - binary_accuracy: 0.9423 - val_loss: 0.4802 - val_binary_accuracy: 0.8548\n"
          ],
          "name": "stdout"
        }
      ]
    },
    {
      "cell_type": "code",
      "metadata": {
        "colab": {
          "base_uri": "https://localhost:8080/"
        },
        "id": "0MK301fiPZlZ",
        "outputId": "e59a9989-bd1c-4be2-d69b-5ca8323ff885"
      },
      "source": [
        "loss, accuracy = classifier_model.evaluate(test_ds)\n",
        "\n",
        "print(f'Loss: {loss}')\n",
        "print(f'Accuracy: {accuracy}')"
      ],
      "execution_count": 27,
      "outputs": [
        {
          "output_type": "stream",
          "text": [
            "782/782 [==============================] - 85s 109ms/step - loss: 0.4581 - binary_accuracy: 0.8584\n",
            "Loss: 0.45805370807647705\n",
            "Accuracy: 0.8584399819374084\n"
          ],
          "name": "stdout"
        }
      ]
    },
    {
      "cell_type": "code",
      "metadata": {
        "colab": {
          "base_uri": "https://localhost:8080/",
          "height": 421
        },
        "id": "adHzNuxlPbzC",
        "outputId": "23c807fe-3726-4976-a9a6-0774fb6fa2a2"
      },
      "source": [
        "acc = history.history['binary_accuracy']\n",
        "val_acc = history.history['val_binary_accuracy']\n",
        "loss = history.history['loss']\n",
        "val_loss = history.history['val_loss']\n",
        "\n",
        "epochs = range(1, len(acc) + 1)\n",
        "fig = plt.figure(figsize=(10, 6))\n",
        "fig.tight_layout()\n",
        "\n",
        "plt.subplot(2, 1, 1)\n",
        "# \"bo\" is for \"blue dot\"\n",
        "plt.plot(epochs, loss, 'r', label='Training loss')\n",
        "# b is for \"solid blue line\"\n",
        "plt.plot(epochs, val_loss, 'b', label='Validation loss')\n",
        "plt.title('Training and validation loss')\n",
        "# plt.xlabel('Epochs')\n",
        "plt.ylabel('Loss')\n",
        "plt.legend()\n",
        "\n",
        "plt.subplot(2, 1, 2)\n",
        "plt.plot(epochs, acc, 'r', label='Training acc')\n",
        "plt.plot(epochs, val_acc, 'b', label='Validation acc')\n",
        "plt.title('Training and validation accuracy')\n",
        "plt.xlabel('Epochs')\n",
        "plt.ylabel('Accuracy')\n",
        "plt.legend(loc='lower right')"
      ],
      "execution_count": 30,
      "outputs": [
        {
          "output_type": "execute_result",
          "data": {
            "text/plain": [
              "<matplotlib.legend.Legend at 0x7fdf3d07c110>"
            ]
          },
          "metadata": {
            "tags": []
          },
          "execution_count": 30
        },
        {
          "output_type": "display_data",
          "data": {
            "image/png": "[encoded data removed]",
            "text/plain": [
              "<Figure size 720x432 with 2 Axes>"
            ]
          },
          "metadata": {
            "tags": [],
            "needs_background": "light"
          }
        }
      ]
    },
    {
      "cell_type": "code",
      "metadata": {
        "colab": {
          "base_uri": "https://localhost:8080/"
        },
        "id": "OvLt6dRkPeY5",
        "outputId": "6ea83102-2212-455c-88f1-335ac6d9edad"
      },
      "source": [
        "# 匯出 for inference\n",
        "\n",
        "dataset_name = 'imdb'\n",
        "saved_model_path = './{}_bert'.format(dataset_name.replace('/', '_'))\n",
        "\n",
        "classifier_model.save(saved_model_path, include_optimizer=False)"
      ],
      "execution_count": 31,
      "outputs": [
        {
          "output_type": "stream",
          "text": [
            "WARNING:absl:Found untraced functions such as restored_function_body, restored_function_body, restored_function_body, restored_function_body, restored_function_body while saving (showing 5 of 310). These functions will not be directly callable after loading.\n"
          ],
          "name": "stderr"
        },
        {
          "output_type": "stream",
          "text": [
            "INFO:tensorflow:Assets written to: ./imdb_bert/assets\n"
          ],
          "name": "stdout"
        },
        {
          "output_type": "stream",
          "text": [
            "INFO:tensorflow:Assets written to: ./imdb_bert/assets\n"
          ],
          "name": "stderr"
        }
      ]
    },
    {
      "cell_type": "code",
      "metadata": {
        "id": "8TCbCkeUPpju"
      },
      "source": [
        "# load model\n",
        "\n",
        "reloaded_model = tf.saved_model.load(saved_model_path)"
      ],
      "execution_count": 32,
      "outputs": []
    },
    {
      "cell_type": "code",
      "metadata": {
        "colab": {
          "base_uri": "https://localhost:8080/"
        },
        "id": "8HKeM6bHPtzD",
        "outputId": "2839fefe-da3d-4cda-9dc0-db79bd68f1b7"
      },
      "source": [
        "# 測試\n",
        "\n",
        "def print_my_examples(inputs, results):\n",
        "    result_for_printing = \\\n",
        "    [f'input: {inputs[i]:<30} : score: {results[i][0]:.6f}'\n",
        "                            for i in range(len(inputs))]\n",
        "    print(*result_for_printing, sep='\\n')\n",
        "    print()\n",
        "\n",
        "\n",
        "examples = [\n",
        "    'this is such an amazing movie!',  # this is the same sentence tried earlier\n",
        "    'The movie was great!',\n",
        "    'The movie was meh.',\n",
        "    'The movie was okish.',\n",
        "    'The movie was terrible...'\n",
        "]\n",
        "\n",
        "# tf.constant: 從類似張量的對象創建一個常數張量。\n",
        "reloaded_results = tf.sigmoid(reloaded_model(tf.constant(examples)))\n",
        "original_results = tf.sigmoid(classifier_model(tf.constant(examples)))\n",
        "\n",
        "print('Results from the saved model:')\n",
        "print_my_examples(examples, reloaded_results)\n",
        "print('Results from the model in memory:')\n",
        "print_my_examples(examples, original_results)"
      ],
      "execution_count": 33,
      "outputs": [
        {
          "output_type": "stream",
          "text": [
            "Results from the saved model:\n",
            "input: this is such an amazing movie! : score: 0.999536\n",
            "input: The movie was great!           : score: 0.995809\n",
            "input: The movie was meh.             : score: 0.861789\n",
            "input: The movie was okish.           : score: 0.040768\n",
            "input: The movie was terrible...      : score: 0.000461\n",
            "\n",
            "Results from the model in memory:\n",
            "input: this is such an amazing movie! : score: 0.999536\n",
            "input: The movie was great!           : score: 0.995809\n",
            "input: The movie was meh.             : score: 0.861789\n",
            "input: The movie was okish.           : score: 0.040768\n",
            "input: The movie was terrible...      : score: 0.000461\n",
            "\n"
          ],
          "name": "stdout"
        }
      ]
    },
    {
      "cell_type": "code",
      "metadata": {
        "colab": {
          "base_uri": "https://localhost:8080/"
        },
        "id": "Oh1NIGYGQFoj",
        "outputId": "fd051739-e579-47af-9756-5c7cf879f393"
      },
      "source": [
        "# TF Serving, 專門為了生產環境使用!\n",
        "\n",
        "\n",
        "\n",
        "serving_results = reloaded_model \\\n",
        "            .signatures['serving_default'](tf.constant(examples))\n",
        "\n",
        "serving_results = tf.sigmoid(serving_results['classifier'])\n",
        "\n",
        "print_my_examples(examples, serving_results)"
      ],
      "execution_count": 34,
      "outputs": [
        {
          "output_type": "stream",
          "text": [
            "input: this is such an amazing movie! : score: 0.999536\n",
            "input: The movie was great!           : score: 0.995809\n",
            "input: The movie was meh.             : score: 0.861789\n",
            "input: The movie was okish.           : score: 0.040768\n",
            "input: The movie was terrible...      : score: 0.000461\n",
            "\n"
          ],
          "name": "stdout"
        }
      ]
    },
    {
      "cell_type": "code",
      "metadata": {
        "id": "u2SEMlJpQ88b"
      },
      "source": [
        ""
      ],
      "execution_count": null,
      "outputs": []
    }
  ]
}