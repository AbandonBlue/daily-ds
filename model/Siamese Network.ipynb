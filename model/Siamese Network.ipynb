{
 "cells": [
  {
   "cell_type": "markdown",
   "metadata": {},
   "source": [
    "## Siamese Network\n",
    "- 特殊的模型架構，常用於相似度的比較，分為模型參數分享與不分享類型，各有各的好處。\n",
    "    - 句子相似度。\n",
    "    - 人臉辨識。\n",
    "    - 以圖搜圖。\n",
    "- [參考](https://zhuanlan.zhihu.com/p/35040994)"
   ]
  },
  {
   "cell_type": "code",
   "execution_count": 3,
   "metadata": {
    "ExecuteTime": {
     "end_time": "2021-10-14T10:17:55.307938Z",
     "start_time": "2021-10-14T10:17:55.294268Z"
    }
   },
   "outputs": [],
   "source": [
    "import tensorflow as tf\n",
    "from tensorflow import keras\n",
    "from tensorflow.keras import layers"
   ]
  },
  {
   "cell_type": "code",
   "execution_count": 6,
   "metadata": {
    "ExecuteTime": {
     "end_time": "2021-10-14T10:28:39.797668Z",
     "start_time": "2021-10-14T10:28:38.425938Z"
    }
   },
   "outputs": [
    {
     "name": "stdout",
     "output_type": "stream",
     "text": [
      "Model: \"model\"\n",
      "__________________________________________________________________________________________________\n",
      "Layer (type)                    Output Shape         Param #     Connected to                     \n",
      "==================================================================================================\n",
      "input_3 (InputLayer)            [(None, 128)]        0                                            \n",
      "__________________________________________________________________________________________________\n",
      "input_4 (InputLayer)            [(None, 128)]        0                                            \n",
      "__________________________________________________________________________________________________\n",
      "embedding_2 (Embedding)         (None, 128, 128)     3840000     input_3[0][0]                    \n",
      "__________________________________________________________________________________________________\n",
      "embedding_3 (Embedding)         (None, 128, 128)     3840000     input_4[0][0]                    \n",
      "__________________________________________________________________________________________________\n",
      "bidirectional_1 (Bidirectional) (None, 512)          788480      embedding_2[0][0]                \n",
      "                                                                 embedding_3[0][0]                \n",
      "__________________________________________________________________________________________________\n",
      "L1_distance (Lambda)            (None, 512)          0           bidirectional_1[0][0]            \n",
      "                                                                 bidirectional_1[1][0]            \n",
      "__________________________________________________________________________________________________\n",
      "classifier_layer (Dense)        (None, 1)            513         L1_distance[0][0]                \n",
      "==================================================================================================\n",
      "Total params: 8,468,993\n",
      "Trainable params: 8,468,993\n",
      "Non-trainable params: 0\n",
      "__________________________________________________________________________________________________\n",
      "None\n"
     ]
    }
   ],
   "source": [
    "# 距離函數，可根據實際狀況任意不同function\n",
    "l1_norm = lambda x: 1 - keras.backend.abs(x[0]-x[1])  # element-wise abs\n",
    "\n",
    "def get_siamese_model(**kwargs):\n",
    "    input1 = keras.Input(shape=kwargs['shape'])\n",
    "    input2 = keras.Input(shape=kwargs['shape'])\n",
    "    embedding1 = layers.Embedding(input_dim=kwargs['input_dim'], output_dim=kwargs['output_dim'])(input1)\n",
    "    embedding2 = layers.Embedding(input_dim=kwargs['input_dim'], output_dim=kwargs['output_dim'])(input2)\n",
    "    \n",
    "    lstm = layers.Bidirectional(layers.LSTM(units=256, return_sequences=False))\n",
    "    \n",
    "    embedding1 = lstm(embedding1)\n",
    "    embedding2 = lstm(embedding2)\n",
    "    \n",
    "    merged = layers.Lambda(function=l1_norm, output_shape=lambda x: x[0], name='L1_distance')([embedding1, embedding2])\n",
    "    \n",
    "    output = layers.Dense(1, activation='sigmoid', name='classifier_layer')(merged)\n",
    "    \n",
    "    model = keras.Model([input1, input2], output)\n",
    "    model.compile(optimizer='adam', loss='binary_crossentropy', metrics=['acc'])\n",
    "    print(model.summary())\n",
    "    \n",
    "    return model\n",
    "    \n",
    "config = {\n",
    "    'shape': (128,),\n",
    "    'input_dim':  30000,\n",
    "    'output_dim': 128\n",
    "}\n",
    "\n",
    "siamese_model = get_siamese_model(**config)"
   ]
  },
  {
   "cell_type": "code",
   "execution_count": null,
   "metadata": {},
   "outputs": [],
   "source": []
  }
 ],
 "metadata": {
  "kernelspec": {
   "display_name": "Python 3.7.3 64-bit",
   "language": "python",
   "name": "python37364bit6893c7013b164b1189a865dcaea9fb2f"
  },
  "language_info": {
   "codemirror_mode": {
    "name": "ipython",
    "version": 3
   },
   "file_extension": ".py",
   "mimetype": "text/x-python",
   "name": "python",
   "nbconvert_exporter": "python",
   "pygments_lexer": "ipython3",
   "version": "3.7.3"
  }
 },
 "nbformat": 4,
 "nbformat_minor": 4
}
