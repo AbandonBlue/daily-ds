{
 "cells": [
  {
   "cell_type": "markdown",
   "metadata": {},
   "source": [
    "## 雙向RNN模型\n",
    "- 理念\n",
    "    - 一般RNN類模型只會考慮\"上文\"，也就是隨著順序看過的資料(如果是文字資料就是之前看過的word)，那麼雙向就是也考慮反過來，但從最後面往前去看。但要注意的是，由前往後與由後往前是獨立的，故還是有其侷限之處。\n",
    "- 使用\n",
    "    - 透過tf.keras.layers.Bidirectional()輕易使用!\n",
    "- 參考\n",
    "    - [kknews](https://kknews.cc/zh-tw/tech/g9a4q9e.html)"
   ]
  },
  {
   "cell_type": "code",
   "execution_count": 2,
   "metadata": {
    "id": "IN2UtLYF5r7f"
   },
   "outputs": [],
   "source": [
    "import tensorflow as tf\n",
    "from tensorflow import keras\n",
    "from tensorflow.keras import layers\n",
    "import numpy as np"
   ]
  },
  {
   "cell_type": "code",
   "execution_count": 3,
   "metadata": {
    "id": "QPdp20Gw9D4T"
   },
   "outputs": [],
   "source": [
    "max_tokens = 20000\n",
    "maxlen = 200"
   ]
  },
  {
   "cell_type": "code",
   "execution_count": 5,
   "metadata": {
    "colab": {
     "base_uri": "https://localhost:8080/"
    },
    "id": "OSWPAXhC_e_4",
    "outputId": "1bbe5361-d85c-411e-ef90-c6e2e6cd9ca3"
   },
   "outputs": [
    {
     "name": "stdout",
     "output_type": "stream",
     "text": [
      "Downloading data from https://storage.googleapis.com/tensorflow/tf-keras-datasets/imdb.npz\n",
      "17465344/17464789 [==============================] - 1s 0us/step\n"
     ]
    },
    {
     "name": "stderr",
     "output_type": "stream",
     "text": [
      "<string>:6: VisibleDeprecationWarning: Creating an ndarray from ragged nested sequences (which is a list-or-tuple of lists-or-tuples-or ndarrays with different lengths or shapes) is deprecated. If you meant to do this, you must specify 'dtype=object' when creating the ndarray\n",
      "/usr/local/lib/python3.7/dist-packages/tensorflow/python/keras/datasets/imdb.py:159: VisibleDeprecationWarning: Creating an ndarray from ragged nested sequences (which is a list-or-tuple of lists-or-tuples-or ndarrays with different lengths or shapes) is deprecated. If you meant to do this, you must specify 'dtype=object' when creating the ndarray\n",
      "  x_train, y_train = np.array(xs[:idx]), np.array(labels[:idx])\n",
      "/usr/local/lib/python3.7/dist-packages/tensorflow/python/keras/datasets/imdb.py:160: VisibleDeprecationWarning: Creating an ndarray from ragged nested sequences (which is a list-or-tuple of lists-or-tuples-or ndarrays with different lengths or shapes) is deprecated. If you meant to do this, you must specify 'dtype=object' when creating the ndarray\n",
      "  x_test, y_test = np.array(xs[idx:]), np.array(labels[idx:])\n"
     ]
    },
    {
     "data": {
      "text/plain": [
       "((25000,), (25000,), (25000,), (25000,))"
      ]
     },
     "execution_count": 5,
     "metadata": {
      "tags": []
     },
     "output_type": "execute_result"
    }
   ],
   "source": [
    "# datasets\n",
    "\n",
    "(x_train, y_train), (x_test, y_test) = keras.datasets.imdb.load_data(num_words=max_tokens)\n",
    "\n",
    "x_train.shape, y_train.shape, x_test.shape, y_test.shape"
   ]
  },
  {
   "cell_type": "code",
   "execution_count": 10,
   "metadata": {
    "colab": {
     "base_uri": "https://localhost:8080/"
    },
    "id": "_KcakE7f_2Zq",
    "outputId": "24ab697b-3af0-4bf9-da12-877a1ecebacd"
   },
   "outputs": [
    {
     "data": {
      "text/plain": [
       "(numpy.ndarray, 218)"
      ]
     },
     "execution_count": 10,
     "metadata": {
      "tags": []
     },
     "output_type": "execute_result"
    }
   ],
   "source": [
    "type(x_train), len(x_train[0])"
   ]
  },
  {
   "cell_type": "code",
   "execution_count": 11,
   "metadata": {
    "id": "tKQzejlaAQFs"
   },
   "outputs": [],
   "source": [
    "# 長度不一\n",
    "\n",
    "x_train = keras.preprocessing.sequence.pad_sequences(sequences=x_train, maxlen=maxlen, dtype='int64', padding='post')\n",
    "x_test = keras.preprocessing.sequence.pad_sequences(sequences=x_test, maxlen=maxlen, dtype='int64', padding='post')"
   ]
  },
  {
   "cell_type": "code",
   "execution_count": 12,
   "metadata": {
    "colab": {
     "base_uri": "https://localhost:8080/"
    },
    "id": "sna5KJTXA1kX",
    "outputId": "0f833c62-29f3-4273-f118-b0f307e61551"
   },
   "outputs": [
    {
     "data": {
      "text/plain": [
       "((25000, 200), (25000, 200))"
      ]
     },
     "execution_count": 12,
     "metadata": {
      "tags": []
     },
     "output_type": "execute_result"
    }
   ],
   "source": [
    "x_train.shape, x_test.shape"
   ]
  },
  {
   "cell_type": "code",
   "execution_count": 17,
   "metadata": {
    "colab": {
     "base_uri": "https://localhost:8080/"
    },
    "id": "FCxuuIKl9PLj",
    "outputId": "7443354a-29e0-4979-b461-cb705d93340a"
   },
   "outputs": [
    {
     "name": "stdout",
     "output_type": "stream",
     "text": [
      "Model: \"model_1\"\n",
      "_________________________________________________________________\n",
      "Layer (type)                 Output Shape              Param #   \n",
      "=================================================================\n",
      "input_2 (InputLayer)         [(None, 200)]             0         \n",
      "_________________________________________________________________\n",
      "embedding_1 (Embedding)      (None, 200, 128)          2560000   \n",
      "_________________________________________________________________\n",
      "bidirectional_2 (Bidirection (None, 200, 64)           31104     \n",
      "_________________________________________________________________\n",
      "bidirectional_3 (Bidirection (None, 32)                7872      \n",
      "_________________________________________________________________\n",
      "dense_1 (Dense)              (None, 1)                 33        \n",
      "=================================================================\n",
      "Total params: 2,599,009\n",
      "Trainable params: 2,599,009\n",
      "Non-trainable params: 0\n",
      "_________________________________________________________________\n"
     ]
    }
   ],
   "source": [
    "# model\n",
    "\n",
    "def create_model():\n",
    "    inputs = keras.Input(shape=(maxlen, ), dtype='int64')           # 如果將maxlen改成None, 會變成自動識別\n",
    "    x = layers.Embedding(input_dim=max_tokens, output_dim=128, input_length=maxlen)(inputs)\n",
    "    x = layers.Bidirectional(layer=layers.GRU(units=32, return_sequences=True))(x)\n",
    "    x = layers.Bidirectional(layer=layers.GRU(units=16, return_sequences=False))(x)\n",
    "    output = layers.Dense(units=1, activation='sigmoid')(x)\n",
    "\n",
    "    model = keras.Model(inputs, output)\n",
    "    return model\n",
    "\n",
    "bi_model = create_model()\n",
    "bi_model.summary()"
   ]
  },
  {
   "cell_type": "code",
   "execution_count": 18,
   "metadata": {
    "colab": {
     "base_uri": "https://localhost:8080/"
    },
    "id": "xzfjvPXF_P11",
    "outputId": "6e62c994-d5c8-4117-aa87-faab3127d47c"
   },
   "outputs": [
    {
     "name": "stdout",
     "output_type": "stream",
     "text": [
      "Epoch 1/5\n",
      "157/157 [==============================] - 42s 226ms/step - loss: 0.6203 - acc: 0.6165 - auc: 0.6746 - val_loss: 0.3522 - val_acc: 0.8604 - val_auc: 0.9281\n",
      "Epoch 2/5\n",
      "157/157 [==============================] - 34s 217ms/step - loss: 0.2396 - acc: 0.9141 - auc: 0.9650 - val_loss: 0.3237 - val_acc: 0.8828 - val_auc: 0.9398\n",
      "Epoch 3/5\n",
      "157/157 [==============================] - 34s 216ms/step - loss: 0.1190 - acc: 0.9616 - auc: 0.9901 - val_loss: 0.3631 - val_acc: 0.8708 - val_auc: 0.9364\n",
      "Epoch 4/5\n",
      "157/157 [==============================] - 34s 217ms/step - loss: 0.0711 - acc: 0.9794 - auc: 0.9960 - val_loss: 0.4567 - val_acc: 0.8612 - val_auc: 0.9262\n",
      "Epoch 5/5\n",
      "157/157 [==============================] - 34s 217ms/step - loss: 0.0449 - acc: 0.9884 - auc: 0.9978 - val_loss: 0.4953 - val_acc: 0.8574 - val_auc: 0.9210\n"
     ]
    },
    {
     "data": {
      "text/plain": [
       "<tensorflow.python.keras.callbacks.History at 0x7f5449173710>"
      ]
     },
     "execution_count": 18,
     "metadata": {
      "tags": []
     },
     "output_type": "execute_result"
    }
   ],
   "source": [
    "# model setup\n",
    "\n",
    "\n",
    "\n",
    "bi_model.compile(optimizer='adam', loss='binary_crossentropy', metrics=['acc', 'AUC'])\n",
    "bi_model.fit(\n",
    "    x=x_train, y=y_train,\n",
    "    batch_size=128,\n",
    "    epochs=5,\n",
    "    validation_split=0.2\n",
    ")"
   ]
  },
  {
   "cell_type": "code",
   "execution_count": 21,
   "metadata": {
    "colab": {
     "base_uri": "https://localhost:8080/"
    },
    "id": "g7zl-n5JBMD_",
    "outputId": "5b44f741-01d9-4c64-d9e3-deaeb966ffe1"
   },
   "outputs": [
    {
     "name": "stdout",
     "output_type": "stream",
     "text": [
      "782/782 [==============================] - 56s 71ms/step - loss: 0.5488 - acc: 0.8457 - auc: 0.9123\n"
     ]
    },
    {
     "data": {
      "text/plain": [
       "[0.5487858653068542, 0.8456799983978271, 0.912342369556427]"
      ]
     },
     "execution_count": 21,
     "metadata": {
      "tags": []
     },
     "output_type": "execute_result"
    }
   ],
   "source": [
    "bi_model.evaluate(x_test, y_test)"
   ]
  },
  {
   "cell_type": "code",
   "execution_count": null,
   "metadata": {
    "id": "N-Y4qvIpBadu"
   },
   "outputs": [],
   "source": []
  }
 ],
 "metadata": {
  "accelerator": "GPU",
  "colab": {
   "name": "Bidirectional 序列模型 on IMDN",
   "provenance": []
  },
  "kernelspec": {
   "display_name": "Python 3",
   "language": "python",
   "name": "python3"
  },
  "language_info": {
   "codemirror_mode": {
    "name": "ipython",
    "version": 3
   },
   "file_extension": ".py",
   "mimetype": "text/x-python",
   "name": "python",
   "nbconvert_exporter": "python",
   "pygments_lexer": "ipython3",
   "version": "3.7.3"
  }
 },
 "nbformat": 4,
 "nbformat_minor": 1
}
