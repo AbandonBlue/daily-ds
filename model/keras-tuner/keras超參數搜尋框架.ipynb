{
 "cells": [
  {
   "cell_type": "markdown",
   "metadata": {},
   "source": [
    "## keras-tuner\n",
    "- 目的: 用最簡潔的code去找到最佳模型\n",
    "- [官方](https://keras-team.github.io/keras-tuner/)\n",
    "- 兩種方式\n",
    "    - build_model\n",
    "    - 繼承HyperModel"
   ]
  },
  {
   "cell_type": "code",
   "execution_count": 1,
   "metadata": {
    "ExecuteTime": {
     "end_time": "2021-05-26T08:06:29.503051Z",
     "start_time": "2021-05-26T08:06:03.511051Z"
    }
   },
   "outputs": [],
   "source": [
    "from tensorflow import keras\n",
    "from tensorflow.keras import layers\n",
    "from kerastuner.tuners import RandomSearch    # 透過RandomSearch來嘗試"
   ]
  },
  {
   "cell_type": "code",
   "execution_count": 8,
   "metadata": {
    "ExecuteTime": {
     "end_time": "2021-05-26T08:20:51.783816Z",
     "start_time": "2021-05-26T08:20:51.757813Z"
    }
   },
   "outputs": [],
   "source": [
    "# 一個範例: \n",
    "# hp: from kerastuner import HyperParameters\n",
    "\n",
    "def build_model(hp):\n",
    "    \"\"\"\n",
    "        建立一個簡單的分類模型，將超參數設定傳入來將想測試的超參數設定，\n",
    "        這個函式會被包含在tuner裡面，hp是固定參數\n",
    "        如: units=hp.Int('units', min_value=32, max_value=512, step=32)\n",
    "            learning_rate=hp.Choice('learning_rate', values=[1e-2, 1e-3, 1e-4])\n",
    "    \"\"\"\n",
    "    model = keras.Sequential()\n",
    "    model.add(layers.Dense(units=hp.Int('units', min_value=32, max_value=512, step=32), activation='relu'))\n",
    "    model.add(layers.Dense(units=2, activation='softmax'))\n",
    "    model.compile(\n",
    "        optimizer=keras.optimizers.Adam(\n",
    "            learning_rate=hp.Choice('learning_rate', values=[1e-2, 1e-3, 1e-4]),\n",
    "        ),\n",
    "        loss='sparse_categorical_crossentropy',\n",
    "        metrics=['acc']\n",
    "    )\n",
    "    return model"
   ]
  },
  {
   "cell_type": "code",
   "execution_count": 9,
   "metadata": {
    "ExecuteTime": {
     "end_time": "2021-05-26T08:20:52.476814Z",
     "start_time": "2021-05-26T08:20:52.153816Z"
    }
   },
   "outputs": [],
   "source": [
    "# make a instance a kerastuner\n",
    "# 下面一些必要設定，根據需求去調整\n",
    "\n",
    "tuner = RandomSearch(\n",
    "    hypermodel=build_model,\n",
    "    objective='val_acc',\n",
    "    max_trials=5,\n",
    "    executions_per_trial=3,\n",
    "    directory='my_dir',\n",
    "    project_name='keras-tuner-first-try'\n",
    ")"
   ]
  },
  {
   "cell_type": "code",
   "execution_count": 10,
   "metadata": {
    "ExecuteTime": {
     "end_time": "2021-05-26T08:21:24.034262Z",
     "start_time": "2021-05-26T08:21:24.017211Z"
    }
   },
   "outputs": [
    {
     "name": "stdout",
     "output_type": "stream",
     "text": [
      "Search space summary\n",
      "Default search space size: 2\n",
      "units (Int)\n",
      "{'default': None, 'conditions': [], 'min_value': 32, 'max_value': 512, 'step': 32, 'sampling': None}\n",
      "learning_rate (Choice)\n",
      "{'default': 0.01, 'conditions': [], 'values': [0.01, 0.001, 0.0001], 'ordered': True}\n"
     ]
    }
   ],
   "source": [
    "# 搜尋空間\n",
    "\n",
    "tuner.search_space_summary()"
   ]
  },
  {
   "cell_type": "code",
   "execution_count": null,
   "metadata": {},
   "outputs": [],
   "source": [
    "# 這就跟keras model.fit一樣, 開始搜尋\n",
    "\n",
    "tuner.search(x_train, y_train,\n",
    "             epochs=5,\n",
    "             batch_size=128\n",
    "             validation_data=(x_test, y_test))"
   ]
  }
 ],
 "metadata": {
  "kernelspec": {
   "display_name": "Python 3.7.3 64-bit",
   "language": "python",
   "name": "python37364bit6893c7013b164b1189a865dcaea9fb2f"
  },
  "language_info": {
   "codemirror_mode": {
    "name": "ipython",
    "version": 3
   },
   "file_extension": ".py",
   "mimetype": "text/x-python",
   "name": "python",
   "nbconvert_exporter": "python",
   "pygments_lexer": "ipython3",
   "version": "3.7.3"
  }
 },
 "nbformat": 4,
 "nbformat_minor": 4
}
