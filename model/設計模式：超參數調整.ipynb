{
  "nbformat": 4,
  "nbformat_minor": 0,
  "metadata": {
    "colab": {
      "name": "設計模式：超參數調整.ipynb",
      "provenance": []
    },
    "kernelspec": {
      "name": "python3",
      "display_name": "Python 3"
    },
    "language_info": {
      "name": "python"
    }
  },
  "cells": [
    {
      "cell_type": "markdown",
      "metadata": {
        "id": "YjPJl9FE4SyB"
      },
      "source": [
        "## 超參數調整\n",
        "- GridSearch\n",
        "- RandomizedSearch\n",
        "- BasianSearch\n",
        "    - better, 調整參數過程也是一個最佳化過程!\n",
        "    - [kerastuner](https://keras.io/keras_tuner/)"
      ]
    },
    {
      "cell_type": "code",
      "metadata": {
        "colab": {
          "base_uri": "https://localhost:8080/"
        },
        "id": "5_pZ5THF4iDH",
        "outputId": "f6bbc3fe-c0a3-4546-979a-5f89f150912f"
      },
      "source": [
        "!pip install keras-tuner"
      ],
      "execution_count": 4,
      "outputs": [
        {
          "output_type": "stream",
          "text": [
            "Collecting keras-tuner\n",
            "  Downloading keras_tuner-1.0.3-py3-none-any.whl (96 kB)\n",
            "\u001b[?25l\r\u001b[K     |███▍                            | 10 kB 26.2 MB/s eta 0:00:01\r\u001b[K     |██████▉                         | 20 kB 11.0 MB/s eta 0:00:01\r\u001b[K     |██████████▏                     | 30 kB 6.9 MB/s eta 0:00:01\r\u001b[K     |█████████████▋                  | 40 kB 3.5 MB/s eta 0:00:01\r\u001b[K     |█████████████████               | 51 kB 4.1 MB/s eta 0:00:01\r\u001b[K     |████████████████████▍           | 61 kB 4.3 MB/s eta 0:00:01\r\u001b[K     |███████████████████████▊        | 71 kB 4.3 MB/s eta 0:00:01\r\u001b[K     |███████████████████████████▏    | 81 kB 4.3 MB/s eta 0:00:01\r\u001b[K     |██████████████████████████████▋ | 92 kB 4.8 MB/s eta 0:00:01\r\u001b[K     |████████████████████████████████| 96 kB 2.5 MB/s \n",
            "\u001b[?25hCollecting kt-legacy\n",
            "  Downloading kt_legacy-1.0.4-py3-none-any.whl (9.6 kB)\n",
            "Requirement already satisfied: numpy in /usr/local/lib/python3.7/dist-packages (from keras-tuner) (1.19.5)\n",
            "Requirement already satisfied: tensorboard in /usr/local/lib/python3.7/dist-packages (from keras-tuner) (2.6.0)\n",
            "Requirement already satisfied: requests in /usr/local/lib/python3.7/dist-packages (from keras-tuner) (2.23.0)\n",
            "Requirement already satisfied: ipython in /usr/local/lib/python3.7/dist-packages (from keras-tuner) (5.5.0)\n",
            "Requirement already satisfied: scipy in /usr/local/lib/python3.7/dist-packages (from keras-tuner) (1.4.1)\n",
            "Requirement already satisfied: packaging in /usr/local/lib/python3.7/dist-packages (from keras-tuner) (21.0)\n",
            "Requirement already satisfied: prompt-toolkit<2.0.0,>=1.0.4 in /usr/local/lib/python3.7/dist-packages (from ipython->keras-tuner) (1.0.18)\n",
            "Requirement already satisfied: pexpect in /usr/local/lib/python3.7/dist-packages (from ipython->keras-tuner) (4.8.0)\n",
            "Requirement already satisfied: pickleshare in /usr/local/lib/python3.7/dist-packages (from ipython->keras-tuner) (0.7.5)\n",
            "Requirement already satisfied: traitlets>=4.2 in /usr/local/lib/python3.7/dist-packages (from ipython->keras-tuner) (5.0.5)\n",
            "Requirement already satisfied: simplegeneric>0.8 in /usr/local/lib/python3.7/dist-packages (from ipython->keras-tuner) (0.8.1)\n",
            "Requirement already satisfied: pygments in /usr/local/lib/python3.7/dist-packages (from ipython->keras-tuner) (2.6.1)\n",
            "Requirement already satisfied: setuptools>=18.5 in /usr/local/lib/python3.7/dist-packages (from ipython->keras-tuner) (57.4.0)\n",
            "Requirement already satisfied: decorator in /usr/local/lib/python3.7/dist-packages (from ipython->keras-tuner) (4.4.2)\n",
            "Requirement already satisfied: wcwidth in /usr/local/lib/python3.7/dist-packages (from prompt-toolkit<2.0.0,>=1.0.4->ipython->keras-tuner) (0.2.5)\n",
            "Requirement already satisfied: six>=1.9.0 in /usr/local/lib/python3.7/dist-packages (from prompt-toolkit<2.0.0,>=1.0.4->ipython->keras-tuner) (1.15.0)\n",
            "Requirement already satisfied: ipython-genutils in /usr/local/lib/python3.7/dist-packages (from traitlets>=4.2->ipython->keras-tuner) (0.2.0)\n",
            "Requirement already satisfied: pyparsing>=2.0.2 in /usr/local/lib/python3.7/dist-packages (from packaging->keras-tuner) (2.4.7)\n",
            "Requirement already satisfied: ptyprocess>=0.5 in /usr/local/lib/python3.7/dist-packages (from pexpect->ipython->keras-tuner) (0.7.0)\n",
            "Requirement already satisfied: certifi>=2017.4.17 in /usr/local/lib/python3.7/dist-packages (from requests->keras-tuner) (2021.5.30)\n",
            "Requirement already satisfied: urllib3!=1.25.0,!=1.25.1,<1.26,>=1.21.1 in /usr/local/lib/python3.7/dist-packages (from requests->keras-tuner) (1.24.3)\n",
            "Requirement already satisfied: idna<3,>=2.5 in /usr/local/lib/python3.7/dist-packages (from requests->keras-tuner) (2.10)\n",
            "Requirement already satisfied: chardet<4,>=3.0.2 in /usr/local/lib/python3.7/dist-packages (from requests->keras-tuner) (3.0.4)\n",
            "Requirement already satisfied: google-auth-oauthlib<0.5,>=0.4.1 in /usr/local/lib/python3.7/dist-packages (from tensorboard->keras-tuner) (0.4.5)\n",
            "Requirement already satisfied: google-auth<2,>=1.6.3 in /usr/local/lib/python3.7/dist-packages (from tensorboard->keras-tuner) (1.34.0)\n",
            "Requirement already satisfied: absl-py>=0.4 in /usr/local/lib/python3.7/dist-packages (from tensorboard->keras-tuner) (0.12.0)\n",
            "Requirement already satisfied: grpcio>=1.24.3 in /usr/local/lib/python3.7/dist-packages (from tensorboard->keras-tuner) (1.39.0)\n",
            "Requirement already satisfied: wheel>=0.26 in /usr/local/lib/python3.7/dist-packages (from tensorboard->keras-tuner) (0.37.0)\n",
            "Requirement already satisfied: tensorboard-data-server<0.7.0,>=0.6.0 in /usr/local/lib/python3.7/dist-packages (from tensorboard->keras-tuner) (0.6.1)\n",
            "Requirement already satisfied: markdown>=2.6.8 in /usr/local/lib/python3.7/dist-packages (from tensorboard->keras-tuner) (3.3.4)\n",
            "Requirement already satisfied: tensorboard-plugin-wit>=1.6.0 in /usr/local/lib/python3.7/dist-packages (from tensorboard->keras-tuner) (1.8.0)\n",
            "Requirement already satisfied: protobuf>=3.6.0 in /usr/local/lib/python3.7/dist-packages (from tensorboard->keras-tuner) (3.17.3)\n",
            "Requirement already satisfied: werkzeug>=0.11.15 in /usr/local/lib/python3.7/dist-packages (from tensorboard->keras-tuner) (1.0.1)\n",
            "Requirement already satisfied: pyasn1-modules>=0.2.1 in /usr/local/lib/python3.7/dist-packages (from google-auth<2,>=1.6.3->tensorboard->keras-tuner) (0.2.8)\n",
            "Requirement already satisfied: rsa<5,>=3.1.4 in /usr/local/lib/python3.7/dist-packages (from google-auth<2,>=1.6.3->tensorboard->keras-tuner) (4.7.2)\n",
            "Requirement already satisfied: cachetools<5.0,>=2.0.0 in /usr/local/lib/python3.7/dist-packages (from google-auth<2,>=1.6.3->tensorboard->keras-tuner) (4.2.2)\n",
            "Requirement already satisfied: requests-oauthlib>=0.7.0 in /usr/local/lib/python3.7/dist-packages (from google-auth-oauthlib<0.5,>=0.4.1->tensorboard->keras-tuner) (1.3.0)\n",
            "Requirement already satisfied: importlib-metadata in /usr/local/lib/python3.7/dist-packages (from markdown>=2.6.8->tensorboard->keras-tuner) (4.6.4)\n",
            "Requirement already satisfied: pyasn1<0.5.0,>=0.4.6 in /usr/local/lib/python3.7/dist-packages (from pyasn1-modules>=0.2.1->google-auth<2,>=1.6.3->tensorboard->keras-tuner) (0.4.8)\n",
            "Requirement already satisfied: oauthlib>=3.0.0 in /usr/local/lib/python3.7/dist-packages (from requests-oauthlib>=0.7.0->google-auth-oauthlib<0.5,>=0.4.1->tensorboard->keras-tuner) (3.1.1)\n",
            "Requirement already satisfied: typing-extensions>=3.6.4 in /usr/local/lib/python3.7/dist-packages (from importlib-metadata->markdown>=2.6.8->tensorboard->keras-tuner) (3.7.4.3)\n",
            "Requirement already satisfied: zipp>=0.5 in /usr/local/lib/python3.7/dist-packages (from importlib-metadata->markdown>=2.6.8->tensorboard->keras-tuner) (3.5.0)\n",
            "Installing collected packages: kt-legacy, keras-tuner\n",
            "Successfully installed keras-tuner-1.0.3 kt-legacy-1.0.4\n"
          ],
          "name": "stdout"
        }
      ]
    },
    {
      "cell_type": "code",
      "metadata": {
        "colab": {
          "base_uri": "https://localhost:8080/"
        },
        "id": "lKXnWiYdkE8h",
        "outputId": "b7a33a20-c71a-464d-bc47-97d98160e7fb"
      },
      "source": [
        "import tensorflow as tf\n",
        "from tensorflow import keras \n",
        "from tensorflow.keras import layers\n",
        "import kerastuner as kt\n",
        "import sklearn"
      ],
      "execution_count": 5,
      "outputs": [
        {
          "output_type": "stream",
          "text": [
            "/usr/local/lib/python3.7/dist-packages/ipykernel_launcher.py:4: DeprecationWarning: `import kerastuner` is deprecated, please use `import keras_tuner`.\n",
            "  after removing the cwd from sys.path.\n"
          ],
          "name": "stderr"
        }
      ]
    },
    {
      "cell_type": "code",
      "metadata": {
        "id": "SVqVZpXm5UUp"
      },
      "source": [
        "from sklearn.datasets import load_boston\n",
        "from sklearn.ensemble import RandomForestRegressor\n",
        "from sklearn.model_selection import GridSearchCV"
      ],
      "execution_count": 10,
      "outputs": []
    },
    {
      "cell_type": "code",
      "metadata": {
        "colab": {
          "base_uri": "https://localhost:8080/"
        },
        "id": "T4RXmsue4Q72",
        "outputId": "c0a7efdd-e8bb-4fa9-9b77-4b6e3982837d"
      },
      "source": [
        "# sklearn 來展示GridSearch(keras-tuner也有) \n",
        "\n",
        "X, y = load_boston(return_X_y=True)\n",
        "housing_rf = RandomForestRegressor()\n",
        "\n",
        "X.shape, y.shape"
      ],
      "execution_count": 12,
      "outputs": [
        {
          "output_type": "execute_result",
          "data": {
            "text/plain": [
              "((506, 13), (506,))"
            ]
          },
          "metadata": {},
          "execution_count": 12
        }
      ]
    },
    {
      "cell_type": "code",
      "metadata": {
        "id": "30zLr4Dz8pOa"
      },
      "source": [
        "from sklearn.model_selection import train_test_split\n",
        "\n",
        "x_train, x_test, y_train, y_test = train_test_split(X, y)"
      ],
      "execution_count": 27,
      "outputs": []
    },
    {
      "cell_type": "code",
      "metadata": {
        "colab": {
          "base_uri": "https://localhost:8080/"
        },
        "id": "3isbjT0W82P7",
        "outputId": "cb47ac6e-927d-4540-8d4e-e65138425bc2"
      },
      "source": [
        "x_train.shape, y_train.shape"
      ],
      "execution_count": 28,
      "outputs": [
        {
          "output_type": "execute_result",
          "data": {
            "text/plain": [
              "((379, 13), (379,))"
            ]
          },
          "metadata": {},
          "execution_count": 28
        }
      ]
    },
    {
      "cell_type": "code",
      "metadata": {
        "colab": {
          "base_uri": "https://localhost:8080/"
        },
        "id": "H4F56eBp6NDA",
        "outputId": "a2383f2b-3500-491e-94e5-c749b91ebd87"
      },
      "source": [
        "X[0]"
      ],
      "execution_count": 13,
      "outputs": [
        {
          "output_type": "execute_result",
          "data": {
            "text/plain": [
              "array([6.320e-03, 1.800e+01, 2.310e+00, 0.000e+00, 5.380e-01, 6.575e+00,\n",
              "       6.520e+01, 4.090e+00, 1.000e+00, 2.960e+02, 1.530e+01, 3.969e+02,\n",
              "       4.980e+00])"
            ]
          },
          "metadata": {},
          "execution_count": 13
        }
      ]
    },
    {
      "cell_type": "code",
      "metadata": {
        "colab": {
          "base_uri": "https://localhost:8080/"
        },
        "id": "ZMe0Ptkp6Ote",
        "outputId": "280a6fa8-a402-4fc7-e2a6-fcae961de9bf"
      },
      "source": [
        "y[0]"
      ],
      "execution_count": 14,
      "outputs": [
        {
          "output_type": "execute_result",
          "data": {
            "text/plain": [
              "24.0"
            ]
          },
          "metadata": {},
          "execution_count": 14
        }
      ]
    },
    {
      "cell_type": "code",
      "metadata": {
        "id": "B7TOHmRe5-Xs"
      },
      "source": [
        "param_grid = {\n",
        "    'max_depth': [5, 10, 100],\n",
        "    'n_estimators': [100, 150, 200]\n",
        "}"
      ],
      "execution_count": 11,
      "outputs": []
    },
    {
      "cell_type": "code",
      "metadata": {
        "colab": {
          "base_uri": "https://localhost:8080/"
        },
        "id": "c3siN_R_5Qoi",
        "outputId": "9ae74607-b66b-4945-e1ef-c42612658e78"
      },
      "source": [
        "grid_search_rf = GridSearchCV(\n",
        "    estimator=housing_rf,\n",
        "    param_grid=param_grid,\n",
        ")\n",
        "grid_search_rf.fit(X, y)"
      ],
      "execution_count": 15,
      "outputs": [
        {
          "output_type": "execute_result",
          "data": {
            "text/plain": [
              "GridSearchCV(cv=None, error_score=nan,\n",
              "             estimator=RandomForestRegressor(bootstrap=True, ccp_alpha=0.0,\n",
              "                                             criterion='mse', max_depth=None,\n",
              "                                             max_features='auto',\n",
              "                                             max_leaf_nodes=None,\n",
              "                                             max_samples=None,\n",
              "                                             min_impurity_decrease=0.0,\n",
              "                                             min_impurity_split=None,\n",
              "                                             min_samples_leaf=1,\n",
              "                                             min_samples_split=2,\n",
              "                                             min_weight_fraction_leaf=0.0,\n",
              "                                             n_estimators=100, n_jobs=None,\n",
              "                                             oob_score=False, random_state=None,\n",
              "                                             verbose=0, warm_start=False),\n",
              "             iid='deprecated', n_jobs=None,\n",
              "             param_grid={'max_depth': [5, 10, 100],\n",
              "                         'n_estimators': [100, 150, 200]},\n",
              "             pre_dispatch='2*n_jobs', refit=True, return_train_score=False,\n",
              "             scoring=None, verbose=0)"
            ]
          },
          "metadata": {},
          "execution_count": 15
        }
      ]
    },
    {
      "cell_type": "code",
      "metadata": {
        "colab": {
          "base_uri": "https://localhost:8080/"
        },
        "id": "OGC_jOKs6QaX",
        "outputId": "6a7fa6dd-1cee-4451-ee18-515a35ef38e9"
      },
      "source": [
        "# 透過attritube 取得 最佳超參數\n",
        "\n",
        "grid_search_rf.best_params_"
      ],
      "execution_count": 16,
      "outputs": [
        {
          "output_type": "execute_result",
          "data": {
            "text/plain": [
              "{'max_depth': 10, 'n_estimators': 200}"
            ]
          },
          "metadata": {},
          "execution_count": 16
        }
      ]
    },
    {
      "cell_type": "code",
      "metadata": {
        "id": "aqaW5aMd7Ixb"
      },
      "source": [
        "from kerastuner import HyperParameters as hp"
      ],
      "execution_count": 17,
      "outputs": []
    },
    {
      "cell_type": "code",
      "metadata": {
        "id": "eZ_tPK3G6dkg"
      },
      "source": [
        "# 試試keras-tuner\n",
        "\n",
        "def build_model(hp):\n",
        "    model = keras.Sequential([\n",
        "        layers.Dense(\n",
        "            hp.Int(name='first_hidden', min_value=16, max_value=64, step=16),\n",
        "            activation='relu'\n",
        "        ),\n",
        "        layers.Dense(\n",
        "            hp.Int(name='second_hidden', min_value=16, max_value=64, step=16),\n",
        "            activation='relu'\n",
        "        ),\n",
        "        layers.Dense(\n",
        "            units=1\n",
        "        )\n",
        "    ])\n",
        "    \n",
        "    model.compile(\n",
        "        optimizer=keras.optimizers.Adam(\n",
        "            learning_rate=hp.Float('lr', min_value=0.005, max_value=0.01, sampling='log')\n",
        "        ),\n",
        "        loss=keras.losses.MeanSquaredError(),\n",
        "        metrics=['mse']\n",
        "    )\n",
        "    return model"
      ],
      "execution_count": 21,
      "outputs": []
    },
    {
      "cell_type": "code",
      "metadata": {
        "id": "WS4eOedo8OP1"
      },
      "source": [
        "tuner = kt.BayesianOptimization(\n",
        "    hypermodel=build_model,\n",
        "    objective='val_mse',\n",
        "    max_trials=10\n",
        ")"
      ],
      "execution_count": 22,
      "outputs": []
    },
    {
      "cell_type": "code",
      "metadata": {
        "colab": {
          "base_uri": "https://localhost:8080/"
        },
        "id": "0_chlrIR9xiZ",
        "outputId": "12edd7c2-3a1e-439e-d5a8-4340f1aaa570"
      },
      "source": [
        "tuner.search_space_summary()"
      ],
      "execution_count": 30,
      "outputs": [
        {
          "output_type": "stream",
          "text": [
            "Search space summary\n",
            "Default search space size: 3\n",
            "first_hidden (Int)\n",
            "{'default': None, 'conditions': [], 'min_value': 16, 'max_value': 64, 'step': 16, 'sampling': None}\n",
            "second_hidden (Int)\n",
            "{'default': None, 'conditions': [], 'min_value': 16, 'max_value': 64, 'step': 16, 'sampling': None}\n",
            "lr (Float)\n",
            "{'default': 0.005, 'conditions': [], 'min_value': 0.005, 'max_value': 0.01, 'step': None, 'sampling': 'log'}\n"
          ],
          "name": "stdout"
        }
      ]
    },
    {
      "cell_type": "code",
      "metadata": {
        "colab": {
          "base_uri": "https://localhost:8080/"
        },
        "id": "_ZRW97tA8cJw",
        "outputId": "bc5a9e19-76b5-4052-ee1f-c90ff6ff8867"
      },
      "source": [
        "tuner.search(x_train, y_train.reshape(-1,  1), epochs=10, validation_data=(x_test, y_test.reshape(-1, 1)))"
      ],
      "execution_count": 31,
      "outputs": [
        {
          "output_type": "stream",
          "text": [
            "Trial 10 Complete [00h 00m 01s]\n",
            "val_mse: 60.93595504760742\n",
            "\n",
            "Best val_mse So Far: 56.03102111816406\n",
            "Total elapsed time: 00h 00m 20s\n",
            "INFO:tensorflow:Oracle triggered exit\n"
          ],
          "name": "stdout"
        }
      ]
    },
    {
      "cell_type": "code",
      "metadata": {
        "id": "NDQYJxOV9NX-"
      },
      "source": [
        "# 取得最好的模型(可以多個)\n",
        "models = tuner.get_best_models(num_models=2)"
      ],
      "execution_count": 32,
      "outputs": []
    },
    {
      "cell_type": "code",
      "metadata": {
        "colab": {
          "base_uri": "https://localhost:8080/"
        },
        "id": "LbcuhKj9-Qht",
        "outputId": "624d35b5-a706-423a-beb1-b4e8648df126"
      },
      "source": [
        "# 可以多個\n",
        "\n",
        "tuner.results_summary()"
      ],
      "execution_count": 33,
      "outputs": [
        {
          "output_type": "stream",
          "text": [
            "Results summary\n",
            "Results in ./untitled_project\n",
            "Showing 10 best trials\n",
            "Objective(name='val_mse', direction='min')\n",
            "Trial summary\n",
            "Hyperparameters:\n",
            "first_hidden: 48\n",
            "second_hidden: 48\n",
            "lr: 0.008256458795369386\n",
            "Score: 56.03102111816406\n",
            "Trial summary\n",
            "Hyperparameters:\n",
            "first_hidden: 32\n",
            "second_hidden: 64\n",
            "lr: 0.01\n",
            "Score: 56.861473083496094\n",
            "Trial summary\n",
            "Hyperparameters:\n",
            "first_hidden: 32\n",
            "second_hidden: 16\n",
            "lr: 0.01\n",
            "Score: 58.30662155151367\n",
            "Trial summary\n",
            "Hyperparameters:\n",
            "first_hidden: 64\n",
            "second_hidden: 16\n",
            "lr: 0.005\n",
            "Score: 60.44956970214844\n",
            "Trial summary\n",
            "Hyperparameters:\n",
            "first_hidden: 48\n",
            "second_hidden: 64\n",
            "lr: 0.009098553304137294\n",
            "Score: 60.93595504760742\n",
            "Trial summary\n",
            "Hyperparameters:\n",
            "first_hidden: 32\n",
            "second_hidden: 48\n",
            "lr: 0.01\n",
            "Score: 61.14206314086914\n",
            "Trial summary\n",
            "Hyperparameters:\n",
            "first_hidden: 64\n",
            "second_hidden: 48\n",
            "lr: 0.008837235278299311\n",
            "Score: 61.21369934082031\n",
            "Trial summary\n",
            "Hyperparameters:\n",
            "first_hidden: 64\n",
            "second_hidden: 64\n",
            "lr: 0.006304413524087287\n",
            "Score: 61.46294021606445\n",
            "Trial summary\n",
            "Hyperparameters:\n",
            "first_hidden: 48\n",
            "second_hidden: 16\n",
            "lr: 0.008167995595466158\n",
            "Score: 69.99128723144531\n",
            "Trial summary\n",
            "Hyperparameters:\n",
            "first_hidden: 16\n",
            "second_hidden: 48\n",
            "lr: 0.006080652808946593\n",
            "Score: 74.1783676147461\n"
          ],
          "name": "stdout"
        }
      ]
    },
    {
      "cell_type": "code",
      "metadata": {
        "id": "nZ2hGXlP-TT4"
      },
      "source": [
        ""
      ],
      "execution_count": null,
      "outputs": []
    }
  ]
}