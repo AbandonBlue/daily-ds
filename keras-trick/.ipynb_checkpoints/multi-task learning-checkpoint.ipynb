{
 "cells": [
  {
   "cell_type": "markdown",
   "id": "8a2649dc",
   "metadata": {},
   "source": [
    "## Multitask-learning\n",
    "\n",
    "[ref](https://towardsdatascience.com/multi-task-learning-for-computer-vision-classification-with-keras-36c52e6243d2)\n",
    "- 讀取資料\n",
    "- 創建模型(output修改)\n",
    "- 訓練loss、metrics增加\n",
    "- 訓練"
   ]
  },
  {
   "cell_type": "code",
   "execution_count": 1,
   "id": "ee568259",
   "metadata": {},
   "outputs": [],
   "source": [
    "import tensorflow as tf\n",
    "from tensorflow import keras\n",
    "import numpy as np\n",
    "import pandas as pd"
   ]
  },
  {
   "cell_type": "code",
   "execution_count": 2,
   "id": "14837b6a",
   "metadata": {},
   "outputs": [],
   "source": [
    "(x_train, y_train), (x_test, y_test) = keras.datasets.mnist.load_data()\n",
    "assert x_train.shape == (60000, 28, 28)\n",
    "assert x_test.shape == (10000, 28, 28)\n",
    "assert y_train.shape == (60000,)\n",
    "assert y_test.shape == (10000,)"
   ]
  },
  {
   "cell_type": "code",
   "execution_count": 3,
   "id": "d5277085",
   "metadata": {},
   "outputs": [],
   "source": [
    "x_train = x_train / 255.0\n",
    "x_test = x_test / 255.0"
   ]
  },
  {
   "cell_type": "code",
   "execution_count": 4,
   "id": "8e09e88d",
   "metadata": {},
   "outputs": [],
   "source": [
    "x_train = x_train.reshape(-1, 28, 28, 1)\n",
    "x_test = x_test.reshape(-1, 28, 28, 1)"
   ]
  },
  {
   "cell_type": "code",
   "execution_count": 5,
   "id": "9a1b71b7",
   "metadata": {},
   "outputs": [],
   "source": [
    "y_train = keras.utils.to_categorical(y_train, num_classes=10, dtype=\"float32\")\n",
    "y_test = keras.utils.to_categorical(y_test, num_classes=10, dtype=\"float32\")"
   ]
  },
  {
   "cell_type": "code",
   "execution_count": 6,
   "id": "9f139f3c",
   "metadata": {},
   "outputs": [],
   "source": [
    "# modeling\n",
    "\n",
    "def get_multitask_model():\n",
    "    inputs = keras.Input(shape=x_train.shape[1:])\n",
    "    x = keras.layers.Conv2D(filters=32, kernel_size=32, padding='same')(inputs)\n",
    "    x = keras.layers.MaxPooling2D(padding='same')(x)\n",
    "    x = keras.layers.Conv2D(filters=32, kernel_size=32, padding='same')(x)\n",
    "    x = keras.layers.MaxPooling2D(padding='same')(x)\n",
    "    x = keras.layers.Flatten()(x)\n",
    "    \n",
    "    output1 = keras.layers.Dense(units=10, activation='softmax', name='task1')(x)\n",
    "    output2 = keras.layers.Dense(units=10, activation='softmax', name='task2')(x)\n",
    "    \n",
    "    return keras.Model(inputs, [output1, output2])"
   ]
  },
  {
   "cell_type": "code",
   "execution_count": 7,
   "id": "ef616aed",
   "metadata": {},
   "outputs": [],
   "source": [
    "model = get_multitask_model()"
   ]
  },
  {
   "cell_type": "code",
   "execution_count": 8,
   "id": "406e37a4",
   "metadata": {},
   "outputs": [
    {
     "name": "stdout",
     "output_type": "stream",
     "text": [
      "Model: \"model\"\n",
      "__________________________________________________________________________________________________\n",
      " Layer (type)                   Output Shape         Param #     Connected to                     \n",
      "==================================================================================================\n",
      " input_1 (InputLayer)           [(None, 28, 28, 1)]  0           []                               \n",
      "                                                                                                  \n",
      " conv2d (Conv2D)                (None, 28, 28, 32)   32800       ['input_1[0][0]']                \n",
      "                                                                                                  \n",
      " max_pooling2d (MaxPooling2D)   (None, 14, 14, 32)   0           ['conv2d[0][0]']                 \n",
      "                                                                                                  \n",
      " conv2d_1 (Conv2D)              (None, 14, 14, 32)   1048608     ['max_pooling2d[0][0]']          \n",
      "                                                                                                  \n",
      " max_pooling2d_1 (MaxPooling2D)  (None, 7, 7, 32)    0           ['conv2d_1[0][0]']               \n",
      "                                                                                                  \n",
      " flatten (Flatten)              (None, 1568)         0           ['max_pooling2d_1[0][0]']        \n",
      "                                                                                                  \n",
      " task1 (Dense)                  (None, 10)           15690       ['flatten[0][0]']                \n",
      "                                                                                                  \n",
      " task2 (Dense)                  (None, 10)           15690       ['flatten[0][0]']                \n",
      "                                                                                                  \n",
      "==================================================================================================\n",
      "Total params: 1,112,788\n",
      "Trainable params: 1,112,788\n",
      "Non-trainable params: 0\n",
      "__________________________________________________________________________________________________\n"
     ]
    }
   ],
   "source": [
    "model.summary()"
   ]
  },
  {
   "cell_type": "code",
   "execution_count": 9,
   "id": "a0a1a239",
   "metadata": {},
   "outputs": [],
   "source": [
    "gamma = 0.3\n",
    "model.compile(optimizer='adam',\n",
    "                  loss={'task1': 'categorical_crossentropy', \n",
    "                        'task2': 'categorical_crossentropy'},\n",
    "                  loss_weights={'task1': gamma, \n",
    "                                'task2': 1 - gamma}, \n",
    "                  metrics=['accuracy'])"
   ]
  },
  {
   "cell_type": "code",
   "execution_count": 10,
   "id": "96da89ef",
   "metadata": {},
   "outputs": [
    {
     "name": "stdout",
     "output_type": "stream",
     "text": [
      "Epoch 1/2\n",
      "1875/1875 [==============================] - 735s 392ms/step - loss: 0.2795 - task1_loss: 0.2768 - task2_loss: 0.2806 - task1_accuracy: 0.9269 - task2_accuracy: 0.9286 - val_loss: 0.2001 - val_task1_loss: 0.1881 - val_task2_loss: 0.2053 - val_task1_accuracy: 0.9588 - val_task2_accuracy: 0.9555\n",
      "Epoch 2/2\n",
      "1875/1875 [==============================] - 714s 381ms/step - loss: 0.2515 - task1_loss: 0.2497 - task2_loss: 0.2523 - task1_accuracy: 0.9555 - task2_accuracy: 0.9541 - val_loss: 0.3249 - val_task1_loss: 0.3378 - val_task2_loss: 0.3194 - val_task1_accuracy: 0.9481 - val_task2_accuracy: 0.9475\n"
     ]
    },
    {
     "data": {
      "text/plain": [
       "<keras.callbacks.History at 0x18ec61f2f70>"
      ]
     },
     "execution_count": 10,
     "metadata": {},
     "output_type": "execute_result"
    }
   ],
   "source": [
    "model.fit(x_train, y=[y_train, y_train], batch_size=32, epochs=2, validation_data=(x_test, [y_test, y_test]))"
   ]
  },
  {
   "cell_type": "code",
   "execution_count": null,
   "id": "156361cf",
   "metadata": {},
   "outputs": [],
   "source": []
  },
  {
   "cell_type": "code",
   "execution_count": null,
   "id": "be6428e0",
   "metadata": {},
   "outputs": [],
   "source": []
  }
 ],
 "metadata": {
  "kernelspec": {
   "display_name": "Python 3 (ipykernel)",
   "language": "python",
   "name": "python3"
  },
  "language_info": {
   "codemirror_mode": {
    "name": "ipython",
    "version": 3
   },
   "file_extension": ".py",
   "mimetype": "text/x-python",
   "name": "python",
   "nbconvert_exporter": "python",
   "pygments_lexer": "ipython3",
   "version": "3.9.12"
  }
 },
 "nbformat": 4,
 "nbformat_minor": 5
}
