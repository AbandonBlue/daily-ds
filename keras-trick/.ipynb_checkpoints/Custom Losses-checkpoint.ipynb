{
 "cells": [
  {
   "cell_type": "markdown",
   "metadata": {},
   "source": [
    "## 自己撰寫自己的loss function\n",
    "簡介\n",
    "- loss function 在機器學習占據重要的位置，是以判斷模型學習的基礎，高度影響模型學習的方向，在其他領域也常常用到，在可以將問題轉化成最佳化問題的情況下，通常都是極小化損失函數。\n",
    "- 在最佳化損失函數的途中，會不斷改變模型參數，使得模型可以預測得更好(損失更小)。\n",
    "分類\n",
    "- 回歸問題一般使用MSE、MAE當作損失函數，但可以從SBERT(Triplet Objective Function)知道，透過損失函數的改變，可以學習到目的截然不同的模型，即便模型結構相同，因此，損失函數的理解必不可少。\n",
    "- 分類問題一般使用crossentropy。"
   ]
  },
  {
   "cell_type": "code",
   "execution_count": 1,
   "metadata": {
    "ExecuteTime": {
     "end_time": "2022-01-26T04:02:22.197669Z",
     "start_time": "2022-01-26T04:02:11.213620Z"
    }
   },
   "outputs": [],
   "source": [
    "import tensorflow as tf\n",
    "from tensorflow import keras\n",
    "import numpy as np\n",
    "import matplotlib.pyplot as plt\n",
    "%matplotlib inline"
   ]
  },
  {
   "cell_type": "markdown",
   "metadata": {},
   "source": [
    "在[keras](https://keras.io/api/losses/)中，只要寫一個function，可以接受y_true, y_pred，並且return 陣列的 losses(一個batch裡面就有一個loss value) 就可以傳遞進 compile 函數中進行計算。 而 sample_weight函數會自動被支持。"
   ]
  },
  {
   "cell_type": "code",
   "execution_count": 2,
   "metadata": {
    "ExecuteTime": {
     "end_time": "2022-01-26T04:02:22.244618Z",
     "start_time": "2022-01-26T04:02:22.205628Z"
    }
   },
   "outputs": [
    {
     "name": "stdout",
     "output_type": "stream",
     "text": [
      "(10000, 1) (10000, 1)\n"
     ]
    }
   ],
   "source": [
    "# 簡單建造一個回歸模型，並且自己寫一個MSE與官方版本比較。\n",
    "# 簡化就不正規化了。\n",
    "\n",
    "# 資料\n",
    "X = np.array(range(-5000, 5000), dtype='float').reshape(-1, 1)\n",
    "y = X**2 + X + 3\n",
    "\n",
    "print(X.shape, y.shape)"
   ]
  },
  {
   "cell_type": "code",
   "execution_count": 3,
   "metadata": {
    "ExecuteTime": {
     "end_time": "2022-01-26T04:02:22.307617Z",
     "start_time": "2022-01-26T04:02:22.256616Z"
    }
   },
   "outputs": [
    {
     "name": "stdout",
     "output_type": "stream",
     "text": [
      "[-5000.] [24995003.]\n"
     ]
    }
   ],
   "source": [
    "for x1, y1 in zip(X, y):\n",
    "    print(x1, y1)\n",
    "    break"
   ]
  },
  {
   "cell_type": "code",
   "execution_count": 4,
   "metadata": {
    "ExecuteTime": {
     "end_time": "2022-01-26T04:02:22.497621Z",
     "start_time": "2022-01-26T04:02:22.311617Z"
    }
   },
   "outputs": [
    {
     "data": {
      "text/plain": [
       "[<matplotlib.lines.Line2D at 0x204fd6059b0>]"
      ]
     },
     "execution_count": 4,
     "metadata": {},
     "output_type": "execute_result"
    },
    {
     "data": {
      "image/png": "[encoded data removed]",
      "text/plain": [
       "<Figure size 432x288 with 1 Axes>"
      ]
     },
     "metadata": {
      "needs_background": "light"
     },
     "output_type": "display_data"
    }
   ],
   "source": [
    "plt.plot(X, y)"
   ]
  },
  {
   "cell_type": "code",
   "execution_count": 5,
   "metadata": {
    "ExecuteTime": {
     "end_time": "2022-01-26T04:02:22.577616Z",
     "start_time": "2022-01-26T04:02:22.499619Z"
    }
   },
   "outputs": [
    {
     "name": "stdout",
     "output_type": "stream",
     "text": [
      "Model: \"model\"\n",
      "_________________________________________________________________\n",
      "Layer (type)                 Output Shape              Param #   \n",
      "=================================================================\n",
      "input_1 (InputLayer)         [(None, 1)]               0         \n",
      "_________________________________________________________________\n",
      "dense (Dense)                (None, 32)                64        \n",
      "_________________________________________________________________\n",
      "dense_1 (Dense)              (None, 16)                528       \n",
      "_________________________________________________________________\n",
      "dense_2 (Dense)              (None, 1)                 17        \n",
      "=================================================================\n",
      "Total params: 609\n",
      "Trainable params: 609\n",
      "Non-trainable params: 0\n",
      "_________________________________________________________________\n"
     ]
    }
   ],
   "source": [
    "def get_model(X):\n",
    "    \"\"\"\n",
    "        簡單建造一個MLP模型\n",
    "    \"\"\"\n",
    "    inputs = keras.Input(shape=X.shape[1], dtype='float32')\n",
    "    hidden = keras.layers.Dense(units=32, activation='relu')(inputs)\n",
    "    hidden = keras.layers.Dense(units=16, activation='relu')(hidden)\n",
    "    outputs = keras.layers.Dense(units=1)(hidden)\n",
    "    \n",
    "    return keras.Model(inputs, outputs)\n",
    "\n",
    "\n",
    "model_own = get_model(X)\n",
    "model_own.summary()"
   ]
  },
  {
   "cell_type": "code",
   "execution_count": 6,
   "metadata": {
    "ExecuteTime": {
     "end_time": "2022-01-26T04:02:22.592616Z",
     "start_time": "2022-01-26T04:02:22.579616Z"
    }
   },
   "outputs": [],
   "source": [
    "# 自己撰寫MSE functino\n",
    "\n",
    "def loss_fn(y_true, y_pred):\n",
    "    \"\"\"MSE\"\"\"\n",
    "    square_diff = tf.square(y_true-y_pred)      # list of (y-y-hat)**2\n",
    "    return tf.reduce_mean(square_diff, axis=-1) # sum"
   ]
  },
  {
   "cell_type": "code",
   "execution_count": 7,
   "metadata": {
    "ExecuteTime": {
     "end_time": "2022-01-26T04:02:25.527148Z",
     "start_time": "2022-01-26T04:02:22.595619Z"
    }
   },
   "outputs": [
    {
     "name": "stdout",
     "output_type": "stream",
     "text": [
      "Epoch 1/5\n",
      "313/313 [==============================] - 1s 888us/step - loss: 124689250779136.0000\n",
      "Epoch 2/5\n",
      "313/313 [==============================] - 0s 814us/step - loss: 121231961489408.0000\n",
      "Epoch 3/5\n",
      "313/313 [==============================] - 0s 936us/step - loss: 110180104667136.0000\n",
      "Epoch 4/5\n",
      "313/313 [==============================] - 0s 801us/step - loss: 90527399673856.0000\n",
      "Epoch 5/5\n",
      "313/313 [==============================] - 0s 885us/step - loss: 65290276700160.0000\n"
     ]
    },
    {
     "data": {
      "text/plain": [
       "<tensorflow.python.keras.callbacks.History at 0x204ff4355f8>"
      ]
     },
     "execution_count": 7,
     "metadata": {},
     "output_type": "execute_result"
    }
   ],
   "source": [
    "model_own.compile(optimizer='adam', loss=loss_fn)\n",
    "model_own.fit(X, y, batch_size=32, epochs=5)"
   ]
  },
  {
   "cell_type": "code",
   "execution_count": 8,
   "metadata": {
    "ExecuteTime": {
     "end_time": "2022-01-26T04:02:25.861131Z",
     "start_time": "2022-01-26T04:02:25.538140Z"
    }
   },
   "outputs": [
    {
     "data": {
      "text/plain": [
       "[<matplotlib.lines.Line2D at 0x204ff5c6978>]"
      ]
     },
     "execution_count": 8,
     "metadata": {},
     "output_type": "execute_result"
    },
    {
     "data": {
      "image/png": "[encoded data removed]",
      "text/plain": [
       "<Figure size 432x288 with 1 Axes>"
      ]
     },
     "metadata": {
      "needs_background": "light"
     },
     "output_type": "display_data"
    }
   ],
   "source": [
    "# 隨機產生新的樣本去產生預測\n",
    "\n",
    "x_test = np.array(range(-10000, 10000, 100))\n",
    "y_test = x_test ** 2 + x_test + 3\n",
    "\n",
    "\n",
    "y_pred_own = model_own.predict(x_test)\n",
    "plt.plot(x_test, y_pred_own)"
   ]
  },
  {
   "cell_type": "code",
   "execution_count": 9,
   "metadata": {
    "ExecuteTime": {
     "end_time": "2022-01-26T04:02:25.909131Z",
     "start_time": "2022-01-26T04:02:25.864132Z"
    }
   },
   "outputs": [
    {
     "name": "stdout",
     "output_type": "stream",
     "text": [
      "Model: \"model_1\"\n",
      "_________________________________________________________________\n",
      "Layer (type)                 Output Shape              Param #   \n",
      "=================================================================\n",
      "input_2 (InputLayer)         [(None, 1)]               0         \n",
      "_________________________________________________________________\n",
      "dense_3 (Dense)              (None, 32)                64        \n",
      "_________________________________________________________________\n",
      "dense_4 (Dense)              (None, 16)                528       \n",
      "_________________________________________________________________\n",
      "dense_5 (Dense)              (None, 1)                 17        \n",
      "=================================================================\n",
      "Total params: 609\n",
      "Trainable params: 609\n",
      "Non-trainable params: 0\n",
      "_________________________________________________________________\n"
     ]
    }
   ],
   "source": [
    "model_keras = get_model(X)\n",
    "model_keras.summary()"
   ]
  },
  {
   "cell_type": "code",
   "execution_count": 10,
   "metadata": {
    "ExecuteTime": {
     "end_time": "2022-01-26T04:02:27.760151Z",
     "start_time": "2022-01-26T04:02:25.911132Z"
    }
   },
   "outputs": [
    {
     "name": "stdout",
     "output_type": "stream",
     "text": [
      "Epoch 1/5\n",
      "313/313 [==============================] - 1s 930us/step - loss: 124747383832576.0000\n",
      "Epoch 2/5\n",
      "313/313 [==============================] - 0s 958us/step - loss: 121413650350080.0000\n",
      "Epoch 3/5\n",
      "313/313 [==============================] - 0s 1ms/step - loss: 110384191111168.0000\n",
      "Epoch 4/5\n",
      "313/313 [==============================] - 0s 990us/step - loss: 90712947294208.0000\n",
      "Epoch 5/5\n",
      "313/313 [==============================] - 0s 1ms/step - loss: 66038171435008.0000\n"
     ]
    },
    {
     "data": {
      "text/plain": [
       "<tensorflow.python.keras.callbacks.History at 0x204ff688208>"
      ]
     },
     "execution_count": 10,
     "metadata": {},
     "output_type": "execute_result"
    }
   ],
   "source": [
    "model_keras.compile(optimizer='adam', loss='mse')\n",
    "model_keras.fit(X, y, batch_size=32, epochs=5)"
   ]
  },
  {
   "cell_type": "code",
   "execution_count": 11,
   "metadata": {
    "ExecuteTime": {
     "end_time": "2022-01-26T04:02:27.996167Z",
     "start_time": "2022-01-26T04:02:27.763150Z"
    }
   },
   "outputs": [
    {
     "data": {
      "text/plain": [
       "[<matplotlib.lines.Line2D at 0x204ff7780b8>]"
      ]
     },
     "execution_count": 11,
     "metadata": {},
     "output_type": "execute_result"
    },
    {
     "data": {
      "image/png": "[encoded data removed]",
      "text/plain": [
       "<Figure size 432x288 with 1 Axes>"
      ]
     },
     "metadata": {
      "needs_background": "light"
     },
     "output_type": "display_data"
    }
   ],
   "source": [
    "y_pred_keras = model_keras.predict(x_test)\n",
    "plt.plot(x_test, y_pred_keras)"
   ]
  },
  {
   "cell_type": "markdown",
   "metadata": {},
   "source": [
    "> 學習的效果一致，自己寫出的可用。"
   ]
  }
 ],
 "metadata": {
  "kernelspec": {
   "display_name": "Python 3",
   "language": "python",
   "name": "python3"
  },
  "language_info": {
   "codemirror_mode": {
    "name": "ipython",
    "version": 3
   },
   "file_extension": ".py",
   "mimetype": "text/x-python",
   "name": "python",
   "nbconvert_exporter": "python",
   "pygments_lexer": "ipython3",
   "version": "3.7.3"
  }
 },
 "nbformat": 4,
 "nbformat_minor": 4
}
