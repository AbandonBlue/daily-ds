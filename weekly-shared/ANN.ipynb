{
 "cells": [
  {
   "cell_type": "markdown",
   "id": "6ddf3df1",
   "metadata": {},
   "source": [
    "## 最近鄰搜尋\n",
    "\n",
    "推薦系統、搜尋系統常常都會產生使用者向量、物品向量，但運用一般的比對方式會讓速度變得非常緩慢，因此需要透過一個 ANN 最近鄰搜尋的方式幫助提速。推薦使用 annoy 套件(需要下載C++)，Spotify 正使用此套件完成其推薦系統。"
   ]
  },
  {
   "cell_type": "code",
   "execution_count": 14,
   "id": "c2b16c2e",
   "metadata": {},
   "outputs": [
    {
     "name": "stdout",
     "output_type": "stream",
     "text": [
      "Requirement already satisfied: annoy in c:\\users\\aaronyang\\anaconda3\\lib\\site-packages (1.17.1)\n"
     ]
    }
   ],
   "source": [
    "!pip install annoy"
   ]
  },
  {
   "cell_type": "code",
   "execution_count": 15,
   "id": "e220007e",
   "metadata": {},
   "outputs": [],
   "source": [
    "from sklearn.metrics.pairwise import cosine_similarity"
   ]
  },
  {
   "cell_type": "code",
   "execution_count": 16,
   "id": "5261a2b6",
   "metadata": {},
   "outputs": [
    {
     "data": {
      "text/plain": [
       "True"
      ]
     },
     "execution_count": 16,
     "metadata": {},
     "output_type": "execute_result"
    }
   ],
   "source": [
    "from annoy import AnnoyIndex\n",
    "import random\n",
    "\n",
    "\n",
    "# 向量維度，因為是示意，自產向量\n",
    "f = 40  \n",
    "nums_vectors = 1000\n",
    "\n",
    "# 1. 建立 Index，angular是相似度計算方法\n",
    "t = AnnoyIndex(f, 'angular')\n",
    "\n",
    "# 2. 製作向量\n",
    "for i in range(nums_vectors):\n",
    "    v = [random.gauss(0, 1) for z in range(f)]\n",
    "    # 將向量加入的 index 內\n",
    "    t.add_item(i, v)\n",
    "\n",
    "# 3. 建立 tree 結構去儲存這些向量到index內\n",
    "t.build(10) # 10 trees\n",
    "\n",
    "\n",
    "# 4. 儲存到目前的結構、資料進 disk 內\n",
    "t.save(f'test_{nums_vectors}.ann')"
   ]
  },
  {
   "cell_type": "code",
   "execution_count": 17,
   "id": "c2aa0dbd",
   "metadata": {},
   "outputs": [
    {
     "name": "stdout",
     "output_type": "stream",
     "text": [
      "[0, 307, 276, 199, 135, 534, 229, 972, 20, 880, 674, 983, 538, 938, 416, 595, 830, 396, 792, 236, 783, 181, 499, 1, 50, 711, 693, 141, 920, 188, 688, 886, 578, 516, 58, 977, 299, 205, 80, 132, 601, 656, 518, 870, 68, 103, 154, 292, 477, 75, 853, 751, 404, 105, 725, 816, 957, 515, 975, 106, 652, 364, 335, 147, 420, 805, 710, 945, 237, 598, 908, 887, 410, 184, 717, 796, 900, 865, 436, 287, 272, 689, 567, 781, 986, 520, 285, 644, 482, 455, 64, 877, 221, 777, 213, 763, 102, 546, 183, 869]\n"
     ]
    }
   ],
   "source": [
    "# 建立 index\n",
    "u = AnnoyIndex(f, 'angular')\n",
    "\n",
    "# 讀回之前儲存的結構\n",
    "u.load(f'test_{nums_vectors}.ann') # super fast, will just mmap the file\n",
    "\n",
    "\n",
    "\n",
    "nums_retrieve = 100\n",
    "\n",
    "# 取得與 0idx-vector 最近的向量\n",
    "print(u.get_nns_by_item(0, nums_retrieve)) # will find the 1000 nearest neighbors"
   ]
  },
  {
   "cell_type": "code",
   "execution_count": 18,
   "id": "0831c78f",
   "metadata": {},
   "outputs": [
    {
     "name": "stdout",
     "output_type": "stream",
     "text": [
      "[[1.]]\n",
      "[[0.52913532]]\n",
      "[[0.52686852]]\n",
      "[[0.4485568]]\n",
      "[[0.44601916]]\n",
      "[[0.44527769]]\n",
      "[[0.44312606]]\n",
      "[[0.43060604]]\n",
      "[[0.42878047]]\n",
      "[[0.40731274]]\n",
      "[[0.38061779]]\n",
      "[[0.37022575]]\n",
      "[[0.36697484]]\n",
      "[[0.36004995]]\n",
      "[[0.3568627]]\n",
      "[[0.35635647]]\n",
      "[[0.35581196]]\n",
      "[[0.35577718]]\n",
      "[[0.35466174]]\n",
      "[[0.3545077]]\n",
      "[[0.35281212]]\n",
      "[[0.35006431]]\n",
      "[[0.3490441]]\n",
      "[[0.34685837]]\n",
      "[[0.34683313]]\n",
      "[[0.34058646]]\n",
      "[[0.3386424]]\n",
      "[[0.33779875]]\n",
      "[[0.3346115]]\n",
      "[[0.33226068]]\n",
      "[[0.33007862]]\n",
      "[[0.32944669]]\n",
      "[[0.32722948]]\n",
      "[[0.32661623]]\n",
      "[[0.3259438]]\n",
      "[[0.32222342]]\n",
      "[[0.32106357]]\n",
      "[[0.31910945]]\n",
      "[[0.3116198]]\n",
      "[[0.30852323]]\n",
      "[[0.30819301]]\n",
      "[[0.30675989]]\n",
      "[[0.30013779]]\n",
      "[[0.2938742]]\n",
      "[[0.29379827]]\n",
      "[[0.29238906]]\n",
      "[[0.28400003]]\n",
      "[[0.28346096]]\n",
      "[[0.27958937]]\n",
      "[[0.27926214]]\n",
      "[[0.27765383]]\n",
      "[[0.27453237]]\n",
      "[[0.27436975]]\n",
      "[[0.27276724]]\n",
      "[[0.26912499]]\n",
      "[[0.26838011]]\n",
      "[[0.26645661]]\n",
      "[[0.26589283]]\n",
      "[[0.26504387]]\n",
      "[[0.26470711]]\n",
      "[[0.26407921]]\n",
      "[[0.26335976]]\n",
      "[[0.26130693]]\n",
      "[[0.25565557]]\n",
      "[[0.25314773]]\n",
      "[[0.25054184]]\n",
      "[[0.24994991]]\n",
      "[[0.24993301]]\n",
      "[[0.24955383]]\n",
      "[[0.24763341]]\n",
      "[[0.24147947]]\n",
      "[[0.2402151]]\n",
      "[[0.23943832]]\n",
      "[[0.23829246]]\n",
      "[[0.23703314]]\n",
      "[[0.23538508]]\n",
      "[[0.2353423]]\n",
      "[[0.23533383]]\n",
      "[[0.2349564]]\n",
      "[[0.2315525]]\n",
      "[[0.23076906]]\n",
      "[[0.22948312]]\n",
      "[[0.22942535]]\n",
      "[[0.22799422]]\n",
      "[[0.22779259]]\n",
      "[[0.22685364]]\n",
      "[[0.22646429]]\n",
      "[[0.2264092]]\n",
      "[[0.22603535]]\n",
      "[[0.22590089]]\n",
      "[[0.2250642]]\n",
      "[[0.22440763]]\n",
      "[[0.22434764]]\n",
      "[[0.22416517]]\n",
      "[[0.22414042]]\n",
      "[[0.22091569]]\n",
      "[[0.21995434]]\n",
      "[[0.2184684]]\n",
      "[[0.21761426]]\n",
      "[[0.2164752]]\n"
     ]
    }
   ],
   "source": [
    "# 簡單透過 cosine similarity 計算相似程度來驗證\n",
    "\n",
    "for idx in u.get_nns_by_item(0, nums_retrieve):\n",
    "    # 計算相似性\n",
    "    print(cosine_similarity([u.get_item_vector(0)], [u.get_item_vector(idx)]))"
   ]
  },
  {
   "cell_type": "markdown",
   "id": "69494297",
   "metadata": {},
   "source": [
    "> 稍後與 image search system 組合在一起成為應用！"
   ]
  },
  {
   "cell_type": "code",
   "execution_count": null,
   "id": "4944b491",
   "metadata": {},
   "outputs": [],
   "source": [
    "# 測試可以動態新增嗎?\n",
    "\n",
    "for i in range(nums_vectors):\n",
    "    v = [random.gauss(0, 1) for z in range(f)]\n",
    "    # 將向量加入的 index 內\n",
    "    u.add_item(i, v)\n",
    "    \n",
    "t.build(10) # 10 trees"
   ]
  }
 ],
 "metadata": {
  "kernelspec": {
   "display_name": "Python 3 (ipykernel)",
   "language": "python",
   "name": "python3"
  },
  "language_info": {
   "codemirror_mode": {
    "name": "ipython",
    "version": 3
   },
   "file_extension": ".py",
   "mimetype": "text/x-python",
   "name": "python",
   "nbconvert_exporter": "python",
   "pygments_lexer": "ipython3",
   "version": "3.9.12"
  }
 },
 "nbformat": 4,
 "nbformat_minor": 5
}
