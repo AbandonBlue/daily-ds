{
 "cells": [
  {
   "cell_type": "markdown",
   "id": "059744bc",
   "metadata": {},
   "source": [
    "## 最近鄰搜尋\n",
    "\n",
    "推薦系統、搜尋系統常常都會產生使用者向量、物品向量，但運用一般的比對方式會讓速度變得非常緩慢，因此需要透過一個 ANN 最近鄰搜尋的方式幫助提速。推薦使用 annoy 套件(需要下載C++)，Spotify 正使用此套件完成其推薦系統。"
   ]
  },
  {
   "cell_type": "code",
   "execution_count": 1,
   "id": "1aaa83b2",
   "metadata": {},
   "outputs": [
    {
     "name": "stdout",
     "output_type": "stream",
     "text": [
      "Requirement already satisfied: annoy in c:\\users\\aaronyang\\anaconda3\\lib\\site-packages (1.17.1)\n"
     ]
    }
   ],
   "source": [
    "!pip install annoy"
   ]
  },
  {
   "cell_type": "code",
   "execution_count": 2,
   "id": "eab507e6",
   "metadata": {},
   "outputs": [],
   "source": [
    "from sklearn.metrics.pairwise import cosine_similarity"
   ]
  },
  {
   "cell_type": "code",
   "execution_count": 3,
   "id": "5261a2b6",
   "metadata": {},
   "outputs": [
    {
     "data": {
      "text/plain": [
       "True"
      ]
     },
     "execution_count": 3,
     "metadata": {},
     "output_type": "execute_result"
    }
   ],
   "source": [
    "from annoy import AnnoyIndex\n",
    "import random\n",
    "\n",
    "\n",
    "# 向量維度，因為是示意，自產向量\n",
    "f = 40  \n",
    "nums_vectors = 1000\n",
    "\n",
    "# 1. 建立 Index，angular是相似度計算方法\n",
    "t = AnnoyIndex(f, 'angular')\n",
    "\n",
    "# 2. 製作向量\n",
    "for i in range(nums_vectors):\n",
    "    v = [random.gauss(0, 1) for z in range(f)]\n",
    "    # 將向量加入的 index 內\n",
    "    t.add_item(i, v)\n",
    "\n",
    "# 3. 建立 tree 結構去儲存這些向量到index內\n",
    "t.build(10) # 10 trees\n",
    "\n",
    "\n",
    "# 4. 儲存到目前的結構、資料進 disk 內\n",
    "t.save('test.ann')"
   ]
  },
  {
   "cell_type": "code",
   "execution_count": 4,
   "id": "0677d91a",
   "metadata": {},
   "outputs": [
    {
     "name": "stdout",
     "output_type": "stream",
     "text": [
      "[0, 901, 993, 659, 125, 421, 425, 736, 572, 726, 766, 687, 562, 779, 357, 478, 624, 645, 566, 229, 399, 203, 197, 701, 356, 15, 522, 622, 246, 481, 422, 771, 713, 446, 265, 445, 472, 429, 355, 438, 599, 322, 121, 339, 146, 979, 112, 590, 485, 926, 454, 700, 658, 72, 406, 375, 310, 906, 469, 675, 212, 959, 160, 279, 299, 621, 350, 520, 888, 111, 302, 346, 401, 833, 432, 510, 805, 530, 947, 990, 783, 126, 638, 988, 822, 239, 288, 116, 161, 471, 839, 342, 394, 131, 989, 923, 570, 164, 945, 589]\n"
     ]
    }
   ],
   "source": [
    "# 建立 index\n",
    "u = AnnoyIndex(f, 'angular')\n",
    "\n",
    "# 讀回之前儲存的結構\n",
    "u.load('test.ann') # super fast, will just mmap the file\n",
    "\n",
    "\n",
    "\n",
    "nums_retrieve = 100\n",
    "\n",
    "# 取得與 0idx-vector 最近的向量\n",
    "print(u.get_nns_by_item(0, nums_retrieve)) # will find the 1000 nearest neighbors"
   ]
  },
  {
   "cell_type": "code",
   "execution_count": 6,
   "id": "6817af8d",
   "metadata": {},
   "outputs": [
    {
     "name": "stdout",
     "output_type": "stream",
     "text": [
      "[[1.]]\n",
      "[[0.50664558]]\n",
      "[[0.48497557]]\n",
      "[[0.47285208]]\n",
      "[[0.42606327]]\n",
      "[[0.42556953]]\n",
      "[[0.4060858]]\n",
      "[[0.39945202]]\n",
      "[[0.39079785]]\n",
      "[[0.38677427]]\n",
      "[[0.36875233]]\n",
      "[[0.36448019]]\n",
      "[[0.36064675]]\n",
      "[[0.36056403]]\n",
      "[[0.35257917]]\n",
      "[[0.35206143]]\n",
      "[[0.34833343]]\n",
      "[[0.34213999]]\n",
      "[[0.34155917]]\n",
      "[[0.34103703]]\n",
      "[[0.34065471]]\n",
      "[[0.34012047]]\n",
      "[[0.33955432]]\n",
      "[[0.33061043]]\n",
      "[[0.32996406]]\n",
      "[[0.32549411]]\n",
      "[[0.32400912]]\n",
      "[[0.3191204]]\n",
      "[[0.31375441]]\n",
      "[[0.31287499]]\n",
      "[[0.31046919]]\n",
      "[[0.31003807]]\n",
      "[[0.30915652]]\n",
      "[[0.30835805]]\n",
      "[[0.30315317]]\n",
      "[[0.3022529]]\n",
      "[[0.30209057]]\n",
      "[[0.30163048]]\n",
      "[[0.29579672]]\n",
      "[[0.29520779]]\n",
      "[[0.2949873]]\n",
      "[[0.29328196]]\n",
      "[[0.28791709]]\n",
      "[[0.28743712]]\n",
      "[[0.28542967]]\n",
      "[[0.28521491]]\n",
      "[[0.28389263]]\n",
      "[[0.28336431]]\n",
      "[[0.28253476]]\n",
      "[[0.27511568]]\n",
      "[[0.27480874]]\n",
      "[[0.27227681]]\n",
      "[[0.27092637]]\n",
      "[[0.27086995]]\n",
      "[[0.27048335]]\n",
      "[[0.2651507]]\n",
      "[[0.26444455]]\n",
      "[[0.26360781]]\n",
      "[[0.26232992]]\n",
      "[[0.2605601]]\n",
      "[[0.26017268]]\n",
      "[[0.25542703]]\n",
      "[[0.25484172]]\n",
      "[[0.25396785]]\n",
      "[[0.24947488]]\n",
      "[[0.24769039]]\n",
      "[[0.24636157]]\n",
      "[[0.24558508]]\n",
      "[[0.24526719]]\n",
      "[[0.2450746]]\n",
      "[[0.24244595]]\n",
      "[[0.24220376]]\n",
      "[[0.24152745]]\n",
      "[[0.24098711]]\n",
      "[[0.23974164]]\n",
      "[[0.23956553]]\n",
      "[[0.23899053]]\n",
      "[[0.23841706]]\n",
      "[[0.23576625]]\n",
      "[[0.23553096]]\n",
      "[[0.23540485]]\n",
      "[[0.23430998]]\n",
      "[[0.23374421]]\n",
      "[[0.23282352]]\n",
      "[[0.2302849]]\n",
      "[[0.22971419]]\n",
      "[[0.22834993]]\n",
      "[[0.2270797]]\n",
      "[[0.22437749]]\n",
      "[[0.22384447]]\n",
      "[[0.22331187]]\n",
      "[[0.22250739]]\n",
      "[[0.22239545]]\n",
      "[[0.22225089]]\n",
      "[[0.22086563]]\n",
      "[[0.22004807]]\n",
      "[[0.21968796]]\n",
      "[[0.21887957]]\n",
      "[[0.21796503]]\n",
      "[[0.21604416]]\n"
     ]
    }
   ],
   "source": [
    "# 簡單透過 cosine similarity 計算相似程度來驗證\n",
    "\n",
    "for idx in u.get_nns_by_item(0, nums_retrieve):\n",
    "    # 計算相似性\n",
    "    print(cosine_similarity([u.get_item_vector(0)], [u.get_item_vector(idx)]))"
   ]
  },
  {
   "cell_type": "code",
   "execution_count": null,
   "id": "140107dc",
   "metadata": {},
   "outputs": [],
   "source": []
  }
 ],
 "metadata": {
  "kernelspec": {
   "display_name": "Python 3 (ipykernel)",
   "language": "python",
   "name": "python3"
  },
  "language_info": {
   "codemirror_mode": {
    "name": "ipython",
    "version": 3
   },
   "file_extension": ".py",
   "mimetype": "text/x-python",
   "name": "python",
   "nbconvert_exporter": "python",
   "pygments_lexer": "ipython3",
   "version": "3.9.12"
  }
 },
 "nbformat": 4,
 "nbformat_minor": 5
}
