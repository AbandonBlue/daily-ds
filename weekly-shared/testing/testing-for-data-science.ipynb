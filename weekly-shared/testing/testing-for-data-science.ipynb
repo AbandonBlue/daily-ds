{
 "cells": [
  {
   "cell_type": "markdown",
   "id": "06943ee7",
   "metadata": {},
   "source": [
    "## Testing For Data Science\n",
    "\n",
    "Testing 常見於軟體工程之中，資料科學也不例外，當資料科學的程式碼需要進入整合進入生產環境中，\n",
    "也必須通過 Testing。以下為示意圖。\n",
    "\n",
    "![testing stages](https://miro.medium.com/max/1400/1*eRK_9-J8BQRNDHKmwXUxhg.webp)"
   ]
  },
  {
   "cell_type": "code",
   "execution_count": 2,
   "id": "9be5d261",
   "metadata": {},
   "outputs": [],
   "source": [
    "import unittest\n",
    "import pytest"
   ]
  },
  {
   "cell_type": "code",
   "execution_count": 3,
   "id": "8ead05d2",
   "metadata": {},
   "outputs": [],
   "source": [
    "def square(x):\n",
    "    \"\"\"\n",
    "        平方的 function。\n",
    "    \"\"\"\n",
    "    return x ** 2"
   ]
  },
  {
   "cell_type": "code",
   "execution_count": 5,
   "id": "a5b25acd",
   "metadata": {},
   "outputs": [],
   "source": [
    "# 為了要使用 unittest, 需要去繼承 unittest.TestCase\n",
    "\n",
    "\n",
    "class TestSampleFeatures(unittest.TestCase):\n",
    "    def test_square(self):\n",
    "        x = 3\n",
    "        result = square(x)\n",
    "        self.assertEqual(result, 9)"
   ]
  },
  {
   "cell_type": "code",
   "execution_count": 16,
   "id": "fe9502ab",
   "metadata": {},
   "outputs": [],
   "source": [
    "# 其實Unittest 使用內建的 assert 函數來測試特定條件\n",
    "# 只是提供了完整套件讓你不用自己去撰寫\n",
    "\n",
    "def test_case():\n",
    "    x = 10\n",
    "    result = square(x)\n",
    "    assert result == 100\n",
    "\n",
    "test_case()"
   ]
  },
  {
   "cell_type": "markdown",
   "id": "3a046999",
   "metadata": {},
   "source": [
    "unittest, pytest 的命名規則都是\n",
    "\n",
    "test_ 開頭\n",
    "\n",
    "或者\n",
    "\n",
    "_test 結尾"
   ]
  },
  {
   "cell_type": "code",
   "execution_count": 21,
   "id": "83edbcd5",
   "metadata": {},
   "outputs": [
    {
     "name": "stderr",
     "output_type": "stream",
     "text": [
      ".F\n",
      "======================================================================\n",
      "FAIL: test_triple (tests.unit_tests.test_data.TestSampleFeatures)\n",
      "----------------------------------------------------------------------\n",
      "Traceback (most recent call last):\n",
      "  File \"C:\\Users\\aaronyang\\Desktop\\work\\aaron-github\\daily-ds\\weekly-shared\\testing\\tests\\unit_tests\\test_data.py\", line 22, in test_triple\n",
      "    self.assertEqual(result, 27)\n",
      "AssertionError: 81 != 27\n",
      "\n",
      "----------------------------------------------------------------------\n",
      "Ran 2 tests in 0.000s\n",
      "\n",
      "FAILED (failures=1)\n"
     ]
    }
   ],
   "source": [
    "# cmd code\n",
    "\n",
    "!python -m unittest tests.unit_tests.test_data.TestSampleFeatures"
   ]
  },
  {
   "cell_type": "code",
   "execution_count": 23,
   "id": "c5384097",
   "metadata": {},
   "outputs": [],
   "source": [
    "from unittest import mock"
   ]
  },
  {
   "cell_type": "code",
   "execution_count": 25,
   "id": "8503cd6d",
   "metadata": {},
   "outputs": [],
   "source": [
    "class TestSampleFeaturesMock(unittest.TestCase):\n",
    "    def test_square(self):\n",
    "        x = 3\n",
    "        result = square(x)\n",
    "        self.assertEqual(result, 9)\n",
    "    \n",
    "    @mock.patch(\".square\", return_value=100)\n",
    "    def test_transform_square(self, mock_square):\n",
    "        x = 9\n",
    "        result = square(x)\n",
    "        self.assertEqual(result, 100)"
   ]
  },
  {
   "cell_type": "code",
   "execution_count": 28,
   "id": "a2ffffde",
   "metadata": {},
   "outputs": [
    {
     "name": "stderr",
     "output_type": "stream",
     "text": [
      ".E\n",
      "======================================================================\n",
      "ERROR: test_transform_square (tests.unit_tests.test_data.TestSampleFeaturesMock)\n",
      "----------------------------------------------------------------------\n",
      "Traceback (most recent call last):\n",
      "  File \"C:\\Users\\aaronyang\\Anaconda3\\lib\\unittest\\mock.py\", line 1333, in patched\n",
      "    with self.decoration_helper(patched,\n",
      "  File \"C:\\Users\\aaronyang\\Anaconda3\\lib\\contextlib.py\", line 119, in __enter__\n",
      "    return next(self.gen)\n",
      "  File \"C:\\Users\\aaronyang\\Anaconda3\\lib\\unittest\\mock.py\", line 1315, in decoration_helper\n",
      "    arg = exit_stack.enter_context(patching)\n",
      "  File \"C:\\Users\\aaronyang\\Anaconda3\\lib\\contextlib.py\", line 448, in enter_context\n",
      "    result = _cm_type.__enter__(cm)\n",
      "  File \"C:\\Users\\aaronyang\\Anaconda3\\lib\\unittest\\mock.py\", line 1404, in __enter__\n",
      "    original, local = self.get_original()\n",
      "  File \"C:\\Users\\aaronyang\\Anaconda3\\lib\\unittest\\mock.py\", line 1377, in get_original\n",
      "    raise AttributeError(\n",
      "AttributeError: <module 'math' (built-in)> does not have the attribute 'square'\n",
      "\n",
      "----------------------------------------------------------------------\n",
      "Ran 2 tests in 0.001s\n",
      "\n",
      "FAILED (errors=1)\n"
     ]
    }
   ],
   "source": [
    "!python -m unittest tests.unit_tests.test_data.TestSampleFeaturesMock"
   ]
  },
  {
   "cell_type": "code",
   "execution_count": 34,
   "id": "6c3e76ce",
   "metadata": {},
   "outputs": [],
   "source": [
    "from unittest.mock import MagicMock\n",
    "\n",
    "class ProductionClass():\n",
    "    def __init__(self):\n",
    "        pass\n",
    "\n",
    "\n",
    "thing = ProductionClass()\n",
    "thing.method = MagicMock(return_value=3)\n",
    "thing.method(3, 4, 5, key='value')\n",
    "\n",
    "thing.method.assert_called_with(3, 4, 5, key='value')"
   ]
  },
  {
   "cell_type": "code",
   "execution_count": 38,
   "id": "1d389fb3",
   "metadata": {},
   "outputs": [
    {
     "data": {
      "text/plain": [
       "3"
      ]
     },
     "execution_count": 38,
     "metadata": {},
     "output_type": "execute_result"
    }
   ],
   "source": [
    "# 輸出就會變成被 return_value 替代，減少 unit test 之間的相依性\n",
    "thing.method()"
   ]
  },
  {
   "cell_type": "code",
   "execution_count": null,
   "id": "f2f4e856",
   "metadata": {},
   "outputs": [],
   "source": []
  }
 ],
 "metadata": {
  "kernelspec": {
   "display_name": "Python 3 (ipykernel)",
   "language": "python",
   "name": "python3"
  },
  "language_info": {
   "codemirror_mode": {
    "name": "ipython",
    "version": 3
   },
   "file_extension": ".py",
   "mimetype": "text/x-python",
   "name": "python",
   "nbconvert_exporter": "python",
   "pygments_lexer": "ipython3",
   "version": "3.9.12"
  },
  "vscode": {
   "interpreter": {
    "hash": "9cb6c37fe2bb7ff6e603b877f66319992a4875ecf8d3e7d3627b96849f414406"
   }
  }
 },
 "nbformat": 4,
 "nbformat_minor": 5
}
