{
 "cells": [
  {
   "cell_type": "markdown",
   "id": "06943ee7",
   "metadata": {},
   "source": [
    "## Testing For Data Science\n",
    "\n",
    "Testing 常見於軟體工程之中，資料科學也不例外，當資料科學的程式碼需要進入整合進入生產環境中，\n",
    "也必須通過 Testing。以下為示意圖。\n",
    "\n",
    "![testing stages](https://miro.medium.com/max/1400/1*eRK_9-J8BQRNDHKmwXUxhg.webp)"
   ]
  },
  {
   "cell_type": "code",
   "execution_count": 2,
   "id": "9be5d261",
   "metadata": {},
   "outputs": [],
   "source": [
    "import unittest\n",
    "import pytest"
   ]
  },
  {
   "cell_type": "code",
   "execution_count": 3,
   "id": "8ead05d2",
   "metadata": {},
   "outputs": [],
   "source": [
    "def square(x):\n",
    "    \"\"\"\n",
    "        平方的 function。\n",
    "    \"\"\"\n",
    "    return x ** 2"
   ]
  },
  {
   "cell_type": "code",
   "execution_count": 5,
   "id": "a5b25acd",
   "metadata": {},
   "outputs": [],
   "source": [
    "# 為了要使用 unittest, 需要去繼承 unittest.TestCase\n",
    "\n",
    "\n",
    "class TestSampleFeatures(unittest.TestCase):\n",
    "    def test_square(self):\n",
    "        x = 3\n",
    "        result = square(x)\n",
    "        self.assertEqual(result, 9)"
   ]
  },
  {
   "cell_type": "code",
   "execution_count": 16,
   "id": "fe9502ab",
   "metadata": {},
   "outputs": [],
   "source": [
    "# 其實Unittest 使用內建的 assert 函數來測試特定條件\n",
    "# 只是提供了完整套件讓你不用自己去撰寫\n",
    "\n",
    "def test_case():\n",
    "    x = 10\n",
    "    result = square(x)\n",
    "    assert result == 100\n",
    "\n",
    "test_case()"
   ]
  },
  {
   "cell_type": "markdown",
   "id": "3a046999",
   "metadata": {},
   "source": [
    "unittest, pytest 的命名規則都是\n",
    "\n",
    "test_ 開頭\n",
    "\n",
    "或者\n",
    "\n",
    "_test 結尾"
   ]
  },
  {
   "cell_type": "code",
   "execution_count": 21,
   "id": "83edbcd5",
   "metadata": {},
   "outputs": [
    {
     "name": "stderr",
     "output_type": "stream",
     "text": [
      ".F\n",
      "======================================================================\n",
      "FAIL: test_triple (tests.unit_tests.test_data.TestSampleFeatures)\n",
      "----------------------------------------------------------------------\n",
      "Traceback (most recent call last):\n",
      "  File \"C:\\Users\\aaronyang\\Desktop\\work\\aaron-github\\daily-ds\\weekly-shared\\testing\\tests\\unit_tests\\test_data.py\", line 22, in test_triple\n",
      "    self.assertEqual(result, 27)\n",
      "AssertionError: 81 != 27\n",
      "\n",
      "----------------------------------------------------------------------\n",
      "Ran 2 tests in 0.000s\n",
      "\n",
      "FAILED (failures=1)\n"
     ]
    }
   ],
   "source": [
    "# cmd code\n",
    "\n",
    "!python -m unittest tests.unit_tests.test_data.TestSampleFeatures"
   ]
  },
  {
   "cell_type": "code",
   "execution_count": null,
   "id": "8503cd6d",
   "metadata": {},
   "outputs": [],
   "source": []
  }
 ],
 "metadata": {
  "kernelspec": {
   "display_name": "Python 3 (ipykernel)",
   "language": "python",
   "name": "python3"
  },
  "language_info": {
   "codemirror_mode": {
    "name": "ipython",
    "version": 3
   },
   "file_extension": ".py",
   "mimetype": "text/x-python",
   "name": "python",
   "nbconvert_exporter": "python",
   "pygments_lexer": "ipython3",
   "version": "3.9.12"
  },
  "vscode": {
   "interpreter": {
    "hash": "9cb6c37fe2bb7ff6e603b877f66319992a4875ecf8d3e7d3627b96849f414406"
   }
  }
 },
 "nbformat": 4,
 "nbformat_minor": 5
}
