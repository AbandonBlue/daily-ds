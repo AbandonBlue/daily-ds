{
 "cells": [
  {
   "cell_type": "markdown",
   "metadata": {},
   "source": [
    "## 1. 商業問題定義\n",
    "- 將短文本自然群聚成主題以及關鍵字，方便快速吸收目前討論內容。\n",
    "- 使用中文新聞公開資料。"
   ]
  },
  {
   "cell_type": "code",
   "execution_count": 1,
   "metadata": {},
   "outputs": [],
   "source": [
    "import tensorflow as tf\n",
    "from tensorflow import keras\n",
    "import numpy as np\n",
    "import pandas as pd\n",
    "import sklearn\n",
    "import matplotlib.pyplot as plt\n",
    "import jieba\n",
    "# import umap\n",
    "import umap.umap_ as umap\n",
    "import hdbscan\n",
    "from sentence_transformers import SentenceTransformer\n",
    "from sklearn.feature_extraction.text import CountVectorizer\n",
    "from sklearn.metrics.pairwise import cosine_similarity\n",
    "from tqdm import tqdm\n",
    "import matplotlib.pyplot as plt\n",
    "\n",
    "import time\n",
    "import os\n",
    "\n",
    "%matplotlib inline"
   ]
  },
  {
   "cell_type": "code",
   "execution_count": 2,
   "metadata": {},
   "outputs": [
    {
     "data": {
      "text/plain": [
       "True"
      ]
     },
     "execution_count": 2,
     "metadata": {},
     "output_type": "execute_result"
    }
   ],
   "source": [
    "tf.test.is_gpu_available()"
   ]
  },
  {
   "cell_type": "markdown",
   "metadata": {},
   "source": [
    "## 2. 取得資料"
   ]
  },
  {
   "cell_type": "code",
   "execution_count": 3,
   "metadata": {},
   "outputs": [
    {
     "data": {
      "text/plain": [
       "['toutiao_cat_data.txt', 'toutiao_cat_data.txt.zip', '聊天室美國資料.csv']"
      ]
     },
     "execution_count": 3,
     "metadata": {},
     "output_type": "execute_result"
    }
   ],
   "source": [
    "os.listdir('../data')"
   ]
  },
  {
   "cell_type": "code",
   "execution_count": 4,
   "metadata": {},
   "outputs": [
    {
     "data": {
      "text/plain": [
       "'6551700932705387022_!_101_!_news_culture_!_京城最值得你来场文化之旅的博物馆_!_保利集团,马未都,中国科学技术馆,博物馆,新中国\\n6552368441838'"
      ]
     },
     "execution_count": 4,
     "metadata": {},
     "output_type": "execute_result"
    }
   ],
   "source": [
    "text_name = os.path.join('../data', 'toutiao_cat_data.txt')\n",
    "\n",
    "with open(text_name, 'r', encoding='utf-8') as f:\n",
    "    data = f.read()\n",
    "    \n",
    "    \n",
    "data[:100]"
   ]
  },
  {
   "cell_type": "code",
   "execution_count": 5,
   "metadata": {},
   "outputs": [
    {
     "data": {
      "text/plain": [
       "382689"
      ]
     },
     "execution_count": 5,
     "metadata": {},
     "output_type": "execute_result"
    }
   ],
   "source": [
    "rows = data.split('\\n')\n",
    "len(rows)"
   ]
  },
  {
   "cell_type": "code",
   "execution_count": 6,
   "metadata": {},
   "outputs": [
    {
     "data": {
      "text/plain": [
       "'6551700932705387022_!_101_!_news_culture_!_京城最值得你来场文化之旅的博物馆_!_保利集团,马未都,中国科学技术馆,博物馆,新中国'"
      ]
     },
     "execution_count": 6,
     "metadata": {},
     "output_type": "execute_result"
    }
   ],
   "source": [
    "rows[0]"
   ]
  },
  {
   "cell_type": "code",
   "execution_count": 7,
   "metadata": {},
   "outputs": [
    {
     "name": "stdout",
     "output_type": "stream",
     "text": [
      "Wall time: 240 ms\n"
     ]
    }
   ],
   "source": [
    "%%time\n",
    "## 將資料特徵透過_!_拆分\n",
    "\n",
    "\n",
    "data = {\n",
    "    'category': [],\n",
    "    'content': [],\n",
    "    'keywords': []\n",
    "}\n",
    "\n",
    "for row in rows:\n",
    "    try:\n",
    "        #print(row.split('_!_'))\n",
    "        _, _, category, content, keywords = row.split('_!_')\n",
    "        #print(category)\n",
    "        #print(content)\n",
    "        #print(keywords)\n",
    "        data['category'].append(category)\n",
    "        data['content'].append(content)\n",
    "        data['keywords'].append(keywords)\n",
    "    except:\n",
    "        pass\n",
    "    "
   ]
  },
  {
   "cell_type": "code",
   "execution_count": 8,
   "metadata": {},
   "outputs": [
    {
     "name": "stdout",
     "output_type": "stream",
     "text": [
      "(382688, 3)\n"
     ]
    },
    {
     "data": {
      "text/html": [
       "<div>\n",
       "<style scoped>\n",
       "    .dataframe tbody tr th:only-of-type {\n",
       "        vertical-align: middle;\n",
       "    }\n",
       "\n",
       "    .dataframe tbody tr th {\n",
       "        vertical-align: top;\n",
       "    }\n",
       "\n",
       "    .dataframe thead th {\n",
       "        text-align: right;\n",
       "    }\n",
       "</style>\n",
       "<table border=\"1\" class=\"dataframe\">\n",
       "  <thead>\n",
       "    <tr style=\"text-align: right;\">\n",
       "      <th></th>\n",
       "      <th>category</th>\n",
       "      <th>content</th>\n",
       "      <th>keywords</th>\n",
       "    </tr>\n",
       "  </thead>\n",
       "  <tbody>\n",
       "    <tr>\n",
       "      <th>0</th>\n",
       "      <td>news_culture</td>\n",
       "      <td>京城最值得你来场文化之旅的博物馆</td>\n",
       "      <td>保利集团,马未都,中国科学技术馆,博物馆,新中国</td>\n",
       "    </tr>\n",
       "    <tr>\n",
       "      <th>1</th>\n",
       "      <td>news_culture</td>\n",
       "      <td>发酵床的垫料种类有哪些？哪种更好？</td>\n",
       "      <td></td>\n",
       "    </tr>\n",
       "    <tr>\n",
       "      <th>2</th>\n",
       "      <td>news_culture</td>\n",
       "      <td>上联：黄山黄河黄皮肤黄土高原。怎么对下联？</td>\n",
       "      <td></td>\n",
       "    </tr>\n",
       "    <tr>\n",
       "      <th>3</th>\n",
       "      <td>news_culture</td>\n",
       "      <td>林徽因什么理由拒绝了徐志摩而选择梁思成为终身伴侣？</td>\n",
       "      <td></td>\n",
       "    </tr>\n",
       "    <tr>\n",
       "      <th>4</th>\n",
       "      <td>news_culture</td>\n",
       "      <td>黄杨木是什么树？</td>\n",
       "      <td></td>\n",
       "    </tr>\n",
       "  </tbody>\n",
       "</table>\n",
       "</div>"
      ],
      "text/plain": [
       "       category                    content                  keywords\n",
       "0  news_culture           京城最值得你来场文化之旅的博物馆  保利集团,马未都,中国科学技术馆,博物馆,新中国\n",
       "1  news_culture          发酵床的垫料种类有哪些？哪种更好？                          \n",
       "2  news_culture      上联：黄山黄河黄皮肤黄土高原。怎么对下联？                          \n",
       "3  news_culture  林徽因什么理由拒绝了徐志摩而选择梁思成为终身伴侣？                          \n",
       "4  news_culture                   黄杨木是什么树？                          "
      ]
     },
     "execution_count": 8,
     "metadata": {},
     "output_type": "execute_result"
    }
   ],
   "source": [
    "## 包裝成df\n",
    "\n",
    "df = pd.DataFrame(data)\n",
    "del data\n",
    "\n",
    "print(df.shape)\n",
    "df.head()"
   ]
  },
  {
   "cell_type": "markdown",
   "metadata": {},
   "source": [
    "## 3. 特徵工程\n",
    "- 斷詞"
   ]
  },
  {
   "cell_type": "code",
   "execution_count": 9,
   "metadata": {},
   "outputs": [
    {
     "name": "stderr",
     "output_type": "stream",
     "text": [
      "Building prefix dict from the default dictionary ...\n",
      "Loading model from cache C:\\Users\\AARONY~1\\AppData\\Local\\Temp\\jieba.cache\n",
      "Loading model cost 0.469 seconds.\n",
      "Prefix dict has been built successfully.\n"
     ]
    },
    {
     "name": "stdout",
     "output_type": "stream",
     "text": [
      "Wall time: 27.9 s\n"
     ]
    },
    {
     "data": {
      "text/html": [
       "<div>\n",
       "<style scoped>\n",
       "    .dataframe tbody tr th:only-of-type {\n",
       "        vertical-align: middle;\n",
       "    }\n",
       "\n",
       "    .dataframe tbody tr th {\n",
       "        vertical-align: top;\n",
       "    }\n",
       "\n",
       "    .dataframe thead th {\n",
       "        text-align: right;\n",
       "    }\n",
       "</style>\n",
       "<table border=\"1\" class=\"dataframe\">\n",
       "  <thead>\n",
       "    <tr style=\"text-align: right;\">\n",
       "      <th></th>\n",
       "      <th>category</th>\n",
       "      <th>content</th>\n",
       "      <th>keywords</th>\n",
       "      <th>content_seg</th>\n",
       "    </tr>\n",
       "  </thead>\n",
       "  <tbody>\n",
       "    <tr>\n",
       "      <th>0</th>\n",
       "      <td>news_culture</td>\n",
       "      <td>京城最值得你来场文化之旅的博物馆</td>\n",
       "      <td>保利集团,马未都,中国科学技术馆,博物馆,新中国</td>\n",
       "      <td>京城 最 值得 你 来场 文化 之旅 的 博物馆</td>\n",
       "    </tr>\n",
       "    <tr>\n",
       "      <th>1</th>\n",
       "      <td>news_culture</td>\n",
       "      <td>发酵床的垫料种类有哪些？哪种更好？</td>\n",
       "      <td></td>\n",
       "      <td>发酵 床 的 垫料 种类 有 哪些 ？ 哪 种 更好 ？</td>\n",
       "    </tr>\n",
       "    <tr>\n",
       "      <th>2</th>\n",
       "      <td>news_culture</td>\n",
       "      <td>上联：黄山黄河黄皮肤黄土高原。怎么对下联？</td>\n",
       "      <td></td>\n",
       "      <td>上联 ： 黄山 黄河 黄皮肤 黄土高原 。 怎么 对 下联 ？</td>\n",
       "    </tr>\n",
       "    <tr>\n",
       "      <th>3</th>\n",
       "      <td>news_culture</td>\n",
       "      <td>林徽因什么理由拒绝了徐志摩而选择梁思成为终身伴侣？</td>\n",
       "      <td></td>\n",
       "      <td>林徽因 什么 理由 拒绝 了 徐志摩 而 选择 梁思成 为 终身伴侣 ？</td>\n",
       "    </tr>\n",
       "    <tr>\n",
       "      <th>4</th>\n",
       "      <td>news_culture</td>\n",
       "      <td>黄杨木是什么树？</td>\n",
       "      <td></td>\n",
       "      <td>黄杨木 是 什么 树 ？</td>\n",
       "    </tr>\n",
       "  </tbody>\n",
       "</table>\n",
       "</div>"
      ],
      "text/plain": [
       "       category                    content                  keywords  \\\n",
       "0  news_culture           京城最值得你来场文化之旅的博物馆  保利集团,马未都,中国科学技术馆,博物馆,新中国   \n",
       "1  news_culture          发酵床的垫料种类有哪些？哪种更好？                             \n",
       "2  news_culture      上联：黄山黄河黄皮肤黄土高原。怎么对下联？                             \n",
       "3  news_culture  林徽因什么理由拒绝了徐志摩而选择梁思成为终身伴侣？                             \n",
       "4  news_culture                   黄杨木是什么树？                             \n",
       "\n",
       "                            content_seg  \n",
       "0              京城 最 值得 你 来场 文化 之旅 的 博物馆  \n",
       "1          发酵 床 的 垫料 种类 有 哪些 ？ 哪 种 更好 ？  \n",
       "2       上联 ： 黄山 黄河 黄皮肤 黄土高原 。 怎么 对 下联 ？  \n",
       "3  林徽因 什么 理由 拒绝 了 徐志摩 而 选择 梁思成 为 终身伴侣 ？  \n",
       "4                          黄杨木 是 什么 树 ？  "
      ]
     },
     "execution_count": 9,
     "metadata": {},
     "output_type": "execute_result"
    }
   ],
   "source": [
    "%%time\n",
    "## 斷詞\n",
    "\n",
    "df['content_seg'] = df['content'].apply(lambda x : ' '.join([j.strip() for j in jieba.cut(x)]))\n",
    "df.head()"
   ]
  },
  {
   "cell_type": "code",
   "execution_count": 10,
   "metadata": {},
   "outputs": [
    {
     "data": {
      "text/plain": [
       "(20000, 4)"
      ]
     },
     "execution_count": 10,
     "metadata": {},
     "output_type": "execute_result"
    }
   ],
   "source": [
    "## 因為資料這樣會太多，找一下子集測試就好\n",
    "\n",
    "random_state = 222\n",
    "\n",
    "df = df.sample(n=20000, random_state=random_state)\n",
    "df.shape"
   ]
  },
  {
   "cell_type": "markdown",
   "metadata": {},
   "source": [
    "## 4. 建模\n",
    "- 文本向量化 - `sentence-transformer(SBERT)`\n",
    "- 降維 - `UMAP`\n",
    "- 分群 - `HDBSCAN`\n",
    "\n",
    "---\n",
    "\n",
    "\n",
    "值得注意的是，每一個動作都可以用別的演算法替代\n",
    "- [另外需要處理sentence-transformer只用pytorch的窘境](https://www.philschmid.de/tensorflow-sentence-transformers)"
   ]
  },
  {
   "cell_type": "code",
   "execution_count": 11,
   "metadata": {},
   "outputs": [
    {
     "name": "stderr",
     "output_type": "stream",
     "text": [
      "No sentence-transformers model found with name C:\\Users\\aaronyang/.cache\\torch\\sentence_transformers\\uer_sbert-base-chinese-nli. Creating a new one with MEAN pooling.\n"
     ]
    },
    {
     "name": "stdout",
     "output_type": "stream",
     "text": [
      "Wall time: 7.62 s\n"
     ]
    }
   ],
   "source": [
    "%%time\n",
    "\n",
    "## 文本向量化\n",
    "\n",
    "model_name = 'uer/sbert-base-chinese-nli'\n",
    "model = SentenceTransformer(model_name)"
   ]
  },
  {
   "cell_type": "code",
   "execution_count": 12,
   "metadata": {},
   "outputs": [
    {
     "data": {
      "text/plain": [
       "86"
      ]
     },
     "execution_count": 12,
     "metadata": {},
     "output_type": "execute_result"
    }
   ],
   "source": [
    "df['content'].apply(lambda x: len(x)).max()"
   ]
  },
  {
   "cell_type": "code",
   "execution_count": 13,
   "metadata": {},
   "outputs": [
    {
     "data": {
      "application/vnd.jupyter.widget-view+json": {
       "model_id": "0063a94b2dc941a790e8e86d5ce5f29e",
       "version_major": 2,
       "version_minor": 0
      },
      "text/plain": [
       "Batches:   0%|          | 0/625 [00:00<?, ?it/s]"
      ]
     },
     "metadata": {},
     "output_type": "display_data"
    },
    {
     "name": "stdout",
     "output_type": "stream",
     "text": [
      "Wall time: 6min 51s\n"
     ]
    }
   ],
   "source": [
    "%%time\n",
    "\n",
    "embeddings = model.encode(df['content'].tolist(), show_progress_bar=True)"
   ]
  },
  {
   "cell_type": "code",
   "execution_count": 14,
   "metadata": {},
   "outputs": [],
   "source": [
    "# model.encode(['為什麼那麼久?']*10000, show_progress_bar=True)"
   ]
  },
  {
   "cell_type": "code",
   "execution_count": 15,
   "metadata": {},
   "outputs": [
    {
     "data": {
      "text/plain": [
       "(20000, 768)"
      ]
     },
     "execution_count": 15,
     "metadata": {},
     "output_type": "execute_result"
    }
   ],
   "source": [
    "embeddings.shape"
   ]
  },
  {
   "cell_type": "code",
   "execution_count": 16,
   "metadata": {},
   "outputs": [
    {
     "data": {
      "text/plain": [
       "array([[ 0.8786188 ,  0.04504289,  0.26781574, ...,  1.2756814 ,\n",
       "         0.14441015, -0.01514008],\n",
       "       [ 0.28114983, -0.09786879, -0.5278394 , ...,  0.44912046,\n",
       "        -0.81957537, -0.6127376 ],\n",
       "       [ 0.11586589,  0.12935798, -0.70216423, ...,  0.7037909 ,\n",
       "         0.07032794,  0.08633716],\n",
       "       ...,\n",
       "       [ 0.01355686,  0.17061996, -0.2338957 , ..., -0.6837768 ,\n",
       "        -0.12829761,  0.5411159 ],\n",
       "       [ 0.18979554, -0.65322584, -1.0788306 , ...,  0.46245766,\n",
       "        -0.19942297, -0.03394207],\n",
       "       [ 0.61205834,  0.34195483, -0.8787517 , ...,  0.02076899,\n",
       "         0.3804629 ,  0.16369793]], dtype=float32)"
      ]
     },
     "execution_count": 16,
     "metadata": {},
     "output_type": "execute_result"
    }
   ],
   "source": [
    "embeddings"
   ]
  },
  {
   "cell_type": "code",
   "execution_count": 17,
   "metadata": {},
   "outputs": [
    {
     "name": "stderr",
     "output_type": "stream",
     "text": [
      "C:\\Users\\aaronyang\\AppData\\Roaming\\Python\\Python37\\site-packages\\numba\\np\\ufunc\\parallel.py:363: NumbaWarning: \u001b[1mThe TBB threading layer requires TBB version 2019.5 or later i.e., TBB_INTERFACE_VERSION >= 11005. Found TBB_INTERFACE_VERSION = 11004. The TBB threading layer is disabled.\u001b[0m\n",
      "  warnings.warn(problem)\n"
     ]
    },
    {
     "name": "stdout",
     "output_type": "stream",
     "text": [
      "Wall time: 43.2 s\n"
     ]
    }
   ],
   "source": [
    "%%time\n",
    "\n",
    "## 降維\n",
    "\n",
    "# 遇到\"Random Projection forest initialisation failed due to recursion\"\n",
    "\n",
    "umap_embeddings = umap.UMAP(\n",
    "    n_neighbors=25,\n",
    "    n_components=10,\n",
    "    metric='cosine',\n",
    "    random_state=random_state\n",
    ").fit_transform(embeddings)"
   ]
  },
  {
   "cell_type": "code",
   "execution_count": 20,
   "metadata": {},
   "outputs": [
    {
     "name": "stdout",
     "output_type": "stream",
     "text": [
      "Wall time: 5.44 s\n"
     ]
    }
   ],
   "source": [
    "%%time\n",
    "\n",
    "## 分群\n",
    "\n",
    "cluster = hdbscan.HDBSCAN(\n",
    "    min_cluster_size=30,\n",
    "    metric='euclidean',\n",
    "    cluster_selection_method='eom',\n",
    "    prediction_data=True\n",
    ").fit(umap_embeddings)"
   ]
  },
  {
   "cell_type": "code",
   "execution_count": 27,
   "metadata": {},
   "outputs": [],
   "source": [
    "## 將umap embedding降成2維搭配剛剛分群的label可以視覺化觀察\n",
    "\n",
    "umap_data = umap.UMAP(\n",
    "    n_neighbors=15,\n",
    "    n_components=2,\n",
    "    min_dist=0.0,\n",
    "    metric='cosine'\n",
    ").fit_transform(embeddings)\n",
    "\n",
    "result = pd.DataFrame(umap_data, columns=['x', 'y'])\n",
    "result['labels'] = cluster.labels_"
   ]
  },
  {
   "cell_type": "code",
   "execution_count": 28,
   "metadata": {},
   "outputs": [
    {
     "data": {
      "text/plain": [
       "<matplotlib.colorbar.Colorbar at 0x226fb4dd588>"
      ]
     },
     "execution_count": 28,
     "metadata": {},
     "output_type": "execute_result"
    },
    {
     "data": {
      "image/png": "[encoded data removed]",
      "text/plain": [
       "<Figure size 1800x1080 with 2 Axes>"
      ]
     },
     "metadata": {
      "needs_background": "light"
     },
     "output_type": "display_data"
    }
   ],
   "source": [
    "## 視覺化\n",
    "fig, ax = plt.subplots(figsize=(25, 15))\n",
    "outliers = result.loc[result.labels == -1, :]\n",
    "clustered = result.loc[result.labels == 1, :]\n",
    "# plt.scatter(outliers.x, outliers.y, color='#BDBDBD')\n",
    "plt.scatter(clustered.x, clustered.y, c=clustered.labels, cmap='hsv_r')\n",
    "plt.colorbar()"
   ]
  },
  {
   "cell_type": "code",
   "execution_count": 29,
   "metadata": {},
   "outputs": [
    {
     "data": {
      "text/plain": [
       "((36, 3), (253, 3))"
      ]
     },
     "execution_count": 29,
     "metadata": {},
     "output_type": "execute_result"
    }
   ],
   "source": [
    "clustered.shape, outliers.shape"
   ]
  },
  {
   "cell_type": "markdown",
   "metadata": {},
   "source": [
    "> 使用的資料集可能不是太好"
   ]
  },
  {
   "cell_type": "markdown",
   "metadata": {},
   "source": [
    "## 5. 應用\n",
    "- c-TF-IDF"
   ]
  },
  {
   "cell_type": "code",
   "execution_count": 37,
   "metadata": {},
   "outputs": [
    {
     "data": {
      "text/plain": [
       "(20000, 35374)"
      ]
     },
     "execution_count": 37,
     "metadata": {},
     "output_type": "execute_result"
    }
   ],
   "source": [
    "count = CountVectorizer(\n",
    "    ngram_range=(1, 1),\n",
    ").fit(df['content_seg'])\n",
    "\n",
    "## 得到(總樣本數, 總詞數)\n",
    "t = count.transform(df['content_seg']).toarray()\n",
    "t.shape"
   ]
  },
  {
   "cell_type": "code",
   "execution_count": 44,
   "metadata": {},
   "outputs": [
    {
     "data": {
      "text/plain": [
       "(20000,)"
      ]
     },
     "execution_count": 44,
     "metadata": {},
     "output_type": "execute_result"
    }
   ],
   "source": [
    "## 計算該檔案的總詞數\n",
    "\n",
    "w = t.sum(axis=1)\n",
    "w.shape"
   ]
  },
  {
   "cell_type": "code",
   "execution_count": 46,
   "metadata": {},
   "outputs": [
    {
     "data": {
      "text/plain": [
       "(35374, 20000)"
      ]
     },
     "execution_count": 46,
     "metadata": {},
     "output_type": "execute_result"
    }
   ],
   "source": [
    "## 計算tf\n",
    "\n",
    "tf = np.divide(t.T, w)\n",
    "tf.shape"
   ]
  },
  {
   "cell_type": "code",
   "execution_count": 47,
   "metadata": {},
   "outputs": [
    {
     "data": {
      "text/plain": [
       "(35374,)"
      ]
     },
     "execution_count": 47,
     "metadata": {},
     "output_type": "execute_result"
    }
   ],
   "source": [
    "## 計算特定詞出現總數\n",
    "\n",
    "sum_t = t.sum(axis=0)\n",
    "sum_t.shape"
   ]
  },
  {
   "cell_type": "code",
   "execution_count": 48,
   "metadata": {},
   "outputs": [
    {
     "data": {
      "text/plain": [
       "(35374, 1)"
      ]
     },
     "execution_count": 48,
     "metadata": {},
     "output_type": "execute_result"
    }
   ],
   "source": [
    "## 計算idf\n",
    "\n",
    "m = len(df)\n",
    "\n",
    "idf = np.log(np.divide(m, sum_t)).reshape(-1, 1)\n",
    "idf.shape"
   ]
  },
  {
   "cell_type": "code",
   "execution_count": 50,
   "metadata": {},
   "outputs": [
    {
     "data": {
      "text/plain": [
       "(35374, 20000)"
      ]
     },
     "execution_count": 50,
     "metadata": {},
     "output_type": "execute_result"
    }
   ],
   "source": [
    "# tfidf(總詞數, 總樣本數)\n",
    "\n",
    "tf_idf = np.multiply(tf, idf)\n",
    "tf_idf.shape"
   ]
  },
  {
   "cell_type": "code",
   "execution_count": 52,
   "metadata": {},
   "outputs": [
    {
     "data": {
      "text/plain": [
       "(20000, 35374)"
      ]
     },
     "execution_count": 52,
     "metadata": {},
     "output_type": "execute_result"
    }
   ],
   "source": [
    "from sklearn.feature_extraction.text import TfidfVectorizer\n",
    "\n",
    "corpus = []\n",
    "\n",
    "df['content_seg'].apply(lambda x: corpus.append(x))\n",
    "\n",
    "tfidf_vectorizer = TfidfVectorizer()\n",
    "tfidf_sklearn = tfidf_vectorizer.fit_transform(corpus)\n",
    "tfidf_sklearn.shape"
   ]
  },
  {
   "cell_type": "code",
   "execution_count": 53,
   "metadata": {},
   "outputs": [
    {
     "data": {
      "text/plain": [
       "matrix([[ True,  True,  True, ...,  True,  True,  True],\n",
       "        [ True,  True,  True, ...,  True,  True,  True],\n",
       "        [ True,  True,  True, ...,  True,  True,  True],\n",
       "        ...,\n",
       "        [ True,  True,  True, ...,  True,  True,  True],\n",
       "        [ True,  True,  True, ...,  True,  True,  True],\n",
       "        [ True,  True,  True, ...,  True,  True,  True]])"
      ]
     },
     "execution_count": 53,
     "metadata": {},
     "output_type": "execute_result"
    }
   ],
   "source": [
    "tfidf_sklearn == tf_idf.T"
   ]
  },
  {
   "cell_type": "code",
   "execution_count": 54,
   "metadata": {},
   "outputs": [],
   "source": [
    "def c_tf_idf(documents, m, ngram_range=(1, 1)):\n",
    "    \"\"\"\n",
    "        將每一個群當作一個文本，來進行tfidf。\n",
    "        ---\n",
    "        為什麼不用 tf-idf 套件? 等等比對看看是否一樣 ---> 上面計算起來是一樣的。\n",
    "        ---> 後續發現其實參照官方定義是不一樣的。https://maartengr.github.io/BERTopic/getting_started/ctfidf/ctfidf.html\n",
    "    \"\"\"\n",
    "    count = CountVectorizer(\n",
    "        ngram_range=ngram_range,\n",
    "    ).fit(documents)\n",
    "    t = count.transform(documents).toarray() # (num_examples, num_tokens)\n",
    "    w = t.sum(axis=1)  # 每一個樣本總詞數                # (num_examples)\n",
    "    tf = np.divide(t.T, w) \n",
    "    sum_t = t.sum(axis=0) # 每一個詞的總次數 \n",
    "    idf = np.divide(m, sum_t).reshape(-1, 1)\n",
    "    tf_idf = np.multiply(tf, idf)\n",
    "    \n",
    "    return tf_idf, count"
   ]
  },
  {
   "cell_type": "code",
   "execution_count": 55,
   "metadata": {},
   "outputs": [],
   "source": [
    "def extract_top_n_words_per_topic(tf_idf, count, docs_per_topic, n=20):\n",
    "    \"\"\"\n",
    "        取得每一個主題的關鍵詞，透過tfidf數值越大，越重要。 \n",
    "    \"\"\"\n",
    "    words = count.get_feature_names()\n",
    "    labels = list(docs_per_topic.Topic)\n",
    "    tf_idf_transposed = tf_idf.T  # (總樣本數, 總詞數)\n",
    "    indices = tf_idf_transposed.argsort()[:, -n:]  # 因為是低到高, 所以用-n\n",
    "    top_n_words = {\n",
    "        label: [(words[j], tf_idf_transposed[i][j]) for j in indices[i]][::-1] for i, label in enumerate(labels)\n",
    "    }\n",
    "    return top_n_words\n",
    "\n",
    "\n",
    "def extract_topic_sizes(df):\n",
    "    topic_sizes = (df.groupby(['Topic'])\n",
    "                   .Doc\n",
    "                   .count()\n",
    "                   .reset_index()\n",
    "                   .rename({\"Topic\": \"Topic\", \"Doc\": \"Size\"}, axis='columns')\n",
    "                   .sort_values(\"Size\", ascending=False)\n",
    "                  )\n",
    "    return topic_sizes"
   ]
  },
  {
   "cell_type": "code",
   "execution_count": 59,
   "metadata": {},
   "outputs": [],
   "source": [
    "## 把每一個群包裝成一個文檔 ---> docs_per_topic\n",
    "\n",
    "docs_df = pd.DataFrame(df['content_seg'].tolist(), columns=[\"Doc\"]) \n",
    "docs_df['Topic'] = cluster.labels_\n",
    "docs_df['Doc_ID'] = range(len(docs_df))\n",
    "docs_per_topic = docs_df.groupby(['Topic'], as_index = False).agg({'Doc': ' '.join})"
   ]
  },
  {
   "cell_type": "code",
   "execution_count": 60,
   "metadata": {},
   "outputs": [
    {
     "data": {
      "text/plain": [
       "9"
      ]
     },
     "execution_count": 60,
     "metadata": {},
     "output_type": "execute_result"
    }
   ],
   "source": [
    "len(docs_per_topic.Doc.tolist())"
   ]
  },
  {
   "cell_type": "code",
   "execution_count": 87,
   "metadata": {},
   "outputs": [],
   "source": [
    "## 這邊為什麼 m 是 len(df)，不是 總共主題數 ---> 但其實用哪一個是沒有差的，都只是一個常數\n",
    "## 根據官方的說明是有差的，但為什麼可以這樣調整?\n",
    "\n",
    "\n",
    "tf_idf, count = c_tf_idf(docs_per_topic.Doc.values, m = len(df))"
   ]
  },
  {
   "cell_type": "code",
   "execution_count": 88,
   "metadata": {},
   "outputs": [
    {
     "data": {
      "text/plain": [
       "array([[0.        , 0.        , 0.        , ..., 0.        , 0.        ,\n",
       "        0.13386433],\n",
       "       [0.        , 0.        , 0.        , ..., 0.        , 0.        ,\n",
       "        0.13386433],\n",
       "       [0.        , 0.        , 0.        , ..., 0.        , 0.        ,\n",
       "        0.13386433],\n",
       "       ...,\n",
       "       [0.        , 0.        , 0.        , ..., 0.        , 0.        ,\n",
       "        0.13386433],\n",
       "       [0.        , 0.        , 0.        , ..., 0.        , 0.        ,\n",
       "        0.13386433],\n",
       "       [0.        , 0.        , 0.        , ..., 0.        , 0.        ,\n",
       "        0.13386433]])"
      ]
     },
     "execution_count": 88,
     "metadata": {},
     "output_type": "execute_result"
    }
   ],
   "source": [
    "tf_idf"
   ]
  },
  {
   "cell_type": "code",
   "execution_count": 89,
   "metadata": {},
   "outputs": [
    {
     "name": "stderr",
     "output_type": "stream",
     "text": [
      "C:\\Users\\aaronyang\\Anaconda3\\envs\\tf-gpu-env\\lib\\site-packages\\sklearn\\utils\\deprecation.py:87: FutureWarning: Function get_feature_names is deprecated; get_feature_names is deprecated in 1.0 and will be removed in 1.2. Please use get_feature_names_out instead.\n",
      "  warnings.warn(msg, category=FutureWarning)\n"
     ]
    },
    {
     "data": {
      "text/html": [
       "<div>\n",
       "<style scoped>\n",
       "    .dataframe tbody tr th:only-of-type {\n",
       "        vertical-align: middle;\n",
       "    }\n",
       "\n",
       "    .dataframe tbody tr th {\n",
       "        vertical-align: top;\n",
       "    }\n",
       "\n",
       "    .dataframe thead th {\n",
       "        text-align: right;\n",
       "    }\n",
       "</style>\n",
       "<table border=\"1\" class=\"dataframe\">\n",
       "  <thead>\n",
       "    <tr style=\"text-align: right;\">\n",
       "      <th></th>\n",
       "      <th>Topic</th>\n",
       "      <th>Size</th>\n",
       "    </tr>\n",
       "  </thead>\n",
       "  <tbody>\n",
       "    <tr>\n",
       "      <th>8</th>\n",
       "      <td>7</td>\n",
       "      <td>19457</td>\n",
       "    </tr>\n",
       "    <tr>\n",
       "      <th>0</th>\n",
       "      <td>-1</td>\n",
       "      <td>253</td>\n",
       "    </tr>\n",
       "    <tr>\n",
       "      <th>7</th>\n",
       "      <td>6</td>\n",
       "      <td>57</td>\n",
       "    </tr>\n",
       "    <tr>\n",
       "      <th>4</th>\n",
       "      <td>3</td>\n",
       "      <td>50</td>\n",
       "    </tr>\n",
       "    <tr>\n",
       "      <th>3</th>\n",
       "      <td>2</td>\n",
       "      <td>40</td>\n",
       "    </tr>\n",
       "    <tr>\n",
       "      <th>1</th>\n",
       "      <td>0</td>\n",
       "      <td>36</td>\n",
       "    </tr>\n",
       "    <tr>\n",
       "      <th>2</th>\n",
       "      <td>1</td>\n",
       "      <td>36</td>\n",
       "    </tr>\n",
       "    <tr>\n",
       "      <th>5</th>\n",
       "      <td>4</td>\n",
       "      <td>36</td>\n",
       "    </tr>\n",
       "    <tr>\n",
       "      <th>6</th>\n",
       "      <td>5</td>\n",
       "      <td>35</td>\n",
       "    </tr>\n",
       "  </tbody>\n",
       "</table>\n",
       "</div>"
      ],
      "text/plain": [
       "   Topic   Size\n",
       "8      7  19457\n",
       "0     -1    253\n",
       "7      6     57\n",
       "4      3     50\n",
       "3      2     40\n",
       "1      0     36\n",
       "2      1     36\n",
       "5      4     36\n",
       "6      5     35"
      ]
     },
     "execution_count": 89,
     "metadata": {},
     "output_type": "execute_result"
    }
   ],
   "source": [
    "top_n_words = extract_top_n_words_per_topic(tf_idf, count, docs_per_topic, n=20)\n",
    "topic_sizes = extract_topic_sizes(docs_df); topic_sizes.head(10)"
   ]
  },
  {
   "cell_type": "code",
   "execution_count": 90,
   "metadata": {},
   "outputs": [
    {
     "data": {
      "text/plain": [
       "[('一文不值', 80.64516129032258),\n",
       " ('老一辈', 80.64516129032258),\n",
       " ('北风', 80.64516129032258),\n",
       " ('家败人亡', 80.64516129032258),\n",
       " ('扇门', 80.64516129032258),\n",
       " ('可信', 80.64516129032258),\n",
       " ('扫堂', 80.64516129032258),\n",
       " ('不值钱', 76.16487455197132),\n",
       " ('言论', 68.54838709677419),\n",
       " ('惊人', 50.77658303464755),\n",
       " ('的话', 46.473482777474025),\n",
       " ('关上', 40.32258064516129),\n",
       " ('啥意思', 26.881720430107528),\n",
       " ('马云', 23.63737486095662),\n",
       " ('房子', 19.332744144940346),\n",
       " ('可能', 0.7331378299120234),\n",
       " ('外家拳', 0.0),\n",
       " ('外形', 0.0),\n",
       " ('外媒', 0.0),\n",
       " ('外孙', 0.0)]"
      ]
     },
     "execution_count": 90,
     "metadata": {},
     "output_type": "execute_result"
    }
   ],
   "source": [
    "top_n_words[0]"
   ]
  },
  {
   "cell_type": "code",
   "execution_count": 91,
   "metadata": {},
   "outputs": [
    {
     "name": "stdout",
     "output_type": "stream",
     "text": [
      "Most 20 Important words in TOPIC 0 :\n",
      "\n",
      "[('一文不值', 80.64516129032258),\n",
      " ('老一辈', 80.64516129032258),\n",
      " ('北风', 80.64516129032258),\n",
      " ('家败人亡', 80.64516129032258),\n",
      " ('扇门', 80.64516129032258),\n",
      " ('可信', 80.64516129032258),\n",
      " ('扫堂', 80.64516129032258),\n",
      " ('不值钱', 76.16487455197132),\n",
      " ('言论', 68.54838709677419),\n",
      " ('惊人', 50.77658303464755),\n",
      " ('的话', 46.473482777474025),\n",
      " ('关上', 40.32258064516129),\n",
      " ('啥意思', 26.881720430107528),\n",
      " ('马云', 23.63737486095662),\n",
      " ('房子', 19.332744144940346),\n",
      " ('可能', 0.7331378299120234),\n",
      " ('外家拳', 0.0),\n",
      " ('外形', 0.0),\n",
      " ('外媒', 0.0),\n",
      " ('外孙', 0.0)]\n",
      "'************************************************************'\n",
      "Most 20 Important words in TOPIC 1 :\n",
      "\n",
      "[('黄庭坚', 92.59259259259258),\n",
      " ('寒食', 92.59259259259258),\n",
      " ('黄州', 92.59259259259258),\n",
      " ('洪拳', 92.59259259259258),\n",
      " ('泰山', 89.78675645342311),\n",
      " ('黄山', 75.97340930674264),\n",
      " ('赵本山', 73.21274763135229),\n",
      " ('有座', 61.72839506172839),\n",
      " ('行书', 46.29629629629629),\n",
      " ('黄飞鸿', 46.29629629629629),\n",
      " ('题跋', 46.29629629629629),\n",
      " ('苏东坡', 46.29629629629629),\n",
      " ('子孙', 46.29629629629629),\n",
      " ('临摹', 46.29629629629629),\n",
      " ('今何在', 46.29629629629629),\n",
      " ('心里', 18.51851851851852),\n",
      " ('下联', 5.851576483546744),\n",
      " ('上联', 5.787037037037037),\n",
      " ('大师', 4.409171075837742),\n",
      " ('如何', 2.513115320579273)]\n",
      "'************************************************************'\n",
      "Most 20 Important words in TOPIC 2 :\n",
      "\n",
      "[('填平', 71.94244604316548),\n",
      " ('牧马', 71.94244604316548),\n",
      " ('方先觉', 71.94244604316548),\n",
      " ('历史悠久', 71.94244604316548),\n",
      " ('须持', 71.94244604316548),\n",
      " ('真空地带', 71.94244604316548),\n",
      " ('后悔药', 71.94244604316548),\n",
      " ('今后', 63.72045220966084),\n",
      " ('过后', 58.68989019310867),\n",
      " ('日子', 53.10037684138404),\n",
      " ('移植', 35.97122302158274),\n",
      " ('老款', 35.97122302158274),\n",
      " ('投票', 28.592510606899097),\n",
      " ('事件', 28.230580092887717),\n",
      " ('某个', 23.980815347721826),\n",
      " ('会战', 23.980815347721826),\n",
      " ('平遥', 23.980815347721826),\n",
      " ('迎客松', 23.980815347721826),\n",
      " ('回到', 17.98561151079137),\n",
      " ('金控', 14.388489208633095)]\n",
      "'************************************************************'\n",
      "Most 20 Important words in TOPIC 3 :\n",
      "\n",
      "[('语出惊人', 44.150110375275936),\n",
      " ('有款', 44.150110375275936),\n",
      " ('核打击', 44.150110375275936),\n",
      " ('立碑', 44.150110375275936),\n",
      " ('病情', 44.150110375275936),\n",
      " ('侵略者', 44.150110375275936),\n",
      " ('媒体报道', 44.150110375275936),\n",
      " ('核优势', 44.150110375275936),\n",
      " ('拦下', 44.150110375275936),\n",
      " ('俄对', 44.150110375275936),\n",
      " ('法会', 44.150110375275936),\n",
      " ('军事基地', 41.94260485651214),\n",
      " ('击落', 40.13646397752358),\n",
      " ('警告', 35.69583392043586),\n",
      " ('轰炸', 32.89616067177423),\n",
      " ('将会', 26.214128035320087),\n",
      " ('化学武器', 22.075055187637968),\n",
      " ('前防长', 22.075055187637968),\n",
      " ('9800', 22.075055187637968),\n",
      " ('发动战争', 22.075055187637968)]\n",
      "'************************************************************'\n",
      "Most 20 Important words in TOPIC 4 :\n",
      "\n",
      "[('画马', 52.91005291005291),\n",
      " ('两口', 52.910052910052904),\n",
      " ('排联', 52.910052910052904),\n",
      " ('国乒差', 52.910052910052904),\n",
      " ('马门', 52.910052910052904),\n",
      " ('闯入', 52.910052910052904),\n",
      " ('源自', 50.95042132079169),\n",
      " ('象棋', 49.38271604938271),\n",
      " ('大象', 49.130763416477706),\n",
      " ('方舟子', 49.130763416477706),\n",
      " ('说法', 32.7538422776518),\n",
      " ('古代', 26.455026455026456),\n",
      " ('智力', 26.455026455026452),\n",
      " ('编号', 26.455026455026452),\n",
      " ('墙上', 21.164021164021165),\n",
      " ('男女', 13.227513227513226),\n",
      " ('一星半点', 13.227513227513226),\n",
      " ('李隼', 13.227513227513226),\n",
      " ('认为', 12.282690854119426),\n",
      " ('厕所', 11.757789535567312)]\n",
      "'************************************************************'\n",
      "Most 20 Important words in TOPIC 5 :\n",
      "\n",
      "[('上课时', 40.32258064516129),\n",
      " ('冰窖', 40.32258064516129),\n",
      " ('一怒之下', 40.32258064516129),\n",
      " ('偷拿', 40.32258064516129),\n",
      " ('响个', 40.32258064516129),\n",
      " ('发票', 35.57874762808349),\n",
      " ('不停', 32.69398430688753),\n",
      " ('打哭', 20.161290322580644),\n",
      " ('班主任', 20.161290322580644),\n",
      " ('醒后', 20.161290322580644),\n",
      " ('玩上', 20.161290322580644),\n",
      " ('拉近', 20.161290322580644),\n",
      " ('老师', 17.789373814041745),\n",
      " ('家长', 14.044943820224718),\n",
      " ('收走', 13.440860215053764),\n",
      " ('老是', 13.440860215053764),\n",
      " ('坏话', 13.440860215053764),\n",
      " ('受辱', 13.440860215053764),\n",
      " ('水杯', 13.440860215053764),\n",
      " ('护士', 10.080645161290322)]\n",
      "'************************************************************'\n",
      "Most 20 Important words in TOPIC 6 :\n",
      "\n",
      "[('itv', 30.53435114503817),\n",
      " ('855', 30.53435114503817),\n",
      " ('干预', 30.53435114503817),\n",
      " ('彼此之间', 30.53435114503817),\n",
      " ('全掉', 30.53435114503817),\n",
      " ('伊朗政府', 30.53435114503817),\n",
      " ('竞争者', 30.53435114503817),\n",
      " ('好搭档', 30.53435114503817),\n",
      " ('一众', 30.53435114503817),\n",
      " ('有无', 30.53435114503817),\n",
      " ('决择', 29.00763358778626),\n",
      " ('意愿', 27.758501040943788),\n",
      " ('按照', 27.758501040943788),\n",
      " ('惜败', 26.717557251908396),\n",
      " ('舆论', 26.3705759888966),\n",
      " ('权利', 25.44529262086514),\n",
      " ('掀起', 24.173027989821882),\n",
      " ('投给', 23.264267539076698),\n",
      " ('风暴', 23.206106870229007),\n",
      " ('武力', 22.900763358778626)]\n",
      "'************************************************************'\n",
      "Most 20 Important words in TOPIC 7 :\n",
      "\n",
      "[('龚滩', 0.13386432850306215),\n",
      " ('夜夜', 0.13386432850306215),\n",
      " ('夜查', 0.13386432850306215),\n",
      " ('夜景', 0.13386432850306215),\n",
      " ('夜晚', 0.13386432850306215),\n",
      " ('夜店', 0.13386432850306215),\n",
      " ('夜市', 0.13386432850306215),\n",
      " ('夜宿', 0.13386432850306215),\n",
      " ('夜不闭户', 0.13386432850306215),\n",
      " ('大受', 0.13386432850306215),\n",
      " ('夜上', 0.13386432850306215),\n",
      " ('多高管', 0.13386432850306215),\n",
      " ('多领', 0.13386432850306215),\n",
      " ('多项', 0.13386432850306215),\n",
      " ('多音字', 0.13386432850306215),\n",
      " ('多面手', 0.13386432850306215),\n",
      " ('夜深', 0.13386432850306215),\n",
      " ('夜班', 0.13386432850306215),\n",
      " ('夜盘', 0.13386432850306215),\n",
      " ('夜空', 0.13386432850306215)]\n",
      "'************************************************************'\n"
     ]
    }
   ],
   "source": [
    "from pprint import pprint\n",
    "for i in list(range(len(top_n_words) - 1)):\n",
    "    print('Most 20 Important words in TOPIC {} :\\n'.format(i))\n",
    "    pprint(top_n_words[i])\n",
    "    pprint('***'*20)"
   ]
  },
  {
   "cell_type": "code",
   "execution_count": null,
   "metadata": {},
   "outputs": [],
   "source": []
  },
  {
   "cell_type": "code",
   "execution_count": null,
   "metadata": {},
   "outputs": [],
   "source": []
  }
 ],
 "metadata": {
  "kernelspec": {
   "display_name": "Python 3",
   "language": "python",
   "name": "python3"
  },
  "language_info": {
   "codemirror_mode": {
    "name": "ipython",
    "version": 3
   },
   "file_extension": ".py",
   "mimetype": "text/x-python",
   "name": "python",
   "nbconvert_exporter": "python",
   "pygments_lexer": "ipython3",
   "version": "3.7.3"
  }
 },
 "nbformat": 4,
 "nbformat_minor": 2
}
