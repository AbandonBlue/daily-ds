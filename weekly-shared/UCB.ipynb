{
 "cells": [
  {
   "cell_type": "markdown",
   "id": "9e4cd065",
   "metadata": {},
   "source": [
    "## 強化學習 - UCB\n",
    "- UCB(Upper Confidence Bound) 是一個探索、利用的方法，常用於強化學習、MAB問題。\n",
    "- [參考](https://blog.csdn.net/qq_42105426/article/details/88709701)\n",
    "- 過往比如 e-greedy 算法，抽取的機率是根據抽取到的次數相關，而UCB在此基礎上進行優化，將抽取機率與真實機率隨著抽取次數成指數下降，這樣會達到更快地收斂以及讓沒抽到的算法有高的機會累積實驗次數(抽取)。\n",
    "- 參考以下公式進行抽取分數計算，分數越高抽取機率越高。\n",
    "\n",
    "\n",
    "![UCB 分數計算](https://img-blog.csdn.net/20170503182746188)"
   ]
  },
  {
   "cell_type": "code",
   "execution_count": 5,
   "id": "daac5b8c",
   "metadata": {},
   "outputs": [],
   "source": [
    "import numpy as np\n",
    "import pandas as pd\n",
    "import matplotlib.pyplot as plt\n",
    "%matplotlib inline"
   ]
  },
  {
   "cell_type": "code",
   "execution_count": 6,
   "id": "ed7cbb48",
   "metadata": {},
   "outputs": [],
   "source": [
    "def find_index(x):\n",
    "    return x.index(max(x))"
   ]
  },
  {
   "cell_type": "code",
   "execution_count": 11,
   "id": "9eb7b479",
   "metadata": {},
   "outputs": [],
   "source": [
    "class UCB():\n",
    "    def __init__(self, n_arms):\n",
    "        self.n_arms = n_arms\n",
    "        self.counts = [0] * (n_arms)   # 實驗次數\n",
    "        self.values = [0] * (n_arms)   # 目前arms(index位置決定)的分數\n",
    "    \n",
    "    def initialize(self):\n",
    "        self.counts = [0] * (n_arms)   # 實驗次數\n",
    "        self.values = [0] * (n_arms)   # 目前arms(index位置決定)的分數\n",
    "    \n",
    "    def select_arm(self):\n",
    "        \"\"\"\n",
    "            - 如果沒有選過，每次都先選至少一次。\n",
    "            - 其他則根據分數判斷。 \n",
    "        \"\"\"\n",
    "        for arm in range(self.n_arms):\n",
    "            if self.counts[arm] == 0:\n",
    "                self.update(arm, )\n",
    "                return arm\n",
    "        \n",
    "        unb_values = [0] * self.n_arms\n",
    "        total_counts = sum(self.counts)\n",
    "        \n",
    "        for arm in range(self.n_arms):\n",
    "            bonus = np.log10(2 * np.log(total_counts) / self.counts[arm])\n",
    "            unb_values[arm] += bonus\n",
    "        return np.argmax(unb_values)\n",
    "        \n",
    "    \n",
    "    def update(self, chosen_arm, reward):\n",
    "        \"\"\"\n",
    "            更新目前 reward，用以後抽取計算。\n",
    "        \"\"\"\n",
    "        self.counts[chosen_arm] += 1\n",
    "        n = self.counts[chosen_arm]\n",
    "        value = self.values[chosen_arm]\n",
    "        new_value = ((n-1) / n) * value + (1 / n) * reward\n",
    "        self.values[chosen_arm] = new_value\n",
    "        "
   ]
  },
  {
   "cell_type": "code",
   "execution_count": 12,
   "id": "84ab6af9",
   "metadata": {},
   "outputs": [],
   "source": [
    "ucb = UCB(3)"
   ]
  },
  {
   "cell_type": "code",
   "execution_count": null,
   "id": "cd858b49",
   "metadata": {},
   "outputs": [],
   "source": []
  }
 ],
 "metadata": {
  "kernelspec": {
   "display_name": "Python 3 (ipykernel)",
   "language": "python",
   "name": "python3"
  },
  "language_info": {
   "codemirror_mode": {
    "name": "ipython",
    "version": 3
   },
   "file_extension": ".py",
   "mimetype": "text/x-python",
   "name": "python",
   "nbconvert_exporter": "python",
   "pygments_lexer": "ipython3",
   "version": "3.9.12"
  }
 },
 "nbformat": 4,
 "nbformat_minor": 5
}
