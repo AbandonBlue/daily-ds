{
 "cells": [
  {
   "cell_type": "code",
   "execution_count": 3,
   "metadata": {
    "ExecuteTime": {
     "end_time": "2021-05-22T12:29:05.800493Z",
     "start_time": "2021-05-22T12:29:00.700321Z"
    }
   },
   "outputs": [
    {
     "name": "stdout",
     "output_type": "stream",
     "text": [
      "[((0, 1, 2, 3, 4, 5, 6, 7, 8, 9), 1), ((2, 3, 4, 5, 6, 7, 8, 9, 10, 11), 45)]\n",
      "按照距離近到遠排序: \n",
      "id:  1  距離搜尋點:  1\n",
      "id:  3  距離搜尋點:  45\n"
     ]
    }
   ],
   "source": [
    "\"\"\"\n",
    "    透過LSH演算法去幫助近似搜尋。\n",
    "    因為LSH只能夠設定vector，要另外使用dict or hash table去做雙向的id2vector mapping來提供定位真實物件。\n",
    "    \n",
    "    待完成:\n",
    "        可能要搭配tfidf-transformer不然無法一個新的搜尋token、新的向量去直接做查找。\n",
    "    \n",
    "    注意:\n",
    "        可能會產生搜尋不到的狀況\n",
    "\"\"\"\n",
    "from lshash.lshash import LSHash\n",
    "\n",
    "# 實例化LSHash, 設定hash_size、向量長度，甚至能與redis連接\n",
    "lsh = LSHash(hash_size=6,  input_dim=10)\n",
    "\n",
    "# 資料點\n",
    "v1 = tuple([i for i in range(10)])\n",
    "v2 = tuple([i for i in range(10, 20)])\n",
    "v3 = tuple([i for i in range(2,  12)])\n",
    "\n",
    "# 雙向mapping\n",
    "id2vec = {\n",
    "    1: v1,\n",
    "    2: v2,\n",
    "    3: v3\n",
    "}\n",
    "vec2id = {\n",
    "    v1: 1,\n",
    "    v2: 2,\n",
    "    v3: 3\n",
    "}\n",
    "\n",
    "# 搜尋主體\n",
    "search_query = tuple([0, 1, 2, 3, 4, 5, 5, 7, 8, 9])\n",
    "\n",
    "# 資料點丟入\n",
    "lsh.index(input_point=v1)\n",
    "lsh.index(input_point=v2)\n",
    "lsh.index(input_point=v3)\n",
    "\n",
    "# 搜尋, 距離函數(euclidean, hamming)、回傳多少個結果都可以設定,\n",
    "result = lsh.query(query_point=search_query, num_results=2, distance_func='euclidean')\n",
    "\n",
    "# 結果, 透過雙向dict去找回唯一id\n",
    "print(result)\n",
    "print('按照距離近到遠排序: ')\n",
    "for vec, dist in result:\n",
    "    print('id: ', vec2id[vec], ' 距離搜尋點: ', dist)"
   ]
  },
  {
   "cell_type": "code",
   "execution_count": null,
   "metadata": {},
   "outputs": [],
   "source": []
  }
 ],
 "metadata": {
  "kernelspec": {
   "display_name": "Python 3.7.3 64-bit",
   "language": "python",
   "name": "python37364bit6893c7013b164b1189a865dcaea9fb2f"
  },
  "language_info": {
   "codemirror_mode": {
    "name": "ipython",
    "version": 3
   },
   "file_extension": ".py",
   "mimetype": "text/x-python",
   "name": "python",
   "nbconvert_exporter": "python",
   "pygments_lexer": "ipython3",
   "version": "3.7.3"
  }
 },
 "nbformat": 4,
 "nbformat_minor": 4
}
