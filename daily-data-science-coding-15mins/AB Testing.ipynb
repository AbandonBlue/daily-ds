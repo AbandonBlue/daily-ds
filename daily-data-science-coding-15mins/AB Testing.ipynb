{
 "cells": [
  {
   "cell_type": "markdown",
   "metadata": {},
   "source": [
    "## A/B Testing 的常見錯誤 - early stopping\n",
    "- 一般來說，A/B Testing會在設定好`型一錯誤alpha`、`power(1-beta)`以及`Minimum Detectable Effect`的狀況下，設定預估收集的樣本數，在依此收集足夠的樣本`後`透過檢定判斷是否顯著。\n",
    "- 而`early stopping`指的是，當你在收集完足夠樣本數之前，提前`peek`目前的測試效果，提早做檢定導致`偽陽性`發生，也就是實際沒有顯著差異，卻因為沒有收集到足夠的樣本，導致誤判。\n",
    "\n",
    "---\n",
    "\n",
    "[內容參考 - A/B Testing：「偷看結果」將成為最大的錯誤](https://haosquare.com/ab-testing-peeking/)"
   ]
  },
  {
   "cell_type": "code",
   "execution_count": 24,
   "metadata": {
    "ExecuteTime": {
     "end_time": "2023-03-16T16:15:12.816621Z",
     "start_time": "2023-03-16T16:15:12.797608Z"
    }
   },
   "outputs": [],
   "source": [
    "import numpy as np\n",
    "import pandas as pd\n",
    "from scipy import stats"
   ]
  },
  {
   "cell_type": "code",
   "execution_count": 25,
   "metadata": {
    "ExecuteTime": {
     "end_time": "2023-03-16T16:15:13.218933Z",
     "start_time": "2023-03-16T16:15:13.195943Z"
    }
   },
   "outputs": [
    {
     "data": {
      "text/html": [
       "<div>\n",
       "<style scoped>\n",
       "    .dataframe tbody tr th:only-of-type {\n",
       "        vertical-align: middle;\n",
       "    }\n",
       "\n",
       "    .dataframe tbody tr th {\n",
       "        vertical-align: top;\n",
       "    }\n",
       "\n",
       "    .dataframe thead th {\n",
       "        text-align: right;\n",
       "    }\n",
       "</style>\n",
       "<table border=\"1\" class=\"dataframe\">\n",
       "  <thead>\n",
       "    <tr style=\"text-align: right;\">\n",
       "      <th></th>\n",
       "      <th>次日留存</th>\n",
       "      <th>非次日留存</th>\n",
       "    </tr>\n",
       "  </thead>\n",
       "  <tbody>\n",
       "    <tr>\n",
       "      <th>A組(控制組)</th>\n",
       "      <td>8000</td>\n",
       "      <td>12000</td>\n",
       "    </tr>\n",
       "    <tr>\n",
       "      <th>B組(實驗組)</th>\n",
       "      <td>8200</td>\n",
       "      <td>11800</td>\n",
       "    </tr>\n",
       "  </tbody>\n",
       "</table>\n",
       "</div>"
      ],
      "text/plain": [
       "         次日留存  非次日留存\n",
       "A組(控制組)  8000  12000\n",
       "B組(實驗組)  8200  11800"
      ]
     },
     "execution_count": 25,
     "metadata": {},
     "output_type": "execute_result"
    }
   ],
   "source": [
    "## 次日留存率範例，今天首日安裝，隔天會再使用的比例\n",
    "\n",
    "# 列聯表、卡方檢定用\n",
    "contingency_table = np.array([\n",
    "    [8000, 20000-8000], # 代表次數統計\n",
    "    [8200, 20000-8200]  # 同上\n",
    "])\n",
    "\n",
    "df = pd.DataFrame(contingency_table, index=['A組(控制組)', 'B組(實驗組)'], columns=['次日留存', '非次日留存'])\n",
    "df"
   ]
  },
  {
   "cell_type": "code",
   "execution_count": 26,
   "metadata": {
    "ExecuteTime": {
     "end_time": "2023-03-16T16:15:13.528255Z",
     "start_time": "2023-03-16T16:15:13.509291Z"
    }
   },
   "outputs": [
    {
     "name": "stdout",
     "output_type": "stream",
     "text": [
      "卡方簡定: p-value: 0.04267036646823683\n"
     ]
    }
   ],
   "source": [
    "## 卡方檢定是否B組比A組好\n",
    "\n",
    "print(f\"卡方簡定: p-value: {stats.chi2_contingency(contingency_table)[1]}\")"
   ]
  },
  {
   "cell_type": "markdown",
   "metadata": {
    "ExecuteTime": {
     "end_time": "2023-03-16T00:06:59.374793Z",
     "start_time": "2023-03-16T00:06:59.364191Z"
    }
   },
   "source": [
    "P-value < 0.05，結論 B 組確實較好、採用 B 組為 APP 新設計"
   ]
  },
  {
   "cell_type": "markdown",
   "metadata": {},
   "source": [
    "### 錯誤實驗導致錯誤決策：A/A Testing with early stopping\n",
    "- A/A Testing: 在A/B testing之前先透過隨機分配的統計檢定確認`隨機真的是隨機(無顯著差異)`，以免隨機抽樣本身就有偏誤。"
   ]
  },
  {
   "cell_type": "code",
   "execution_count": 27,
   "metadata": {
    "ExecuteTime": {
     "end_time": "2023-03-16T16:15:14.589111Z",
     "start_time": "2023-03-16T16:15:14.568114Z"
    }
   },
   "outputs": [
    {
     "data": {
      "text/plain": [
       "array([10000, 20000, 30000, 40000], dtype=int32)"
      ]
     },
     "execution_count": 27,
     "metadata": {},
     "output_type": "execute_result"
    }
   ],
   "source": [
    "## 累加\n",
    "\n",
    "np.cumsum([10000]*4)"
   ]
  },
  {
   "cell_type": "code",
   "execution_count": 12,
   "metadata": {
    "ExecuteTime": {
     "end_time": "2023-03-16T00:09:33.755104Z",
     "start_time": "2023-03-16T00:09:33.735485Z"
    }
   },
   "outputs": [
    {
     "data": {
      "text/plain": [
       "array([ 3974,  7994, 12030, 16043], dtype=int32)"
      ]
     },
     "execution_count": 12,
     "metadata": {},
     "output_type": "execute_result"
    }
   ],
   "source": [
    "## 不同樣本數的bernuli分配: 代表留存(搭配上面的例子)\n",
    "\n",
    "np.cumsum(np.random.binomial(n=10000, p=0.4, size=4))"
   ]
  },
  {
   "cell_type": "code",
   "execution_count": 13,
   "metadata": {
    "ExecuteTime": {
     "end_time": "2023-03-16T00:10:17.969614Z",
     "start_time": "2023-03-16T00:10:17.960734Z"
    }
   },
   "outputs": [
    {
     "data": {
      "text/plain": [
       "array([ 3999,  7998, 11910, 15859], dtype=int32)"
      ]
     },
     "execution_count": 13,
     "metadata": {},
     "output_type": "execute_result"
    }
   ],
   "source": [
    "## 同上\n",
    "\n",
    "np.cumsum(np.random.binomial(n=10000, p=0.4, size=4))"
   ]
  },
  {
   "cell_type": "code",
   "execution_count": 18,
   "metadata": {
    "ExecuteTime": {
     "end_time": "2023-03-16T16:08:10.081745Z",
     "start_time": "2023-03-16T16:08:10.046737Z"
    }
   },
   "outputs": [
    {
     "name": "stdout",
     "output_type": "stream",
     "text": [
      "A/B 兩組實際上並無 KPI 成效差異，然而樣本數不足就提早結束實驗，更容易受 P-Value 誤導，導致錯誤決策\n"
     ]
    },
    {
     "data": {
      "text/html": [
       "<div>\n",
       "<style scoped>\n",
       "    .dataframe tbody tr th:only-of-type {\n",
       "        vertical-align: middle;\n",
       "    }\n",
       "\n",
       "    .dataframe tbody tr th {\n",
       "        vertical-align: top;\n",
       "    }\n",
       "\n",
       "    .dataframe thead th {\n",
       "        text-align: right;\n",
       "    }\n",
       "</style>\n",
       "<table border=\"1\" class=\"dataframe\">\n",
       "  <thead>\n",
       "    <tr style=\"text-align: right;\">\n",
       "      <th></th>\n",
       "      <th>總共樣本數</th>\n",
       "      <th>A 組別的KPI</th>\n",
       "      <th>B 組別的KPI</th>\n",
       "      <th>P-Value</th>\n",
       "    </tr>\n",
       "  </thead>\n",
       "  <tbody>\n",
       "    <tr>\n",
       "      <th>0</th>\n",
       "      <td>10000</td>\n",
       "      <td>0.41180</td>\n",
       "      <td>0.395100</td>\n",
       "      <td>0.016728</td>\n",
       "    </tr>\n",
       "    <tr>\n",
       "      <th>1</th>\n",
       "      <td>20000</td>\n",
       "      <td>0.40745</td>\n",
       "      <td>0.403650</td>\n",
       "      <td>0.445016</td>\n",
       "    </tr>\n",
       "    <tr>\n",
       "      <th>2</th>\n",
       "      <td>30000</td>\n",
       "      <td>0.40540</td>\n",
       "      <td>0.404333</td>\n",
       "      <td>0.796543</td>\n",
       "    </tr>\n",
       "    <tr>\n",
       "      <th>3</th>\n",
       "      <td>40000</td>\n",
       "      <td>0.40380</td>\n",
       "      <td>0.404025</td>\n",
       "      <td>0.954033</td>\n",
       "    </tr>\n",
       "  </tbody>\n",
       "</table>\n",
       "</div>"
      ],
      "text/plain": [
       "   總共樣本數  A 組別的KPI  B 組別的KPI   P-Value\n",
       "0  10000   0.41180  0.395100  0.016728\n",
       "1  20000   0.40745  0.403650  0.445016\n",
       "2  30000   0.40540  0.404333  0.796543\n",
       "3  40000   0.40380  0.404025  0.954033"
      ]
     },
     "execution_count": 18,
     "metadata": {},
     "output_type": "execute_result"
    }
   ],
   "source": [
    "## 演示 early stopping 透過模擬的方式。\n",
    "## 以下a, b可以知道 p=0.4 其實本質上是沒有差異的！\n",
    "\n",
    "np.random.seed(45)\n",
    "n_trials = np.cumsum([10000]*4)\n",
    "a_trials = np.cumsum(np.random.binomial(n=10000, p=0.4, size=4))\n",
    "b_trials = np.cumsum(np.random.binomial(n=10000, p=0.4, size=4))\n",
    "\n",
    "## 不同樣本大小的列聯表 -> 卡方檢定\n",
    "test_for_trials = [\n",
    "  stats.chi2_contingency(np.array([[a_trials[i], n_trials[i]-a_trials[i]], [b_trials[i], n_trials[i]-b_trials[i]]]))[1] # 取得pvalue\n",
    "    for i in range(4)]\n",
    "print(\"A/B 兩組實際上並無 KPI 成效差異，然而樣本數不足就提早結束實驗，更容易受 P-Value 誤導，導致錯誤決策\")\n",
    "df = pd.DataFrame({\"總共樣本數\": n_trials, \n",
    "          \"A 組別的KPI\": a_trials / n_trials, \n",
    "          \"B 組別的KPI\": b_trials / n_trials,\n",
    "          \"P-Value\": test_for_trials})\n",
    "\n",
    "df"
   ]
  },
  {
   "cell_type": "markdown",
   "metadata": {},
   "source": [
    "> 可以發現隨著樣本數增加，P-Value不斷增加，就比較不會有誤判的可能，因此越提早查看越容易發生錯誤。"
   ]
  },
  {
   "cell_type": "markdown",
   "metadata": {},
   "source": [
    "### 那麼來看看越早偷看造成的影響為何！\n",
    "- 透過每累積5%的樣本就偷看一次，若顯著就結束實驗，去查看`false positive`機率。\n",
    "- 透過每累積10%的樣本就偷看一次，若顯著就結束實驗，去查看`false positive`機率。"
   ]
  },
  {
   "cell_type": "code",
   "execution_count": 28,
   "metadata": {
    "ExecuteTime": {
     "end_time": "2023-03-16T16:20:00.047361Z",
     "start_time": "2023-03-16T16:20:00.024359Z"
    }
   },
   "outputs": [
    {
     "data": {
      "text/plain": [
       "array([4060])"
      ]
     },
     "execution_count": 28,
     "metadata": {},
     "output_type": "execute_result"
    }
   ],
   "source": [
    "## 每5%就偷看\n",
    "## DRY\n",
    "\n",
    "needed_sample_size = 40000\n",
    "np.random.binomial(n=10000, p=0.4, size=1)"
   ]
  },
  {
   "cell_type": "markdown",
   "metadata": {},
   "source": [
    "## 結論\n",
    "- 不要偷看，等到樣本數累積到足夠才做判斷！"
   ]
  },
  {
   "cell_type": "code",
   "execution_count": null,
   "metadata": {},
   "outputs": [],
   "source": []
  }
 ],
 "metadata": {
  "kernelspec": {
   "display_name": "Python 3",
   "language": "python",
   "name": "python3"
  },
  "language_info": {
   "codemirror_mode": {
    "name": "ipython",
    "version": 3
   },
   "file_extension": ".py",
   "mimetype": "text/x-python",
   "name": "python",
   "nbconvert_exporter": "python",
   "pygments_lexer": "ipython3",
   "version": "3.7.3"
  }
 },
 "nbformat": 4,
 "nbformat_minor": 4
}
