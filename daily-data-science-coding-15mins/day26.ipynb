{
 "cells": [
  {
   "cell_type": "markdown",
   "metadata": {},
   "source": [
    "複習一些過往的code並慢慢整理自己的codebase，並且養成每日寫data science code的習慣!\n",
    "\n",
    "## 目標: 將過往code文件化、模組化，使其重複使用。"
   ]
  },
  {
   "cell_type": "code",
   "execution_count": 7,
   "metadata": {
    "ExecuteTime": {
     "end_time": "2022-11-02T15:08:23.968592Z",
     "start_time": "2022-11-02T15:08:23.955942Z"
    }
   },
   "outputs": [],
   "source": [
    "import numpy as np\n",
    "import pandas as pd\n",
    "import seaborn as sns\n",
    "from sklearn.datasets import load_wine\n",
    "import matplotlib.pyplot as plt\n",
    "import warnings\n",
    "import jieba\n",
    "\n",
    "warnings.filterwarnings(\"ignore\")\n",
    "%matplotlib inline"
   ]
  },
  {
   "cell_type": "markdown",
   "metadata": {},
   "source": [
    "## Day26 - 模型評估: F-Score\n",
    "\n",
    "$F_\\beta = \\frac{(1+\\beta^2) * (precision * recall)}{\\beta^2*precision + recall}$"
   ]
  },
  {
   "cell_type": "code",
   "execution_count": 74,
   "metadata": {
    "ExecuteTime": {
     "end_time": "2022-11-02T15:23:22.610284Z",
     "start_time": "2022-11-02T15:23:22.598285Z"
    }
   },
   "outputs": [
    {
     "data": {
      "text/plain": [
       "(array([0, 1, 0, 1, 0, 1, 0, 0, 1, 1, 0, 0, 1, 0, 1, 1, 0, 1, 1, 0, 0, 0,\n",
       "        0, 1, 0, 0, 0, 1, 1, 0, 1, 1, 1, 0, 1, 0, 0, 0, 1, 0, 0, 1, 1, 1,\n",
       "        0, 0, 0, 1, 0, 1, 1, 1, 1, 0, 1, 0, 1, 0, 0, 1, 1, 1, 1, 0, 1, 1,\n",
       "        0, 0, 1, 1, 0, 1, 1, 1, 0, 1, 1, 1, 0, 0, 0, 1, 0, 1, 1, 0, 1, 0,\n",
       "        0, 0, 1, 0, 0, 1, 0, 1, 0, 0, 0, 0]),\n",
       " array([1, 0, 1, 0, 1, 0, 1, 1, 1, 1, 1, 1, 0, 1, 1, 0, 1, 0, 1, 0, 0, 0,\n",
       "        0, 1, 0, 1, 0, 0, 0, 0, 1, 0, 1, 1, 1, 1, 0, 1, 0, 1, 0, 0, 1, 0,\n",
       "        0, 1, 0, 1, 0, 1, 0, 0, 1, 1, 0, 0, 0, 0, 0, 1, 0, 1, 1, 1, 0, 1,\n",
       "        1, 0, 0, 1, 1, 1, 1, 0, 0, 1, 0, 0, 1, 0, 0, 1, 0, 1, 1, 0, 1, 1,\n",
       "        0, 1, 0, 1, 0, 0, 1, 1, 0, 1, 1, 1]))"
      ]
     },
     "execution_count": 74,
     "metadata": {},
     "output_type": "execute_result"
    }
   ],
   "source": [
    "# 簡單做出測試資料來評估\n",
    "\n",
    "y_pred = np.random.randint(low=0, high=2, size=100)\n",
    "y_true = np.random.randint(low=0, high=2, size=100)\n",
    "\n",
    "y_pred, y_true"
   ]
  },
  {
   "cell_type": "code",
   "execution_count": 105,
   "metadata": {
    "ExecuteTime": {
     "end_time": "2022-11-02T15:26:14.079155Z",
     "start_time": "2022-11-02T15:26:14.059927Z"
    }
   },
   "outputs": [],
   "source": [
    "def f_beta(y_true, y_pred, beta):\n",
    "    tp = ((y_true == 1) == (y_pred == 1)).sum()\n",
    "    fp = ((y_true == 1) == (y_pred == 0)).sum()\n",
    "    tn = ((y_true == 0) == (y_pred == 0)).sum()\n",
    "    fn = ((y_true == 0) == (y_pred == 1)).sum()\n",
    "    #print(tp, fp, tn, fn)\n",
    "    precision = tp / (tp+fp)\n",
    "    recall = tp / (tp+fn)\n",
    "    print('precision: ', precision, 'recall:', recall)\n",
    "    return (1+beta**2)*(precision*recall) / ((beta**2)*precision + recall), (tp+tn)/(tp+fp+tn+fn)"
   ]
  },
  {
   "cell_type": "code",
   "execution_count": 106,
   "metadata": {
    "ExecuteTime": {
     "end_time": "2022-11-02T15:26:14.541577Z",
     "start_time": "2022-11-02T15:26:14.519731Z"
    }
   },
   "outputs": [
    {
     "name": "stdout",
     "output_type": "stream",
     "text": [
      "precision:  0.49 recall: 0.49\n"
     ]
    },
    {
     "data": {
      "text/plain": [
       "(0.49, 0.49)"
      ]
     },
     "execution_count": 106,
     "metadata": {},
     "output_type": "execute_result"
    }
   ],
   "source": [
    "f_beta(y_true, y_pred, 1)"
   ]
  },
  {
   "cell_type": "code",
   "execution_count": 107,
   "metadata": {
    "ExecuteTime": {
     "end_time": "2022-11-02T15:26:15.382355Z",
     "start_time": "2022-11-02T15:26:15.367579Z"
    }
   },
   "outputs": [
    {
     "data": {
      "text/plain": [
       "(0.4950495049504951, 0.49)"
      ]
     },
     "execution_count": 107,
     "metadata": {},
     "output_type": "execute_result"
    }
   ],
   "source": [
    "from sklearn.metrics import f1_score, accuracy_score, precision_score, recall_score\n",
    "\n",
    "f1_score(y_true, y_pred), accuracy_score(y_true, y_pred)"
   ]
  },
  {
   "cell_type": "code",
   "execution_count": 108,
   "metadata": {
    "ExecuteTime": {
     "end_time": "2022-11-02T15:26:16.058060Z",
     "start_time": "2022-11-02T15:26:16.042064Z"
    }
   },
   "outputs": [
    {
     "data": {
      "text/plain": [
       "(0.5102040816326531, 0.4807692307692308)"
      ]
     },
     "execution_count": 108,
     "metadata": {},
     "output_type": "execute_result"
    }
   ],
   "source": [
    "precision_score(y_true, y_pred), recall_score(y_true, y_pred)"
   ]
  },
  {
   "cell_type": "code",
   "execution_count": null,
   "metadata": {},
   "outputs": [],
   "source": []
  }
 ],
 "metadata": {
  "kernelspec": {
   "display_name": "Python 3",
   "language": "python",
   "name": "python3"
  },
  "language_info": {
   "codemirror_mode": {
    "name": "ipython",
    "version": 3
   },
   "file_extension": ".py",
   "mimetype": "text/x-python",
   "name": "python",
   "nbconvert_exporter": "python",
   "pygments_lexer": "ipython3",
   "version": "3.7.3"
  }
 },
 "nbformat": 4,
 "nbformat_minor": 4
}
