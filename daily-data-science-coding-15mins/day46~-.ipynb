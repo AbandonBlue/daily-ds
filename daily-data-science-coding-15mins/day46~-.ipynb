{
 "cells": [
  {
   "cell_type": "markdown",
   "metadata": {},
   "source": [
    "養成每日寫data science code的習慣！\n",
    "改用慢慢實作專案累積知識以及實作能力，以 CV、NLP、GAN為主！\n",
    "\n",
    "## 目標: 增加更多 Prototype 以及各應用實作能力！\n",
    "\n",
    "### 本次目標\n",
    "> 提升 BERT 客製化能力，可以應用在更特定的場域上，比如 FinBERT、NewsBERT 等等。"
   ]
  },
  {
   "cell_type": "markdown",
   "metadata": {},
   "source": [
    "### 下載需要的套件"
   ]
  },
  {
   "cell_type": "code",
   "execution_count": 1,
   "metadata": {
    "ExecuteTime": {
     "end_time": "2022-12-04T07:54:18.996986Z",
     "start_time": "2022-12-04T07:48:43.745694Z"
    }
   },
   "outputs": [
    {
     "name": "stdout",
     "output_type": "stream",
     "text": [
      "Defaulting to user installation because normal site-packages is not writeable\n",
      "Collecting git+https://github.com/huggingface/transformers.git\n",
      "  Cloning https://github.com/huggingface/transformers.git to c:\\users\\aband\\appdata\\local\\temp\\pip-req-build-c1yxoi5l\n",
      "  Installing build dependencies: started\n",
      "  Installing build dependencies: finished with status 'done'\n",
      "  Getting requirements to build wheel: started\n",
      "  Getting requirements to build wheel: finished with status 'done'\n",
      "    Preparing wheel metadata: started\n",
      "    Preparing wheel metadata: finished with status 'done'\n",
      "Requirement already satisfied: regex!=2019.12.17 in c:\\users\\aband\\appdata\\roaming\\python\\python37\\site-packages (from transformers==4.26.0.dev0) (2021.9.30)\n",
      "Collecting huggingface-hub<1.0,>=0.10.0\n",
      "  Downloading huggingface_hub-0.11.1-py3-none-any.whl (182 kB)\n",
      "Requirement already satisfied: tqdm>=4.27 in c:\\users\\aband\\appdata\\roaming\\python\\python37\\site-packages (from transformers==4.26.0.dev0) (4.56.0)\n",
      "Requirement already satisfied: requests in c:\\users\\aband\\appdata\\roaming\\python\\python37\\site-packages (from transformers==4.26.0.dev0) (2.25.0)\n",
      "Requirement already satisfied: importlib-metadata in c:\\users\\aband\\appdata\\roaming\\python\\python37\\site-packages (from transformers==4.26.0.dev0) (4.10.1)\n",
      "Requirement already satisfied: packaging>=20.0 in c:\\users\\aband\\appdata\\roaming\\python\\python37\\site-packages (from transformers==4.26.0.dev0) (20.9)\n",
      "Collecting tokenizers!=0.11.3,<0.14,>=0.11.1\n",
      "  Downloading tokenizers-0.13.2-cp37-cp37m-win_amd64.whl (3.3 MB)\n",
      "Requirement already satisfied: filelock in c:\\users\\aband\\appdata\\roaming\\python\\python37\\site-packages (from transformers==4.26.0.dev0) (3.0.12)\n",
      "Requirement already satisfied: numpy>=1.17 in c:\\users\\aband\\appdata\\roaming\\python\\python37\\site-packages (from transformers==4.26.0.dev0) (1.21.6)\n",
      "Requirement already satisfied: pyyaml>=5.1 in c:\\users\\aband\\appdata\\roaming\\python\\python37\\site-packages (from transformers==4.26.0.dev0) (5.4.1)\n",
      "Requirement already satisfied: typing-extensions>=3.7.4.3 in c:\\users\\aband\\appdata\\roaming\\python\\python37\\site-packages (from huggingface-hub<1.0,>=0.10.0->transformers==4.26.0.dev0) (3.7.4.3)\n",
      "Requirement already satisfied: pyparsing>=2.0.2 in c:\\users\\aband\\appdata\\roaming\\python\\python37\\site-packages (from packaging>=20.0->transformers==4.26.0.dev0) (2.4.7)\n",
      "Requirement already satisfied: zipp>=0.5 in c:\\users\\aband\\appdata\\roaming\\python\\python37\\site-packages (from importlib-metadata->transformers==4.26.0.dev0) (3.4.0)\n",
      "Requirement already satisfied: idna<3,>=2.5 in c:\\users\\aband\\appdata\\roaming\\python\\python37\\site-packages (from requests->transformers==4.26.0.dev0) (2.10)\n",
      "Requirement already satisfied: chardet<4,>=3.0.2 in c:\\users\\aband\\appdata\\roaming\\python\\python37\\site-packages (from requests->transformers==4.26.0.dev0) (3.0.4)\n",
      "Requirement already satisfied: certifi>=2017.4.17 in c:\\users\\aband\\appdata\\roaming\\python\\python37\\site-packages (from requests->transformers==4.26.0.dev0) (2020.11.8)\n",
      "Requirement already satisfied: urllib3<1.27,>=1.21.1 in c:\\users\\aband\\appdata\\roaming\\python\\python37\\site-packages (from requests->transformers==4.26.0.dev0) (1.25.11)\n",
      "Building wheels for collected packages: transformers\n",
      "  Building wheel for transformers (PEP 517): started\n",
      "  Building wheel for transformers (PEP 517): finished with status 'done'\n",
      "  Created wheel for transformers: filename=transformers-4.26.0.dev0-py3-none-any.whl size=5858133 sha256=eeaabb30f1f9b53dc25089fb7e409dc969060c55fc289dd3fe1e496ec841d1a9\n",
      "  Stored in directory: C:\\Users\\aband\\AppData\\Local\\Temp\\pip-ephem-wheel-cache-24_bw57i\\wheels\\90\\a5\\44\\6bcd83827c8a60628c5ad602f429cd5076bcce5f2a90054947\n",
      "Successfully built transformers\n",
      "Installing collected packages: tokenizers, huggingface-hub, transformers\n",
      "  Attempting uninstall: tokenizers\n",
      "    Found existing installation: tokenizers 0.10.3\n",
      "    Uninstalling tokenizers-0.10.3:\n",
      "      Successfully uninstalled tokenizers-0.10.3\n",
      "  Attempting uninstall: huggingface-hub\n",
      "    Found existing installation: huggingface-hub 0.0.12\n",
      "    Uninstalling huggingface-hub-0.0.12:\n",
      "      Successfully uninstalled huggingface-hub-0.0.12\n",
      "  Attempting uninstall: transformers\n",
      "    Found existing installation: transformers 4.8.2\n",
      "    Uninstalling transformers-4.8.2:\n",
      "      Successfully uninstalled transformers-4.8.2\n",
      "Successfully installed huggingface-hub-0.11.1 tokenizers-0.13.2 transformers-4.26.0.dev0\n"
     ]
    },
    {
     "name": "stderr",
     "output_type": "stream",
     "text": [
      "WARNING: pip is being invoked by an old script wrapper. This will fail in a future version of pip.\n",
      "Please see https://github.com/pypa/pip/issues/5599 for advice on fixing the underlying issue.\n",
      "To avoid this problem you can invoke Python with '-m pip' instead of running pip directly.\n",
      "  Running command git clone -q https://github.com/huggingface/transformers.git 'C:\\Users\\aband\\AppData\\Local\\Temp\\pip-req-build-c1yxoi5l'\n",
      "ERROR: pip's dependency resolver does not currently take into account all the packages that are installed. This behaviour is the source of the following dependency conflicts.\n",
      "datasets 1.9.0 requires huggingface-hub<0.1.0, but you have huggingface-hub 0.11.1 which is incompatible.\n",
      "WARNING: You are using pip version 21.0.1; however, version 22.3.1 is available.\n",
      "You should consider upgrading via the 'c:\\program files (x86)\\python\\python.exe -m pip install --upgrade pip' command.\n"
     ]
    },
    {
     "name": "stdout",
     "output_type": "stream",
     "text": [
      "Defaulting to user installation because normal site-packages is not writeable\n",
      "Requirement already satisfied: datasets in c:\\users\\aband\\appdata\\roaming\\python\\python37\\site-packages (1.9.0)\n",
      "Requirement already satisfied: importlib-metadata in c:\\users\\aband\\appdata\\roaming\\python\\python37\\site-packages (from datasets) (4.10.1)\n",
      "Collecting huggingface-hub<0.1.0\n",
      "  Downloading huggingface_hub-0.0.19-py3-none-any.whl (56 kB)\n",
      "Requirement already satisfied: numpy>=1.17 in c:\\users\\aband\\appdata\\roaming\\python\\python37\\site-packages (from datasets) (1.21.6)\n",
      "Requirement already satisfied: xxhash in c:\\users\\aband\\appdata\\roaming\\python\\python37\\site-packages (from datasets) (2.0.2)\n",
      "Requirement already satisfied: pyarrow!=4.0.0,>=1.0.0 in c:\\users\\aband\\appdata\\roaming\\python\\python37\\site-packages (from datasets) (4.0.1)\n",
      "Requirement already satisfied: tqdm>=4.27 in c:\\users\\aband\\appdata\\roaming\\python\\python37\\site-packages (from datasets) (4.56.0)\n",
      "Requirement already satisfied: packaging in c:\\users\\aband\\appdata\\roaming\\python\\python37\\site-packages (from datasets) (20.9)\n",
      "Requirement already satisfied: pandas in c:\\users\\aband\\appdata\\roaming\\python\\python37\\site-packages (from datasets) (1.2.1)\n",
      "Requirement already satisfied: requests>=2.19.0 in c:\\users\\aband\\appdata\\roaming\\python\\python37\\site-packages (from datasets) (2.25.0)\n",
      "Requirement already satisfied: multiprocess in c:\\users\\aband\\appdata\\roaming\\python\\python37\\site-packages (from datasets) (0.70.12.2)\n",
      "Requirement already satisfied: fsspec>=2021.05.0 in c:\\users\\aband\\appdata\\roaming\\python\\python37\\site-packages (from datasets) (2021.7.0)\n",
      "Requirement already satisfied: dill in c:\\users\\aband\\appdata\\roaming\\python\\python37\\site-packages (from datasets) (0.3.4)\n",
      "Requirement already satisfied: pyyaml in c:\\users\\aband\\appdata\\roaming\\python\\python37\\site-packages (from huggingface-hub<0.1.0->datasets) (5.4.1)\n",
      "Requirement already satisfied: filelock in c:\\users\\aband\\appdata\\roaming\\python\\python37\\site-packages (from huggingface-hub<0.1.0->datasets) (3.0.12)\n",
      "Requirement already satisfied: typing-extensions in c:\\users\\aband\\appdata\\roaming\\python\\python37\\site-packages (from huggingface-hub<0.1.0->datasets) (3.7.4.3)\n",
      "Requirement already satisfied: pyparsing>=2.0.2 in c:\\users\\aband\\appdata\\roaming\\python\\python37\\site-packages (from packaging->datasets) (2.4.7)\n",
      "Requirement already satisfied: certifi>=2017.4.17 in c:\\users\\aband\\appdata\\roaming\\python\\python37\\site-packages (from requests>=2.19.0->datasets) (2020.11.8)\n",
      "Requirement already satisfied: urllib3<1.27,>=1.21.1 in c:\\users\\aband\\appdata\\roaming\\python\\python37\\site-packages (from requests>=2.19.0->datasets) (1.25.11)\n",
      "Requirement already satisfied: chardet<4,>=3.0.2 in c:\\users\\aband\\appdata\\roaming\\python\\python37\\site-packages (from requests>=2.19.0->datasets) (3.0.4)\n",
      "Requirement already satisfied: idna<3,>=2.5 in c:\\users\\aband\\appdata\\roaming\\python\\python37\\site-packages (from requests>=2.19.0->datasets) (2.10)\n",
      "Requirement already satisfied: zipp>=0.5 in c:\\users\\aband\\appdata\\roaming\\python\\python37\\site-packages (from importlib-metadata->datasets) (3.4.0)\n",
      "Requirement already satisfied: pytz>=2017.3 in c:\\users\\aband\\appdata\\roaming\\python\\python37\\site-packages (from pandas->datasets) (2021.1)\n",
      "Requirement already satisfied: python-dateutil>=2.7.3 in c:\\users\\aband\\appdata\\roaming\\python\\python37\\site-packages (from pandas->datasets) (2.8.1)\n",
      "Requirement already satisfied: six>=1.5 in c:\\users\\aband\\appdata\\roaming\\python\\python37\\site-packages (from python-dateutil>=2.7.3->pandas->datasets) (1.15.0)\n",
      "Installing collected packages: huggingface-hub\n",
      "  Attempting uninstall: huggingface-hub\n",
      "    Found existing installation: huggingface-hub 0.11.1\n",
      "    Uninstalling huggingface-hub-0.11.1:\n",
      "      Successfully uninstalled huggingface-hub-0.11.1\n",
      "Successfully installed huggingface-hub-0.0.19\n"
     ]
    },
    {
     "name": "stderr",
     "output_type": "stream",
     "text": [
      "WARNING: pip is being invoked by an old script wrapper. This will fail in a future version of pip.\n",
      "Please see https://github.com/pypa/pip/issues/5599 for advice on fixing the underlying issue.\n",
      "To avoid this problem you can invoke Python with '-m pip' instead of running pip directly.\n",
      "ERROR: pip's dependency resolver does not currently take into account all the packages that are installed. This behaviour is the source of the following dependency conflicts.\n",
      "transformers 4.26.0.dev0 requires huggingface-hub<1.0,>=0.10.0, but you have huggingface-hub 0.0.19 which is incompatible.\n",
      "WARNING: You are using pip version 21.0.1; however, version 22.3.1 is available.\n",
      "You should consider upgrading via the 'c:\\program files (x86)\\python\\python.exe -m pip install --upgrade pip' command.\n"
     ]
    },
    {
     "name": "stdout",
     "output_type": "stream",
     "text": [
      "Defaulting to user installation because normal site-packages is not writeable\n",
      "Requirement already satisfied: huggingface-hub in c:\\users\\aband\\appdata\\roaming\\python\\python37\\site-packages (0.0.19)\n",
      "Requirement already satisfied: tqdm in c:\\users\\aband\\appdata\\roaming\\python\\python37\\site-packages (from huggingface-hub) (4.56.0)\n",
      "Requirement already satisfied: filelock in c:\\users\\aband\\appdata\\roaming\\python\\python37\\site-packages (from huggingface-hub) (3.0.12)\n",
      "Requirement already satisfied: requests in c:\\users\\aband\\appdata\\roaming\\python\\python37\\site-packages (from huggingface-hub) (2.25.0)\n",
      "Requirement already satisfied: pyyaml in c:\\users\\aband\\appdata\\roaming\\python\\python37\\site-packages (from huggingface-hub) (5.4.1)\n",
      "Requirement already satisfied: importlib-metadata in c:\\users\\aband\\appdata\\roaming\\python\\python37\\site-packages (from huggingface-hub) (4.10.1)\n",
      "Requirement already satisfied: packaging>=20.9 in c:\\users\\aband\\appdata\\roaming\\python\\python37\\site-packages (from huggingface-hub) (20.9)\n",
      "Requirement already satisfied: typing-extensions in c:\\users\\aband\\appdata\\roaming\\python\\python37\\site-packages (from huggingface-hub) (3.7.4.3)\n",
      "Requirement already satisfied: pyparsing>=2.0.2 in c:\\users\\aband\\appdata\\roaming\\python\\python37\\site-packages (from packaging>=20.9->huggingface-hub) (2.4.7)\n",
      "Requirement already satisfied: zipp>=0.5 in c:\\users\\aband\\appdata\\roaming\\python\\python37\\site-packages (from importlib-metadata->huggingface-hub) (3.4.0)\n",
      "Requirement already satisfied: chardet<4,>=3.0.2 in c:\\users\\aband\\appdata\\roaming\\python\\python37\\site-packages (from requests->huggingface-hub) (3.0.4)\n",
      "Requirement already satisfied: idna<3,>=2.5 in c:\\users\\aband\\appdata\\roaming\\python\\python37\\site-packages (from requests->huggingface-hub) (2.10)\n",
      "Requirement already satisfied: urllib3<1.27,>=1.21.1 in c:\\users\\aband\\appdata\\roaming\\python\\python37\\site-packages (from requests->huggingface-hub) (1.25.11)\n",
      "Requirement already satisfied: certifi>=2017.4.17 in c:\\users\\aband\\appdata\\roaming\\python\\python37\\site-packages (from requests->huggingface-hub) (2020.11.8)\n"
     ]
    },
    {
     "name": "stderr",
     "output_type": "stream",
     "text": [
      "WARNING: pip is being invoked by an old script wrapper. This will fail in a future version of pip.\n",
      "Please see https://github.com/pypa/pip/issues/5599 for advice on fixing the underlying issue.\n",
      "To avoid this problem you can invoke Python with '-m pip' instead of running pip directly.\n",
      "WARNING: You are using pip version 21.0.1; however, version 22.3.1 is available.\n",
      "You should consider upgrading via the 'c:\\program files (x86)\\python\\python.exe -m pip install --upgrade pip' command.\n"
     ]
    },
    {
     "name": "stdout",
     "output_type": "stream",
     "text": [
      "Defaulting to user installation because normal site-packages is not writeable\n",
      "Requirement already satisfied: nltk in c:\\users\\aband\\appdata\\roaming\\python\\python37\\site-packages (3.4)\n",
      "Requirement already satisfied: singledispatch in c:\\users\\aband\\appdata\\roaming\\python\\python37\\site-packages (from nltk) (3.7.0)\n",
      "Requirement already satisfied: six in c:\\users\\aband\\appdata\\roaming\\python\\python37\\site-packages (from nltk) (1.15.0)\n"
     ]
    },
    {
     "name": "stderr",
     "output_type": "stream",
     "text": [
      "WARNING: pip is being invoked by an old script wrapper. This will fail in a future version of pip.\n",
      "Please see https://github.com/pypa/pip/issues/5599 for advice on fixing the underlying issue.\n",
      "To avoid this problem you can invoke Python with '-m pip' instead of running pip directly.\n",
      "WARNING: You are using pip version 21.0.1; however, version 22.3.1 is available.\n",
      "You should consider upgrading via the 'c:\\program files (x86)\\python\\python.exe -m pip install --upgrade pip' command.\n"
     ]
    }
   ],
   "source": [
    "!pip install git+https://github.com/huggingface/transformers.git\n",
    "!pip install datasets\n",
    "!pip install huggingface-hub\n",
    "!pip install nltk"
   ]
  },
  {
   "cell_type": "code",
   "execution_count": 2,
   "metadata": {
    "ExecuteTime": {
     "end_time": "2022-12-04T07:55:10.633706Z",
     "start_time": "2022-12-04T07:54:19.001331Z"
    }
   },
   "outputs": [
    {
     "name": "stderr",
     "output_type": "stream",
     "text": [
      "[nltk_data] Downloading package punkt to\n",
      "[nltk_data]     C:\\Users\\aband\\AppData\\Roaming\\nltk_data...\n",
      "[nltk_data]   Unzipping tokenizers\\punkt.zip.\n"
     ]
    }
   ],
   "source": [
    "import nltk\n",
    "import random\n",
    "import logging\n",
    "\n",
    "import tensorflow as tf\n",
    "from tensorflow import keras\n",
    "\n",
    "nltk.download(\"punkt\")\n",
    "# Only log error messages\n",
    "tf.get_logger().setLevel(logging.ERROR)\n",
    "# Set random seed\n",
    "tf.keras.utils.set_random_seed(42)"
   ]
  },
  {
   "cell_type": "markdown",
   "metadata": {},
   "source": [
    "### 設定超參數、變數"
   ]
  },
  {
   "cell_type": "code",
   "execution_count": 3,
   "metadata": {
    "ExecuteTime": {
     "end_time": "2022-12-04T09:43:39.167682Z",
     "start_time": "2022-12-04T09:43:39.138685Z"
    }
   },
   "outputs": [],
   "source": [
    "TOKENIZER_BATCH_SIZE = 256\n",
    "TOKENIZER_VOCAB =  25000\n",
    "\n",
    "BLOCK_SIZE = 128 # 也可以說是 seq_len\n",
    "NSP_PROB = 0.5 # NSP 任務上下是流貫的比例\n",
    "SHORT_SEQ_PROB = 0.1 # \n",
    "MAX_LENGTH = 512\n",
    "\n",
    "MLM_PROB = 0.2   # MLM 任務變成 [MASK] 的比例\n",
    "\n",
    "TRAIN_BATCH_SIZE = 2   # 預訓練模型，因為預訓練運算記憶體所需很大，BATCH_SIZE大不了\n",
    "MAX_EPOCHS = 1\n",
    "LEARNING_RATE = 1e-4\n",
    "\n",
    "MODEL_CHECKPOINT = 'bert-base-cased'"
   ]
  },
  {
   "cell_type": "markdown",
   "metadata": {},
   "source": [
    "### 取得資料集"
   ]
  },
  {
   "cell_type": "code",
   "execution_count": 4,
   "metadata": {
    "ExecuteTime": {
     "end_time": "2022-12-04T09:45:21.075826Z",
     "start_time": "2022-12-04T09:44:54.988476Z"
    }
   },
   "outputs": [
    {
     "data": {
      "application/vnd.jupyter.widget-view+json": {
       "model_id": "f4e4474bf066478eb047ccab0dbe25da",
       "version_major": 2,
       "version_minor": 0
      },
      "text/plain": [
       "Downloading:   0%|          | 0.00/1.93k [00:00<?, ?B/s]"
      ]
     },
     "metadata": {},
     "output_type": "display_data"
    },
    {
     "data": {
      "application/vnd.jupyter.widget-view+json": {
       "model_id": "c46c0a95e6474af6aba239e965ae6a1c",
       "version_major": 2,
       "version_minor": 0
      },
      "text/plain": [
       "Downloading:   0%|          | 0.00/1.12k [00:00<?, ?B/s]"
      ]
     },
     "metadata": {},
     "output_type": "display_data"
    },
    {
     "name": "stdout",
     "output_type": "stream",
     "text": [
      "Downloading and preparing dataset wikitext/wikitext-2-raw-v1 (download: 4.50 MiB, generated: 12.91 MiB, post-processed: Unknown size, total: 17.41 MiB) to C:\\Users\\aband\\.cache\\huggingface\\datasets\\wikitext\\wikitext-2-raw-v1\\1.0.0\\aa5e094000ec7afeb74c3be92c88313cd6f132d564c7effd961c10fd47c76f20...\n"
     ]
    },
    {
     "data": {
      "application/vnd.jupyter.widget-view+json": {
       "model_id": "90fc1eb9c10543cd90547628712b1177",
       "version_major": 2,
       "version_minor": 0
      },
      "text/plain": [
       "Downloading:   0%|          | 0.00/4.72M [00:00<?, ?B/s]"
      ]
     },
     "metadata": {},
     "output_type": "display_data"
    },
    {
     "data": {
      "application/vnd.jupyter.widget-view+json": {
       "model_id": "e857f8fa8c294f69a9ae2685b0c827f7",
       "version_major": 2,
       "version_minor": 0
      },
      "text/plain": [
       "0 examples [00:00, ? examples/s]"
      ]
     },
     "metadata": {},
     "output_type": "display_data"
    },
    {
     "data": {
      "application/vnd.jupyter.widget-view+json": {
       "model_id": "6381a094928844ba81f6910b130d05a8",
       "version_major": 2,
       "version_minor": 0
      },
      "text/plain": [
       "0 examples [00:00, ? examples/s]"
      ]
     },
     "metadata": {},
     "output_type": "display_data"
    },
    {
     "data": {
      "application/vnd.jupyter.widget-view+json": {
       "model_id": "1f16a9f0f5bb460b9cdc8f57c9f8100f",
       "version_major": 2,
       "version_minor": 0
      },
      "text/plain": [
       "0 examples [00:00, ? examples/s]"
      ]
     },
     "metadata": {},
     "output_type": "display_data"
    },
    {
     "name": "stdout",
     "output_type": "stream",
     "text": [
      "Dataset wikitext downloaded and prepared to C:\\Users\\aband\\.cache\\huggingface\\datasets\\wikitext\\wikitext-2-raw-v1\\1.0.0\\aa5e094000ec7afeb74c3be92c88313cd6f132d564c7effd961c10fd47c76f20. Subsequent calls will reuse this data.\n"
     ]
    }
   ],
   "source": [
    "from datasets import load_dataset\n",
    "\n",
    "dataset = load_dataset(\"wikitext\", \"wikitext-2-raw-v1\")"
   ]
  },
  {
   "cell_type": "markdown",
   "metadata": {},
   "source": [
    "看看資料集"
   ]
  },
  {
   "cell_type": "code",
   "execution_count": 5,
   "metadata": {
    "ExecuteTime": {
     "end_time": "2022-12-04T09:45:58.110010Z",
     "start_time": "2022-12-04T09:45:58.100567Z"
    }
   },
   "outputs": [
    {
     "name": "stdout",
     "output_type": "stream",
     "text": [
      "DatasetDict({\n",
      "    test: Dataset({\n",
      "        features: ['text'],\n",
      "        num_rows: 4358\n",
      "    })\n",
      "    train: Dataset({\n",
      "        features: ['text'],\n",
      "        num_rows: 36718\n",
      "    })\n",
      "    validation: Dataset({\n",
      "        features: ['text'],\n",
      "        num_rows: 3760\n",
      "    })\n",
      "})\n"
     ]
    }
   ],
   "source": [
    "print(dataset)"
   ]
  },
  {
   "cell_type": "code",
   "execution_count": 12,
   "metadata": {
    "ExecuteTime": {
     "end_time": "2022-12-04T09:47:14.258456Z",
     "start_time": "2022-12-04T09:47:14.112539Z"
    }
   },
   "outputs": [
    {
     "data": {
      "text/plain": [
       "36718"
      ]
     },
     "execution_count": 12,
     "metadata": {},
     "output_type": "execute_result"
    }
   ],
   "source": [
    "len(dataset['train']['text'])"
   ]
  },
  {
   "cell_type": "code",
   "execution_count": 18,
   "metadata": {
    "ExecuteTime": {
     "end_time": "2022-12-04T09:48:37.558088Z",
     "start_time": "2022-12-04T09:48:37.448354Z"
    }
   },
   "outputs": [
    {
     "data": {
      "text/plain": [
       "\" It met with positive sales in Japan , and was praised by both Japanese and western critics . After release , it received downloadable content , along with an expanded edition in November of that year . It was also adapted into manga and an original video animation series . Due to low sales of Valkyria Chronicles II , Valkyria Chronicles III was not localized , but a fan translation compatible with the game 's expanded edition was released in 2014 . Media.Vision would return to the franchise with the development of Valkyria : Azure Revolution for the PlayStation 4 . \\n\""
      ]
     },
     "execution_count": 18,
     "metadata": {},
     "output_type": "execute_result"
    }
   ],
   "source": [
    "# 取出一筆來看，可以發現是一個個句子、小片段，也是為了符合模型輸出(最大限制512 tokens with padding)\n",
    "\n",
    "dataset['train']['text'][5]"
   ]
  },
  {
   "cell_type": "markdown",
   "metadata": {},
   "source": [
    "### MLM 任務前處理\n",
    "\n",
    "為了可以去訓練 MLM 任務，需要將 raw data 去做 masking。\n",
    "但其實 transformers 有提供 MLM、NSP處理的套件。"
   ]
  },
  {
   "cell_type": "code",
   "execution_count": 19,
   "metadata": {
    "ExecuteTime": {
     "end_time": "2022-12-04T09:50:53.805155Z",
     "start_time": "2022-12-04T09:50:53.629300Z"
    }
   },
   "outputs": [
    {
     "ename": "ImportError",
     "evalue": "cannot import name 'CommitOperationAdd' from 'huggingface_hub' (C:\\Users\\aband\\AppData\\Roaming\\Python\\Python37\\site-packages\\huggingface_hub\\__init__.py)",
     "output_type": "error",
     "traceback": [
      "\u001b[1;31m---------------------------------------------------------------------------\u001b[0m",
      "\u001b[1;31mImportError\u001b[0m                               Traceback (most recent call last)",
      "\u001b[1;32m<ipython-input-19-e5429f99d43f>\u001b[0m in \u001b[0;36m<module>\u001b[1;34m\u001b[0m\n\u001b[1;32m----> 1\u001b[1;33m \u001b[1;32mfrom\u001b[0m \u001b[0mtransformers\u001b[0m \u001b[1;32mimport\u001b[0m \u001b[0mDataCollatorForLanguageModeling\u001b[0m\u001b[1;33m\u001b[0m\u001b[1;33m\u001b[0m\u001b[0m\n\u001b[0m\u001b[0;32m      2\u001b[0m \u001b[1;33m\u001b[0m\u001b[0m\n",
      "\u001b[1;32m~\\AppData\\Roaming\\Python\\Python37\\site-packages\\transformers\\__init__.py\u001b[0m in \u001b[0;36m<module>\u001b[1;34m\u001b[0m\n\u001b[0;32m     28\u001b[0m \u001b[1;33m\u001b[0m\u001b[0m\n\u001b[0;32m     29\u001b[0m \u001b[1;31m# Check the dependencies satisfy the minimal versions required.\u001b[0m\u001b[1;33m\u001b[0m\u001b[1;33m\u001b[0m\u001b[1;33m\u001b[0m\u001b[0m\n\u001b[1;32m---> 30\u001b[1;33m \u001b[1;32mfrom\u001b[0m \u001b[1;33m.\u001b[0m \u001b[1;32mimport\u001b[0m \u001b[0mdependency_versions_check\u001b[0m\u001b[1;33m\u001b[0m\u001b[1;33m\u001b[0m\u001b[0m\n\u001b[0m\u001b[0;32m     31\u001b[0m from .utils import (\n\u001b[0;32m     32\u001b[0m     \u001b[0mOptionalDependencyNotAvailable\u001b[0m\u001b[1;33m,\u001b[0m\u001b[1;33m\u001b[0m\u001b[1;33m\u001b[0m\u001b[0m\n",
      "\u001b[1;32m~\\AppData\\Roaming\\Python\\Python37\\site-packages\\transformers\\dependency_versions_check.py\u001b[0m in \u001b[0;36m<module>\u001b[1;34m\u001b[0m\n\u001b[0;32m     34\u001b[0m         \u001b[1;32mif\u001b[0m \u001b[0mpkg\u001b[0m \u001b[1;33m==\u001b[0m \u001b[1;34m\"tokenizers\"\u001b[0m\u001b[1;33m:\u001b[0m\u001b[1;33m\u001b[0m\u001b[1;33m\u001b[0m\u001b[0m\n\u001b[0;32m     35\u001b[0m             \u001b[1;31m# must be loaded here, or else tqdm check may fail\u001b[0m\u001b[1;33m\u001b[0m\u001b[1;33m\u001b[0m\u001b[1;33m\u001b[0m\u001b[0m\n\u001b[1;32m---> 36\u001b[1;33m             \u001b[1;32mfrom\u001b[0m \u001b[1;33m.\u001b[0m\u001b[0mutils\u001b[0m \u001b[1;32mimport\u001b[0m \u001b[0mis_tokenizers_available\u001b[0m\u001b[1;33m\u001b[0m\u001b[1;33m\u001b[0m\u001b[0m\n\u001b[0m\u001b[0;32m     37\u001b[0m \u001b[1;33m\u001b[0m\u001b[0m\n\u001b[0;32m     38\u001b[0m             \u001b[1;32mif\u001b[0m \u001b[1;32mnot\u001b[0m \u001b[0mis_tokenizers_available\u001b[0m\u001b[1;33m(\u001b[0m\u001b[1;33m)\u001b[0m\u001b[1;33m:\u001b[0m\u001b[1;33m\u001b[0m\u001b[1;33m\u001b[0m\u001b[0m\n",
      "\u001b[1;32m~\\AppData\\Roaming\\Python\\Python37\\site-packages\\transformers\\utils\\__init__.py\u001b[0m in \u001b[0;36m<module>\u001b[1;34m\u001b[0m\n\u001b[0;32m     57\u001b[0m     \u001b[0mworking_or_temp_dir\u001b[0m\u001b[1;33m,\u001b[0m\u001b[1;33m\u001b[0m\u001b[1;33m\u001b[0m\u001b[0m\n\u001b[0;32m     58\u001b[0m )\n\u001b[1;32m---> 59\u001b[1;33m from .hub import (\n\u001b[0m\u001b[0;32m     60\u001b[0m     \u001b[0mCLOUDFRONT_DISTRIB_PREFIX\u001b[0m\u001b[1;33m,\u001b[0m\u001b[1;33m\u001b[0m\u001b[1;33m\u001b[0m\u001b[0m\n\u001b[0;32m     61\u001b[0m     \u001b[0mDISABLE_TELEMETRY\u001b[0m\u001b[1;33m,\u001b[0m\u001b[1;33m\u001b[0m\u001b[1;33m\u001b[0m\u001b[0m\n",
      "\u001b[1;32m~\\AppData\\Roaming\\Python\\Python37\\site-packages\\transformers\\utils\\hub.py\u001b[0m in \u001b[0;36m<module>\u001b[1;34m\u001b[0m\n\u001b[0;32m     30\u001b[0m \u001b[1;32mimport\u001b[0m \u001b[0mhuggingface_hub\u001b[0m\u001b[1;33m\u001b[0m\u001b[1;33m\u001b[0m\u001b[0m\n\u001b[0;32m     31\u001b[0m \u001b[1;32mimport\u001b[0m \u001b[0mrequests\u001b[0m\u001b[1;33m\u001b[0m\u001b[1;33m\u001b[0m\u001b[0m\n\u001b[1;32m---> 32\u001b[1;33m from huggingface_hub import (\n\u001b[0m\u001b[0;32m     33\u001b[0m     \u001b[0mCommitOperationAdd\u001b[0m\u001b[1;33m,\u001b[0m\u001b[1;33m\u001b[0m\u001b[1;33m\u001b[0m\u001b[0m\n\u001b[0;32m     34\u001b[0m     \u001b[0mHfFolder\u001b[0m\u001b[1;33m,\u001b[0m\u001b[1;33m\u001b[0m\u001b[1;33m\u001b[0m\u001b[0m\n",
      "\u001b[1;31mImportError\u001b[0m: cannot import name 'CommitOperationAdd' from 'huggingface_hub' (C:\\Users\\aband\\AppData\\Roaming\\Python\\Python37\\site-packages\\huggingface_hub\\__init__.py)"
     ]
    }
   ],
   "source": [
    "from transformers import DataCollatorForLanguageModeling\n",
    "\n"
   ]
  },
  {
   "cell_type": "code",
   "execution_count": null,
   "metadata": {},
   "outputs": [],
   "source": []
  }
 ],
 "metadata": {
  "kernelspec": {
   "display_name": "Python 3",
   "language": "python",
   "name": "python3"
  },
  "language_info": {
   "codemirror_mode": {
    "name": "ipython",
    "version": 3
   },
   "file_extension": ".py",
   "mimetype": "text/x-python",
   "name": "python",
   "nbconvert_exporter": "python",
   "pygments_lexer": "ipython3",
   "version": "3.7.3"
  }
 },
 "nbformat": 4,
 "nbformat_minor": 4
}
