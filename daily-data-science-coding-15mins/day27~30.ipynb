{
 "cells": [
  {
   "cell_type": "markdown",
   "metadata": {},
   "source": [
    "複習一些過往的code並慢慢整理自己的codebase，並且養成每日寫data science code的習慣!\n",
    "\n",
    "## 目標: 將過往code文件化、模組化，使其重複使用。"
   ]
  },
  {
   "cell_type": "code",
   "execution_count": 1,
   "metadata": {
    "ExecuteTime": {
     "end_time": "2022-11-06T10:25:31.119502Z",
     "start_time": "2022-11-06T10:25:12.978733Z"
    }
   },
   "outputs": [],
   "source": [
    "import numpy as np\n",
    "import pandas as pd\n",
    "import seaborn as sns\n",
    "from sklearn.datasets import load_wine\n",
    "import matplotlib.pyplot as plt\n",
    "import warnings\n",
    "import jieba\n",
    "\n",
    "warnings.filterwarnings(\"ignore\")\n",
    "%matplotlib inline"
   ]
  },
  {
   "cell_type": "markdown",
   "metadata": {},
   "source": [
    "## Day27 - Designing ML System(ch4), handling the lack of labels\n",
    "- **Weak Supervision**\n",
    "- Semi-supervision\n",
    "- Transfer Learning\n",
    "- Activa Learning"
   ]
  },
  {
   "cell_type": "markdown",
   "metadata": {},
   "source": [
    "> 建立 Label Function(Programmatic labeling) 去建立標籤資料！其中的精神在於比起人工標籤，一樣有專家精神，且可以擴充！"
   ]
  },
  {
   "cell_type": "code",
   "execution_count": 15,
   "metadata": {
    "ExecuteTime": {
     "end_time": "2022-11-06T10:41:43.924115Z",
     "start_time": "2022-11-06T10:41:43.894087Z"
    }
   },
   "outputs": [],
   "source": [
    "\"\"\"\n",
    "    假設是一個惡意留言檢測模型。\n",
    "\"\"\"\n",
    "\n",
    "def lf_has_fuck(data):\n",
    "    if 'fuck' in data:\n",
    "        return 1\n",
    "    return 0\n",
    "    \n",
    "def lf_has_bastard(data):\n",
    "    if 'bastard' in data:\n",
    "        return 1\n",
    "    return 0\n",
    "\n",
    "class ProgrammaticLabel():\n",
    "    def __init__(self, lfs):\n",
    "        \"\"\"\n",
    "            ProgrammatcLabeling 的實踐。\n",
    "        \"\"\"\n",
    "        self.lfs = lfs\n",
    "    \n",
    "    def label(self, data):\n",
    "        \"\"\"\n",
    "            還尚未完善，可能是透過投票或者滿足任一。\n",
    "        \"\"\"\n",
    "        if type(data) == type([]):\n",
    "            labels = []\n",
    "            for row_data in data:\n",
    "                for lf in self.lfs:\n",
    "                    label = lf(row_data)\n",
    "                    if label:\n",
    "                        labels.append(label)\n",
    "                        break\n",
    "                else:\n",
    "                    labels.append(label)\n",
    "            return labels\n",
    "                    \n",
    "        else:\n",
    "            for lf in self.lfs:\n",
    "                label = lf(data)\n",
    "                if label: return [label]\n",
    "            return [label]"
   ]
  },
  {
   "cell_type": "code",
   "execution_count": 16,
   "metadata": {
    "ExecuteTime": {
     "end_time": "2022-11-06T10:41:44.266529Z",
     "start_time": "2022-11-06T10:41:44.253599Z"
    }
   },
   "outputs": [
    {
     "data": {
      "text/plain": [
       "[1, 0, 1]"
      ]
     },
     "execution_count": 16,
     "metadata": {},
     "output_type": "execute_result"
    }
   ],
   "source": [
    "text = [\n",
    "    \"You are such a bastard. I don't wanna talk to anymore.\",\n",
    "    \"It's beatiful day. I wanna go outside and have fun.\",\n",
    "    \"Fuck!!!!!!!!!! Today is fucking crazy!!!!!\"\n",
    "]\n",
    "        \n",
    "labeler = ProgrammaticLabel([lf_has_bastard, lf_has_fuck])\n",
    "\n",
    "labeler.label(text)"
   ]
  },
  {
   "cell_type": "code",
   "execution_count": 17,
   "metadata": {
    "ExecuteTime": {
     "end_time": "2022-11-06T10:41:44.684337Z",
     "start_time": "2022-11-06T10:41:44.663802Z"
    }
   },
   "outputs": [
    {
     "data": {
      "text/plain": [
       "[0]"
      ]
     },
     "execution_count": 17,
     "metadata": {},
     "output_type": "execute_result"
    }
   ],
   "source": [
    "text = \"Chill day!\"\n",
    "labeler.label(text)"
   ]
  },
  {
   "cell_type": "code",
   "execution_count": null,
   "metadata": {},
   "outputs": [],
   "source": []
  }
 ],
 "metadata": {
  "kernelspec": {
   "display_name": "Python 3",
   "language": "python",
   "name": "python3"
  },
  "language_info": {
   "codemirror_mode": {
    "name": "ipython",
    "version": 3
   },
   "file_extension": ".py",
   "mimetype": "text/x-python",
   "name": "python",
   "nbconvert_exporter": "python",
   "pygments_lexer": "ipython3",
   "version": "3.7.3"
  }
 },
 "nbformat": 4,
 "nbformat_minor": 4
}
