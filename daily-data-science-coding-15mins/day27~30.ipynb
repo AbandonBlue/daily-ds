{
 "cells": [
  {
   "cell_type": "markdown",
   "metadata": {},
   "source": [
    "複習一些過往的code並慢慢整理自己的codebase，並且養成每日寫data science code的習慣!\n",
    "\n",
    "## 目標: 將過往code文件化、模組化，使其重複使用。"
   ]
  },
  {
   "cell_type": "code",
   "execution_count": 1,
   "metadata": {
    "ExecuteTime": {
     "end_time": "2022-11-06T10:25:31.119502Z",
     "start_time": "2022-11-06T10:25:12.978733Z"
    }
   },
   "outputs": [],
   "source": [
    "import numpy as np\n",
    "import pandas as pd\n",
    "import seaborn as sns\n",
    "from sklearn.datasets import load_wine\n",
    "import matplotlib.pyplot as plt\n",
    "import warnings\n",
    "import jieba\n",
    "\n",
    "warnings.filterwarnings(\"ignore\")\n",
    "%matplotlib inline"
   ]
  },
  {
   "cell_type": "markdown",
   "metadata": {},
   "source": [
    "## Day27 - Designing ML System(ch4), handling the lack of labels\n",
    "- **Weak Supervision**: 透過Label function，使用Heuristic 方式產生標籤資料。\n",
    "- Semi-supervision\n",
    "- Transfer Learning\n",
    "- Active Learning"
   ]
  },
  {
   "cell_type": "markdown",
   "metadata": {},
   "source": [
    "> 建立 Label Function(Programmatic labeling) 去建立標籤資料！其中的精神在於比起人工標籤，一樣有專家精神，且可以擴充！"
   ]
  },
  {
   "cell_type": "code",
   "execution_count": 15,
   "metadata": {
    "ExecuteTime": {
     "end_time": "2022-11-06T10:41:43.924115Z",
     "start_time": "2022-11-06T10:41:43.894087Z"
    }
   },
   "outputs": [],
   "source": [
    "\"\"\"\n",
    "    假設是一個惡意留言檢測模型。\n",
    "\"\"\"\n",
    "\n",
    "def lf_has_fuck(data):\n",
    "    if 'fuck' in data:\n",
    "        return 1\n",
    "    return 0\n",
    "    \n",
    "def lf_has_bastard(data):\n",
    "    if 'bastard' in data:\n",
    "        return 1\n",
    "    return 0\n",
    "\n",
    "class ProgrammaticLabel():\n",
    "    def __init__(self, lfs):\n",
    "        \"\"\"\n",
    "            ProgrammatcLabeling 的實踐。\n",
    "        \"\"\"\n",
    "        self.lfs = lfs\n",
    "    \n",
    "    def label(self, data):\n",
    "        \"\"\"\n",
    "            還尚未完善，可能是透過投票或者滿足任一。\n",
    "        \"\"\"\n",
    "        if type(data) == type([]):\n",
    "            labels = []\n",
    "            for row_data in data:\n",
    "                for lf in self.lfs:\n",
    "                    label = lf(row_data)\n",
    "                    if label:\n",
    "                        labels.append(label)\n",
    "                        break\n",
    "                else:\n",
    "                    labels.append(label)\n",
    "            return labels\n",
    "                    \n",
    "        else:\n",
    "            for lf in self.lfs:\n",
    "                label = lf(data)\n",
    "                if label: return [label]\n",
    "            return [label]"
   ]
  },
  {
   "cell_type": "code",
   "execution_count": 16,
   "metadata": {
    "ExecuteTime": {
     "end_time": "2022-11-06T10:41:44.266529Z",
     "start_time": "2022-11-06T10:41:44.253599Z"
    }
   },
   "outputs": [
    {
     "data": {
      "text/plain": [
       "[1, 0, 1]"
      ]
     },
     "execution_count": 16,
     "metadata": {},
     "output_type": "execute_result"
    }
   ],
   "source": [
    "text = [\n",
    "    \"You are such a bastard. I don't wanna talk to anymore.\",\n",
    "    \"It's beatiful day. I wanna go outside and have fun.\",\n",
    "    \"Fuck!!!!!!!!!! Today is fucking crazy!!!!!\"\n",
    "]\n",
    "        \n",
    "labeler = ProgrammaticLabel([lf_has_bastard, lf_has_fuck])\n",
    "\n",
    "labeler.label(text)"
   ]
  },
  {
   "cell_type": "code",
   "execution_count": 17,
   "metadata": {
    "ExecuteTime": {
     "end_time": "2022-11-06T10:41:44.684337Z",
     "start_time": "2022-11-06T10:41:44.663802Z"
    }
   },
   "outputs": [
    {
     "data": {
      "text/plain": [
       "[0]"
      ]
     },
     "execution_count": 17,
     "metadata": {},
     "output_type": "execute_result"
    }
   ],
   "source": [
    "text = \"Chill day!\"\n",
    "labeler.label(text)"
   ]
  },
  {
   "cell_type": "markdown",
   "metadata": {},
   "source": [
    "## Day28 - Designing ML System(ch4), handling the lack of labels\n",
    "- Weak Supervision\n",
    "- **Semi-supervision**: 透過有限、少量的標籤資料當作初始，進而訓練模型，再在無標籤資料上進行預測，當做新的標籤資料。\n",
    "- Transfer Learning\n",
    "- Active Learning"
   ]
  },
  {
   "cell_type": "markdown",
   "metadata": {},
   "source": [
    "1. 使用完整訓練資料(50000)\n",
    "2. 使用部分訓練資料(25000)+Semi-supervision(25000)\n",
    "3. 使用部分訓練資料(25000)"
   ]
  },
  {
   "cell_type": "code",
   "execution_count": 31,
   "metadata": {
    "ExecuteTime": {
     "end_time": "2022-11-07T11:50:25.025310Z",
     "start_time": "2022-11-07T11:50:24.866311Z"
    }
   },
   "outputs": [],
   "source": [
    "import tensorflow as tf\n",
    "from tensorflow import keras\n",
    "from tensorflow.keras import layers\n",
    "\n",
    "from sklearn.model_selection import train_test_split"
   ]
  },
  {
   "cell_type": "code",
   "execution_count": 29,
   "metadata": {
    "ExecuteTime": {
     "end_time": "2022-11-07T11:49:28.048077Z",
     "start_time": "2022-11-07T11:49:26.575440Z"
    }
   },
   "outputs": [],
   "source": [
    "(x_train, y_train), (x_test, y_test) = tf.keras.datasets.cifar10.load_data()"
   ]
  },
  {
   "cell_type": "code",
   "execution_count": 30,
   "metadata": {
    "ExecuteTime": {
     "end_time": "2022-11-07T11:49:43.796933Z",
     "start_time": "2022-11-07T11:49:43.787943Z"
    }
   },
   "outputs": [
    {
     "data": {
      "text/plain": [
       "((50000, 32, 32, 3), (50000, 1), (10000, 32, 32, 3), (10000, 1))"
      ]
     },
     "execution_count": 30,
     "metadata": {},
     "output_type": "execute_result"
    }
   ],
   "source": [
    "x_train.shape, y_train.shape, x_test.shape, y_test.shape"
   ]
  },
  {
   "cell_type": "code",
   "execution_count": 32,
   "metadata": {
    "ExecuteTime": {
     "end_time": "2022-11-07T11:51:30.690626Z",
     "start_time": "2022-11-07T11:51:30.596636Z"
    }
   },
   "outputs": [],
   "source": [
    "# 切分資料\n",
    "\n",
    "x_train, x_val, y_train, y_val = train_test_split(x_train, y_train, test_size=0.5, random_state=222)"
   ]
  },
  {
   "cell_type": "code",
   "execution_count": 33,
   "metadata": {
    "ExecuteTime": {
     "end_time": "2022-11-07T11:51:44.173925Z",
     "start_time": "2022-11-07T11:51:44.162922Z"
    }
   },
   "outputs": [
    {
     "data": {
      "text/plain": [
       "((25000, 32, 32, 3), (25000, 32, 32, 3), (10000, 32, 32, 3))"
      ]
     },
     "execution_count": 33,
     "metadata": {},
     "output_type": "execute_result"
    }
   ],
   "source": [
    "x_train.shape, x_val.shape, x_test.shape"
   ]
  },
  {
   "cell_type": "code",
   "execution_count": 35,
   "metadata": {
    "ExecuteTime": {
     "end_time": "2022-11-07T11:53:04.979530Z",
     "start_time": "2022-11-07T11:53:04.471415Z"
    }
   },
   "outputs": [],
   "source": [
    "# 標準化資料\n",
    "\n",
    "x_train = x_train / 255.0\n",
    "x_val = x_val / 255.0\n",
    "x_test = x_test / 255.0"
   ]
  },
  {
   "cell_type": "code",
   "execution_count": 55,
   "metadata": {
    "ExecuteTime": {
     "end_time": "2022-11-07T12:12:05.628008Z",
     "start_time": "2022-11-07T12:12:05.612014Z"
    }
   },
   "outputs": [],
   "source": [
    "# 定義模型\n",
    "\n",
    "def get_cnn_model(name):\n",
    "    \"\"\"\n",
    "        簡單驗證用。\n",
    "    \"\"\"\n",
    "    inputs = keras.Input(shape=(32, 32, 3))\n",
    "    x = layers.Conv2D(filters=16, kernel_size=2, padding='same', activation='relu')(inputs)\n",
    "    x = layers.MaxPooling2D()(x)\n",
    "    x = layers.Conv2D(filters=16, kernel_size=2, padding='same', activation='relu')(x)\n",
    "    x = layers.MaxPooling2D()(x)\n",
    "    x = layers.Flatten()(x)\n",
    "    outputs = layers.Dense(units=10, activation='softmax')(x)\n",
    "    \n",
    "    return keras.Model(inputs, outputs, name=name)"
   ]
  },
  {
   "cell_type": "code",
   "execution_count": 56,
   "metadata": {
    "ExecuteTime": {
     "end_time": "2022-11-07T12:12:09.468629Z",
     "start_time": "2022-11-07T12:12:09.464627Z"
    }
   },
   "outputs": [],
   "source": [
    "batch_size = 32\n",
    "epochs = 10"
   ]
  },
  {
   "cell_type": "code",
   "execution_count": 57,
   "metadata": {
    "ExecuteTime": {
     "end_time": "2022-11-07T12:18:19.338486Z",
     "start_time": "2022-11-07T12:12:11.827471Z"
    },
    "scrolled": true
   },
   "outputs": [
    {
     "name": "stdout",
     "output_type": "stream",
     "text": [
      "Model: \"full_ds\"\n",
      "_________________________________________________________________\n",
      " Layer (type)                Output Shape              Param #   \n",
      "=================================================================\n",
      " input_9 (InputLayer)        [(None, 32, 32, 3)]       0         \n",
      "                                                                 \n",
      " conv2d_16 (Conv2D)          (None, 32, 32, 16)        208       \n",
      "                                                                 \n",
      " max_pooling2d_16 (MaxPoolin  (None, 16, 16, 16)       0         \n",
      " g2D)                                                            \n",
      "                                                                 \n",
      " conv2d_17 (Conv2D)          (None, 16, 16, 16)        1040      \n",
      "                                                                 \n",
      " max_pooling2d_17 (MaxPoolin  (None, 8, 8, 16)         0         \n",
      " g2D)                                                            \n",
      "                                                                 \n",
      " flatten_8 (Flatten)         (None, 1024)              0         \n",
      "                                                                 \n",
      " dense_8 (Dense)             (None, 10)                10250     \n",
      "                                                                 \n",
      "=================================================================\n",
      "Total params: 11,498\n",
      "Trainable params: 11,498\n",
      "Non-trainable params: 0\n",
      "_________________________________________________________________\n",
      "Epoch 1/10\n",
      "1563/1563 [==============================] - 36s 22ms/step - loss: 1.6175 - acc: 0.4247 - val_loss: 1.4021 - val_acc: 0.5028\n",
      "Epoch 2/10\n",
      "1563/1563 [==============================] - 42s 27ms/step - loss: 1.3429 - acc: 0.5294 - val_loss: 1.2912 - val_acc: 0.5462\n",
      "Epoch 3/10\n",
      "1563/1563 [==============================] - 35s 22ms/step - loss: 1.2471 - acc: 0.5642 - val_loss: 1.2211 - val_acc: 0.5702\n",
      "Epoch 4/10\n",
      "1563/1563 [==============================] - 35s 22ms/step - loss: 1.1766 - acc: 0.5911 - val_loss: 1.1499 - val_acc: 0.5941\n",
      "Epoch 5/10\n",
      "1563/1563 [==============================] - 38s 25ms/step - loss: 1.1265 - acc: 0.6055 - val_loss: 1.1234 - val_acc: 0.6058\n",
      "Epoch 6/10\n",
      "1563/1563 [==============================] - 36s 23ms/step - loss: 1.0826 - acc: 0.6228 - val_loss: 1.0978 - val_acc: 0.6121\n",
      "Epoch 7/10\n",
      "1563/1563 [==============================] - 36s 23ms/step - loss: 1.0477 - acc: 0.6344 - val_loss: 1.0773 - val_acc: 0.6215\n",
      "Epoch 8/10\n",
      "1563/1563 [==============================] - 34s 22ms/step - loss: 1.0232 - acc: 0.6455 - val_loss: 1.0650 - val_acc: 0.6277\n",
      "Epoch 9/10\n",
      "1563/1563 [==============================] - 33s 21ms/step - loss: 0.9977 - acc: 0.6542 - val_loss: 1.0783 - val_acc: 0.6319\n",
      "Epoch 10/10\n",
      "1563/1563 [==============================] - 35s 23ms/step - loss: 0.9837 - acc: 0.6590 - val_loss: 1.0201 - val_acc: 0.6461\n"
     ]
    },
    {
     "data": {
      "text/plain": [
       "<keras.callbacks.History at 0x23abba21748>"
      ]
     },
     "execution_count": 57,
     "metadata": {},
     "output_type": "execute_result"
    }
   ],
   "source": [
    "# 1. 全部資料\n",
    "\n",
    "full_ds_model = get_cnn_model('full_ds')\n",
    "full_ds_model.summary()\n",
    "full_ds_model.compile(optimizer='adam', loss='sparse_categorical_crossentropy', metrics=['acc'])\n",
    "full_ds_model.fit(\n",
    "    np.concatenate([x_train, x_val], axis=0), \n",
    "    np.concatenate([y_train, y_val], axis=0), \n",
    "    batch_size=batch_size, \n",
    "    epochs=epochs,\n",
    "    validation_data=(x_test, y_test)\n",
    ")"
   ]
  },
  {
   "cell_type": "code",
   "execution_count": 64,
   "metadata": {
    "ExecuteTime": {
     "end_time": "2022-11-07T12:42:25.209379Z",
     "start_time": "2022-11-07T12:38:59.415957Z"
    }
   },
   "outputs": [
    {
     "name": "stdout",
     "output_type": "stream",
     "text": [
      "Model: \"semi-supervised\"\n",
      "_________________________________________________________________\n",
      " Layer (type)                Output Shape              Param #   \n",
      "=================================================================\n",
      " input_12 (InputLayer)       [(None, 32, 32, 3)]       0         \n",
      "                                                                 \n",
      " conv2d_22 (Conv2D)          (None, 32, 32, 16)        208       \n",
      "                                                                 \n",
      " max_pooling2d_22 (MaxPoolin  (None, 16, 16, 16)       0         \n",
      " g2D)                                                            \n",
      "                                                                 \n",
      " conv2d_23 (Conv2D)          (None, 16, 16, 16)        1040      \n",
      "                                                                 \n",
      " max_pooling2d_23 (MaxPoolin  (None, 8, 8, 16)         0         \n",
      " g2D)                                                            \n",
      "                                                                 \n",
      " flatten_11 (Flatten)        (None, 1024)              0         \n",
      "                                                                 \n",
      " dense_11 (Dense)            (None, 10)                10250     \n",
      "                                                                 \n",
      "=================================================================\n",
      "Total params: 11,498\n",
      "Trainable params: 11,498\n",
      "Non-trainable params: 0\n",
      "_________________________________________________________________\n",
      "Epoch 1/10\n",
      "782/782 [==============================] - 12s 15ms/step - loss: 1.8294 - acc: 0.3483 - val_loss: 1.5658 - val_acc: 0.4515\n",
      "Epoch 2/10\n",
      "782/782 [==============================] - 14s 18ms/step - loss: 1.5147 - acc: 0.4632 - val_loss: 1.4289 - val_acc: 0.4978\n",
      "Epoch 3/10\n",
      "782/782 [==============================] - 11s 15ms/step - loss: 1.3880 - acc: 0.5146 - val_loss: 1.3561 - val_acc: 0.5192\n",
      "Epoch 4/10\n",
      "782/782 [==============================] - 13s 16ms/step - loss: 1.2908 - acc: 0.5502 - val_loss: 1.2567 - val_acc: 0.5561\n",
      "Epoch 5/10\n",
      "782/782 [==============================] - 16s 21ms/step - loss: 1.2247 - acc: 0.5764 - val_loss: 1.2167 - val_acc: 0.5705\n",
      "Epoch 6/10\n",
      "782/782 [==============================] - 19s 24ms/step - loss: 1.1762 - acc: 0.5909 - val_loss: 1.2012 - val_acc: 0.5749\n",
      "Epoch 7/10\n",
      "782/782 [==============================] - 29s 37ms/step - loss: 1.1386 - acc: 0.6047 - val_loss: 1.1700 - val_acc: 0.5902\n",
      "Epoch 8/10\n",
      "782/782 [==============================] - 37s 48ms/step - loss: 1.1083 - acc: 0.6135 - val_loss: 1.1579 - val_acc: 0.5933\n",
      "Epoch 9/10\n",
      "782/782 [==============================] - 31s 40ms/step - loss: 1.0767 - acc: 0.6284 - val_loss: 1.1416 - val_acc: 0.5993\n",
      "Epoch 10/10\n",
      "782/782 [==============================] - 23s 29ms/step - loss: 1.0588 - acc: 0.6317 - val_loss: 1.1431 - val_acc: 0.6048\n"
     ]
    },
    {
     "data": {
      "text/plain": [
       "<keras.callbacks.History at 0x23abdf875f8>"
      ]
     },
     "execution_count": 64,
     "metadata": {},
     "output_type": "execute_result"
    }
   ],
   "source": [
    "# 2. 部分資料+semi-supervised(過程可以更精緻，比如是迭代產生新標籤，目前利用的是最差的)\n",
    "\n",
    "\n",
    "semi_model = get_cnn_model('semi-supervised')\n",
    "semi_model.summary()\n",
    "semi_model.compile(optimizer='adam', loss='sparse_categorical_crossentropy', metrics=['acc'])\n",
    "semi_model.fit(\n",
    "    x_train, \n",
    "    y_train, \n",
    "    batch_size=batch_size, \n",
    "    epochs=epochs,\n",
    "    validation_data=(x_test, y_test)\n",
    ")\n"
   ]
  },
  {
   "cell_type": "code",
   "execution_count": 65,
   "metadata": {
    "ExecuteTime": {
     "end_time": "2022-11-07T12:47:22.382502Z",
     "start_time": "2022-11-07T12:42:25.218380Z"
    }
   },
   "outputs": [
    {
     "name": "stdout",
     "output_type": "stream",
     "text": [
      "782/782 [==============================] - 7s 9ms/step\n",
      "Epoch 1/10\n",
      "1563/1563 [==============================] - 30s 19ms/step - loss: 0.7894 - acc: 0.7517 - val_loss: 1.1918 - val_acc: 0.6105\n",
      "Epoch 2/10\n",
      "1563/1563 [==============================] - 37s 23ms/step - loss: 0.7625 - acc: 0.7604 - val_loss: 1.2079 - val_acc: 0.6074\n",
      "Epoch 3/10\n",
      "1563/1563 [==============================] - 31s 20ms/step - loss: 0.7463 - acc: 0.7658 - val_loss: 1.2257 - val_acc: 0.6138\n",
      "Epoch 4/10\n",
      "1563/1563 [==============================] - 26s 17ms/step - loss: 0.7362 - acc: 0.7678 - val_loss: 1.2226 - val_acc: 0.6139\n",
      "Epoch 5/10\n",
      "1563/1563 [==============================] - 26s 17ms/step - loss: 0.7278 - acc: 0.7703 - val_loss: 1.2418 - val_acc: 0.6117\n",
      "Epoch 6/10\n",
      "1563/1563 [==============================] - 27s 17ms/step - loss: 0.7224 - acc: 0.7697 - val_loss: 1.2159 - val_acc: 0.6172\n",
      "Epoch 7/10\n",
      "1563/1563 [==============================] - 27s 17ms/step - loss: 0.7165 - acc: 0.7723 - val_loss: 1.2421 - val_acc: 0.6153\n",
      "Epoch 8/10\n",
      "1563/1563 [==============================] - 27s 17ms/step - loss: 0.7108 - acc: 0.7748 - val_loss: 1.2760 - val_acc: 0.6075\n",
      "Epoch 9/10\n",
      "1563/1563 [==============================] - 28s 18ms/step - loss: 0.7085 - acc: 0.7742 - val_loss: 1.2255 - val_acc: 0.6172\n",
      "Epoch 10/10\n",
      "1563/1563 [==============================] - 28s 18ms/step - loss: 0.7033 - acc: 0.7746 - val_loss: 1.2208 - val_acc: 0.6195\n"
     ]
    },
    {
     "data": {
      "text/plain": [
       "<keras.callbacks.History at 0x23abe056080>"
      ]
     },
     "execution_count": 65,
     "metadata": {},
     "output_type": "execute_result"
    }
   ],
   "source": [
    "y_val_semi = np.argmax(semi_model.predict(x_val), axis=1)\n",
    "\n",
    "\n",
    "semi_model.fit(\n",
    "    np.concatenate([x_train, x_val], axis=0), \n",
    "    np.concatenate([y_train, y_val_semi.reshape(-1, 1)], axis=0),\n",
    "    batch_size=batch_size, \n",
    "    epochs=epochs,\n",
    "    validation_data=(x_test, y_test)\n",
    ")"
   ]
  },
  {
   "cell_type": "code",
   "execution_count": 60,
   "metadata": {
    "ExecuteTime": {
     "end_time": "2022-11-07T12:27:32.482103Z",
     "start_time": "2022-11-07T12:24:30.912963Z"
    }
   },
   "outputs": [
    {
     "name": "stdout",
     "output_type": "stream",
     "text": [
      "Model: \"part_of_ds\"\n",
      "_________________________________________________________________\n",
      " Layer (type)                Output Shape              Param #   \n",
      "=================================================================\n",
      " input_11 (InputLayer)       [(None, 32, 32, 3)]       0         \n",
      "                                                                 \n",
      " conv2d_20 (Conv2D)          (None, 32, 32, 16)        208       \n",
      "                                                                 \n",
      " max_pooling2d_20 (MaxPoolin  (None, 16, 16, 16)       0         \n",
      " g2D)                                                            \n",
      "                                                                 \n",
      " conv2d_21 (Conv2D)          (None, 16, 16, 16)        1040      \n",
      "                                                                 \n",
      " max_pooling2d_21 (MaxPoolin  (None, 8, 8, 16)         0         \n",
      " g2D)                                                            \n",
      "                                                                 \n",
      " flatten_10 (Flatten)        (None, 1024)              0         \n",
      "                                                                 \n",
      " dense_10 (Dense)            (None, 10)                10250     \n",
      "                                                                 \n",
      "=================================================================\n",
      "Total params: 11,498\n",
      "Trainable params: 11,498\n",
      "Non-trainable params: 0\n",
      "_________________________________________________________________\n",
      "Epoch 1/10\n",
      "782/782 [==============================] - 18s 22ms/step - loss: 1.7723 - acc: 0.3743 - val_loss: 1.4986 - val_acc: 0.4613\n",
      "Epoch 2/10\n",
      "782/782 [==============================] - 16s 20ms/step - loss: 1.4285 - acc: 0.4957 - val_loss: 1.3931 - val_acc: 0.5038\n",
      "Epoch 3/10\n",
      "782/782 [==============================] - 16s 21ms/step - loss: 1.3307 - acc: 0.5330 - val_loss: 1.3054 - val_acc: 0.5384\n",
      "Epoch 4/10\n",
      "782/782 [==============================] - 16s 20ms/step - loss: 1.2685 - acc: 0.5550 - val_loss: 1.2708 - val_acc: 0.5559\n",
      "Epoch 5/10\n",
      "782/782 [==============================] - 19s 24ms/step - loss: 1.2275 - acc: 0.5704 - val_loss: 1.2711 - val_acc: 0.5540\n",
      "Epoch 6/10\n",
      "782/782 [==============================] - 19s 25ms/step - loss: 1.1848 - acc: 0.5840 - val_loss: 1.2231 - val_acc: 0.5700\n",
      "Epoch 7/10\n",
      "782/782 [==============================] - 21s 27ms/step - loss: 1.1533 - acc: 0.5970 - val_loss: 1.2081 - val_acc: 0.5695\n",
      "Epoch 8/10\n",
      "782/782 [==============================] - 16s 20ms/step - loss: 1.1257 - acc: 0.6034 - val_loss: 1.1840 - val_acc: 0.5907\n",
      "Epoch 9/10\n",
      "782/782 [==============================] - 19s 24ms/step - loss: 1.0982 - acc: 0.6180 - val_loss: 1.1753 - val_acc: 0.5938\n",
      "Epoch 10/10\n",
      "782/782 [==============================] - 20s 26ms/step - loss: 1.0750 - acc: 0.6265 - val_loss: 1.1407 - val_acc: 0.6025\n"
     ]
    },
    {
     "data": {
      "text/plain": [
       "<keras.callbacks.History at 0x23abca883c8>"
      ]
     },
     "execution_count": 60,
     "metadata": {},
     "output_type": "execute_result"
    }
   ],
   "source": [
    "# 3. 部分資料\n",
    "\n",
    "\n",
    "part_of_ds_model = get_cnn_model('part_of_ds')\n",
    "part_of_ds_model.summary()\n",
    "part_of_ds_model.compile(optimizer='adam', loss='sparse_categorical_crossentropy', metrics=['acc'])\n",
    "part_of_ds_model.fit(\n",
    "    x_train, \n",
    "    y_train, \n",
    "    batch_size=batch_size, \n",
    "    epochs=epochs,\n",
    "    validation_data=(x_test, y_test)\n",
    ")"
   ]
  },
  {
   "cell_type": "code",
   "execution_count": null,
   "metadata": {},
   "outputs": [],
   "source": []
  },
  {
   "cell_type": "code",
   "execution_count": null,
   "metadata": {},
   "outputs": [],
   "source": []
  }
 ],
 "metadata": {
  "kernelspec": {
   "display_name": "Python 3",
   "language": "python",
   "name": "python3"
  },
  "language_info": {
   "codemirror_mode": {
    "name": "ipython",
    "version": 3
   },
   "file_extension": ".py",
   "mimetype": "text/x-python",
   "name": "python",
   "nbconvert_exporter": "python",
   "pygments_lexer": "ipython3",
   "version": "3.7.3"
  }
 },
 "nbformat": 4,
 "nbformat_minor": 4
}
