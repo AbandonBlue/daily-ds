{
 "cells": [
  {
   "cell_type": "markdown",
   "metadata": {},
   "source": [
    "複習一些過往的code並慢慢整理自己的codebase，並且養成每日寫data science code的習慣!"
   ]
  },
  {
   "cell_type": "code",
   "execution_count": 2,
   "metadata": {
    "ExecuteTime": {
     "end_time": "2022-10-06T15:24:21.878612Z",
     "start_time": "2022-10-06T15:24:21.872677Z"
    }
   },
   "outputs": [],
   "source": [
    "import numpy as np\n",
    "import pandas as pd\n",
    "from sklearn.datasets import load_wine"
   ]
  },
  {
   "cell_type": "code",
   "execution_count": 5,
   "metadata": {
    "ExecuteTime": {
     "end_time": "2022-10-06T15:25:02.476603Z",
     "start_time": "2022-10-06T15:25:02.375052Z"
    },
    "collapsed": true
   },
   "outputs": [
    {
     "data": {
      "text/plain": [
       "{'data':      alcohol  malic_acid   ash  alcalinity_of_ash  magnesium  total_phenols  \\\n",
       " 0      14.23        1.71  2.43               15.6      127.0           2.80   \n",
       " 1      13.20        1.78  2.14               11.2      100.0           2.65   \n",
       " 2      13.16        2.36  2.67               18.6      101.0           2.80   \n",
       " 3      14.37        1.95  2.50               16.8      113.0           3.85   \n",
       " 4      13.24        2.59  2.87               21.0      118.0           2.80   \n",
       " ..       ...         ...   ...                ...        ...            ...   \n",
       " 173    13.71        5.65  2.45               20.5       95.0           1.68   \n",
       " 174    13.40        3.91  2.48               23.0      102.0           1.80   \n",
       " 175    13.27        4.28  2.26               20.0      120.0           1.59   \n",
       " 176    13.17        2.59  2.37               20.0      120.0           1.65   \n",
       " 177    14.13        4.10  2.74               24.5       96.0           2.05   \n",
       " \n",
       "      flavanoids  nonflavanoid_phenols  proanthocyanins  color_intensity   hue  \\\n",
       " 0          3.06                  0.28             2.29             5.64  1.04   \n",
       " 1          2.76                  0.26             1.28             4.38  1.05   \n",
       " 2          3.24                  0.30             2.81             5.68  1.03   \n",
       " 3          3.49                  0.24             2.18             7.80  0.86   \n",
       " 4          2.69                  0.39             1.82             4.32  1.04   \n",
       " ..          ...                   ...              ...              ...   ...   \n",
       " 173        0.61                  0.52             1.06             7.70  0.64   \n",
       " 174        0.75                  0.43             1.41             7.30  0.70   \n",
       " 175        0.69                  0.43             1.35            10.20  0.59   \n",
       " 176        0.68                  0.53             1.46             9.30  0.60   \n",
       " 177        0.76                  0.56             1.35             9.20  0.61   \n",
       " \n",
       "      od280/od315_of_diluted_wines  proline  \n",
       " 0                            3.92   1065.0  \n",
       " 1                            3.40   1050.0  \n",
       " 2                            3.17   1185.0  \n",
       " 3                            3.45   1480.0  \n",
       " 4                            2.93    735.0  \n",
       " ..                            ...      ...  \n",
       " 173                          1.74    740.0  \n",
       " 174                          1.56    750.0  \n",
       " 175                          1.56    835.0  \n",
       " 176                          1.62    840.0  \n",
       " 177                          1.60    560.0  \n",
       " \n",
       " [178 rows x 13 columns], 'target': 0      0\n",
       " 1      0\n",
       " 2      0\n",
       " 3      0\n",
       " 4      0\n",
       "       ..\n",
       " 173    2\n",
       " 174    2\n",
       " 175    2\n",
       " 176    2\n",
       " 177    2\n",
       " Name: target, Length: 178, dtype: int32, 'frame':      alcohol  malic_acid   ash  alcalinity_of_ash  magnesium  total_phenols  \\\n",
       " 0      14.23        1.71  2.43               15.6      127.0           2.80   \n",
       " 1      13.20        1.78  2.14               11.2      100.0           2.65   \n",
       " 2      13.16        2.36  2.67               18.6      101.0           2.80   \n",
       " 3      14.37        1.95  2.50               16.8      113.0           3.85   \n",
       " 4      13.24        2.59  2.87               21.0      118.0           2.80   \n",
       " ..       ...         ...   ...                ...        ...            ...   \n",
       " 173    13.71        5.65  2.45               20.5       95.0           1.68   \n",
       " 174    13.40        3.91  2.48               23.0      102.0           1.80   \n",
       " 175    13.27        4.28  2.26               20.0      120.0           1.59   \n",
       " 176    13.17        2.59  2.37               20.0      120.0           1.65   \n",
       " 177    14.13        4.10  2.74               24.5       96.0           2.05   \n",
       " \n",
       "      flavanoids  nonflavanoid_phenols  proanthocyanins  color_intensity   hue  \\\n",
       " 0          3.06                  0.28             2.29             5.64  1.04   \n",
       " 1          2.76                  0.26             1.28             4.38  1.05   \n",
       " 2          3.24                  0.30             2.81             5.68  1.03   \n",
       " 3          3.49                  0.24             2.18             7.80  0.86   \n",
       " 4          2.69                  0.39             1.82             4.32  1.04   \n",
       " ..          ...                   ...              ...              ...   ...   \n",
       " 173        0.61                  0.52             1.06             7.70  0.64   \n",
       " 174        0.75                  0.43             1.41             7.30  0.70   \n",
       " 175        0.69                  0.43             1.35            10.20  0.59   \n",
       " 176        0.68                  0.53             1.46             9.30  0.60   \n",
       " 177        0.76                  0.56             1.35             9.20  0.61   \n",
       " \n",
       "      od280/od315_of_diluted_wines  proline  target  \n",
       " 0                            3.92   1065.0       0  \n",
       " 1                            3.40   1050.0       0  \n",
       " 2                            3.17   1185.0       0  \n",
       " 3                            3.45   1480.0       0  \n",
       " 4                            2.93    735.0       0  \n",
       " ..                            ...      ...     ...  \n",
       " 173                          1.74    740.0       2  \n",
       " 174                          1.56    750.0       2  \n",
       " 175                          1.56    835.0       2  \n",
       " 176                          1.62    840.0       2  \n",
       " 177                          1.60    560.0       2  \n",
       " \n",
       " [178 rows x 14 columns], 'target_names': array(['class_0', 'class_1', 'class_2'], dtype='<U7'), 'DESCR': '.. _wine_dataset:\\n\\nWine recognition dataset\\n------------------------\\n\\n**Data Set Characteristics:**\\n\\n    :Number of Instances: 178 (50 in each of three classes)\\n    :Number of Attributes: 13 numeric, predictive attributes and the class\\n    :Attribute Information:\\n \\t\\t- Alcohol\\n \\t\\t- Malic acid\\n \\t\\t- Ash\\n\\t\\t- Alcalinity of ash  \\n \\t\\t- Magnesium\\n\\t\\t- Total phenols\\n \\t\\t- Flavanoids\\n \\t\\t- Nonflavanoid phenols\\n \\t\\t- Proanthocyanins\\n\\t\\t- Color intensity\\n \\t\\t- Hue\\n \\t\\t- OD280/OD315 of diluted wines\\n \\t\\t- Proline\\n\\n    - class:\\n            - class_0\\n            - class_1\\n            - class_2\\n\\t\\t\\n    :Summary Statistics:\\n    \\n    ============================= ==== ===== ======= =====\\n                                   Min   Max   Mean     SD\\n    ============================= ==== ===== ======= =====\\n    Alcohol:                      11.0  14.8    13.0   0.8\\n    Malic Acid:                   0.74  5.80    2.34  1.12\\n    Ash:                          1.36  3.23    2.36  0.27\\n    Alcalinity of Ash:            10.6  30.0    19.5   3.3\\n    Magnesium:                    70.0 162.0    99.7  14.3\\n    Total Phenols:                0.98  3.88    2.29  0.63\\n    Flavanoids:                   0.34  5.08    2.03  1.00\\n    Nonflavanoid Phenols:         0.13  0.66    0.36  0.12\\n    Proanthocyanins:              0.41  3.58    1.59  0.57\\n    Colour Intensity:              1.3  13.0     5.1   2.3\\n    Hue:                          0.48  1.71    0.96  0.23\\n    OD280/OD315 of diluted wines: 1.27  4.00    2.61  0.71\\n    Proline:                       278  1680     746   315\\n    ============================= ==== ===== ======= =====\\n\\n    :Missing Attribute Values: None\\n    :Class Distribution: class_0 (59), class_1 (71), class_2 (48)\\n    :Creator: R.A. Fisher\\n    :Donor: Michael Marshall (MARSHALL%PLU@io.arc.nasa.gov)\\n    :Date: July, 1988\\n\\nThis is a copy of UCI ML Wine recognition datasets.\\nhttps://archive.ics.uci.edu/ml/machine-learning-databases/wine/wine.data\\n\\nThe data is the results of a chemical analysis of wines grown in the same\\nregion in Italy by three different cultivators. There are thirteen different\\nmeasurements taken for different constituents found in the three types of\\nwine.\\n\\nOriginal Owners: \\n\\nForina, M. et al, PARVUS - \\nAn Extendible Package for Data Exploration, Classification and Correlation. \\nInstitute of Pharmaceutical and Food Analysis and Technologies,\\nVia Brigata Salerno, 16147 Genoa, Italy.\\n\\nCitation:\\n\\nLichman, M. (2013). UCI Machine Learning Repository\\n[https://archive.ics.uci.edu/ml]. Irvine, CA: University of California,\\nSchool of Information and Computer Science. \\n\\n.. topic:: References\\n\\n  (1) S. Aeberhard, D. Coomans and O. de Vel, \\n  Comparison of Classifiers in High Dimensional Settings, \\n  Tech. Rep. no. 92-02, (1992), Dept. of Computer Science and Dept. of  \\n  Mathematics and Statistics, James Cook University of North Queensland. \\n  (Also submitted to Technometrics). \\n\\n  The data was used with many others for comparing various \\n  classifiers. The classes are separable, though only RDA \\n  has achieved 100% correct classification. \\n  (RDA : 100%, QDA 99.4%, LDA 98.9%, 1NN 96.1% (z-transformed data)) \\n  (All results using the leave-one-out technique) \\n\\n  (2) S. Aeberhard, D. Coomans and O. de Vel, \\n  \"THE CLASSIFICATION PERFORMANCE OF RDA\" \\n  Tech. Rep. no. 92-01, (1992), Dept. of Computer Science and Dept. of \\n  Mathematics and Statistics, James Cook University of North Queensland. \\n  (Also submitted to Journal of Chemometrics).\\n', 'feature_names': ['alcohol',\n",
       "  'malic_acid',\n",
       "  'ash',\n",
       "  'alcalinity_of_ash',\n",
       "  'magnesium',\n",
       "  'total_phenols',\n",
       "  'flavanoids',\n",
       "  'nonflavanoid_phenols',\n",
       "  'proanthocyanins',\n",
       "  'color_intensity',\n",
       "  'hue',\n",
       "  'od280/od315_of_diluted_wines',\n",
       "  'proline']}"
      ]
     },
     "execution_count": 5,
     "metadata": {},
     "output_type": "execute_result"
    }
   ],
   "source": [
    "# 使用官方資料，只是示意\n",
    "\n",
    "data = load_wine(as_frame=True)\n",
    "data"
   ]
  },
  {
   "cell_type": "code",
   "execution_count": 6,
   "metadata": {
    "ExecuteTime": {
     "end_time": "2022-10-06T15:25:22.675238Z",
     "start_time": "2022-10-06T15:25:22.667123Z"
    }
   },
   "outputs": [],
   "source": [
    "X = data['data']\n",
    "y = data['target']"
   ]
  },
  {
   "cell_type": "markdown",
   "metadata": {},
   "source": [
    "Day1\n",
    "## Q: 如何知道資料的 row 數以及 column 數、有什麼欄位、多少欄位、如何截取部分的資料等等\n"
   ]
  },
  {
   "cell_type": "code",
   "execution_count": 12,
   "metadata": {
    "ExecuteTime": {
     "end_time": "2022-10-06T15:29:23.209551Z",
     "start_time": "2022-10-06T15:29:23.187344Z"
    }
   },
   "outputs": [
    {
     "name": "stdout",
     "output_type": "stream",
     "text": [
      "178 178\n",
      "178 178\n",
      "13\n",
      "Index(['alcohol', 'malic_acid', 'ash', 'alcalinity_of_ash', 'magnesium',\n",
      "       'total_phenols', 'flavanoids', 'nonflavanoid_phenols',\n",
      "       'proanthocyanins', 'color_intensity', 'hue',\n",
      "       'od280/od315_of_diluted_wines', 'proline'],\n",
      "      dtype='object')\n",
      "13 13\n",
      "14.23\n"
     ]
    }
   ],
   "source": [
    "# row\n",
    "print(X.shape[0], len(X))\n",
    "print(y.shape[0], len(y))\n",
    "\n",
    "# column\n",
    "print(X.shape[1])\n",
    "\n",
    "# 欄位\n",
    "print(X.columns)\n",
    "\n",
    "# 多少欄位\n",
    "print(X.shape[1], len(X.columns))\n",
    "\n",
    "# 擷取部分資料\n",
    "print(X.iloc[0, 0])\n"
   ]
  },
  {
   "cell_type": "code",
   "execution_count": 13,
   "metadata": {
    "ExecuteTime": {
     "end_time": "2022-10-06T15:29:24.722279Z",
     "start_time": "2022-10-06T15:29:24.693170Z"
    }
   },
   "outputs": [
    {
     "name": "stdout",
     "output_type": "stream",
     "text": [
      "<class 'pandas.core.frame.DataFrame'>\n",
      "RangeIndex: 178 entries, 0 to 177\n",
      "Data columns (total 13 columns):\n",
      " #   Column                        Non-Null Count  Dtype  \n",
      "---  ------                        --------------  -----  \n",
      " 0   alcohol                       178 non-null    float64\n",
      " 1   malic_acid                    178 non-null    float64\n",
      " 2   ash                           178 non-null    float64\n",
      " 3   alcalinity_of_ash             178 non-null    float64\n",
      " 4   magnesium                     178 non-null    float64\n",
      " 5   total_phenols                 178 non-null    float64\n",
      " 6   flavanoids                    178 non-null    float64\n",
      " 7   nonflavanoid_phenols          178 non-null    float64\n",
      " 8   proanthocyanins               178 non-null    float64\n",
      " 9   color_intensity               178 non-null    float64\n",
      " 10  hue                           178 non-null    float64\n",
      " 11  od280/od315_of_diluted_wines  178 non-null    float64\n",
      " 12  proline                       178 non-null    float64\n",
      "dtypes: float64(13)\n",
      "memory usage: 18.2 KB\n"
     ]
    }
   ],
   "source": [
    "# 也可以直接使用info\n",
    "\n",
    "X.info()"
   ]
  },
  {
   "cell_type": "code",
   "execution_count": 16,
   "metadata": {
    "ExecuteTime": {
     "end_time": "2022-10-06T15:29:38.680139Z",
     "start_time": "2022-10-06T15:29:38.657582Z"
    }
   },
   "outputs": [
    {
     "data": {
      "text/plain": [
       "1    71\n",
       "0    59\n",
       "2    48\n",
       "Name: target, dtype: int64"
      ]
     },
     "execution_count": 16,
     "metadata": {},
     "output_type": "execute_result"
    }
   ],
   "source": [
    "# 取得各數值的counts，常使用在類別資料上(可以看到滿平衡的！)\n",
    "\n",
    "y.value_counts()"
   ]
  },
  {
   "cell_type": "markdown",
   "metadata": {},
   "source": [
    "Day2\n",
    "## Q: 找出欄位最大、最小值的「位置」"
   ]
  },
  {
   "cell_type": "code",
   "execution_count": 17,
   "metadata": {
    "ExecuteTime": {
     "end_time": "2022-10-07T13:39:32.021742Z",
     "start_time": "2022-10-07T13:39:31.890747Z"
    }
   },
   "outputs": [
    {
     "data": {
      "text/plain": [
       "8"
      ]
     },
     "execution_count": 17,
     "metadata": {},
     "output_type": "execute_result"
    }
   ],
   "source": [
    "# 找出每欄位最大值的位置\n",
    "\n",
    "X.iloc[:, 0].idxmax()"
   ]
  },
  {
   "cell_type": "code",
   "execution_count": 22,
   "metadata": {
    "ExecuteTime": {
     "end_time": "2022-10-07T13:40:55.903275Z",
     "start_time": "2022-10-07T13:40:55.892280Z"
    }
   },
   "outputs": [
    {
     "name": "stdout",
     "output_type": "stream",
     "text": [
      "14.83\n",
      "14.83\n"
     ]
    }
   ],
   "source": [
    "print(X.iloc[8, 0])\n",
    "print(max(X.iloc[:, 0]))"
   ]
  },
  {
   "cell_type": "code",
   "execution_count": 21,
   "metadata": {
    "ExecuteTime": {
     "end_time": "2022-10-07T13:40:50.212818Z",
     "start_time": "2022-10-07T13:40:50.202254Z"
    }
   },
   "outputs": [
    {
     "data": {
      "text/plain": [
       "115"
      ]
     },
     "execution_count": 21,
     "metadata": {},
     "output_type": "execute_result"
    }
   ],
   "source": [
    "# 找出每欄位最小值的位置\n",
    "\n",
    "X.iloc[:, 0].idxmin()"
   ]
  },
  {
   "cell_type": "code",
   "execution_count": 23,
   "metadata": {
    "ExecuteTime": {
     "end_time": "2022-10-07T13:41:11.198849Z",
     "start_time": "2022-10-07T13:41:11.187590Z"
    }
   },
   "outputs": [
    {
     "name": "stdout",
     "output_type": "stream",
     "text": [
      "11.03\n",
      "11.03\n"
     ]
    }
   ],
   "source": [
    "print(X.iloc[115, 0])\n",
    "print(min(X.iloc[:, 0]))"
   ]
  },
  {
   "cell_type": "markdown",
   "metadata": {},
   "source": [
    "## Q: 最基本的類別特徵轉換方法: one-hot encoding"
   ]
  },
  {
   "cell_type": "code",
   "execution_count": 38,
   "metadata": {
    "ExecuteTime": {
     "end_time": "2022-10-07T13:51:27.009703Z",
     "start_time": "2022-10-07T13:51:26.983132Z"
    }
   },
   "outputs": [
    {
     "data": {
      "text/html": [
       "<div>\n",
       "<style scoped>\n",
       "    .dataframe tbody tr th:only-of-type {\n",
       "        vertical-align: middle;\n",
       "    }\n",
       "\n",
       "    .dataframe tbody tr th {\n",
       "        vertical-align: top;\n",
       "    }\n",
       "\n",
       "    .dataframe thead th {\n",
       "        text-align: right;\n",
       "    }\n",
       "</style>\n",
       "<table border=\"1\" class=\"dataframe\">\n",
       "  <thead>\n",
       "    <tr style=\"text-align: right;\">\n",
       "      <th></th>\n",
       "      <th>city</th>\n",
       "    </tr>\n",
       "  </thead>\n",
       "  <tbody>\n",
       "    <tr>\n",
       "      <th>0</th>\n",
       "      <td>Taipei</td>\n",
       "    </tr>\n",
       "    <tr>\n",
       "      <th>1</th>\n",
       "      <td>LA</td>\n",
       "    </tr>\n",
       "    <tr>\n",
       "      <th>2</th>\n",
       "      <td>WC</td>\n",
       "    </tr>\n",
       "  </tbody>\n",
       "</table>\n",
       "</div>"
      ],
      "text/plain": [
       "     city\n",
       "0  Taipei\n",
       "1      LA\n",
       "2      WC"
      ]
     },
     "execution_count": 38,
     "metadata": {},
     "output_type": "execute_result"
    }
   ],
   "source": [
    "# 建立簡單的資料來使用\n",
    "data = {\n",
    "    'city': ['Taipei', 'LA', 'WC']\n",
    "}\n",
    "X = pd.DataFrame(data)\n",
    "X"
   ]
  },
  {
   "cell_type": "code",
   "execution_count": 39,
   "metadata": {
    "ExecuteTime": {
     "end_time": "2022-10-07T13:51:27.290958Z",
     "start_time": "2022-10-07T13:51:27.273919Z"
    }
   },
   "outputs": [
    {
     "data": {
      "text/html": [
       "<div>\n",
       "<style scoped>\n",
       "    .dataframe tbody tr th:only-of-type {\n",
       "        vertical-align: middle;\n",
       "    }\n",
       "\n",
       "    .dataframe tbody tr th {\n",
       "        vertical-align: top;\n",
       "    }\n",
       "\n",
       "    .dataframe thead th {\n",
       "        text-align: right;\n",
       "    }\n",
       "</style>\n",
       "<table border=\"1\" class=\"dataframe\">\n",
       "  <thead>\n",
       "    <tr style=\"text-align: right;\">\n",
       "      <th></th>\n",
       "      <th>city_LA</th>\n",
       "      <th>city_Taipei</th>\n",
       "      <th>city_WC</th>\n",
       "    </tr>\n",
       "  </thead>\n",
       "  <tbody>\n",
       "    <tr>\n",
       "      <th>0</th>\n",
       "      <td>0</td>\n",
       "      <td>1</td>\n",
       "      <td>0</td>\n",
       "    </tr>\n",
       "    <tr>\n",
       "      <th>1</th>\n",
       "      <td>1</td>\n",
       "      <td>0</td>\n",
       "      <td>0</td>\n",
       "    </tr>\n",
       "    <tr>\n",
       "      <th>2</th>\n",
       "      <td>0</td>\n",
       "      <td>0</td>\n",
       "      <td>1</td>\n",
       "    </tr>\n",
       "  </tbody>\n",
       "</table>\n",
       "</div>"
      ],
      "text/plain": [
       "   city_LA  city_Taipei  city_WC\n",
       "0        0            1        0\n",
       "1        1            0        0\n",
       "2        0            0        1"
      ]
     },
     "execution_count": 39,
     "metadata": {},
     "output_type": "execute_result"
    }
   ],
   "source": [
    "# 1. 使用pd.get_dummies\n",
    "\n",
    "pd.get_dummies(X)"
   ]
  },
  {
   "cell_type": "code",
   "execution_count": 40,
   "metadata": {
    "ExecuteTime": {
     "end_time": "2022-10-07T13:51:27.667797Z",
     "start_time": "2022-10-07T13:51:27.651691Z"
    }
   },
   "outputs": [
    {
     "data": {
      "text/plain": [
       "<3x3 sparse matrix of type '<class 'numpy.float64'>'\n",
       "\twith 3 stored elements in Compressed Sparse Row format>"
      ]
     },
     "execution_count": 40,
     "metadata": {},
     "output_type": "execute_result"
    }
   ],
   "source": [
    "# 2. sklearn one-hot encoder\n",
    "\n",
    "from sklearn.preprocessing import OneHotEncoder\n",
    "\n",
    "one_hot_encoder = OneHotEncoder()\n",
    "one_hot_encoder.fit_transform(X)   # 記得這會變成sparse_matrix, 比較節省空間！"
   ]
  },
  {
   "cell_type": "code",
   "execution_count": 41,
   "metadata": {
    "ExecuteTime": {
     "end_time": "2022-10-07T13:51:28.107032Z",
     "start_time": "2022-10-07T13:51:28.084772Z"
    }
   },
   "outputs": [
    {
     "data": {
      "text/plain": [
       "array([[0., 1., 0.],\n",
       "       [1., 0., 0.],\n",
       "       [0., 0., 1.]])"
      ]
     },
     "execution_count": 41,
     "metadata": {},
     "output_type": "execute_result"
    }
   ],
   "source": [
    "# 可以透過toarray取得ndarray，但沒有保持著dataframe\n",
    "one_hot_encoder.fit_transform(X).toarray() "
   ]
  },
  {
   "cell_type": "code",
   "execution_count": 42,
   "metadata": {
    "ExecuteTime": {
     "end_time": "2022-10-07T13:51:28.579114Z",
     "start_time": "2022-10-07T13:51:28.546114Z"
    }
   },
   "outputs": [
    {
     "data": {
      "text/html": [
       "<div>\n",
       "<style scoped>\n",
       "    .dataframe tbody tr th:only-of-type {\n",
       "        vertical-align: middle;\n",
       "    }\n",
       "\n",
       "    .dataframe tbody tr th {\n",
       "        vertical-align: top;\n",
       "    }\n",
       "\n",
       "    .dataframe thead th {\n",
       "        text-align: right;\n",
       "    }\n",
       "</style>\n",
       "<table border=\"1\" class=\"dataframe\">\n",
       "  <thead>\n",
       "    <tr style=\"text-align: right;\">\n",
       "      <th></th>\n",
       "      <th>0</th>\n",
       "      <th>1</th>\n",
       "      <th>2</th>\n",
       "    </tr>\n",
       "  </thead>\n",
       "  <tbody>\n",
       "    <tr>\n",
       "      <th>0</th>\n",
       "      <td>0.0</td>\n",
       "      <td>1.0</td>\n",
       "      <td>0.0</td>\n",
       "    </tr>\n",
       "    <tr>\n",
       "      <th>1</th>\n",
       "      <td>1.0</td>\n",
       "      <td>0.0</td>\n",
       "      <td>0.0</td>\n",
       "    </tr>\n",
       "    <tr>\n",
       "      <th>2</th>\n",
       "      <td>0.0</td>\n",
       "      <td>0.0</td>\n",
       "      <td>1.0</td>\n",
       "    </tr>\n",
       "  </tbody>\n",
       "</table>\n",
       "</div>"
      ],
      "text/plain": [
       "     0    1    2\n",
       "0  0.0  1.0  0.0\n",
       "1  1.0  0.0  0.0\n",
       "2  0.0  0.0  1.0"
      ]
     },
     "execution_count": 42,
     "metadata": {},
     "output_type": "execute_result"
    }
   ],
   "source": [
    "# 可以進一步轉換回去，就跟 pd.get_dummies相同了！\n",
    "\n",
    "pd.DataFrame(one_hot_encoder.fit_transform(X).toarray())"
   ]
  },
  {
   "cell_type": "markdown",
   "metadata": {},
   "source": [
    "Day3\n",
    "## Q: 找出不同類型的特徵，並操作、觀察"
   ]
  },
  {
   "cell_type": "code",
   "execution_count": 44,
   "metadata": {
    "ExecuteTime": {
     "end_time": "2022-10-08T06:53:32.397808Z",
     "start_time": "2022-10-08T06:53:32.366810Z"
    }
   },
   "outputs": [
    {
     "data": {
      "text/html": [
       "<div>\n",
       "<style scoped>\n",
       "    .dataframe tbody tr th:only-of-type {\n",
       "        vertical-align: middle;\n",
       "    }\n",
       "\n",
       "    .dataframe tbody tr th {\n",
       "        vertical-align: top;\n",
       "    }\n",
       "\n",
       "    .dataframe thead th {\n",
       "        text-align: right;\n",
       "    }\n",
       "</style>\n",
       "<table border=\"1\" class=\"dataframe\">\n",
       "  <thead>\n",
       "    <tr style=\"text-align: right;\">\n",
       "      <th></th>\n",
       "      <th>city</th>\n",
       "      <th>age</th>\n",
       "      <th>height</th>\n",
       "    </tr>\n",
       "  </thead>\n",
       "  <tbody>\n",
       "    <tr>\n",
       "      <th>0</th>\n",
       "      <td>Taipei</td>\n",
       "      <td>20</td>\n",
       "      <td>1.8</td>\n",
       "    </tr>\n",
       "    <tr>\n",
       "      <th>1</th>\n",
       "      <td>LA</td>\n",
       "      <td>30</td>\n",
       "      <td>1.7</td>\n",
       "    </tr>\n",
       "    <tr>\n",
       "      <th>2</th>\n",
       "      <td>WC</td>\n",
       "      <td>40</td>\n",
       "      <td>2.0</td>\n",
       "    </tr>\n",
       "  </tbody>\n",
       "</table>\n",
       "</div>"
      ],
      "text/plain": [
       "     city  age  height\n",
       "0  Taipei   20     1.8\n",
       "1      LA   30     1.7\n",
       "2      WC   40     2.0"
      ]
     },
     "execution_count": 44,
     "metadata": {},
     "output_type": "execute_result"
    }
   ],
   "source": [
    "# 建造int、float、object型態的欄位\n",
    "data = {\n",
    "    'city': ['Taipei', 'LA', 'WC'],\n",
    "    'age': [20, 30, 40],\n",
    "    'height': [1.80, 1.70, 2.0]\n",
    "}\n",
    "X = pd.DataFrame(data)\n",
    "X"
   ]
  },
  {
   "cell_type": "code",
   "execution_count": 50,
   "metadata": {
    "ExecuteTime": {
     "end_time": "2022-10-08T06:56:02.031500Z",
     "start_time": "2022-10-08T06:56:02.004503Z"
    }
   },
   "outputs": [
    {
     "data": {
      "text/html": [
       "<div>\n",
       "<style scoped>\n",
       "    .dataframe tbody tr th:only-of-type {\n",
       "        vertical-align: middle;\n",
       "    }\n",
       "\n",
       "    .dataframe tbody tr th {\n",
       "        vertical-align: top;\n",
       "    }\n",
       "\n",
       "    .dataframe thead th {\n",
       "        text-align: right;\n",
       "    }\n",
       "</style>\n",
       "<table border=\"1\" class=\"dataframe\">\n",
       "  <thead>\n",
       "    <tr style=\"text-align: right;\">\n",
       "      <th></th>\n",
       "      <th>index</th>\n",
       "      <th>0</th>\n",
       "    </tr>\n",
       "  </thead>\n",
       "  <tbody>\n",
       "    <tr>\n",
       "      <th>0</th>\n",
       "      <td>city</td>\n",
       "      <td>object</td>\n",
       "    </tr>\n",
       "    <tr>\n",
       "      <th>1</th>\n",
       "      <td>age</td>\n",
       "      <td>int64</td>\n",
       "    </tr>\n",
       "    <tr>\n",
       "      <th>2</th>\n",
       "      <td>height</td>\n",
       "      <td>float64</td>\n",
       "    </tr>\n",
       "  </tbody>\n",
       "</table>\n",
       "</div>"
      ],
      "text/plain": [
       "    index        0\n",
       "0    city   object\n",
       "1     age    int64\n",
       "2  height  float64"
      ]
     },
     "execution_count": 50,
     "metadata": {},
     "output_type": "execute_result"
    }
   ],
   "source": [
    "# 透過這個語法可以得到df的欄位以及欄位型態\n",
    "X_dtypes = X.dtypes.reset_index()\n",
    "X_dtypes"
   ]
  },
  {
   "cell_type": "code",
   "execution_count": 55,
   "metadata": {
    "ExecuteTime": {
     "end_time": "2022-10-08T06:58:51.492120Z",
     "start_time": "2022-10-08T06:58:51.474154Z"
    }
   },
   "outputs": [
    {
     "data": {
      "text/html": [
       "<div>\n",
       "<style scoped>\n",
       "    .dataframe tbody tr th:only-of-type {\n",
       "        vertical-align: middle;\n",
       "    }\n",
       "\n",
       "    .dataframe tbody tr th {\n",
       "        vertical-align: top;\n",
       "    }\n",
       "\n",
       "    .dataframe thead th {\n",
       "        text-align: right;\n",
       "    }\n",
       "</style>\n",
       "<table border=\"1\" class=\"dataframe\">\n",
       "  <thead>\n",
       "    <tr style=\"text-align: right;\">\n",
       "      <th></th>\n",
       "      <th>column_type</th>\n",
       "      <th>count</th>\n",
       "    </tr>\n",
       "  </thead>\n",
       "  <tbody>\n",
       "    <tr>\n",
       "      <th>0</th>\n",
       "      <td>int64</td>\n",
       "      <td>1</td>\n",
       "    </tr>\n",
       "    <tr>\n",
       "      <th>1</th>\n",
       "      <td>float64</td>\n",
       "      <td>1</td>\n",
       "    </tr>\n",
       "    <tr>\n",
       "      <th>2</th>\n",
       "      <td>object</td>\n",
       "      <td>1</td>\n",
       "    </tr>\n",
       "  </tbody>\n",
       "</table>\n",
       "</div>"
      ],
      "text/plain": [
       "  column_type  count\n",
       "0       int64      1\n",
       "1     float64      1\n",
       "2      object      1"
      ]
     },
     "execution_count": 55,
     "metadata": {},
     "output_type": "execute_result"
    }
   ],
   "source": [
    "# 但需要將欄位名稱轉換會比較清楚\n",
    "X_dtypes.columns = ['count', 'column_type']\n",
    "\n",
    "# 去得到counts\n",
    "X_dtypes.groupby('column_type').count().reset_index()"
   ]
  },
  {
   "cell_type": "code",
   "execution_count": 58,
   "metadata": {
    "ExecuteTime": {
     "end_time": "2022-10-08T07:02:09.104386Z",
     "start_time": "2022-10-08T07:02:09.091389Z"
    }
   },
   "outputs": [
    {
     "name": "stdout",
     "output_type": "stream",
     "text": [
      "int: ['age']\n",
      "float: ['height']\n",
      "object: ['city']\n"
     ]
    }
   ],
   "source": [
    "# 藉此，可以根據不同型態去針對處理(如果剛好是這樣的處理方法)\n",
    "int_columns = []\n",
    "float_columns = []\n",
    "object_columns = []\n",
    "\n",
    "for dtype, column_name in zip(X.dtypes, X.columns):\n",
    "    if dtype == 'int64':\n",
    "        int_columns.append(column_name)\n",
    "    elif dtype == 'float64':\n",
    "        float_columns.append(column_name)\n",
    "    else:\n",
    "        object_columns.append(column_name)\n",
    "        \n",
    "print('int:', int_columns)\n",
    "print('float:', float_columns)\n",
    "print('object:', object_columns)\n"
   ]
  },
  {
   "cell_type": "markdown",
   "metadata": {},
   "source": [
    "**後續就可以針對去進行操作**"
   ]
  },
  {
   "cell_type": "code",
   "execution_count": null,
   "metadata": {},
   "outputs": [],
   "source": []
  }
 ],
 "metadata": {
  "kernelspec": {
   "display_name": "Python 3",
   "language": "python",
   "name": "python3"
  },
  "language_info": {
   "codemirror_mode": {
    "name": "ipython",
    "version": 3
   },
   "file_extension": ".py",
   "mimetype": "text/x-python",
   "name": "python",
   "nbconvert_exporter": "python",
   "pygments_lexer": "ipython3",
   "version": "3.7.3"
  }
 },
 "nbformat": 4,
 "nbformat_minor": 4
}
