{
 "cells": [
  {
   "cell_type": "markdown",
   "metadata": {},
   "source": [
    "複習一些過往的code並慢慢整理自己的codebase，並且養成每日寫data science code的習慣!\n",
    "\n",
    "## 目標: 將過往code文件化、模組化，使其重複使用。"
   ]
  },
  {
   "cell_type": "code",
   "execution_count": 254,
   "metadata": {
    "ExecuteTime": {
     "end_time": "2022-10-27T16:15:48.938687Z",
     "start_time": "2022-10-27T16:15:48.803689Z"
    }
   },
   "outputs": [],
   "source": [
    "import numpy as np\n",
    "import pandas as pd\n",
    "import seaborn as sns\n",
    "from sklearn.datasets import load_wine\n",
    "import matplotlib.pyplot as plt\n",
    "import warnings\n",
    "\n",
    "warnings.filterwarnings(\"ignore\")\n",
    "%matplotlib inline"
   ]
  },
  {
   "cell_type": "code",
   "execution_count": 255,
   "metadata": {
    "ExecuteTime": {
     "end_time": "2022-10-27T16:15:49.426682Z",
     "start_time": "2022-10-27T16:15:49.208686Z"
    }
   },
   "outputs": [
    {
     "data": {
      "text/plain": [
       "{'data':      alcohol  malic_acid   ash  alcalinity_of_ash  magnesium  total_phenols  \\\n",
       " 0      14.23        1.71  2.43               15.6      127.0           2.80   \n",
       " 1      13.20        1.78  2.14               11.2      100.0           2.65   \n",
       " 2      13.16        2.36  2.67               18.6      101.0           2.80   \n",
       " 3      14.37        1.95  2.50               16.8      113.0           3.85   \n",
       " 4      13.24        2.59  2.87               21.0      118.0           2.80   \n",
       " ..       ...         ...   ...                ...        ...            ...   \n",
       " 173    13.71        5.65  2.45               20.5       95.0           1.68   \n",
       " 174    13.40        3.91  2.48               23.0      102.0           1.80   \n",
       " 175    13.27        4.28  2.26               20.0      120.0           1.59   \n",
       " 176    13.17        2.59  2.37               20.0      120.0           1.65   \n",
       " 177    14.13        4.10  2.74               24.5       96.0           2.05   \n",
       " \n",
       "      flavanoids  nonflavanoid_phenols  proanthocyanins  color_intensity   hue  \\\n",
       " 0          3.06                  0.28             2.29             5.64  1.04   \n",
       " 1          2.76                  0.26             1.28             4.38  1.05   \n",
       " 2          3.24                  0.30             2.81             5.68  1.03   \n",
       " 3          3.49                  0.24             2.18             7.80  0.86   \n",
       " 4          2.69                  0.39             1.82             4.32  1.04   \n",
       " ..          ...                   ...              ...              ...   ...   \n",
       " 173        0.61                  0.52             1.06             7.70  0.64   \n",
       " 174        0.75                  0.43             1.41             7.30  0.70   \n",
       " 175        0.69                  0.43             1.35            10.20  0.59   \n",
       " 176        0.68                  0.53             1.46             9.30  0.60   \n",
       " 177        0.76                  0.56             1.35             9.20  0.61   \n",
       " \n",
       "      od280/od315_of_diluted_wines  proline  \n",
       " 0                            3.92   1065.0  \n",
       " 1                            3.40   1050.0  \n",
       " 2                            3.17   1185.0  \n",
       " 3                            3.45   1480.0  \n",
       " 4                            2.93    735.0  \n",
       " ..                            ...      ...  \n",
       " 173                          1.74    740.0  \n",
       " 174                          1.56    750.0  \n",
       " 175                          1.56    835.0  \n",
       " 176                          1.62    840.0  \n",
       " 177                          1.60    560.0  \n",
       " \n",
       " [178 rows x 13 columns], 'target': 0      0\n",
       " 1      0\n",
       " 2      0\n",
       " 3      0\n",
       " 4      0\n",
       "       ..\n",
       " 173    2\n",
       " 174    2\n",
       " 175    2\n",
       " 176    2\n",
       " 177    2\n",
       " Name: target, Length: 178, dtype: int32, 'frame':      alcohol  malic_acid   ash  alcalinity_of_ash  magnesium  total_phenols  \\\n",
       " 0      14.23        1.71  2.43               15.6      127.0           2.80   \n",
       " 1      13.20        1.78  2.14               11.2      100.0           2.65   \n",
       " 2      13.16        2.36  2.67               18.6      101.0           2.80   \n",
       " 3      14.37        1.95  2.50               16.8      113.0           3.85   \n",
       " 4      13.24        2.59  2.87               21.0      118.0           2.80   \n",
       " ..       ...         ...   ...                ...        ...            ...   \n",
       " 173    13.71        5.65  2.45               20.5       95.0           1.68   \n",
       " 174    13.40        3.91  2.48               23.0      102.0           1.80   \n",
       " 175    13.27        4.28  2.26               20.0      120.0           1.59   \n",
       " 176    13.17        2.59  2.37               20.0      120.0           1.65   \n",
       " 177    14.13        4.10  2.74               24.5       96.0           2.05   \n",
       " \n",
       "      flavanoids  nonflavanoid_phenols  proanthocyanins  color_intensity   hue  \\\n",
       " 0          3.06                  0.28             2.29             5.64  1.04   \n",
       " 1          2.76                  0.26             1.28             4.38  1.05   \n",
       " 2          3.24                  0.30             2.81             5.68  1.03   \n",
       " 3          3.49                  0.24             2.18             7.80  0.86   \n",
       " 4          2.69                  0.39             1.82             4.32  1.04   \n",
       " ..          ...                   ...              ...              ...   ...   \n",
       " 173        0.61                  0.52             1.06             7.70  0.64   \n",
       " 174        0.75                  0.43             1.41             7.30  0.70   \n",
       " 175        0.69                  0.43             1.35            10.20  0.59   \n",
       " 176        0.68                  0.53             1.46             9.30  0.60   \n",
       " 177        0.76                  0.56             1.35             9.20  0.61   \n",
       " \n",
       "      od280/od315_of_diluted_wines  proline  target  \n",
       " 0                            3.92   1065.0       0  \n",
       " 1                            3.40   1050.0       0  \n",
       " 2                            3.17   1185.0       0  \n",
       " 3                            3.45   1480.0       0  \n",
       " 4                            2.93    735.0       0  \n",
       " ..                            ...      ...     ...  \n",
       " 173                          1.74    740.0       2  \n",
       " 174                          1.56    750.0       2  \n",
       " 175                          1.56    835.0       2  \n",
       " 176                          1.62    840.0       2  \n",
       " 177                          1.60    560.0       2  \n",
       " \n",
       " [178 rows x 14 columns], 'target_names': array(['class_0', 'class_1', 'class_2'], dtype='<U7'), 'DESCR': '.. _wine_dataset:\\n\\nWine recognition dataset\\n------------------------\\n\\n**Data Set Characteristics:**\\n\\n    :Number of Instances: 178 (50 in each of three classes)\\n    :Number of Attributes: 13 numeric, predictive attributes and the class\\n    :Attribute Information:\\n \\t\\t- Alcohol\\n \\t\\t- Malic acid\\n \\t\\t- Ash\\n\\t\\t- Alcalinity of ash  \\n \\t\\t- Magnesium\\n\\t\\t- Total phenols\\n \\t\\t- Flavanoids\\n \\t\\t- Nonflavanoid phenols\\n \\t\\t- Proanthocyanins\\n\\t\\t- Color intensity\\n \\t\\t- Hue\\n \\t\\t- OD280/OD315 of diluted wines\\n \\t\\t- Proline\\n\\n    - class:\\n            - class_0\\n            - class_1\\n            - class_2\\n\\t\\t\\n    :Summary Statistics:\\n    \\n    ============================= ==== ===== ======= =====\\n                                   Min   Max   Mean     SD\\n    ============================= ==== ===== ======= =====\\n    Alcohol:                      11.0  14.8    13.0   0.8\\n    Malic Acid:                   0.74  5.80    2.34  1.12\\n    Ash:                          1.36  3.23    2.36  0.27\\n    Alcalinity of Ash:            10.6  30.0    19.5   3.3\\n    Magnesium:                    70.0 162.0    99.7  14.3\\n    Total Phenols:                0.98  3.88    2.29  0.63\\n    Flavanoids:                   0.34  5.08    2.03  1.00\\n    Nonflavanoid Phenols:         0.13  0.66    0.36  0.12\\n    Proanthocyanins:              0.41  3.58    1.59  0.57\\n    Colour Intensity:              1.3  13.0     5.1   2.3\\n    Hue:                          0.48  1.71    0.96  0.23\\n    OD280/OD315 of diluted wines: 1.27  4.00    2.61  0.71\\n    Proline:                       278  1680     746   315\\n    ============================= ==== ===== ======= =====\\n\\n    :Missing Attribute Values: None\\n    :Class Distribution: class_0 (59), class_1 (71), class_2 (48)\\n    :Creator: R.A. Fisher\\n    :Donor: Michael Marshall (MARSHALL%PLU@io.arc.nasa.gov)\\n    :Date: July, 1988\\n\\nThis is a copy of UCI ML Wine recognition datasets.\\nhttps://archive.ics.uci.edu/ml/machine-learning-databases/wine/wine.data\\n\\nThe data is the results of a chemical analysis of wines grown in the same\\nregion in Italy by three different cultivators. There are thirteen different\\nmeasurements taken for different constituents found in the three types of\\nwine.\\n\\nOriginal Owners: \\n\\nForina, M. et al, PARVUS - \\nAn Extendible Package for Data Exploration, Classification and Correlation. \\nInstitute of Pharmaceutical and Food Analysis and Technologies,\\nVia Brigata Salerno, 16147 Genoa, Italy.\\n\\nCitation:\\n\\nLichman, M. (2013). UCI Machine Learning Repository\\n[https://archive.ics.uci.edu/ml]. Irvine, CA: University of California,\\nSchool of Information and Computer Science. \\n\\n.. topic:: References\\n\\n  (1) S. Aeberhard, D. Coomans and O. de Vel, \\n  Comparison of Classifiers in High Dimensional Settings, \\n  Tech. Rep. no. 92-02, (1992), Dept. of Computer Science and Dept. of  \\n  Mathematics and Statistics, James Cook University of North Queensland. \\n  (Also submitted to Technometrics). \\n\\n  The data was used with many others for comparing various \\n  classifiers. The classes are separable, though only RDA \\n  has achieved 100% correct classification. \\n  (RDA : 100%, QDA 99.4%, LDA 98.9%, 1NN 96.1% (z-transformed data)) \\n  (All results using the leave-one-out technique) \\n\\n  (2) S. Aeberhard, D. Coomans and O. de Vel, \\n  \"THE CLASSIFICATION PERFORMANCE OF RDA\" \\n  Tech. Rep. no. 92-01, (1992), Dept. of Computer Science and Dept. of \\n  Mathematics and Statistics, James Cook University of North Queensland. \\n  (Also submitted to Journal of Chemometrics).\\n', 'feature_names': ['alcohol',\n",
       "  'malic_acid',\n",
       "  'ash',\n",
       "  'alcalinity_of_ash',\n",
       "  'magnesium',\n",
       "  'total_phenols',\n",
       "  'flavanoids',\n",
       "  'nonflavanoid_phenols',\n",
       "  'proanthocyanins',\n",
       "  'color_intensity',\n",
       "  'hue',\n",
       "  'od280/od315_of_diluted_wines',\n",
       "  'proline']}"
      ]
     },
     "execution_count": 255,
     "metadata": {},
     "output_type": "execute_result"
    }
   ],
   "source": [
    "# 使用官方資料，只是示意\n",
    "\n",
    "data = load_wine(as_frame=True)\n",
    "data"
   ]
  },
  {
   "cell_type": "code",
   "execution_count": 256,
   "metadata": {
    "ExecuteTime": {
     "end_time": "2022-10-27T16:15:49.948684Z",
     "start_time": "2022-10-27T16:15:49.932684Z"
    }
   },
   "outputs": [],
   "source": [
    "X = data['data']\n",
    "y = data['target']"
   ]
  },
  {
   "cell_type": "markdown",
   "metadata": {},
   "source": [
    "## Day12 - Q: 特徵轉換\n",
    "通常會去使用特徵轉換使得模型可以利用特徵，如標準化、類別化等等，常常是特徵工程的關鍵一步。"
   ]
  },
  {
   "cell_type": "code",
   "execution_count": 257,
   "metadata": {
    "ExecuteTime": {
     "end_time": "2022-10-27T16:15:51.653405Z",
     "start_time": "2022-10-27T16:15:51.647404Z"
    }
   },
   "outputs": [],
   "source": [
    "# boxcox 轉換\n",
    "\n",
    "import scipy.stats"
   ]
  },
  {
   "cell_type": "code",
   "execution_count": 258,
   "metadata": {
    "ExecuteTime": {
     "end_time": "2022-10-27T16:15:53.307051Z",
     "start_time": "2022-10-27T16:15:52.771052Z"
    }
   },
   "outputs": [
    {
     "data": {
      "text/plain": [
       "(array([18., 59., 33., 16., 14., 11., 14.,  7.,  3.,  3.]),\n",
       " array([0.74 , 1.246, 1.752, 2.258, 2.764, 3.27 , 3.776, 4.282, 4.788,\n",
       "        5.294, 5.8  ]),\n",
       " <a list of 10 Patch objects>)"
      ]
     },
     "execution_count": 258,
     "metadata": {},
     "output_type": "execute_result"
    },
    {
     "data": {
      "image/png": "[encoded data removed]",
      "text/plain": [
       "<Figure size 432x288 with 1 Axes>"
      ]
     },
     "metadata": {
      "needs_background": "light"
     },
     "output_type": "display_data"
    }
   ],
   "source": [
    "# 相對偏態嚴重\n",
    "\n",
    "plt.hist(X.iloc[:, 1])"
   ]
  },
  {
   "cell_type": "code",
   "execution_count": 265,
   "metadata": {
    "ExecuteTime": {
     "end_time": "2022-10-27T16:16:28.561887Z",
     "start_time": "2022-10-27T16:16:28.543891Z"
    }
   },
   "outputs": [],
   "source": [
    "def boxcox_transform(X):\n",
    "    return scipy.stats.boxcox(X)"
   ]
  },
  {
   "cell_type": "code",
   "execution_count": 266,
   "metadata": {
    "ExecuteTime": {
     "end_time": "2022-10-27T16:16:29.333889Z",
     "start_time": "2022-10-27T16:16:28.821886Z"
    }
   },
   "outputs": [
    {
     "data": {
      "text/plain": [
       "([array([ 1.,  8.,  8., 15., 49., 29., 15., 20., 24.,  9.]),\n",
       "  array([1., 0., 0., 0., 0., 0., 0., 0., 0., 0.])],\n",
       " array([-0.31405482, -0.14356892,  0.02691698,  0.19740288,  0.36788878,\n",
       "         0.53837468,  0.70886058,  0.87934648,  1.04983238,  1.22031828,\n",
       "         1.39080418]),\n",
       " <a list of 2 Lists of Patches objects>)"
      ]
     },
     "execution_count": 266,
     "metadata": {},
     "output_type": "execute_result"
    },
    {
     "data": {
      "image/png": "[encoded data removed]",
      "text/plain": [
       "<Figure size 432x288 with 1 Axes>"
      ]
     },
     "metadata": {
      "needs_background": "light"
     },
     "output_type": "display_data"
    }
   ],
   "source": [
    "# 透過boxcox轉換\n",
    "\n",
    "plt.hist(scipy.stats.boxcox(X.iloc[:, 1]))"
   ]
  },
  {
   "cell_type": "code",
   "execution_count": 269,
   "metadata": {
    "ExecuteTime": {
     "end_time": "2022-10-27T16:17:47.118583Z",
     "start_time": "2022-10-27T16:17:46.860580Z"
    }
   },
   "outputs": [
    {
     "data": {
      "text/plain": [
       "([array([ 1.,  8.,  8., 15., 49., 29., 15., 20., 24.,  9.]),\n",
       "  array([1., 0., 0., 0., 0., 0., 0., 0., 0., 0.])],\n",
       " array([-0.31405482, -0.14356892,  0.02691698,  0.19740288,  0.36788878,\n",
       "         0.53837468,  0.70886058,  0.87934648,  1.04983238,  1.22031828,\n",
       "         1.39080418]),\n",
       " <a list of 2 Lists of Patches objects>)"
      ]
     },
     "execution_count": 269,
     "metadata": {},
     "output_type": "execute_result"
    },
    {
     "data": {
      "image/png": "[encoded data removed]",
      "text/plain": [
       "<Figure size 432x288 with 1 Axes>"
      ]
     },
     "metadata": {
      "needs_background": "light"
     },
     "output_type": "display_data"
    }
   ],
   "source": [
    "plt.hist(boxcox_transform(X.iloc[:, 1]))"
   ]
  },
  {
   "cell_type": "markdown",
   "metadata": {},
   "source": [
    "> 可以看到相對偏態更不明顯了。"
   ]
  },
  {
   "cell_type": "code",
   "execution_count": 277,
   "metadata": {
    "ExecuteTime": {
     "end_time": "2022-10-27T16:20:31.018239Z",
     "start_time": "2022-10-27T16:20:30.989242Z"
    }
   },
   "outputs": [
    {
     "name": "stdout",
     "output_type": "stream",
     "text": [
      "原始特徵偏態: 1.022194607729363\n",
      "原始特徵偏態: 0.02682680260856026\n"
     ]
    }
   ],
   "source": [
    "# 計算特徵的偏態來確認。\n",
    "\n",
    "# 原始特徵\n",
    "raw_mean = X.iloc[:, 1].mean()\n",
    "raw_std = X.iloc[:, 1].std()\n",
    "raw_skewness = np.mean(((X.iloc[:, 1] - raw_mean) / raw_std)**3)\n",
    "print(f'原始特徵偏態: {raw_skewness}')\n",
    "\n",
    "# boxcox轉換後\n",
    "boxcox_x = scipy.stats.boxcox(X.iloc[:, 1])[0] # 記住需要, 會回傳tuple\n",
    "boxcox_mean = boxcox_x.mean()\n",
    "boxcox_std = boxcox_x.std()\n",
    "boxcox_skewness = np.mean(((boxcox_x - boxcox_mean) / boxcox_std)**3)\n",
    "print(f'原始特徵偏態: {boxcox_skewness}')"
   ]
  },
  {
   "cell_type": "code",
   "execution_count": 278,
   "metadata": {
    "ExecuteTime": {
     "end_time": "2022-10-27T16:20:31.521239Z",
     "start_time": "2022-10-27T16:20:31.510240Z"
    }
   },
   "outputs": [],
   "source": [
    "def get_skewness(x):\n",
    "    \"\"\"\n",
    "        偏態計算。\n",
    "    \"\"\"\n",
    "    m = np.mean(x)\n",
    "    std = np.std(x)\n",
    "    skew_ness = np.mean(((x-m) / std)**3)\n",
    "    return skew_ness"
   ]
  },
  {
   "cell_type": "code",
   "execution_count": 279,
   "metadata": {
    "ExecuteTime": {
     "end_time": "2022-10-27T16:20:31.807239Z",
     "start_time": "2022-10-27T16:20:31.790241Z"
    }
   },
   "outputs": [
    {
     "data": {
      "text/plain": [
       "(1.0308694978039967, 0.02682680260856026)"
      ]
     },
     "execution_count": 279,
     "metadata": {},
     "output_type": "execute_result"
    }
   ],
   "source": [
    "get_skewness(X.iloc[:, 1]), get_skewness(boxcox_transform(X.iloc[:, 1])[0])"
   ]
  },
  {
   "cell_type": "markdown",
   "metadata": {},
   "source": [
    "> 可以看到計算的數值偏態也是變得更小了！後續可以搭配模型去結合比較。"
   ]
  },
  {
   "cell_type": "code",
   "execution_count": 282,
   "metadata": {
    "ExecuteTime": {
     "end_time": "2022-10-27T16:22:00.023646Z",
     "start_time": "2022-10-27T16:21:59.990650Z"
    }
   },
   "outputs": [
    {
     "name": "stdout",
     "output_type": "stream",
     "text": [
      "-0.05104747165391955\n",
      "1.0308694978039967\n",
      "-0.17520677792560282\n",
      "0.2112473283215522\n",
      "1.0889148872107008\n",
      "0.0859067701671952\n",
      "0.025129482208428148\n",
      "0.44634901064702254\n",
      "0.5127690334109937\n",
      "0.8612480547740543\n",
      "0.020913119068882813\n",
      "-0.3046899289436102\n",
      "0.7613361671993628\n"
     ]
    }
   ],
   "source": [
    "# 看各欄位的偏態, 可以看到一些需要去整理，效果會比較好！\n",
    "\n",
    "for column in X.columns:\n",
    "    print(get_skewness(X[column]))"
   ]
  },
  {
   "cell_type": "markdown",
   "metadata": {},
   "source": [
    "## Day13 - Q: 特徵轉換2\n",
    "- 均值編碼: 使用目標值欄位的平均值取代原本的類別型特徵。\n",
    "- label encoding\n",
    "- onehot encoding\n",
    "- ordinal encoding\n",
    "\n",
    "\n",
    "往後也有神經網路的相關方法\n",
    "- item2vec\n",
    "- word2vec\n",
    "- graph2vec"
   ]
  },
  {
   "cell_type": "code",
   "execution_count": 54,
   "metadata": {
    "ExecuteTime": {
     "end_time": "2022-10-18T15:38:25.856088Z",
     "start_time": "2022-10-18T15:38:25.850088Z"
    }
   },
   "outputs": [],
   "source": [
    "from sklearn.preprocessing import LabelEncoder, OneHotEncoder, OrdinalEncoder"
   ]
  },
  {
   "cell_type": "code",
   "execution_count": 55,
   "metadata": {
    "ExecuteTime": {
     "end_time": "2022-10-18T15:38:43.275000Z",
     "start_time": "2022-10-18T15:38:43.228964Z"
    }
   },
   "outputs": [
    {
     "data": {
      "text/html": [
       "<div>\n",
       "<style scoped>\n",
       "    .dataframe tbody tr th:only-of-type {\n",
       "        vertical-align: middle;\n",
       "    }\n",
       "\n",
       "    .dataframe tbody tr th {\n",
       "        vertical-align: top;\n",
       "    }\n",
       "\n",
       "    .dataframe thead th {\n",
       "        text-align: right;\n",
       "    }\n",
       "</style>\n",
       "<table border=\"1\" class=\"dataframe\">\n",
       "  <thead>\n",
       "    <tr style=\"text-align: right;\">\n",
       "      <th></th>\n",
       "      <th>alcohol</th>\n",
       "      <th>malic_acid</th>\n",
       "      <th>ash</th>\n",
       "      <th>alcalinity_of_ash</th>\n",
       "      <th>magnesium</th>\n",
       "      <th>total_phenols</th>\n",
       "      <th>flavanoids</th>\n",
       "      <th>nonflavanoid_phenols</th>\n",
       "      <th>proanthocyanins</th>\n",
       "      <th>color_intensity</th>\n",
       "      <th>hue</th>\n",
       "      <th>od280/od315_of_diluted_wines</th>\n",
       "      <th>proline</th>\n",
       "      <th>magnesium_groupby</th>\n",
       "      <th>label</th>\n",
       "    </tr>\n",
       "  </thead>\n",
       "  <tbody>\n",
       "    <tr>\n",
       "      <th>0</th>\n",
       "      <td>14.23</td>\n",
       "      <td>1.71</td>\n",
       "      <td>2.43</td>\n",
       "      <td>15.6</td>\n",
       "      <td>127.0</td>\n",
       "      <td>2.80</td>\n",
       "      <td>3.06</td>\n",
       "      <td>0.28</td>\n",
       "      <td>2.29</td>\n",
       "      <td>5.64</td>\n",
       "      <td>1.04</td>\n",
       "      <td>3.92</td>\n",
       "      <td>1065.0</td>\n",
       "      <td>(100.0, 162.0]</td>\n",
       "      <td>0</td>\n",
       "    </tr>\n",
       "    <tr>\n",
       "      <th>1</th>\n",
       "      <td>13.20</td>\n",
       "      <td>1.78</td>\n",
       "      <td>2.14</td>\n",
       "      <td>11.2</td>\n",
       "      <td>100.0</td>\n",
       "      <td>2.65</td>\n",
       "      <td>2.76</td>\n",
       "      <td>0.26</td>\n",
       "      <td>1.28</td>\n",
       "      <td>4.38</td>\n",
       "      <td>1.05</td>\n",
       "      <td>3.40</td>\n",
       "      <td>1050.0</td>\n",
       "      <td>(80.0, 100.0]</td>\n",
       "      <td>0</td>\n",
       "    </tr>\n",
       "    <tr>\n",
       "      <th>2</th>\n",
       "      <td>13.16</td>\n",
       "      <td>2.36</td>\n",
       "      <td>2.67</td>\n",
       "      <td>18.6</td>\n",
       "      <td>101.0</td>\n",
       "      <td>2.80</td>\n",
       "      <td>3.24</td>\n",
       "      <td>0.30</td>\n",
       "      <td>2.81</td>\n",
       "      <td>5.68</td>\n",
       "      <td>1.03</td>\n",
       "      <td>3.17</td>\n",
       "      <td>1185.0</td>\n",
       "      <td>(100.0, 162.0]</td>\n",
       "      <td>0</td>\n",
       "    </tr>\n",
       "    <tr>\n",
       "      <th>3</th>\n",
       "      <td>14.37</td>\n",
       "      <td>1.95</td>\n",
       "      <td>2.50</td>\n",
       "      <td>16.8</td>\n",
       "      <td>113.0</td>\n",
       "      <td>3.85</td>\n",
       "      <td>3.49</td>\n",
       "      <td>0.24</td>\n",
       "      <td>2.18</td>\n",
       "      <td>7.80</td>\n",
       "      <td>0.86</td>\n",
       "      <td>3.45</td>\n",
       "      <td>1480.0</td>\n",
       "      <td>(100.0, 162.0]</td>\n",
       "      <td>0</td>\n",
       "    </tr>\n",
       "    <tr>\n",
       "      <th>4</th>\n",
       "      <td>13.24</td>\n",
       "      <td>2.59</td>\n",
       "      <td>2.87</td>\n",
       "      <td>21.0</td>\n",
       "      <td>118.0</td>\n",
       "      <td>2.80</td>\n",
       "      <td>2.69</td>\n",
       "      <td>0.39</td>\n",
       "      <td>1.82</td>\n",
       "      <td>4.32</td>\n",
       "      <td>1.04</td>\n",
       "      <td>2.93</td>\n",
       "      <td>735.0</td>\n",
       "      <td>(100.0, 162.0]</td>\n",
       "      <td>0</td>\n",
       "    </tr>\n",
       "  </tbody>\n",
       "</table>\n",
       "</div>"
      ],
      "text/plain": [
       "   alcohol  malic_acid   ash  alcalinity_of_ash  magnesium  total_phenols  \\\n",
       "0    14.23        1.71  2.43               15.6      127.0           2.80   \n",
       "1    13.20        1.78  2.14               11.2      100.0           2.65   \n",
       "2    13.16        2.36  2.67               18.6      101.0           2.80   \n",
       "3    14.37        1.95  2.50               16.8      113.0           3.85   \n",
       "4    13.24        2.59  2.87               21.0      118.0           2.80   \n",
       "\n",
       "   flavanoids  nonflavanoid_phenols  proanthocyanins  color_intensity   hue  \\\n",
       "0        3.06                  0.28             2.29             5.64  1.04   \n",
       "1        2.76                  0.26             1.28             4.38  1.05   \n",
       "2        3.24                  0.30             2.81             5.68  1.03   \n",
       "3        3.49                  0.24             2.18             7.80  0.86   \n",
       "4        2.69                  0.39             1.82             4.32  1.04   \n",
       "\n",
       "   od280/od315_of_diluted_wines  proline magnesium_groupby  label  \n",
       "0                          3.92   1065.0    (100.0, 162.0]      0  \n",
       "1                          3.40   1050.0     (80.0, 100.0]      0  \n",
       "2                          3.17   1185.0    (100.0, 162.0]      0  \n",
       "3                          3.45   1480.0    (100.0, 162.0]      0  \n",
       "4                          2.93    735.0    (100.0, 162.0]      0  "
      ]
     },
     "execution_count": 55,
     "metadata": {},
     "output_type": "execute_result"
    }
   ],
   "source": [
    "# 建立y，方便均值編碼\n",
    "cut_rule = [X['magnesium'].min(), 75, 80, 100, X['magnesium'].max()]\n",
    "\n",
    "X['magnesium_groupby'] = pd.cut(x=X['magnesium'],bins=cut_rule, include_lowest=True)\n",
    "\n",
    "df = pd.DataFrame(X)\n",
    "df['label'] = y\n",
    "df.head()"
   ]
  },
  {
   "cell_type": "code",
   "execution_count": 58,
   "metadata": {
    "ExecuteTime": {
     "end_time": "2022-10-18T15:40:04.088844Z",
     "start_time": "2022-10-18T15:40:04.027816Z"
    }
   },
   "outputs": [
    {
     "data": {
      "text/html": [
       "<div>\n",
       "<style scoped>\n",
       "    .dataframe tbody tr th:only-of-type {\n",
       "        vertical-align: middle;\n",
       "    }\n",
       "\n",
       "    .dataframe tbody tr th {\n",
       "        vertical-align: top;\n",
       "    }\n",
       "\n",
       "    .dataframe thead th {\n",
       "        text-align: right;\n",
       "    }\n",
       "</style>\n",
       "<table border=\"1\" class=\"dataframe\">\n",
       "  <thead>\n",
       "    <tr style=\"text-align: right;\">\n",
       "      <th></th>\n",
       "      <th>alcohol</th>\n",
       "      <th>malic_acid</th>\n",
       "      <th>ash</th>\n",
       "      <th>alcalinity_of_ash</th>\n",
       "      <th>magnesium</th>\n",
       "      <th>total_phenols</th>\n",
       "      <th>flavanoids</th>\n",
       "      <th>nonflavanoid_phenols</th>\n",
       "      <th>proanthocyanins</th>\n",
       "      <th>color_intensity</th>\n",
       "      <th>hue</th>\n",
       "      <th>od280/od315_of_diluted_wines</th>\n",
       "      <th>proline</th>\n",
       "      <th>magnesium_groupby</th>\n",
       "      <th>label</th>\n",
       "      <th>mean_encoding</th>\n",
       "    </tr>\n",
       "  </thead>\n",
       "  <tbody>\n",
       "    <tr>\n",
       "      <th>0</th>\n",
       "      <td>14.23</td>\n",
       "      <td>1.71</td>\n",
       "      <td>2.43</td>\n",
       "      <td>15.6</td>\n",
       "      <td>127.0</td>\n",
       "      <td>2.80</td>\n",
       "      <td>3.06</td>\n",
       "      <td>0.28</td>\n",
       "      <td>2.29</td>\n",
       "      <td>5.64</td>\n",
       "      <td>1.04</td>\n",
       "      <td>3.92</td>\n",
       "      <td>1065.0</td>\n",
       "      <td>(100.0, 162.0]</td>\n",
       "      <td>0</td>\n",
       "      <td>0.730769</td>\n",
       "    </tr>\n",
       "    <tr>\n",
       "      <th>1</th>\n",
       "      <td>13.20</td>\n",
       "      <td>1.78</td>\n",
       "      <td>2.14</td>\n",
       "      <td>11.2</td>\n",
       "      <td>100.0</td>\n",
       "      <td>2.65</td>\n",
       "      <td>2.76</td>\n",
       "      <td>0.26</td>\n",
       "      <td>1.28</td>\n",
       "      <td>4.38</td>\n",
       "      <td>1.05</td>\n",
       "      <td>3.40</td>\n",
       "      <td>1050.0</td>\n",
       "      <td>(80.0, 100.0]</td>\n",
       "      <td>0</td>\n",
       "      <td>1.098901</td>\n",
       "    </tr>\n",
       "    <tr>\n",
       "      <th>2</th>\n",
       "      <td>13.16</td>\n",
       "      <td>2.36</td>\n",
       "      <td>2.67</td>\n",
       "      <td>18.6</td>\n",
       "      <td>101.0</td>\n",
       "      <td>2.80</td>\n",
       "      <td>3.24</td>\n",
       "      <td>0.30</td>\n",
       "      <td>2.81</td>\n",
       "      <td>5.68</td>\n",
       "      <td>1.03</td>\n",
       "      <td>3.17</td>\n",
       "      <td>1185.0</td>\n",
       "      <td>(100.0, 162.0]</td>\n",
       "      <td>0</td>\n",
       "      <td>0.730769</td>\n",
       "    </tr>\n",
       "    <tr>\n",
       "      <th>3</th>\n",
       "      <td>14.37</td>\n",
       "      <td>1.95</td>\n",
       "      <td>2.50</td>\n",
       "      <td>16.8</td>\n",
       "      <td>113.0</td>\n",
       "      <td>3.85</td>\n",
       "      <td>3.49</td>\n",
       "      <td>0.24</td>\n",
       "      <td>2.18</td>\n",
       "      <td>7.80</td>\n",
       "      <td>0.86</td>\n",
       "      <td>3.45</td>\n",
       "      <td>1480.0</td>\n",
       "      <td>(100.0, 162.0]</td>\n",
       "      <td>0</td>\n",
       "      <td>0.730769</td>\n",
       "    </tr>\n",
       "    <tr>\n",
       "      <th>4</th>\n",
       "      <td>13.24</td>\n",
       "      <td>2.59</td>\n",
       "      <td>2.87</td>\n",
       "      <td>21.0</td>\n",
       "      <td>118.0</td>\n",
       "      <td>2.80</td>\n",
       "      <td>2.69</td>\n",
       "      <td>0.39</td>\n",
       "      <td>1.82</td>\n",
       "      <td>4.32</td>\n",
       "      <td>1.04</td>\n",
       "      <td>2.93</td>\n",
       "      <td>735.0</td>\n",
       "      <td>(100.0, 162.0]</td>\n",
       "      <td>0</td>\n",
       "      <td>0.730769</td>\n",
       "    </tr>\n",
       "  </tbody>\n",
       "</table>\n",
       "</div>"
      ],
      "text/plain": [
       "   alcohol  malic_acid   ash  alcalinity_of_ash  magnesium  total_phenols  \\\n",
       "0    14.23        1.71  2.43               15.6      127.0           2.80   \n",
       "1    13.20        1.78  2.14               11.2      100.0           2.65   \n",
       "2    13.16        2.36  2.67               18.6      101.0           2.80   \n",
       "3    14.37        1.95  2.50               16.8      113.0           3.85   \n",
       "4    13.24        2.59  2.87               21.0      118.0           2.80   \n",
       "\n",
       "   flavanoids  nonflavanoid_phenols  proanthocyanins  color_intensity   hue  \\\n",
       "0        3.06                  0.28             2.29             5.64  1.04   \n",
       "1        2.76                  0.26             1.28             4.38  1.05   \n",
       "2        3.24                  0.30             2.81             5.68  1.03   \n",
       "3        3.49                  0.24             2.18             7.80  0.86   \n",
       "4        2.69                  0.39             1.82             4.32  1.04   \n",
       "\n",
       "   od280/od315_of_diluted_wines  proline magnesium_groupby  label  \\\n",
       "0                          3.92   1065.0    (100.0, 162.0]      0   \n",
       "1                          3.40   1050.0     (80.0, 100.0]      0   \n",
       "2                          3.17   1185.0    (100.0, 162.0]      0   \n",
       "3                          3.45   1480.0    (100.0, 162.0]      0   \n",
       "4                          2.93    735.0    (100.0, 162.0]      0   \n",
       "\n",
       "  mean_encoding  \n",
       "0      0.730769  \n",
       "1      1.098901  \n",
       "2      0.730769  \n",
       "3      0.730769  \n",
       "4      0.730769  "
      ]
     },
     "execution_count": 58,
     "metadata": {},
     "output_type": "execute_result"
    }
   ],
   "source": [
    "# 1. 均值編碼\n",
    "\n",
    "df['mean_encoding'] = df['magnesium_groupby'].apply(lambda x: df.groupby('magnesium_groupby')['label'].mean()[x])\n",
    "df.head()"
   ]
  },
  {
   "cell_type": "markdown",
   "metadata": {},
   "source": [
    "## Day14 - 延續昨天的均值編碼，搭配cross_validation去測試查看建模效能。"
   ]
  },
  {
   "cell_type": "code",
   "execution_count": 76,
   "metadata": {
    "ExecuteTime": {
     "end_time": "2022-10-19T15:33:16.307278Z",
     "start_time": "2022-10-19T15:33:16.300002Z"
    }
   },
   "outputs": [],
   "source": [
    "from sklearn.model_selection import cross_val_score\n",
    "from sklearn.preprocessing import StandardScaler\n",
    "from sklearn.linear_model import LogisticRegression\n",
    "from sklearn.ensemble import RandomForestClassifier\n",
    "from sklearn.neighbors import KNeighborsClassifier"
   ]
  },
  {
   "cell_type": "code",
   "execution_count": 73,
   "metadata": {
    "ExecuteTime": {
     "end_time": "2022-10-19T15:30:23.252224Z",
     "start_time": "2022-10-19T15:30:21.442228Z"
    }
   },
   "outputs": [
    {
     "name": "stdout",
     "output_type": "stream",
     "text": [
      "0.9609523809523809\n",
      "0.9607936507936508\n"
     ]
    }
   ],
   "source": [
    "# 因為不想標準化\n",
    "rf = RandomForestClassifier()\n",
    "\n",
    "# with mean-encoding\n",
    "print(np.mean(cross_val_score(rf, df.drop(labels=['label', 'magnesium_groupby'], axis=1), df['label'])))\n",
    "\n",
    "# with out mean-encoding\n",
    "print(np.mean(cross_val_score(rf, df.drop(labels=['label', 'magnesium_groupby', 'mean_encoding'], axis=1), df['label'])))"
   ]
  },
  {
   "cell_type": "code",
   "execution_count": 77,
   "metadata": {
    "ExecuteTime": {
     "end_time": "2022-10-19T15:33:45.861673Z",
     "start_time": "2022-10-19T15:33:44.471684Z"
    }
   },
   "outputs": [
    {
     "name": "stdout",
     "output_type": "stream",
     "text": [
      "0.9722222222222221\n",
      "0.9720634920634922\n"
     ]
    }
   ],
   "source": [
    "# 因為不想標準化\n",
    "scaler = StandardScaler()\n",
    "\n",
    "# with mean-encoding\n",
    "print(np.mean(cross_val_score(rf, scaler.fit_transform(df.drop(labels=['label', 'magnesium_groupby'], axis=1)), df['label'])))\n",
    "\n",
    "# with out mean-encoding\n",
    "print(np.mean(cross_val_score(rf, scaler.fit_transform(df.drop(labels=['label', 'magnesium_groupby', 'mean_encoding'], axis=1)), df['label'])))"
   ]
  },
  {
   "cell_type": "markdown",
   "metadata": {},
   "source": [
    "> 都是些微的幫助，可以當作一種特徵工程方式。"
   ]
  },
  {
   "cell_type": "markdown",
   "metadata": {},
   "source": [
    "## Day15、16 - 特徵工程: 時間特徵。"
   ]
  },
  {
   "cell_type": "code",
   "execution_count": 118,
   "metadata": {
    "ExecuteTime": {
     "end_time": "2022-10-21T15:40:31.547636Z",
     "start_time": "2022-10-21T15:40:31.528718Z"
    }
   },
   "outputs": [],
   "source": [
    "import datetime\n",
    "\n",
    "s = '2022-10-21 07:30:01 UTC'"
   ]
  },
  {
   "cell_type": "code",
   "execution_count": 129,
   "metadata": {
    "ExecuteTime": {
     "end_time": "2022-10-21T15:49:56.410181Z",
     "start_time": "2022-10-21T15:49:56.391185Z"
    }
   },
   "outputs": [
    {
     "data": {
      "text/plain": [
       "(2022,\n",
       " 10,\n",
       " 21,\n",
       " 7,\n",
       " 30,\n",
       " 1,\n",
       " 5,\n",
       " 42,\n",
       " -0.38275061776867936,\n",
       " -0.30901699437494756,\n",
       " 0.7771459614569711)"
      ]
     },
     "execution_count": 129,
     "metadata": {},
     "output_type": "execute_result"
    }
   ],
   "source": [
    "def get_time_feature(s):\n",
    "    \n",
    "    datetime_obj = datetime.datetime.strptime(s, '%Y-%m-%d %H:%M:%S UTC')\n",
    "    year = datetime_obj.year\n",
    "    month = datetime_obj.month\n",
    "    day = datetime_obj.day\n",
    "    hour = datetime_obj.hour\n",
    "    minute = datetime_obj.minute\n",
    "    second = datetime_obj.second\n",
    "    day_of_the_week = int(datetime.datetime.strftime(datetime_obj, '%w'))\n",
    "    week_of_the_year = int(datetime.datetime.strftime(datetime_obj, '%U'))\n",
    "    \n",
    "    # 週期性(X_cycle): 比X更小的時間單位去週期化\n",
    "    # 日週期\n",
    "    day_cycle = np.cos(np.pi*(hour / 12 + minute / 720 + second / 43200)) # 不是/24是因為需要對稱\n",
    "    month_cycle = np.cos(np.pi*(day / 15))\n",
    "    year_cycle = np.cos(np.pi*(month / 6 + day / 180))\n",
    "    \n",
    "    return year, month, day, hour, minute, second, day_of_the_week, week_of_the_year, day_cycle, month_cycle, year_cycle\n",
    "\n",
    "get_time_feature(s)"
   ]
  },
  {
   "cell_type": "code",
   "execution_count": 130,
   "metadata": {
    "ExecuteTime": {
     "end_time": "2022-10-21T15:49:56.979183Z",
     "start_time": "2022-10-21T15:49:56.827185Z"
    }
   },
   "outputs": [
    {
     "data": {
      "text/plain": [
       "[<matplotlib.lines.Line2D at 0x2d84983feb8>]"
      ]
     },
     "execution_count": 130,
     "metadata": {},
     "output_type": "execute_result"
    },
    {
     "data": {
      "image/png": "[encoded data removed]",
      "text/plain": [
       "<Figure size 432x288 with 1 Axes>"
      ]
     },
     "metadata": {
      "needs_background": "light"
     },
     "output_type": "display_data"
    }
   ],
   "source": [
    "# 日週期性拆解\n",
    "day_cycles = []\n",
    "for hr in range(0, 23):\n",
    "    day_cycle = np.cos((hr / 12)*np.pi)\n",
    "    day_cycles.append(day_cycle)\n",
    "    \n",
    "plt.plot(day_cycles)"
   ]
  },
  {
   "cell_type": "code",
   "execution_count": 131,
   "metadata": {
    "ExecuteTime": {
     "end_time": "2022-10-21T15:49:57.626201Z",
     "start_time": "2022-10-21T15:49:57.458186Z"
    }
   },
   "outputs": [
    {
     "data": {
      "text/plain": [
       "[<matplotlib.lines.Line2D at 0x2d84988ed30>]"
      ]
     },
     "execution_count": 131,
     "metadata": {},
     "output_type": "execute_result"
    },
    {
     "data": {
      "image/png": "[encoded data removed]",
      "text/plain": [
       "<Figure size 432x288 with 1 Axes>"
      ]
     },
     "metadata": {
      "needs_background": "light"
     },
     "output_type": "display_data"
    }
   ],
   "source": [
    "# 月週期性拆解\n",
    "month_cycles = []\n",
    "\n",
    "for d in range(30):\n",
    "    month_cycle = np.cos(np.pi*(d / 15))\n",
    "    month_cycles.append(month_cycle)\n",
    "    \n",
    "plt.plot(month_cycles)"
   ]
  },
  {
   "cell_type": "code",
   "execution_count": 132,
   "metadata": {
    "ExecuteTime": {
     "end_time": "2022-10-21T15:49:58.570932Z",
     "start_time": "2022-10-21T15:49:58.402940Z"
    }
   },
   "outputs": [
    {
     "data": {
      "text/plain": [
       "[<matplotlib.lines.Line2D at 0x2d8498e55c0>]"
      ]
     },
     "execution_count": 132,
     "metadata": {},
     "output_type": "execute_result"
    },
    {
     "data": {
      "image/png": "[encoded data removed]",
      "text/plain": [
       "<Figure size 432x288 with 1 Axes>"
      ]
     },
     "metadata": {
      "needs_background": "light"
     },
     "output_type": "display_data"
    }
   ],
   "source": [
    "# 年週期性拆解\n",
    "year_cycles = []\n",
    "\n",
    "for month in range(12):\n",
    "    for day in range(30):\n",
    "        year_cycle = np.cos(np.pi*(month / 6 + day / 180))\n",
    "        year_cycles.append(year_cycle)\n",
    "    \n",
    "plt.plot(year_cycles)"
   ]
  },
  {
   "cell_type": "markdown",
   "metadata": {},
   "source": [
    "> 這樣做的好處是什麼？ 將數值根據週期性標準化，使得模型可以更好利用特徵。"
   ]
  },
  {
   "cell_type": "markdown",
   "metadata": {},
   "source": [
    "## Day17 - 特徵工程: 地理特徵\n",
    "- [地理坐標系](https://zh.wikipedia.org/zh-tw/%E5%9C%B0%E7%90%86%E5%9D%90%E6%A0%87%E7%B3%BB)\n",
    "- 如行為常被地理位置所影響，就可以將其納入特徵中，比如Uber的上下車訊息、flight、根據不同經緯度國家玩家的行為等等。\n",
    "- [geopy](https://towardsdatascience.com/reverse-geocoding-in-python-a915acf29eb6)"
   ]
  },
  {
   "cell_type": "code",
   "execution_count": 133,
   "metadata": {
    "ExecuteTime": {
     "end_time": "2022-10-22T10:11:24.123979Z",
     "start_time": "2022-10-22T10:11:24.039978Z"
    }
   },
   "outputs": [],
   "source": [
    "# 經度(-180, 180)、緯度(-90, 90)\n",
    "longitude, latitude = 0.009452, -0.002437"
   ]
  },
  {
   "cell_type": "markdown",
   "metadata": {},
   "source": [
    "## Day17 - 特徵篩選: 相關係數篩選法\n",
    "對比透過相關係數篩選特徵的效果:\n",
    "1. 完全使用所有特徵\n",
    "2. 設定門檻值篩選"
   ]
  },
  {
   "cell_type": "code",
   "execution_count": 172,
   "metadata": {
    "ExecuteTime": {
     "end_time": "2022-10-22T10:27:10.048583Z",
     "start_time": "2022-10-22T10:27:10.020583Z"
    }
   },
   "outputs": [],
   "source": [
    "# 先重新得到資料\n",
    "\n",
    "X, y = load_wine(return_X_y=True, as_frame=True)\n",
    "scaler = StandardScaler()\n",
    "X_scaled = scaler.fit_transform(X)"
   ]
  },
  {
   "cell_type": "code",
   "execution_count": 173,
   "metadata": {
    "ExecuteTime": {
     "end_time": "2022-10-22T10:27:10.490581Z",
     "start_time": "2022-10-22T10:27:10.334584Z"
    }
   },
   "outputs": [
    {
     "name": "stdout",
     "output_type": "stream",
     "text": [
      "0.9777777777777779 \n",
      " [0.94444444 0.94444444 0.94444444 0.94444444 1.         1.\n",
      " 1.         1.         1.         1.        ]\n"
     ]
    }
   ],
   "source": [
    "# 1. 完全使用\n",
    "\n",
    "lr = LogisticRegression()\n",
    "scores = cross_val_score(lr, X_scaled, y, cv=10)\n",
    "print(np.mean(scores), '\\n', scores)"
   ]
  },
  {
   "cell_type": "code",
   "execution_count": 174,
   "metadata": {
    "ExecuteTime": {
     "end_time": "2022-10-22T10:27:10.895587Z",
     "start_time": "2022-10-22T10:27:10.868588Z"
    }
   },
   "outputs": [
    {
     "data": {
      "text/plain": [
       "alcohol                         0.328222\n",
       "malic_acid                      0.437776\n",
       "ash                             0.049643\n",
       "alcalinity_of_ash               0.517859\n",
       "magnesium                       0.209179\n",
       "total_phenols                   0.719163\n",
       "flavanoids                      0.847498\n",
       "nonflavanoid_phenols            0.489109\n",
       "proanthocyanins                 0.499130\n",
       "color_intensity                 0.265668\n",
       "hue                             0.617369\n",
       "od280/od315_of_diluted_wines    0.788230\n",
       "proline                         0.633717\n",
       "Name: label, dtype: float64"
      ]
     },
     "execution_count": 174,
     "metadata": {},
     "output_type": "execute_result"
    }
   ],
   "source": [
    "# 先取得與y相關特徵的所有相關係數\n",
    "X['label'] = y\n",
    "corr = np.abs(X.corr()['label'][:-1])\n",
    "X = X.drop('label', axis=1)\n",
    "corr"
   ]
  },
  {
   "cell_type": "code",
   "execution_count": 177,
   "metadata": {
    "ExecuteTime": {
     "end_time": "2022-10-22T10:28:36.587985Z",
     "start_time": "2022-10-22T10:28:36.574982Z"
    }
   },
   "outputs": [
    {
     "data": {
      "text/plain": [
       "['alcalinity_of_ash',\n",
       " 'total_phenols',\n",
       " 'flavanoids',\n",
       " 'hue',\n",
       " 'od280/od315_of_diluted_wines',\n",
       " 'proline']"
      ]
     },
     "execution_count": 177,
     "metadata": {},
     "output_type": "execute_result"
    }
   ],
   "source": [
    "# 2. 根據門檻值去篩選\n",
    "\n",
    "threshold = 0.5\n",
    "feature_names = []\n",
    "\n",
    "for feature_name, c in zip(corr.index, corr):\n",
    "    if c >= threshold:\n",
    "        feature_names.append(feature_name)\n",
    "        \n",
    "feature_names"
   ]
  },
  {
   "cell_type": "code",
   "execution_count": 178,
   "metadata": {
    "ExecuteTime": {
     "end_time": "2022-10-22T10:28:37.599940Z",
     "start_time": "2022-10-22T10:28:37.490940Z"
    }
   },
   "outputs": [
    {
     "name": "stdout",
     "output_type": "stream",
     "text": [
      "0.9555555555555555 \n",
      " [0.94444444 0.94444444 0.83333333 1.         0.94444444 0.94444444\n",
      " 1.         0.94444444 1.         1.        ]\n"
     ]
    }
   ],
   "source": [
    "# 重新轉換\n",
    "\n",
    "X_scaled_filtered = scaler.fit_transform(X[feature_names])\n",
    "\n",
    "\n",
    "lr = LogisticRegression()\n",
    "scores = cross_val_score(lr, X_scaled_filtered, y, cv=10)\n",
    "print(np.mean(scores), '\\n', scores)"
   ]
  },
  {
   "cell_type": "code",
   "execution_count": 182,
   "metadata": {
    "ExecuteTime": {
     "end_time": "2022-10-22T10:31:12.636078Z",
     "start_time": "2022-10-22T10:31:11.975045Z"
    }
   },
   "outputs": [],
   "source": [
    "# 透過變動門檻值去比較\n",
    "\n",
    "threshold2score = {}\n",
    "\n",
    "for i in range(1, 10):\n",
    "    # 1. 設定門檻\n",
    "    threshold = i / 10\n",
    "    feature_names = []\n",
    "\n",
    "    for feature_name, c in zip(corr.index, corr):\n",
    "        if c >= threshold:\n",
    "            feature_names.append(feature_name)\n",
    "    # 2. 取得並轉換特徵\n",
    "    try:\n",
    "        X_scaled_filtered = scaler.fit_transform(X[feature_names])\n",
    "\n",
    "        # 3. modeling\n",
    "        lr = LogisticRegression()\n",
    "        scores = cross_val_score(lr, X_scaled_filtered, y, cv=10)\n",
    "        #print(np.mean(scores), '\\n', scores)\n",
    "        threshold2score[threshold] = np.mean(scores)\n",
    "    except:\n",
    "        # 沒有任何特徵\n",
    "        threshold2score[threshold] = None"
   ]
  },
  {
   "cell_type": "code",
   "execution_count": 183,
   "metadata": {
    "ExecuteTime": {
     "end_time": "2022-10-22T10:31:12.730485Z",
     "start_time": "2022-10-22T10:31:12.716490Z"
    }
   },
   "outputs": [
    {
     "data": {
      "text/plain": [
       "{0.1: 0.9722222222222221,\n",
       " 0.2: 0.9722222222222221,\n",
       " 0.3: 0.9604575163398692,\n",
       " 0.4: 0.9493464052287581,\n",
       " 0.5: 0.9555555555555555,\n",
       " 0.6: 0.9323529411764706,\n",
       " 0.7: 0.8147058823529413,\n",
       " 0.8: 0.7977124183006536,\n",
       " 0.9: None}"
      ]
     },
     "execution_count": 183,
     "metadata": {},
     "output_type": "execute_result"
    }
   ],
   "source": [
    "threshold2score"
   ]
  },
  {
   "cell_type": "markdown",
   "metadata": {},
   "source": [
    "> 可以用這樣的方式去，搭配上訓練速度去篩選模型，有的時候根據實際情況，可能會挑選不錯的效能，但速度更快的模型，比如以threshold=0.5。"
   ]
  },
  {
   "cell_type": "markdown",
   "metadata": {},
   "source": [
    "## Day18 - 特徵篩選: 特徵重要性(tree-based model)\n",
    "1. 先使用tree-based model去訓練模型\n",
    "2. 取得模型之特徵重要性\n",
    "3. 根據特徵重要性排序\n",
    "4. 根據threshold去篩選並評估模型效能"
   ]
  },
  {
   "cell_type": "code",
   "execution_count": 184,
   "metadata": {
    "ExecuteTime": {
     "end_time": "2022-10-23T15:08:33.464673Z",
     "start_time": "2022-10-23T15:08:33.437668Z"
    }
   },
   "outputs": [],
   "source": [
    "from sklearn.ensemble import RandomForestClassifier"
   ]
  },
  {
   "cell_type": "code",
   "execution_count": 198,
   "metadata": {
    "ExecuteTime": {
     "end_time": "2022-10-23T15:13:30.118003Z",
     "start_time": "2022-10-23T15:13:27.804817Z"
    }
   },
   "outputs": [
    {
     "name": "stdout",
     "output_type": "stream",
     "text": [
      "0.9777777777777779\n"
     ]
    },
    {
     "data": {
      "text/plain": [
       "RandomForestClassifier()"
      ]
     },
     "execution_count": 198,
     "metadata": {},
     "output_type": "execute_result"
    }
   ],
   "source": [
    "# 1.先使用tree-based model去訓練模型\n",
    "\n",
    "rf = RandomForestClassifier()\n",
    "# 因為tree-based, 不太需要標準化\n",
    "\n",
    "print(np.mean(cross_val_score(rf, X, y, cv=10)))\n",
    "\n",
    "rf.fit(X, y)"
   ]
  },
  {
   "cell_type": "code",
   "execution_count": 202,
   "metadata": {
    "ExecuteTime": {
     "end_time": "2022-10-23T15:14:03.052350Z",
     "start_time": "2022-10-23T15:14:02.997775Z"
    }
   },
   "outputs": [
    {
     "data": {
      "text/plain": [
       "flavanoids                      0.175332\n",
       "proline                         0.172066\n",
       "color_intensity                 0.153785\n",
       "od280/od315_of_diluted_wines    0.129014\n",
       "alcohol                         0.119499\n",
       "hue                             0.075047\n",
       "total_phenols                   0.043788\n",
       "magnesium                       0.037388\n",
       "malic_acid                      0.032022\n",
       "alcalinity_of_ash               0.024160\n",
       "proanthocyanins                 0.016739\n",
       "nonflavanoid_phenols            0.010943\n",
       "ash                             0.010218\n",
       "dtype: float64"
      ]
     },
     "execution_count": 202,
     "metadata": {},
     "output_type": "execute_result"
    }
   ],
   "source": [
    "# 2. 取得模型之特徵重要性、3. 排序\n",
    "\n",
    "feature_importances = pd.Series(index=X.columns, data=np.abs(rf.feature_importances_))\n",
    "feature_importances.sort_values()[::-1]#.index"
   ]
  },
  {
   "cell_type": "code",
   "execution_count": 205,
   "metadata": {
    "ExecuteTime": {
     "end_time": "2022-10-23T15:16:22.735322Z",
     "start_time": "2022-10-23T15:15:56.677843Z"
    }
   },
   "outputs": [
    {
     "name": "stdout",
     "output_type": "stream",
     "text": [
      "前1個特徵:\n",
      "0.7071895424836602\n",
      "前2個特徵:\n",
      "0.8833333333333332\n",
      "前3個特徵:\n",
      "0.961111111111111\n",
      "前4個特徵:\n",
      "0.9666666666666666\n",
      "前5個特徵:\n",
      "0.961111111111111\n",
      "前6個特徵:\n",
      "0.9777777777777779\n",
      "前7個特徵:\n",
      "0.961111111111111\n",
      "前8個特徵:\n",
      "0.9833333333333334\n",
      "前9個特徵:\n",
      "0.9722222222222221\n",
      "前10個特徵:\n",
      "0.9722222222222221\n",
      "前11個特徵:\n",
      "0.9722222222222221\n",
      "前12個特徵:\n",
      "0.9777777777777779\n"
     ]
    }
   ],
   "source": [
    "# 4. 選取前i個之效果\n",
    "\n",
    "for i in range(1, len(X.columns)):\n",
    "    print(f'前{i}個特徵:')\n",
    "    X_filtered = X[feature_importances.sort_values()[::-1].index[:i]]\n",
    "    rf = RandomForestClassifier()\n",
    "    print(np.mean(cross_val_score(rf, X_filtered, y, cv=10)))"
   ]
  },
  {
   "cell_type": "markdown",
   "metadata": {},
   "source": [
    "## Day19 - 特徵篩選: 特徵重要性(tree-based model)\n",
    "1. 先使用tree-based model去訓練模型\n",
    "2. 取得模型之特徵重要性\n",
    "3. 根據特徵重要性排序\n",
    "4. 根據threshold去篩選並評估模型效能(非rf)"
   ]
  },
  {
   "cell_type": "code",
   "execution_count": 209,
   "metadata": {
    "ExecuteTime": {
     "end_time": "2022-10-24T12:40:15.239724Z",
     "start_time": "2022-10-24T12:40:09.441888Z"
    }
   },
   "outputs": [
    {
     "name": "stdout",
     "output_type": "stream",
     "text": [
      "無標準化\n",
      "前1個特徵:\n",
      "0.7977124183006536\n",
      "前2個特徵:\n",
      "0.8944444444444445\n",
      "前3個特徵:\n",
      "0.9385620915032679\n",
      "前4個特徵:\n",
      "0.9052287581699346\n",
      "前5個特徵:\n",
      "0.9218954248366013\n",
      "前6個特徵:\n",
      "0.9330065359477124\n",
      "前7個特徵:\n",
      "0.9218954248366013\n",
      "前8個特徵:\n",
      "0.9218954248366013\n",
      "前9個特徵:\n",
      "0.9274509803921568\n",
      "前10個特徵:\n",
      "0.95\n",
      "前11個特徵:\n",
      "0.95\n",
      "前12個特徵:\n",
      "0.95\n",
      "有標準化\n",
      "前1個特徵:\n",
      "0.7977124183006536\n",
      "前2個特徵:\n",
      "0.8944444444444445\n",
      "前3個特徵:\n",
      "0.9385620915032679\n",
      "前4個特徵:\n",
      "0.9552287581699346\n",
      "前5個特徵:\n",
      "0.9722222222222221\n",
      "前6個特徵:\n",
      "0.9833333333333334\n",
      "前7個特徵:\n",
      "0.9777777777777779\n",
      "前8個特徵:\n",
      "0.9777777777777779\n",
      "前9個特徵:\n",
      "0.9774509803921569\n",
      "前10個特徵:\n",
      "0.9663398692810456\n",
      "前11個特徵:\n",
      "0.9722222222222221\n",
      "前12個特徵:\n",
      "0.9722222222222221\n"
     ]
    }
   ],
   "source": [
    "# 4. 選取前i個之效果\n",
    "# 因為這是lr，需要去標準化\n",
    "\n",
    "# 無標準化\n",
    "print('無標準化')\n",
    "for i in range(1, len(X.columns)):\n",
    "    print(f'前{i}個特徵:')\n",
    "    X_filtered = X[feature_importances.sort_values()[::-1].index[:i]]\n",
    "    lr = LogisticRegression()\n",
    "    print(np.mean(cross_val_score(lr, X_filtered, y, cv=10)))\n",
    "    \n",
    "# 標準化\n",
    "print('有標準化')\n",
    "for i in range(1, len(X.columns)):\n",
    "    print(f'前{i}個特徵:')\n",
    "    scaler = StandardScaler()\n",
    "    X_filtered = scaler.fit_transform(X[feature_importances.sort_values()[::-1].index[:i]])\n",
    "    lr = LogisticRegression()\n",
    "    print(np.mean(cross_val_score(lr, X_filtered, y, cv=10)))"
   ]
  },
  {
   "cell_type": "markdown",
   "metadata": {},
   "source": [
    "> 的確可以看到標準化的差異。"
   ]
  },
  {
   "cell_type": "markdown",
   "metadata": {},
   "source": [
    "那也來看看RF是不是真的不需要標準化(因為理論上是透過一個threshold去判斷，而scaling不會改變相對排序)"
   ]
  },
  {
   "cell_type": "code",
   "execution_count": 210,
   "metadata": {
    "ExecuteTime": {
     "end_time": "2022-10-24T12:55:48.428912Z",
     "start_time": "2022-10-24T12:55:09.186353Z"
    }
   },
   "outputs": [
    {
     "name": "stdout",
     "output_type": "stream",
     "text": [
      "無標準化\n",
      "前1個特徵:\n",
      "0.7071895424836603\n",
      "前2個特徵:\n",
      "0.888888888888889\n",
      "前3個特徵:\n",
      "0.9555555555555555\n",
      "前4個特徵:\n",
      "0.961111111111111\n",
      "前5個特徵:\n",
      "0.9555555555555555\n",
      "前6個特徵:\n",
      "0.961111111111111\n",
      "前7個特徵:\n",
      "0.9777777777777779\n",
      "前8個特徵:\n",
      "0.9833333333333332\n",
      "前9個特徵:\n",
      "0.9722222222222221\n",
      "前10個特徵:\n",
      "0.9722222222222221\n",
      "前11個特徵:\n",
      "0.9833333333333332\n",
      "前12個特徵:\n",
      "0.9777777777777779\n",
      "有標準化\n",
      "前1個特徵:\n",
      "0.7075163398692811\n",
      "前2個特徵:\n",
      "0.8718954248366014\n",
      "前3個特徵:\n",
      "0.9555555555555555\n",
      "前4個特徵:\n",
      "0.95\n",
      "前5個特徵:\n",
      "0.961111111111111\n",
      "前6個特徵:\n",
      "0.961111111111111\n",
      "前7個特徵:\n",
      "0.9722222222222221\n",
      "前8個特徵:\n",
      "0.9777777777777779\n",
      "前9個特徵:\n",
      "0.9777777777777779\n",
      "前10個特徵:\n",
      "0.9833333333333334\n",
      "前11個特徵:\n",
      "0.9722222222222221\n",
      "前12個特徵:\n",
      "0.9833333333333334\n"
     ]
    }
   ],
   "source": [
    "# 4. 選取前i個之效果\n",
    "\n",
    "# 無標準化\n",
    "print('無標準化')\n",
    "for i in range(1, len(X.columns)):\n",
    "    print(f'前{i}個特徵:')\n",
    "    X_filtered = X[feature_importances.sort_values()[::-1].index[:i]]\n",
    "    rf = RandomForestClassifier()\n",
    "    print(np.mean(cross_val_score(rf, X_filtered, y, cv=10)))\n",
    "    \n",
    "# 標準化\n",
    "print('有標準化')\n",
    "for i in range(1, len(X.columns)):\n",
    "    print(f'前{i}個特徵:')\n",
    "    scaler = StandardScaler()\n",
    "    X_filtered = scaler.fit_transform(X[feature_importances.sort_values()[::-1].index[:i]])\n",
    "    rf = RandomForestClassifier()\n",
    "    print(np.mean(cross_val_score(rf, X_filtered, y, cv=10)))"
   ]
  },
  {
   "cell_type": "markdown",
   "metadata": {},
   "source": [
    "## Day20 - 特徵工程：特徵組合\n",
    "接續上面的特徵重要性，透過比較重要的特徵去組合會得到什麼結果呢？"
   ]
  },
  {
   "cell_type": "code",
   "execution_count": 229,
   "metadata": {
    "ExecuteTime": {
     "end_time": "2022-10-25T16:13:26.534590Z",
     "start_time": "2022-10-25T16:13:26.395590Z"
    }
   },
   "outputs": [
    {
     "data": {
      "text/plain": [
       "0.9777777777777779"
      ]
     },
     "execution_count": 229,
     "metadata": {},
     "output_type": "execute_result"
    }
   ],
   "source": [
    "# 對照\n",
    "\n",
    "first_two_features = list(feature_importances.sort_values()[::-1].index[:2])\n",
    "lr = LogisticRegression()\n",
    "scaler = StandardScaler()\n",
    "\n",
    "\n",
    "# 丟入模型查看效果(cross_val_score)\n",
    "np.mean(cross_val_score(lr, scaler.fit_transform(X), y, cv=10))"
   ]
  },
  {
   "cell_type": "code",
   "execution_count": 230,
   "metadata": {
    "ExecuteTime": {
     "end_time": "2022-10-25T16:13:26.897455Z",
     "start_time": "2022-10-25T16:13:26.709455Z"
    }
   },
   "outputs": [
    {
     "data": {
      "text/plain": [
       "0.9777777777777779"
      ]
     },
     "execution_count": 230,
     "metadata": {},
     "output_type": "execute_result"
    }
   ],
   "source": [
    "# 將前2個新增之後，加入原先的LR模型去做(但還需要泛化)\n",
    "\n",
    "first_two_features = list(feature_importances.sort_values()[::-1].index[:2])\n",
    "lr = LogisticRegression()\n",
    "scaler = StandardScaler()\n",
    "\n",
    "# 標準化的先後其實也是一個點！但這邊先簡單忽略\n",
    "\n",
    "X_new = X.copy()\n",
    "X_new['new_feature1'] = (X_new[first_two_features[0]] + X_new[first_two_features[1]]) / 2\n",
    "X_new['new_feature2'] = (X_new[first_two_features[0]] - X_new[first_two_features[1]]) * 2\n",
    "X_new['new_feature3'] = (X_new[first_two_features[0]] * X_new[first_two_features[1]])\n",
    "X_new['new_feature4'] = (X_new[first_two_features[0]] / X_new[first_two_features[1]])\n",
    "\n",
    "\n",
    "# 丟入模型查看效果(cross_val_score)\n",
    "X_new = scaler.fit_transform(X_new)\n",
    "np.mean(cross_val_score(lr, X_new, y, cv=10))"
   ]
  },
  {
   "cell_type": "markdown",
   "metadata": {},
   "source": [
    "## Day21 - 模型評估：ROC\n",
    "- x: 偽陽性\n",
    "- y: 真陽性"
   ]
  },
  {
   "cell_type": "code",
   "execution_count": 243,
   "metadata": {
    "ExecuteTime": {
     "end_time": "2022-10-26T15:28:17.528216Z",
     "start_time": "2022-10-26T15:28:17.514216Z"
    }
   },
   "outputs": [],
   "source": [
    "from sklearn.model_selection import train_test_split\n",
    "from sklearn.metrics import roc_auc_score, roc_curve"
   ]
  },
  {
   "cell_type": "code",
   "execution_count": 242,
   "metadata": {
    "ExecuteTime": {
     "end_time": "2022-10-26T15:27:51.736792Z",
     "start_time": "2022-10-26T15:27:51.673789Z"
    }
   },
   "outputs": [
    {
     "name": "stdout",
     "output_type": "stream",
     "text": [
      "0.9661016949152542\n"
     ]
    },
    {
     "data": {
      "text/plain": [
       "0.9993961352657005"
      ]
     },
     "execution_count": 242,
     "metadata": {},
     "output_type": "execute_result"
    }
   ],
   "source": [
    "# 呈上個例子\n",
    "# 1. 先分割樣本\n",
    "x_train, x_test, y_train, y_test = train_test_split(X_new, y, test_size=0.33, random_state=222)\n",
    "\n",
    "# 2. 訓練\n",
    "lr.fit(x_train, y_train)\n",
    "\n",
    "\n",
    "# 3. 測試資料上評估\n",
    "pred_proba = lr.predict_proba(x_test)\n",
    "print(lr.score(x_test, y_test))\n",
    "roc_auc_score(y_test, pred_proba, multi_class='ovo')  # 因為多分類需要額外處置"
   ]
  },
  {
   "cell_type": "code",
   "execution_count": 251,
   "metadata": {
    "ExecuteTime": {
     "end_time": "2022-10-26T15:33:57.151552Z",
     "start_time": "2022-10-26T15:33:56.378553Z"
    }
   },
   "outputs": [
    {
     "name": "stdout",
     "output_type": "stream",
     "text": [
      "0.9680851063829787\n",
      "0.9927098150782361\n"
     ]
    },
    {
     "data": {
      "image/png": "[encoded data removed]",
      "text/plain": [
       "<Figure size 432x288 with 1 Axes>"
      ]
     },
     "metadata": {
      "needs_background": "light"
     },
     "output_type": "display_data"
    }
   ],
   "source": [
    "# 換上一個二分類的例子\n",
    "from sklearn.datasets import load_breast_cancer\n",
    "\n",
    "rf = RandomForestClassifier(random_state=222)\n",
    "X, y = load_breast_cancer(return_X_y=True)\n",
    "\n",
    "# 1.\n",
    "x_train, x_test, y_train, y_test = train_test_split(X, y, test_size=0.33, random_state=222)\n",
    "\n",
    "# 2.\n",
    "rf.fit(x_train, y_train)\n",
    "\n",
    "# 3.\n",
    "y_pred_proba = rf.predict_proba(x_test)[:, 1]\n",
    "print(rf.score(x_test, y_test))\n",
    "print(roc_auc_score(y_test, y_pred_proba))\n",
    "\n",
    "# 4.畫圖\n",
    "fpr_rf, tpr_rf, _ = roc_curve(y_test, y_pred_proba)\n",
    "plt.plot([0, 1], [0, 1], 'k--')\n",
    "plt.plot(fpr_rf, tpr_rf, label='RF')\n",
    "\n",
    "plt.xlabel('False positive rate')\n",
    "plt.ylabel('True positive rate')\n",
    "plt.title('ROC curve')\n",
    "plt.legend(loc='best')\n",
    "plt.show()"
   ]
  },
  {
   "cell_type": "markdown",
   "metadata": {},
   "source": [
    "> 可以看得出來，整體而言是一個很優秀的分類器！"
   ]
  },
  {
   "cell_type": "markdown",
   "metadata": {},
   "source": [
    "## Day22 - conclude\n"
   ]
  },
  {
   "cell_type": "code",
   "execution_count": null,
   "metadata": {},
   "outputs": [],
   "source": [
    "def "
   ]
  }
 ],
 "metadata": {
  "kernelspec": {
   "display_name": "Python 3",
   "language": "python",
   "name": "python3"
  },
  "language_info": {
   "codemirror_mode": {
    "name": "ipython",
    "version": 3
   },
   "file_extension": ".py",
   "mimetype": "text/x-python",
   "name": "python",
   "nbconvert_exporter": "python",
   "pygments_lexer": "ipython3",
   "version": "3.7.3"
  }
 },
 "nbformat": 4,
 "nbformat_minor": 4
}
