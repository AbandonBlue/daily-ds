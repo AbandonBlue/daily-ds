{
 "cells": [
  {
   "cell_type": "markdown",
   "metadata": {},
   "source": [
    "## 預期值理論\n",
    "- 預期值理論其實就是將`期望值公式`與分類模型、預估收益、成本相結合，得到一個評估現在分類是否可以給組織帶來好處的評估方式。\n",
    "\n",
    "---\n",
    "\n",
    "`2023-03-08 補`"
   ]
  },
  {
   "cell_type": "code",
   "execution_count": 24,
   "metadata": {
    "ExecuteTime": {
     "end_time": "2023-03-12T01:54:07.324331Z",
     "start_time": "2023-03-12T01:54:05.249056Z"
    }
   },
   "outputs": [],
   "source": [
    "import numpy as np\n",
    "import pandas as pd\n",
    "import sklearn\n",
    "import matplotlib.pyplot as plt\n",
    "%matplotlib inline"
   ]
  },
  {
   "cell_type": "markdown",
   "metadata": {},
   "source": [
    "### 1. 定義商業問題\n",
    "- 評估是否現在需要透過模型去估計乳癌分類。"
   ]
  },
  {
   "cell_type": "markdown",
   "metadata": {},
   "source": [
    "### 2. 了解資料\n"
   ]
  },
  {
   "cell_type": "code",
   "execution_count": 2,
   "metadata": {
    "ExecuteTime": {
     "end_time": "2023-03-12T01:40:39.813373Z",
     "start_time": "2023-03-12T01:40:39.197262Z"
    }
   },
   "outputs": [
    {
     "data": {
      "text/plain": [
       "y\n",
       "1    0.627417\n",
       "0    0.372583\n",
       "dtype: float64"
      ]
     },
     "execution_count": 2,
     "metadata": {},
     "output_type": "execute_result"
    }
   ],
   "source": [
    "from sklearn.datasets import load_breast_cancer\n",
    "\n",
    "data = load_breast_cancer()\n",
    "X = data['data']\n",
    "y = data['target']\n",
    "\n",
    "pd.DataFrame(y, columns=['y']).value_counts() / len(y)"
   ]
  },
  {
   "cell_type": "markdown",
   "metadata": {},
   "source": [
    "### 3. 準備資料"
   ]
  },
  {
   "cell_type": "code",
   "execution_count": 3,
   "metadata": {
    "ExecuteTime": {
     "end_time": "2023-03-12T01:40:39.843546Z",
     "start_time": "2023-03-12T01:40:39.822379Z"
    }
   },
   "outputs": [],
   "source": [
    "## 定義好預算成功以即失敗的效益以及成本\n",
    "# 實際為癌症卻預測錯誤: -1000000(錯過救治)\n",
    "# 實際為癌症預測正確: 10000(應該)\n",
    "# 實際為非癌症預測正確: 0(應該)\n",
    "# 實際為非癌症預測錯誤: -100000\n",
    "\n",
    "\n",
    "cost_benefit_matrix = [\n",
    "    [10000, -1000000],\n",
    "    [-100000, 0]\n",
    "]"
   ]
  },
  {
   "cell_type": "code",
   "execution_count": 4,
   "metadata": {
    "ExecuteTime": {
     "end_time": "2023-03-12T01:40:40.076197Z",
     "start_time": "2023-03-12T01:40:39.849547Z"
    }
   },
   "outputs": [
    {
     "data": {
      "text/plain": [
       "((381, 30), (188, 30))"
      ]
     },
     "execution_count": 4,
     "metadata": {},
     "output_type": "execute_result"
    }
   ],
   "source": [
    "from sklearn.model_selection import train_test_split\n",
    "\n",
    "seed = 222\n",
    "test_size = 0.33\n",
    "\n",
    "X_train, X_test, y_train, y_test = train_test_split(X, y, random_state=seed, test_size=test_size)\n",
    "X_train.shape, X_test.shape"
   ]
  },
  {
   "cell_type": "markdown",
   "metadata": {},
   "source": [
    "### 4. 建模"
   ]
  },
  {
   "cell_type": "code",
   "execution_count": 5,
   "metadata": {
    "ExecuteTime": {
     "end_time": "2023-03-12T01:40:41.879044Z",
     "start_time": "2023-03-12T01:40:40.080198Z"
    }
   },
   "outputs": [
    {
     "name": "stderr",
     "output_type": "stream",
     "text": [
      "C:\\Users\\aband\\AppData\\Roaming\\Python\\Python37\\site-packages\\sklearn\\linear_model\\_logistic.py:765: ConvergenceWarning: lbfgs failed to converge (status=1):\n",
      "STOP: TOTAL NO. of ITERATIONS REACHED LIMIT.\n",
      "\n",
      "Increase the number of iterations (max_iter) or scale the data as shown in:\n",
      "    https://scikit-learn.org/stable/modules/preprocessing.html\n",
      "Please also refer to the documentation for alternative solver options:\n",
      "    https://scikit-learn.org/stable/modules/linear_model.html#logistic-regression\n",
      "  extra_warning_msg=_LOGISTIC_SOLVER_CONVERGENCE_MSG)\n"
     ]
    }
   ],
   "source": [
    "from sklearn.ensemble import RandomForestClassifier\n",
    "from sklearn.linear_model import LogisticRegression\n",
    "\n",
    "rf = RandomForestClassifier().fit(X_train, y_train)\n",
    "lr = LogisticRegression().fit(X_train, y_train)"
   ]
  },
  {
   "cell_type": "markdown",
   "metadata": {},
   "source": [
    "### 5. 評估"
   ]
  },
  {
   "cell_type": "code",
   "execution_count": 6,
   "metadata": {
    "ExecuteTime": {
     "end_time": "2023-03-12T01:40:41.956219Z",
     "start_time": "2023-03-12T01:40:41.886124Z"
    }
   },
   "outputs": [
    {
     "name": "stdout",
     "output_type": "stream",
     "text": [
      "acc(rf): 0.9680851063829787\n",
      "acc(lr): 0.9468085106382979\n"
     ]
    }
   ],
   "source": [
    "from sklearn.metrics import accuracy_score, confusion_matrix\n",
    "\n",
    "y_pred_rf = rf.predict(X_test)\n",
    "y_pred_lr = lr.predict(X_test)\n",
    "\n",
    "print(f\"acc(rf): {accuracy_score(y_test, y_pred_rf)}\")\n",
    "print(f\"acc(lr): {accuracy_score(y_test, y_pred_lr)}\")"
   ]
  },
  {
   "cell_type": "code",
   "execution_count": 7,
   "metadata": {
    "ExecuteTime": {
     "end_time": "2023-03-12T01:40:41.987220Z",
     "start_time": "2023-03-12T01:40:41.962219Z"
    }
   },
   "outputs": [
    {
     "data": {
      "text/plain": [
       "array([[ 70,   4],\n",
       "       [  2, 112]], dtype=int64)"
      ]
     },
     "execution_count": 7,
     "metadata": {},
     "output_type": "execute_result"
    }
   ],
   "source": [
    "cm_rf = confusion_matrix(y_test, y_pred_rf)\n",
    "cm_rf"
   ]
  },
  {
   "cell_type": "code",
   "execution_count": 8,
   "metadata": {
    "ExecuteTime": {
     "end_time": "2023-03-12T01:40:42.018610Z",
     "start_time": "2023-03-12T01:40:41.993855Z"
    }
   },
   "outputs": [
    {
     "data": {
      "text/plain": [
       "array([[ 66,   8],\n",
       "       [  2, 112]], dtype=int64)"
      ]
     },
     "execution_count": 8,
     "metadata": {},
     "output_type": "execute_result"
    }
   ],
   "source": [
    "cm_lr = confusion_matrix(y_test, y_pred_lr)\n",
    "cm_lr"
   ]
  },
  {
   "cell_type": "markdown",
   "metadata": {},
   "source": [
    "> 以acc來說rf相對較佳。"
   ]
  },
  {
   "cell_type": "code",
   "execution_count": 9,
   "metadata": {
    "ExecuteTime": {
     "end_time": "2023-03-12T01:40:42.050007Z",
     "start_time": "2023-03-12T01:40:42.024365Z"
    }
   },
   "outputs": [
    {
     "name": "stdout",
     "output_type": "stream",
     "text": [
      "預估期望利潤(rf): -18617.02127659574\n",
      "預估期望利潤(lr): -40106.3829787234\n"
     ]
    }
   ],
   "source": [
    "## 透過預期值理論評估\n",
    "\n",
    "ex_value_rf = 0\n",
    "ex_value_lr = 0\n",
    "\n",
    "for i in range(len(cost_benefit_matrix)):\n",
    "    for j in range(len(cost_benefit_matrix[0])):\n",
    "        ex_value_rf += cm_rf[i][j] *  cost_benefit_matrix[i][j] / cm_rf.sum()\n",
    "        ex_value_lr += cm_lr[i][j] * cost_benefit_matrix[i][j] / cm_lr.sum()\n",
    "\n",
    "        \n",
    "print(f\"預估期望利潤(rf): {ex_value_rf}\")\n",
    "print(f\"預估期望利潤(lr): {ex_value_lr}\")"
   ]
  },
  {
   "cell_type": "code",
   "execution_count": 14,
   "metadata": {
    "ExecuteTime": {
     "end_time": "2023-03-12T01:48:08.314440Z",
     "start_time": "2023-03-12T01:48:08.289987Z"
    }
   },
   "outputs": [
    {
     "data": {
      "text/plain": [
       "-18617.02127659574"
      ]
     },
     "execution_count": 14,
     "metadata": {},
     "output_type": "execute_result"
    }
   ],
   "source": [
    "def get_ex(cost_benefit_matrix, cm):\n",
    "    ex = 0\n",
    "    for i in range(len(cost_benefit_matrix)):\n",
    "        for j in range(len(cost_benefit_matrix[0])):\n",
    "            ex += cm[i][j] *  cost_benefit_matrix[i][j] / cm.sum()\n",
    "    return ex\n",
    "\n",
    "get_ex(cost_benefit_matrix, cm_rf)"
   ]
  },
  {
   "cell_type": "markdown",
   "metadata": {},
   "source": [
    "> 可以發現在這樣的定義下，rf一樣優於lr，但模型效果整體預期值是負的。但這只是一個簡單範例演示。"
   ]
  },
  {
   "cell_type": "markdown",
   "metadata": {},
   "source": [
    "### 6. 應用"
   ]
  },
  {
   "cell_type": "markdown",
   "metadata": {},
   "source": [
    "### 7. 結論\n",
    "- 透過預期值理論可以更好地把分類錯誤、正確的成本與模型成效掛勾，進而說服利益相關人，很推薦資料科學家/分析師使用。"
   ]
  },
  {
   "cell_type": "markdown",
   "metadata": {},
   "source": [
    "## 8. 延伸補充\n",
    "- 獲利曲線: 透過機率判斷的`threshold`修正，找出不同`threshold`的預期收益，可同時多模型比較、限制條件下比較。"
   ]
  },
  {
   "cell_type": "code",
   "execution_count": 21,
   "metadata": {
    "ExecuteTime": {
     "end_time": "2023-03-12T01:51:29.160039Z",
     "start_time": "2023-03-12T01:51:29.104469Z"
    }
   },
   "outputs": [
    {
     "data": {
      "text/plain": [
       "array([1, 1, 1, 1, 1, 1, 1, 1, 1, 1, 1, 1, 1, 0, 1, 0, 1, 1, 1, 1, 1, 1,\n",
       "       0, 1, 0, 1, 1, 1, 1, 1, 1, 1, 1, 0, 1, 1, 1, 1, 1, 1, 1, 1, 1, 1,\n",
       "       1, 0, 0, 1, 0, 1, 1, 1, 1, 1, 1, 1, 1, 1, 1, 1, 0, 1, 1, 1, 1, 1,\n",
       "       1, 1, 1, 1, 1, 1, 1, 1, 1, 1, 0, 1, 0, 1, 0, 0, 1, 1, 1, 1, 1, 1,\n",
       "       1, 1, 1, 0, 0, 1, 1, 1, 1, 1, 0, 1, 1, 1, 1, 1, 1, 1, 1, 1, 1, 1,\n",
       "       1, 1, 1, 1, 1, 0, 0, 1, 1, 1, 1, 1, 1, 1, 0, 0, 1, 1, 1, 1, 1, 1,\n",
       "       1, 1, 0, 1, 1, 0, 1, 1, 1, 1, 1, 1, 1, 0, 1, 1, 1, 0, 1, 1, 1, 1,\n",
       "       1, 1, 1, 1, 0, 1, 1, 1, 1, 1, 0, 0, 1, 1, 1, 1, 1, 1, 1, 0, 1, 1,\n",
       "       1, 1, 0, 1, 0, 1, 1, 1, 1, 1, 1, 1])"
      ]
     },
     "execution_count": 21,
     "metadata": {},
     "output_type": "execute_result"
    }
   ],
   "source": [
    "np.where(rf.predict_proba(X_test)[:, 0] >= threshold, 0, 1)"
   ]
  },
  {
   "cell_type": "code",
   "execution_count": 25,
   "metadata": {
    "ExecuteTime": {
     "end_time": "2023-03-12T01:54:09.235978Z",
     "start_time": "2023-03-12T01:54:08.850939Z"
    }
   },
   "outputs": [
    {
     "data": {
      "text/plain": [
       "[<matplotlib.lines.Line2D at 0x1c640f85a90>]"
      ]
     },
     "execution_count": 25,
     "metadata": {},
     "output_type": "execute_result"
    },
    {
     "data": {
      "image/png": "[encoded data removed]",
      "text/plain": [
       "<Figure size 432x288 with 1 Axes>"
      ]
     },
     "metadata": {
      "needs_background": "light"
     },
     "output_type": "display_data"
    }
   ],
   "source": [
    "## 透過模型預測的threshold修改來判斷標籤\n",
    "\n",
    "threshold = 1\n",
    "step = 0.05\n",
    "model = rf\n",
    "y_test_pred_proba = model.predict_proba(X_test)\n",
    "exs = []\n",
    "\n",
    "while threshold >= 0:\n",
    "    y_pred = np.where(y_test_pred_proba[:, 0] >= threshold, 0, 1)\n",
    "    cm = confusion_matrix(y_test, y_pred)\n",
    "    ex = get_ex(cost_benefit_matrix, cm)\n",
    "    exs.append(ex)\n",
    "    \n",
    "    threshold -= step\n",
    "\n",
    "plt.plot(exs)"
   ]
  },
  {
   "cell_type": "code",
   "execution_count": 33,
   "metadata": {
    "ExecuteTime": {
     "end_time": "2023-03-12T02:01:01.794537Z",
     "start_time": "2023-03-12T02:01:01.777518Z"
    }
   },
   "outputs": [],
   "source": [
    "def plot_profit_curve(model, threshold, step, X, y, cost_benefit_matrix):\n",
    "    \"\"\"\n",
    "        預期值架構的延伸，透過圖示化移動threshold劃出各預期值。\n",
    "    \"\"\"\n",
    "    y_test_pred_proba = model.predict_proba(X)\n",
    "    exs = []\n",
    "\n",
    "    while threshold >= 0:\n",
    "        y_pred = np.where(y_test_pred_proba[:, 0] >= threshold, 0, 1)\n",
    "        cm = confusion_matrix(y, y_pred)\n",
    "        ex = get_ex(cost_benefit_matrix, cm)\n",
    "        exs.append(ex)\n",
    "\n",
    "        threshold -= step\n",
    "    plt.plot(exs)\n",
    "    return exs"
   ]
  },
  {
   "cell_type": "code",
   "execution_count": 34,
   "metadata": {
    "ExecuteTime": {
     "end_time": "2023-03-12T02:01:03.163444Z",
     "start_time": "2023-03-12T02:01:02.832282Z"
    }
   },
   "outputs": [
    {
     "data": {
      "text/plain": [
       "[-388244.68085106387,\n",
       " -82553.1914893617,\n",
       " -77180.85106382979,\n",
       " -61063.82978723405,\n",
       " -61595.744680851065,\n",
       " -56223.40425531915,\n",
       " -56223.40425531915,\n",
       " -56223.40425531915,\n",
       " -50851.063829787236,\n",
       " -45478.723404255325,\n",
       " -40106.3829787234,\n",
       " -34734.04255319149,\n",
       " -25053.191489361703,\n",
       " -20212.765957446805,\n",
       " -20744.680851063826,\n",
       " -15372.340425531915,\n",
       " -17500.0,\n",
       " -12127.659574468085,\n",
       " -8351.063829787234,\n",
       " -11542.553191489362]"
      ]
     },
     "execution_count": 34,
     "metadata": {},
     "output_type": "execute_result"
    },
    {
     "data": {
      "image/png": "[encoded data removed]",
      "text/plain": [
       "<Figure size 432x288 with 1 Axes>"
      ]
     },
     "metadata": {
      "needs_background": "light"
     },
     "output_type": "display_data"
    }
   ],
   "source": [
    "plot_profit_curve(rf, 1, 0.05, X_test, y_test, cost_benefit_matrix)\n",
    "plot_profit_curve(lr, 1, 0.05, X_test, y_test, cost_benefit_matrix)"
   ]
  },
  {
   "cell_type": "markdown",
   "metadata": {},
   "source": [
    "> 以上畫出獲利曲線，可以看到每一個`點`都是在`threshold`等於一個定值下、`成本收益等於定值下`，產生的`confunsion_matrix`計算的`預期值`，以目前的案例設定，傾向盡量預測是positive，理解也很直覺，預測錯誤中，真實為postive預測為negative的成本最高。"
   ]
  },
  {
   "cell_type": "code",
   "execution_count": null,
   "metadata": {},
   "outputs": [],
   "source": []
  }
 ],
 "metadata": {
  "kernelspec": {
   "display_name": "Python 3",
   "language": "python",
   "name": "python3"
  },
  "language_info": {
   "codemirror_mode": {
    "name": "ipython",
    "version": 3
   },
   "file_extension": ".py",
   "mimetype": "text/x-python",
   "name": "python",
   "nbconvert_exporter": "python",
   "pygments_lexer": "ipython3",
   "version": "3.7.3"
  }
 },
 "nbformat": 4,
 "nbformat_minor": 4
}
