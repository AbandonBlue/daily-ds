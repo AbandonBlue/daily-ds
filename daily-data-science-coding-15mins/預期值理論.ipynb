{
 "cells": [
  {
   "cell_type": "markdown",
   "metadata": {},
   "source": [
    "## 預期值理論\n",
    "- 預期值理論其實就是將`期望值公式`與分類模型、預估收益、成本相結合，得到一個評估現在分類是否可以給組織帶來好處的評估方式。\n",
    "\n",
    "---\n",
    "\n",
    "`2023-03-08 補`"
   ]
  },
  {
   "cell_type": "code",
   "execution_count": 1,
   "metadata": {
    "ExecuteTime": {
     "end_time": "2023-03-08T14:33:00.432923Z",
     "start_time": "2023-03-08T14:32:52.547007Z"
    }
   },
   "outputs": [],
   "source": [
    "import numpy as np\n",
    "import pandas as pd\n",
    "import sklearn"
   ]
  },
  {
   "cell_type": "markdown",
   "metadata": {},
   "source": [
    "### 1. 定義商業問題\n",
    "- 評估是否現在需要透過模型去估計乳癌分類。"
   ]
  },
  {
   "cell_type": "markdown",
   "metadata": {},
   "source": [
    "### 2. 了解資料\n"
   ]
  },
  {
   "cell_type": "code",
   "execution_count": 7,
   "metadata": {
    "ExecuteTime": {
     "end_time": "2023-03-08T14:34:31.775523Z",
     "start_time": "2023-03-08T14:34:31.721526Z"
    }
   },
   "outputs": [
    {
     "data": {
      "text/plain": [
       "y\n",
       "1    0.627417\n",
       "0    0.372583\n",
       "dtype: float64"
      ]
     },
     "execution_count": 7,
     "metadata": {},
     "output_type": "execute_result"
    }
   ],
   "source": [
    "from sklearn.datasets import load_breast_cancer\n",
    "\n",
    "data = load_breast_cancer()\n",
    "X = data['data']\n",
    "y = data['target']\n",
    "\n",
    "pd.DataFrame(y, columns=['y']).value_counts() / len(y)"
   ]
  },
  {
   "cell_type": "markdown",
   "metadata": {},
   "source": [
    "### 3. 準備資料"
   ]
  },
  {
   "cell_type": "code",
   "execution_count": 9,
   "metadata": {
    "ExecuteTime": {
     "end_time": "2023-03-08T14:40:08.384839Z",
     "start_time": "2023-03-08T14:40:08.380838Z"
    }
   },
   "outputs": [],
   "source": [
    "## 定義好預算成功以即失敗的效益以及成本\n",
    "# 實際為癌症卻預測錯誤: -1000000(錯過救治)\n",
    "# 實際為癌症預測正確: 10000(應該)\n",
    "# 實際為非癌症預測正確: 0(應該)\n",
    "# 實際為非癌症預測錯誤: -100000\n",
    "\n",
    "\n",
    "cost_benefit_matrix = [\n",
    "    [10000, -1000000],\n",
    "    [-100000, 0]\n",
    "]"
   ]
  },
  {
   "cell_type": "code",
   "execution_count": 12,
   "metadata": {
    "ExecuteTime": {
     "end_time": "2023-03-08T14:41:45.802461Z",
     "start_time": "2023-03-08T14:41:45.786467Z"
    }
   },
   "outputs": [
    {
     "data": {
      "text/plain": [
       "((381, 30), (188, 30))"
      ]
     },
     "execution_count": 12,
     "metadata": {},
     "output_type": "execute_result"
    }
   ],
   "source": [
    "from sklearn.model_selection import train_test_split\n",
    "\n",
    "seed = 222\n",
    "test_size = 0.33\n",
    "\n",
    "X_train, X_test, y_train, y_test = train_test_split(X, y, random_state=seed, test_size=test_size)\n",
    "X_train.shape, X_test.shape"
   ]
  },
  {
   "cell_type": "markdown",
   "metadata": {},
   "source": [
    "### 4. 建模"
   ]
  },
  {
   "cell_type": "code",
   "execution_count": 14,
   "metadata": {
    "ExecuteTime": {
     "end_time": "2023-03-08T14:42:28.652403Z",
     "start_time": "2023-03-08T14:42:28.443421Z"
    }
   },
   "outputs": [
    {
     "name": "stderr",
     "output_type": "stream",
     "text": [
      "C:\\Users\\aband\\AppData\\Roaming\\Python\\Python37\\site-packages\\sklearn\\linear_model\\_logistic.py:765: ConvergenceWarning: lbfgs failed to converge (status=1):\n",
      "STOP: TOTAL NO. of ITERATIONS REACHED LIMIT.\n",
      "\n",
      "Increase the number of iterations (max_iter) or scale the data as shown in:\n",
      "    https://scikit-learn.org/stable/modules/preprocessing.html\n",
      "Please also refer to the documentation for alternative solver options:\n",
      "    https://scikit-learn.org/stable/modules/linear_model.html#logistic-regression\n",
      "  extra_warning_msg=_LOGISTIC_SOLVER_CONVERGENCE_MSG)\n"
     ]
    }
   ],
   "source": [
    "from sklearn.ensemble import RandomForestClassifier\n",
    "from sklearn.linear_model import LogisticRegression\n",
    "\n",
    "rf = RandomForestClassifier().fit(X_train, y_train)\n",
    "lr = LogisticRegression().fit(X_train, y_train)"
   ]
  },
  {
   "cell_type": "markdown",
   "metadata": {},
   "source": [
    "### 5. 評估"
   ]
  },
  {
   "cell_type": "code",
   "execution_count": 16,
   "metadata": {
    "ExecuteTime": {
     "end_time": "2023-03-08T14:43:56.579411Z",
     "start_time": "2023-03-08T14:43:56.538552Z"
    }
   },
   "outputs": [
    {
     "name": "stdout",
     "output_type": "stream",
     "text": [
      "acc(rf): 0.973404255319149\n",
      "acc(lr): 0.9468085106382979\n"
     ]
    }
   ],
   "source": [
    "from sklearn.metrics import accuracy_score, confusion_matrix\n",
    "\n",
    "y_pred_rf = rf.predict(X_test)\n",
    "y_pred_lr = lr.predict(X_test)\n",
    "\n",
    "print(f\"acc(rf): {accuracy_score(y_test, y_pred_rf)}\")\n",
    "print(f\"acc(lr): {accuracy_score(y_test, y_pred_lr)}\")"
   ]
  },
  {
   "cell_type": "code",
   "execution_count": 20,
   "metadata": {
    "ExecuteTime": {
     "end_time": "2023-03-08T14:46:16.415980Z",
     "start_time": "2023-03-08T14:46:16.405983Z"
    }
   },
   "outputs": [
    {
     "data": {
      "text/plain": [
       "array([[ 70,   4],\n",
       "       [  1, 113]], dtype=int64)"
      ]
     },
     "execution_count": 20,
     "metadata": {},
     "output_type": "execute_result"
    }
   ],
   "source": [
    "cm_rf = confusion_matrix(y_test, y_pred_rf)\n",
    "cm_rf"
   ]
  },
  {
   "cell_type": "code",
   "execution_count": 21,
   "metadata": {
    "ExecuteTime": {
     "end_time": "2023-03-08T14:46:27.766098Z",
     "start_time": "2023-03-08T14:46:27.747100Z"
    }
   },
   "outputs": [
    {
     "data": {
      "text/plain": [
       "array([[ 66,   8],\n",
       "       [  2, 112]], dtype=int64)"
      ]
     },
     "execution_count": 21,
     "metadata": {},
     "output_type": "execute_result"
    }
   ],
   "source": [
    "cm_lr = confusion_matrix(y_test, y_pred_lr)\n",
    "cm_lr"
   ]
  },
  {
   "cell_type": "markdown",
   "metadata": {},
   "source": [
    "> 以acc來說rf相對較佳。"
   ]
  },
  {
   "cell_type": "code",
   "execution_count": 23,
   "metadata": {
    "ExecuteTime": {
     "end_time": "2023-03-08T14:54:37.718152Z",
     "start_time": "2023-03-08T14:54:37.691833Z"
    }
   },
   "outputs": [
    {
     "name": "stdout",
     "output_type": "stream",
     "text": [
      "預估期望利潤(rf): -18085.10638297872\n",
      "預估期望利潤(lr): -40106.3829787234\n"
     ]
    }
   ],
   "source": [
    "## 透過預期值理論評估\n",
    "\n",
    "ex_value_rf = 0\n",
    "ex_value_lr = 0\n",
    "\n",
    "for i in range(len(cost_benefit_matrix)):\n",
    "    for j in range(len(cost_benefit_matrix[0])):\n",
    "        ex_value_rf += cm_rf[i][j] *  cost_benefit_matrix[i][j] / cm_rf.sum()\n",
    "        ex_value_lr += cm_lr[i][j] * cost_benefit_matrix[i][j] / cm_lr.sum()\n",
    "\n",
    "        \n",
    "print(f\"預估期望利潤(rf): {ex_value_rf}\")\n",
    "print(f\"預估期望利潤(lr): {ex_value_lr}\")"
   ]
  },
  {
   "cell_type": "markdown",
   "metadata": {},
   "source": [
    "> 可以發現在這樣的定義下，rf一樣優於lr，但模型效果整體預期值是負的。但這只是一個簡單範例演示。"
   ]
  },
  {
   "cell_type": "markdown",
   "metadata": {},
   "source": [
    "### 6. 應用"
   ]
  },
  {
   "cell_type": "markdown",
   "metadata": {},
   "source": [
    "### 7. 結論\n",
    "- 透過預期值理論可以更好地把分類錯誤、正確的成本與模型成效掛勾，進而說服利益相關人，很推薦資料科學家/分析師使用。"
   ]
  },
  {
   "cell_type": "code",
   "execution_count": null,
   "metadata": {},
   "outputs": [],
   "source": []
  }
 ],
 "metadata": {
  "kernelspec": {
   "display_name": "Python 3",
   "language": "python",
   "name": "python3"
  },
  "language_info": {
   "codemirror_mode": {
    "name": "ipython",
    "version": 3
   },
   "file_extension": ".py",
   "mimetype": "text/x-python",
   "name": "python",
   "nbconvert_exporter": "python",
   "pygments_lexer": "ipython3",
   "version": "3.7.3"
  }
 },
 "nbformat": 4,
 "nbformat_minor": 4
}
