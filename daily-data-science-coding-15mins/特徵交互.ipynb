{
 "cells": [
  {
   "cell_type": "code",
   "execution_count": 94,
   "metadata": {
    "ExecuteTime": {
     "end_time": "2023-04-21T14:39:23.673238Z",
     "start_time": "2023-04-21T14:39:23.641245Z"
    }
   },
   "outputs": [],
   "source": [
    "import numpy as np\n",
    "import pandas as pd\n",
    "import matplotlib.pyplot as plt\n",
    "import sklearn\n",
    "from sklearn.linear_model import LinearRegression\n",
    "from sklearn.ensemble import RandomForestRegressor, GradientBoostingRegressor\n",
    "from sklearn.neighbors import KNeighborsRegressor\n",
    "from sklearn.tree import DecisionTreeRegressor\n",
    "\n",
    "from sklearn.model_selection import train_test_split\n",
    "from sklearn.preprocessing import StandardScaler\n",
    "\n",
    "from sklearn.metrics import mean_absolute_percentage_error, mean_squared_error\n",
    "from scipy.stats import ttest_ind\n",
    "\n",
    "%matplotlib inline"
   ]
  },
  {
   "cell_type": "code",
   "execution_count": 95,
   "metadata": {
    "ExecuteTime": {
     "end_time": "2023-04-21T14:39:23.968433Z",
     "start_time": "2023-04-21T14:39:23.962442Z"
    }
   },
   "outputs": [],
   "source": [
    "## 超參數 ##\n",
    "\n",
    "seed = 222"
   ]
  },
  {
   "cell_type": "code",
   "execution_count": 100,
   "metadata": {
    "ExecuteTime": {
     "end_time": "2023-04-21T14:40:15.327906Z",
     "start_time": "2023-04-21T14:40:15.301908Z"
    }
   },
   "outputs": [
    {
     "data": {
      "text/plain": [
       "(10000,)"
      ]
     },
     "execution_count": 100,
     "metadata": {},
     "output_type": "execute_result"
    }
   ],
   "source": [
    "## 創造特徵交互的資料 ##\n",
    "\n",
    "# x1 = np.random.rand(10000, 1) + 1 # +1避開0,因為想用MAPE觀察\n",
    "# x2 = np.random.rand(10000, 1) + 1\n",
    "x1 = np.random.randint(1, 10, size=(10000, 1))\n",
    "x2 = np.random.randint(1, 10, size=(10000, 1))\n",
    "x3 = np.random.rand(10000, 1) + 3\n",
    "# x4 = np.random.rand(10000, 1) + 2\n",
    "\n",
    "\n",
    "\n",
    "# 真實標籤\n",
    "# y = 3*x1 + 4*x2 + (x1*x2) * (x2**3) + (x1*x3) + (x2*x3)\n",
    "y = 3*x1 + 4*x2 #+ (x1*x2) * (x2**3) + (x1*x3) + (x2*x3)\n",
    "y = y.flatten()\n",
    "\n",
    "y.shape"
   ]
  },
  {
   "cell_type": "code",
   "execution_count": 101,
   "metadata": {
    "ExecuteTime": {
     "end_time": "2023-04-21T14:40:15.594328Z",
     "start_time": "2023-04-21T14:40:15.579291Z"
    }
   },
   "outputs": [
    {
     "name": "stdout",
     "output_type": "stream",
     "text": [
      "x.shape: (10000, 3)\n"
     ]
    }
   ],
   "source": [
    "## 整理資料 ##\n",
    "\n",
    "# concate\n",
    "x = np.concatenate((x1, x2, x3), axis=1)\n",
    "print(f'x.shape: {x.shape}')\n",
    "\n",
    "# 切分資料\n",
    "x_train, x_test, y_train, y_test = train_test_split(x, y, test_size=0.25)\n",
    "\n",
    "# 標準化: 因為資料本身來自均勻分配，不需要！"
   ]
  },
  {
   "cell_type": "code",
   "execution_count": 102,
   "metadata": {
    "ExecuteTime": {
     "end_time": "2023-04-21T14:40:16.742998Z",
     "start_time": "2023-04-21T14:40:15.859752Z"
    }
   },
   "outputs": [
    {
     "data": {
      "text/plain": [
       "GradientBoostingRegressor()"
      ]
     },
     "execution_count": 102,
     "metadata": {},
     "output_type": "execute_result"
    }
   ],
   "source": [
    "## 訓練模型 ##\n",
    "\n",
    "\n",
    "lr = LinearRegression()\n",
    "rf = RandomForestRegressor()\n",
    "dt = DecisionTreeRegressor(max_depth=5)\n",
    "gdbt = GradientBoostingRegressor()\n",
    "\n",
    "lr.fit(x_train, y_train)\n",
    "rf.fit(x_train, y_train)\n",
    "dt.fit(x_train, y_train)\n",
    "gdbt.fit(x_train, y_train)"
   ]
  },
  {
   "cell_type": "code",
   "execution_count": 103,
   "metadata": {
    "ExecuteTime": {
     "end_time": "2023-04-21T14:40:16.882607Z",
     "start_time": "2023-04-21T14:40:16.749056Z"
    }
   },
   "outputs": [
    {
     "name": "stdout",
     "output_type": "stream",
     "text": [
      "LR 訓練 mse: 2.9415541890344107e-27, mape: 1.9095484356949923e-15\n",
      "RF 訓練 mse: 0.0, mape: 0.0\n",
      "DT 訓練 mse: 4.151310218572137, mape: 0.06256624775097677\n",
      "GDBT 訓練 mse: 0.01075708011551011, mape: 0.002460783066353675\n",
      "\n",
      "LR 測試 mse: 2.936447313896918e-27, mape: 1.965514712040778e-15\n",
      "RF 測試 mse: 0.0, mape: 0.0\n",
      "DT 測試 mse: 4.302734115385284, mape: 0.06482421694092047\n",
      "GDBT 測試 mse: 0.011191071820831917, mape: 0.0026016823722905622\n"
     ]
    }
   ],
   "source": [
    "## 驗證模型效果\n",
    "\n",
    "# 訓練集: 看擬合能力\n",
    "y_train_lr = lr.predict(x_train)\n",
    "y_train_rf = rf.predict(x_train)\n",
    "y_train_dt = dt.predict(x_train)\n",
    "y_train_gdbt = gdbt.predict(x_train)\n",
    "\n",
    "\n",
    "mse_train_lr = mean_squared_error(y_train, y_train_lr)\n",
    "mse_train_rf = mean_squared_error(y_train, y_train_rf)\n",
    "mse_train_dt = mean_squared_error(y_train, y_train_dt)\n",
    "mse_train_gdbt = mean_squared_error(y_train, y_train_gdbt)\n",
    "\n",
    "mape_train_lr = mean_absolute_percentage_error(y_train, y_train_lr)\n",
    "mape_train_rf = mean_absolute_percentage_error(y_train, y_train_rf)\n",
    "mape_train_dt = mean_absolute_percentage_error(y_train, y_train_dt)\n",
    "mape_train_gdbt = mean_absolute_percentage_error(y_train, y_train_gdbt)\n",
    "\n",
    "print(f'LR 訓練 mse: {mse_train_lr}, mape: {mape_train_lr}')\n",
    "print(f'RF 訓練 mse: {mse_train_rf}, mape: {mape_train_rf}')\n",
    "print(f'DT 訓練 mse: {mse_train_dt}, mape: {mape_train_dt}')\n",
    "print(f'GDBT 訓練 mse: {mse_train_gdbt}, mape: {mape_train_gdbt}')\n",
    "\n",
    "\n",
    "# 測試集: 看泛化能力\n",
    "y_test_lr = lr.predict(x_test)\n",
    "y_test_rf = rf.predict(x_test)\n",
    "y_test_dt = dt.predict(x_test)\n",
    "y_test_gdbt = gdbt.predict(x_test)\n",
    "\n",
    "mse_test_lr = mean_squared_error(y_test, y_test_lr)\n",
    "mse_test_rf = mean_squared_error(y_test, y_test_rf)\n",
    "mse_test_dt = mean_squared_error(y_test, y_test_dt)\n",
    "mse_test_gdbt = mean_squared_error(y_test, y_test_gdbt)\n",
    "\n",
    "mape_test_lr = mean_absolute_percentage_error(y_test, y_test_lr)\n",
    "mape_test_rf = mean_absolute_percentage_error(y_test, y_test_rf)\n",
    "mape_test_dt = mean_absolute_percentage_error(y_test, y_test_dt)\n",
    "mape_test_gdbt = mean_absolute_percentage_error(y_test, y_test_gdbt)\n",
    "\n",
    "print()\n",
    "print(f'LR 測試 mse: {mse_test_lr}, mape: {mape_test_lr}')\n",
    "print(f'RF 測試 mse: {mse_test_rf}, mape: {mape_test_rf}')\n",
    "print(f'DT 測試 mse: {mse_test_dt}, mape: {mape_test_dt}')\n",
    "print(f'GDBT 測試 mse: {mse_test_gdbt}, mape: {mape_test_gdbt}')"
   ]
  },
  {
   "cell_type": "markdown",
   "metadata": {},
   "source": [
    "## 結論\n",
    "- 透過上面的 `y` 改變成不同形式\n",
    "    1. `y = 3*x1 + 4*x2 + (x1*x2) * (x2**3) + (x1*x3) + (x2*x3)`: 標籤與特徵的關係`需要`特徵之間的交互關係。\n",
    "    2. `y = 3*x1 + 4*x2 `: 標籤與特徵的關係`不需要`特徵之間的交互關係。\n",
    "- 可以從MSE、MAPE等觀察到\n",
    "    - 在`1.`的狀況下，LR非常差，而其他模型都有一些特徵交互的能力。\n",
    "    - 在`2.`的狀況下，LR的模型假設正好符合，幾乎完美解決問題。\n",
    "    \n"
   ]
  },
  {
   "cell_type": "code",
   "execution_count": null,
   "metadata": {},
   "outputs": [],
   "source": []
  }
 ],
 "metadata": {
  "kernelspec": {
   "display_name": "Python 3",
   "language": "python",
   "name": "python3"
  },
  "language_info": {
   "codemirror_mode": {
    "name": "ipython",
    "version": 3
   },
   "file_extension": ".py",
   "mimetype": "text/x-python",
   "name": "python",
   "nbconvert_exporter": "python",
   "pygments_lexer": "ipython3",
   "version": "3.7.3"
  }
 },
 "nbformat": 4,
 "nbformat_minor": 4
}
