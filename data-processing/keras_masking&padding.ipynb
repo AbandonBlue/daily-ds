{
  "nbformat": 4,
  "nbformat_minor": 0,
  "metadata": {
    "colab": {
      "name": "keras-masking&padding.ipynb",
      "provenance": [],
      "collapsed_sections": []
    },
    "kernelspec": {
      "name": "python3",
      "display_name": "Python 3"
    },
    "language_info": {
      "name": "python"
    }
  },
  "cells": [
    {
      "cell_type": "markdown",
      "metadata": {
        "id": "ysts6qv8ZUtL"
      },
      "source": [
        "## Keras - Masking & Padding, [reference](https://keras.io/guides/understanding_masking_and_padding/)\n",
        "- Masking: 常用以時間序列資料, 將某些time-step設為不可見。\n",
        "- Padding: 資料長度不一時, 模型無法使用該資料, 透過padding(pre & post)補0, 將長度補齊。\n"
      ]
    },
    {
      "cell_type": "markdown",
      "metadata": {
        "id": "vvQUf90hbCG9"
      },
      "source": [
        "## Padding"
      ]
    },
    {
      "cell_type": "code",
      "metadata": {
        "id": "hHbFYBFUZOto"
      },
      "source": [
        "# 套件 & 框架\n",
        "\n",
        "import numpy as np\n",
        "import tensorflow as tf\n",
        "from tensorflow import keras\n",
        "from tensorflow.keras import layers\n",
        "from pprint import pprint"
      ],
      "execution_count": 3,
      "outputs": []
    },
    {
      "cell_type": "code",
      "metadata": {
        "colab": {
          "base_uri": "https://localhost:8080/"
        },
        "id": "HyqxdEEWZyi7",
        "outputId": "ab0be7e5-5d72-4b15-ee4c-5fee633382ba"
      },
      "source": [
        "# Padding Sequence data\n",
        "\n",
        "\n",
        "# 原始資料, 長度不一 ---> 3, 5, 6\n",
        "seq_data = [\n",
        "    [\"Hello\", \"world\", \"!\"],\n",
        "    [\"How\", \"are\", \"you\", \"doing\", \"today\"],\n",
        "    [\"The\", \"weather\", \"will\", \"be\", \"nice\", \"tomorrow\"],\n",
        "]\n",
        "\n",
        "\n",
        "# 通常會透過vocab mapping 成 int\n",
        "seq_data = [\n",
        "  [71, 1331, 4231],\n",
        "  [73, 8, 3215, 55, 927],\n",
        "  [83, 91, 1, 645, 1253, 927],\n",
        "]\n",
        "\n",
        "# 有pre & post 兩種方法, 通常用post\n",
        "\n",
        "padding_seq_data = keras.preprocessing.sequence.pad_sequences(\n",
        "    sequences=seq_data,\n",
        "    maxlen=6,\n",
        "    padding='post',\n",
        "    value=0\n",
        ")\n",
        "\n",
        "pprint(padding_seq_data)"
      ],
      "execution_count": 4,
      "outputs": [
        {
          "output_type": "stream",
          "name": "stdout",
          "text": [
            "array([[  71, 1331, 4231,    0,    0,    0],\n",
            "       [  73,    8, 3215,   55,  927,    0],\n",
            "       [  83,   91,    1,  645, 1253,  927]], dtype=int32)\n"
          ]
        }
      ]
    },
    {
      "cell_type": "markdown",
      "metadata": {
        "id": "XqGOF1DlbEoD"
      },
      "source": [
        "## Masking\n",
        "- 有些資料需要被遮住, 可能是原先padding的部分, 或者是設定為不可見。\n",
        "- keras根據文件有3種方式\n",
        "    1. Add a **keras.layers.Masking** layer\n",
        "    2. 設定 **keras.layers.Embedding layer** with **mask_zero=True**\n",
        "    3. 手動傳遞 **mask** 參數 給layers 當這些layers有支持這個參數如(RNN) \n"
      ]
    },
    {
      "cell_type": "markdown",
      "metadata": {
        "id": "l1PpQCXdb4Qu"
      },
      "source": [
        "### Mask-generating layers: Embedding and Masking"
      ]
    },
    {
      "cell_type": "code",
      "metadata": {
        "colab": {
          "base_uri": "https://localhost:8080/"
        },
        "id": "Fp3sFomici4s",
        "outputId": "5415f302-3d20-4aa4-8b1d-08380a38b3b0"
      },
      "source": [
        "# 1. Masking layer 方式\n",
        "\n",
        "# masking layer\n",
        "masking_layer = layers.Masking()\n",
        "\n",
        "# (3, 6, 5000)\n",
        "unmasked_embedding = tf.cast(\n",
        "    tf.tile(tf.expand_dims(padding_seq_data, axis=-1), [1, 1, 5000]), tf.float32\n",
        ")\n",
        "\n",
        "# 透過masking layer 將其mask\n",
        "\n",
        "masked_embedding = masking_layer(unmasked_embedding)\n",
        "pprint(masked_embedding._keras_mask)"
      ],
      "execution_count": 16,
      "outputs": [
        {
          "output_type": "stream",
          "name": "stdout",
          "text": [
            "<tf.Tensor: shape=(3, 6), dtype=bool, numpy=\n",
            "array([[ True,  True,  True, False, False, False],\n",
            "       [ True,  True,  True,  True,  True, False],\n",
            "       [ True,  True,  True,  True,  True,  True]])>\n"
          ]
        }
      ]
    },
    {
      "cell_type": "code",
      "metadata": {
        "colab": {
          "base_uri": "https://localhost:8080/"
        },
        "id": "gf3Hax_ha_Jl",
        "outputId": "34764797-f6d2-46da-91df-95f223a03431"
      },
      "source": [
        "# 2. Embedding layer 方式\n",
        "\n",
        "embedding = layers.Embedding(\n",
        "    input_dim=5000,\n",
        "    output_dim=16,\n",
        "    mask_zero=True,     # index 0 將不會被當作一個word, 而是被當作mask\n",
        ")\n",
        "masked_output = embedding(padding_seq_data)\n",
        "\n",
        "pprint(masked_output._keras_mask)       # mask output"
      ],
      "execution_count": 14,
      "outputs": [
        {
          "output_type": "stream",
          "name": "stdout",
          "text": [
            "<tf.Tensor: shape=(3, 6), dtype=bool, numpy=\n",
            "array([[ True,  True,  True, False, False, False],\n",
            "       [ True,  True,  True,  True,  True, False],\n",
            "       [ True,  True,  True,  True,  True,  True]])>\n"
          ]
        }
      ]
    },
    {
      "cell_type": "markdown",
      "metadata": {
        "id": "2SPE_fPtfRpp"
      },
      "source": [
        "### Mask 在 keras 中, functional API 以及 sequential API 會自動導入\n"
      ]
    },
    {
      "cell_type": "code",
      "metadata": {
        "id": "ZtONYvgAddwE"
      },
      "source": [
        "# Sequential API\n",
        "\n",
        "model = keras.Sequential(\n",
        "    [layers.Embedding(input_dim=5000, output_dim=16, mask_zero=True), layers.LSTM(32),]\n",
        ")"
      ],
      "execution_count": 18,
      "outputs": []
    },
    {
      "cell_type": "code",
      "metadata": {
        "id": "MJ6Z4c2-fejR"
      },
      "source": [
        "# functional API\n",
        "\n",
        "inputs = keras.Input(shape=(None,), dtype=\"int32\")\n",
        "x = layers.Embedding(input_dim=5000, output_dim=16, mask_zero=True)(inputs)\n",
        "outputs = layers.LSTM(32)(x)\n",
        "\n",
        "model = keras.Model(inputs, outputs)"
      ],
      "execution_count": 19,
      "outputs": []
    },
    {
      "cell_type": "code",
      "metadata": {
        "colab": {
          "base_uri": "https://localhost:8080/"
        },
        "id": "ktoeWhiXfmCW",
        "outputId": "33aca3d4-3f26-445b-d141-78f61e81b464"
      },
      "source": [
        "# 3. 直接傳遞 mask tensors to layers\n",
        "\n",
        "class MyLayer(layers.Layer):\n",
        "    def __init__(self, **kwargs):\n",
        "        super(MyLayer, self).__init__(**kwargs)\n",
        "        self.embedding = layers.Embedding(input_dim=5000, output_dim=16, mask_zero=True)\n",
        "        self.lstm = layers.LSTM(32)\n",
        "\n",
        "    def call(self, inputs):\n",
        "        x = self.embedding(inputs)\n",
        "        # Note that you could also prepare a `mask` tensor manually.\n",
        "        # It only needs to be a boolean tensor\n",
        "        # with the right shape, i.e. (batch_size, timesteps).\n",
        "        mask = self.embedding.compute_mask(inputs)\n",
        "        output = self.lstm(x, mask=mask)  # The layer will ignore the masked values\n",
        "        return output\n",
        "\n",
        "\n",
        "layer = MyLayer()\n",
        "x = np.random.random((32, 10)) * 100\n",
        "x = x.astype(\"int32\")\n",
        "layer(x)"
      ],
      "execution_count": 25,
      "outputs": [
        {
          "output_type": "execute_result",
          "data": {
            "text/plain": [
              "<tf.Tensor: shape=(32, 32), dtype=float32, numpy=\n",
              "array([[-1.1599111e-04,  2.7151057e-03,  1.0948180e-03, ...,\n",
              "         7.7614915e-03,  3.8981072e-03,  2.2541845e-04],\n",
              "       [ 7.2514603e-04, -6.2782662e-03,  4.8193010e-03, ...,\n",
              "         4.9857772e-03,  3.5195216e-03,  3.1076264e-04],\n",
              "       [ 3.7625411e-03, -6.4970902e-04,  8.3045280e-03, ...,\n",
              "        -6.3242915e-04, -3.6111430e-06, -6.5170531e-03],\n",
              "       ...,\n",
              "       [-1.0724877e-03,  6.2666158e-03,  1.2149852e-03, ...,\n",
              "        -2.4524720e-03,  3.8965035e-03,  1.9770663e-03],\n",
              "       [-7.5531029e-04, -6.1248569e-03, -1.1289645e-05, ...,\n",
              "        -5.8271061e-04,  1.9159619e-03,  5.1142424e-03],\n",
              "       [ 2.8349624e-03, -6.6133598e-03, -2.9771908e-03, ...,\n",
              "         4.5597004e-03,  4.4241026e-03, -2.3988767e-03]], dtype=float32)>"
            ]
          },
          "metadata": {},
          "execution_count": 25
        }
      ]
    },
    {
      "cell_type": "markdown",
      "metadata": {
        "id": "43n_DpfIheBr"
      },
      "source": [
        "## Supporting masking in your custom layers\n",
        "- 有時候會需要去動態調整mask, 可以透過layer.compute_mask去完成"
      ]
    },
    {
      "cell_type": "code",
      "metadata": {
        "colab": {
          "base_uri": "https://localhost:8080/"
        },
        "id": "6B_jaVCJi67c",
        "outputId": "ddb19cc4-744a-4b1c-a26a-d949f2f6fa56"
      },
      "source": [
        "masked_embedding"
      ],
      "execution_count": 27,
      "outputs": [
        {
          "output_type": "execute_result",
          "data": {
            "text/plain": [
              "<tf.Tensor: shape=(3, 6, 5000), dtype=float32, numpy=\n",
              "array([[[7.100e+01, 7.100e+01, 7.100e+01, ..., 7.100e+01, 7.100e+01,\n",
              "         7.100e+01],\n",
              "        [1.331e+03, 1.331e+03, 1.331e+03, ..., 1.331e+03, 1.331e+03,\n",
              "         1.331e+03],\n",
              "        [4.231e+03, 4.231e+03, 4.231e+03, ..., 4.231e+03, 4.231e+03,\n",
              "         4.231e+03],\n",
              "        [0.000e+00, 0.000e+00, 0.000e+00, ..., 0.000e+00, 0.000e+00,\n",
              "         0.000e+00],\n",
              "        [0.000e+00, 0.000e+00, 0.000e+00, ..., 0.000e+00, 0.000e+00,\n",
              "         0.000e+00],\n",
              "        [0.000e+00, 0.000e+00, 0.000e+00, ..., 0.000e+00, 0.000e+00,\n",
              "         0.000e+00]],\n",
              "\n",
              "       [[7.300e+01, 7.300e+01, 7.300e+01, ..., 7.300e+01, 7.300e+01,\n",
              "         7.300e+01],\n",
              "        [8.000e+00, 8.000e+00, 8.000e+00, ..., 8.000e+00, 8.000e+00,\n",
              "         8.000e+00],\n",
              "        [3.215e+03, 3.215e+03, 3.215e+03, ..., 3.215e+03, 3.215e+03,\n",
              "         3.215e+03],\n",
              "        [5.500e+01, 5.500e+01, 5.500e+01, ..., 5.500e+01, 5.500e+01,\n",
              "         5.500e+01],\n",
              "        [9.270e+02, 9.270e+02, 9.270e+02, ..., 9.270e+02, 9.270e+02,\n",
              "         9.270e+02],\n",
              "        [0.000e+00, 0.000e+00, 0.000e+00, ..., 0.000e+00, 0.000e+00,\n",
              "         0.000e+00]],\n",
              "\n",
              "       [[8.300e+01, 8.300e+01, 8.300e+01, ..., 8.300e+01, 8.300e+01,\n",
              "         8.300e+01],\n",
              "        [9.100e+01, 9.100e+01, 9.100e+01, ..., 9.100e+01, 9.100e+01,\n",
              "         9.100e+01],\n",
              "        [1.000e+00, 1.000e+00, 1.000e+00, ..., 1.000e+00, 1.000e+00,\n",
              "         1.000e+00],\n",
              "        [6.450e+02, 6.450e+02, 6.450e+02, ..., 6.450e+02, 6.450e+02,\n",
              "         6.450e+02],\n",
              "        [1.253e+03, 1.253e+03, 1.253e+03, ..., 1.253e+03, 1.253e+03,\n",
              "         1.253e+03],\n",
              "        [9.270e+02, 9.270e+02, 9.270e+02, ..., 9.270e+02, 9.270e+02,\n",
              "         9.270e+02]]], dtype=float32)>"
            ]
          },
          "metadata": {},
          "execution_count": 27
        }
      ]
    },
    {
      "cell_type": "code",
      "metadata": {
        "colab": {
          "base_uri": "https://localhost:8080/"
        },
        "id": "hD6OPoQCjZDU",
        "outputId": "572069dc-efd2-4130-cfdc-5db5150a8ec8"
      },
      "source": [
        "pprint(masked_embedding._keras_mask)"
      ],
      "execution_count": 29,
      "outputs": [
        {
          "output_type": "stream",
          "name": "stdout",
          "text": [
            "<tf.Tensor: shape=(3, 6), dtype=bool, numpy=\n",
            "array([[ True,  True,  True, False, False, False],\n",
            "       [ True,  True,  True,  True,  True, False],\n",
            "       [ True,  True,  True,  True,  True,  True]])>\n"
          ]
        }
      ]
    },
    {
      "cell_type": "code",
      "metadata": {
        "colab": {
          "base_uri": "https://localhost:8080/"
        },
        "id": "AE-pGCmLgHhT",
        "outputId": "f704e78d-66a0-4884-dd9d-73cf3a909080"
      },
      "source": [
        "# 範例\n",
        "\n",
        "class TemporalSplit(layers.Layer):\n",
        "    \"\"\" 將input tensor 沿著 time dimension 切割成 2個 tensors \"\"\"\n",
        "\n",
        "    def call(self, inputs):\n",
        "        # \n",
        "        return tf.split(\n",
        "            value=inputs,\n",
        "            num_or_size_splits=2,       # 當此參數為int, 會將value 沿著 axis 切割成此等分(2)。\n",
        "            axis=1,\n",
        "        )\n",
        "    \n",
        "    # override\n",
        "    def compute_mask(self, inputs, mask=None):\n",
        "        if mask is None:\n",
        "            return None\n",
        "        return tf.split(mask, 2, axis=1)\n",
        "\n",
        "\n",
        "\n",
        "# mask_embedding -> (3, 6, 5000) == (batch, time_stamp, vocab_size)\n",
        "f, s = TemporalSplit()(masked_embedding)\n",
        "pprint(f._keras_mask)\n",
        "pprint(s._keras_mask)"
      ],
      "execution_count": 28,
      "outputs": [
        {
          "output_type": "stream",
          "name": "stdout",
          "text": [
            "<tf.Tensor: shape=(3, 3), dtype=bool, numpy=\n",
            "array([[ True,  True,  True],\n",
            "       [ True,  True,  True],\n",
            "       [ True,  True,  True]])>\n",
            "<tf.Tensor: shape=(3, 3), dtype=bool, numpy=\n",
            "array([[False, False, False],\n",
            "       [ True,  True, False],\n",
            "       [ True,  True,  True]])>\n"
          ]
        }
      ]
    },
    {
      "cell_type": "code",
      "metadata": {
        "id": "0JYj6o0njWzA"
      },
      "source": [
        ""
      ],
      "execution_count": null,
      "outputs": []
    }
  ]
}