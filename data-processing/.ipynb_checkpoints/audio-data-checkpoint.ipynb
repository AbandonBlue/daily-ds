{
 "cells": [
  {
   "cell_type": "code",
   "execution_count": 1,
   "metadata": {
    "ExecuteTime": {
     "end_time": "2021-08-16T04:09:44.274371Z",
     "start_time": "2021-08-16T04:09:08.875702Z"
    }
   },
   "outputs": [],
   "source": [
    "import tensorflow as tf\n",
    "from tensorflow import keras\n",
    "from tensorflow.keras import layers"
   ]
  },
  {
   "cell_type": "code",
   "execution_count": 2,
   "metadata": {
    "ExecuteTime": {
     "end_time": "2021-08-16T04:09:44.305164Z",
     "start_time": "2021-08-16T04:09:44.286602Z"
    }
   },
   "outputs": [],
   "source": [
    "import os"
   ]
  },
  {
   "cell_type": "code",
   "execution_count": 3,
   "metadata": {
    "ExecuteTime": {
     "end_time": "2021-08-16T04:09:44.383319Z",
     "start_time": "2021-08-16T04:09:44.318446Z"
    }
   },
   "outputs": [
    {
     "data": {
      "text/plain": [
       "['.git',\n",
       " '.gitignore',\n",
       " '16000_pcm_speeches',\n",
       " 'auto',\n",
       " 'data-processing',\n",
       " 'design-pattern',\n",
       " 'model',\n",
       " 'README.md',\n",
       " 'rs',\n",
       " 'statstics',\n",
       " 'web-scraping']"
      ]
     },
     "execution_count": 3,
     "metadata": {},
     "output_type": "execute_result"
    }
   ],
   "source": [
    "os.listdir('..')"
   ]
  },
  {
   "cell_type": "code",
   "execution_count": 27,
   "metadata": {
    "ExecuteTime": {
     "end_time": "2021-08-16T04:25:09.467594Z",
     "start_time": "2021-08-16T04:25:09.455596Z"
    }
   },
   "outputs": [],
   "source": [
    "def read_audio_from_wav(path, is_print=False):\n",
    "    sample, sampling_rate = tf.audio.decode_wav(\n",
    "        contents=tf.io.read_file(path),\n",
    "        desired_channels=1\n",
    "    )\n",
    "    if is_print:\n",
    "        print(f'{path} shape: {sample.shape}')\n",
    "        print(f'採樣率: {sampling_rate.numpy()}')\n",
    "    return sample, sampling_rate"
   ]
  },
  {
   "cell_type": "code",
   "execution_count": 28,
   "metadata": {
    "ExecuteTime": {
     "end_time": "2021-08-16T04:25:10.282351Z",
     "start_time": "2021-08-16T04:25:10.269350Z"
    }
   },
   "outputs": [],
   "source": [
    "# 讀取wav檔案\n",
    "wav_file = '../16000_pcm_speeches/Benjamin_Netanyau/1.wav'\n",
    "\n",
    "sample, sampling_rate = tf.audio.decode_wav(contents=tf.io.read_file(wav_file), desired_channels=1)"
   ]
  },
  {
   "cell_type": "code",
   "execution_count": 29,
   "metadata": {
    "ExecuteTime": {
     "end_time": "2021-08-16T04:25:16.325347Z",
     "start_time": "2021-08-16T04:25:16.318084Z"
    }
   },
   "outputs": [
    {
     "data": {
      "text/plain": [
       "<tf.Tensor: shape=(16000, 1), dtype=float32, numpy=\n",
       "array([[ 0.00396729],\n",
       "       [-0.00119019],\n",
       "       [-0.00973511],\n",
       "       ...,\n",
       "       [ 0.20730591],\n",
       "       [ 0.18551636],\n",
       "       [ 0.1104126 ]], dtype=float32)>"
      ]
     },
     "execution_count": 29,
     "metadata": {},
     "output_type": "execute_result"
    }
   ],
   "source": [
    "sample"
   ]
  },
  {
   "cell_type": "code",
   "execution_count": 30,
   "metadata": {
    "ExecuteTime": {
     "end_time": "2021-08-16T04:25:16.901364Z",
     "start_time": "2021-08-16T04:25:16.884207Z"
    }
   },
   "outputs": [
    {
     "data": {
      "text/plain": [
       "<tf.Tensor: shape=(), dtype=int32, numpy=16000>"
      ]
     },
     "execution_count": 30,
     "metadata": {},
     "output_type": "execute_result"
    }
   ],
   "source": [
    "sampling_rate"
   ]
  },
  {
   "cell_type": "code",
   "execution_count": 31,
   "metadata": {
    "ExecuteTime": {
     "end_time": "2021-08-16T04:25:17.837517Z",
     "start_time": "2021-08-16T04:25:17.785520Z"
    }
   },
   "outputs": [
    {
     "name": "stdout",
     "output_type": "stream",
     "text": [
      "bird_sing.wav shape: (1140472, 1)\n",
      "採樣率: 44100\n"
     ]
    },
    {
     "data": {
      "text/plain": [
       "(<tf.Tensor: shape=(1140472, 1), dtype=float32, numpy=\n",
       " array([[-3.0517578e-05],\n",
       "        [-3.0517578e-05],\n",
       "        [-3.0517578e-05],\n",
       "        ...,\n",
       "        [-3.0517578e-05],\n",
       "        [-3.0517578e-05],\n",
       "        [ 0.0000000e+00]], dtype=float32)>,\n",
       " <tf.Tensor: shape=(), dtype=int32, numpy=44100>)"
      ]
     },
     "execution_count": 31,
     "metadata": {},
     "output_type": "execute_result"
    }
   ],
   "source": [
    "read_audio_from_wav('bird_sing.wav', True)"
   ]
  },
  {
   "cell_type": "code",
   "execution_count": 32,
   "metadata": {
    "ExecuteTime": {
     "end_time": "2021-08-16T04:25:20.896123Z",
     "start_time": "2021-08-16T04:25:20.883125Z"
    }
   },
   "outputs": [
    {
     "data": {
      "text/plain": [
       "25"
      ]
     },
     "execution_count": 32,
     "metadata": {},
     "output_type": "execute_result"
    }
   ],
   "source": [
    "# 秒數\n",
    "1140472 // 44100"
   ]
  },
  {
   "cell_type": "code",
   "execution_count": 33,
   "metadata": {
    "ExecuteTime": {
     "end_time": "2021-08-16T04:25:22.018530Z",
     "start_time": "2021-08-16T04:25:21.994531Z"
    }
   },
   "outputs": [
    {
     "name": "stdout",
     "output_type": "stream",
     "text": [
      "../16000_pcm_speeches/Benjamin_Netanyau/1.wav shape: (16000, 1)\n",
      "採樣率: 16000\n"
     ]
    },
    {
     "data": {
      "text/plain": [
       "(<tf.Tensor: shape=(16000, 1), dtype=float32, numpy=\n",
       " array([[ 0.00396729],\n",
       "        [-0.00119019],\n",
       "        [-0.00973511],\n",
       "        ...,\n",
       "        [ 0.20730591],\n",
       "        [ 0.18551636],\n",
       "        [ 0.1104126 ]], dtype=float32)>,\n",
       " <tf.Tensor: shape=(), dtype=int32, numpy=16000>)"
      ]
     },
     "execution_count": 33,
     "metadata": {},
     "output_type": "execute_result"
    }
   ],
   "source": [
    "read_audio_from_wav(wav_file, True)"
   ]
  },
  {
   "cell_type": "code",
   "execution_count": 35,
   "metadata": {
    "ExecuteTime": {
     "end_time": "2021-08-16T04:28:37.786127Z",
     "start_time": "2021-08-16T04:28:37.710134Z"
    }
   },
   "outputs": [
    {
     "name": "stdout",
     "output_type": "stream",
     "text": [
      "bird_sing.wav shape: (1140472, 1)\n",
      "採樣率: 44100\n"
     ]
    }
   ],
   "source": [
    "audio, _ = read_audio_from_wav('bird_sing.wav', True)\n",
    "sample_rate = 16000\n",
    "\n",
    "wav_string = tf.audio.encode_wav(\n",
    "    audio, sample_rate, name='bird_sing_16000.wav'\n",
    ")"
   ]
  },
  {
   "cell_type": "code",
   "execution_count": 40,
   "metadata": {
    "ExecuteTime": {
     "end_time": "2021-08-16T04:37:46.416117Z",
     "start_time": "2021-08-16T04:37:46.394073Z"
    }
   },
   "outputs": [
    {
     "data": {
      "text/plain": [
       "DecodeWav(audio=<tf.Tensor: shape=(1140472, 1), dtype=float32, numpy=\n",
       "array([[-3.0517578e-05],\n",
       "       [-3.0517578e-05],\n",
       "       [-3.0517578e-05],\n",
       "       ...,\n",
       "       [-3.0517578e-05],\n",
       "       [-3.0517578e-05],\n",
       "       [ 0.0000000e+00]], dtype=float32)>, sample_rate=<tf.Tensor: shape=(), dtype=int32, numpy=16000>)"
      ]
     },
     "execution_count": 40,
     "metadata": {},
     "output_type": "execute_result"
    }
   ],
   "source": [
    "# 上面取得的wav_string可以透過decode去轉換成float\n",
    "# 可以發現samling_rate=16000\n",
    "\n",
    "tf.audio.decode_wav(wav_string)"
   ]
  },
  {
   "cell_type": "code",
   "execution_count": 45,
   "metadata": {
    "ExecuteTime": {
     "end_time": "2021-08-16T04:45:56.690289Z",
     "start_time": "2021-08-16T04:45:56.579768Z"
    }
   },
   "outputs": [
    {
     "name": "stdout",
     "output_type": "stream",
     "text": [
      "採樣率轉換: 44100 -> 16000\n"
     ]
    },
    {
     "data": {
      "text/plain": [
       "(<tf.Tensor: shape=(1140472, 1), dtype=float32, numpy=\n",
       " array([[-3.0517578e-05],\n",
       "        [-3.0517578e-05],\n",
       "        [-3.0517578e-05],\n",
       "        ...,\n",
       "        [-3.0517578e-05],\n",
       "        [-3.0517578e-05],\n",
       "        [ 0.0000000e+00]], dtype=float32)>,\n",
       " <tf.Tensor: shape=(), dtype=int32, numpy=16000>)"
      ]
     },
     "execution_count": 45,
     "metadata": {},
     "output_type": "execute_result"
    }
   ],
   "source": [
    "# 轉換sampling rate\n",
    "\n",
    "def tranform_sampling_rate(path, sampling_rate):\n",
    "    audio, s = tf.audio.decode_wav(\n",
    "        tf.io.read_file(path),\n",
    "        desired_channels=1\n",
    "    )\n",
    "    wav_string = tf.audio.encode_wav(audio, sampling_rate)\n",
    "    new_audio, new_s = tf.audio.decode_wav(\n",
    "        wav_string\n",
    "    )\n",
    "    print(f'採樣率轉換: {s.numpy()} -> {new_s.numpy()}')\n",
    "\n",
    "    return new_audio, new_s\n",
    "    \n",
    "    \n",
    "tranform_sampling_rate('bird_sing.wav', 16000)"
   ]
  },
  {
   "cell_type": "code",
   "execution_count": null,
   "metadata": {},
   "outputs": [],
   "source": []
  }
 ],
 "metadata": {
  "kernelspec": {
   "display_name": "Python 3.7.3 64-bit",
   "language": "python",
   "name": "python37364bit6893c7013b164b1189a865dcaea9fb2f"
  },
  "language_info": {
   "codemirror_mode": {
    "name": "ipython",
    "version": 3
   },
   "file_extension": ".py",
   "mimetype": "text/x-python",
   "name": "python",
   "nbconvert_exporter": "python",
   "pygments_lexer": "ipython3",
   "version": "3.7.3"
  }
 },
 "nbformat": 4,
 "nbformat_minor": 4
}
