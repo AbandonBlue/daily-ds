{
 "cells": [
  {
   "cell_type": "markdown",
   "metadata": {},
   "source": [
    "## Data Shift\n",
    "- 資料集分布發生改變，真實世界非常常見，通常會透過偵測去即時通知，減少實務上的成本消耗。\n",
    "- 類型\n",
    "    - Convariate shift\n",
    "    - Prior probability shift\n",
    "    - Concept drift"
   ]
  },
  {
   "cell_type": "markdown",
   "metadata": {},
   "source": [
    "### Convariate shift\n",
    "公式定義\n",
    "$$P(Y|X)_{train} = P(Y|X)_{test}, but P(X)_{train} \\neq P(X)_{test}$$\n",
    "步驟\n",
    "1. 將資料集各自加上新的變數['is_train'] = 1 / 0\n",
    "2. 將資料集訓練與測試集合併 並且shuffle\n",
    "3. 將資料集切分成train/test\n",
    "4. for loop 每一個特徵當作輸入建立一個分類模型去預測 is_train\n",
    "    - 4-1. 訓練\n",
    "    - 4-2. 計算AUC\n",
    "    - 4-3. 透過AUC去判斷一個threshold, 如0.8, 如果超過就是有data shift\n",
    " "
   ]
  },
  {
   "cell_type": "code",
   "execution_count": 1,
   "metadata": {
    "ExecuteTime": {
     "end_time": "2021-11-13T02:43:45.510249Z",
     "start_time": "2021-11-13T02:43:28.230153Z"
    }
   },
   "outputs": [],
   "source": [
    "import numpy as np\n",
    "import pandas as pd\n",
    "from sklearn.datasets import load_boston\n",
    "from sklearn.ensemble import RandomForestClassifier\n",
    "from sklearn.model_selection import train_test_split\n",
    "from sklearn.metrics import auc, accuracy_score, roc_auc_score, roc_curve\n",
    "from pprint import pprint"
   ]
  },
  {
   "cell_type": "code",
   "execution_count": 4,
   "metadata": {
    "ExecuteTime": {
     "end_time": "2021-11-13T02:53:07.071389Z",
     "start_time": "2021-11-13T02:53:06.981392Z"
    }
   },
   "outputs": [
    {
     "name": "stdout",
     "output_type": "stream",
     "text": [
      "(506, 13)\n",
      "(506,)\n",
      "dict_keys(['data', 'target', 'feature_names', 'DESCR', 'filename'])\n",
      "         CRIM    ZN  INDUS  CHAS    NOX     RM    AGE     DIS   RAD    TAX  \\\n",
      "22    1.23247   0.0   8.14   0.0  0.538  6.142   91.7  3.9769   4.0  307.0   \n",
      "213   0.14052   0.0  10.59   0.0  0.489  6.375   32.3  3.9454   4.0  277.0   \n",
      "456   4.66883   0.0  18.10   0.0  0.713  5.976   87.9  2.5806  24.0  666.0   \n",
      "400  25.04610   0.0  18.10   0.0  0.693  5.987  100.0  1.5888  24.0  666.0   \n",
      "39    0.02763  75.0   2.95   0.0  0.428  6.595   21.8  5.4011   3.0  252.0   \n",
      "..        ...   ...    ...   ...    ...    ...    ...     ...   ...    ...   \n",
      "115   0.17134   0.0  10.01   0.0  0.547  5.928   88.2  2.4631   6.0  432.0   \n",
      "185   0.06047   0.0   2.46   0.0  0.488  6.153   68.8  3.2797   3.0  193.0   \n",
      "153   2.14918   0.0  19.58   0.0  0.871  5.709   98.5  1.6232   5.0  403.0   \n",
      "137   0.35233   0.0  21.89   0.0  0.624  6.454   98.4  1.8498   4.0  437.0   \n",
      "290   0.03502  80.0   4.95   0.0  0.411  6.861   27.9  5.1167   4.0  245.0   \n",
      "\n",
      "     PTRATIO       B  LSTAT  target  is_train  \n",
      "22      21.0  396.90  18.72    15.2         1  \n",
      "213     18.6  385.81   9.38    28.1         1  \n",
      "456     20.2   10.48  19.01    12.7         1  \n",
      "400     20.2  396.90  26.77     5.6         1  \n",
      "39      18.3  395.63   4.32    30.8         1  \n",
      "..       ...     ...    ...     ...       ...  \n",
      "115     17.8  344.91  15.76    18.3         0  \n",
      "185     17.8  387.11  13.15    29.6         0  \n",
      "153     14.7  261.95  15.79    19.4         0  \n",
      "137     21.2  394.08  14.59    17.1         0  \n",
      "290     19.2  396.90   3.33    28.5         0  \n",
      "\n",
      "[506 rows x 15 columns]\n",
      "         CRIM    ZN  INDUS  CHAS    NOX     RM   AGE     DIS   RAD    TAX  \\\n",
      "84    0.05059   0.0   4.49   0.0  0.449  6.389  48.0  4.7794   3.0  247.0   \n",
      "505   0.04741   0.0  11.93   0.0  0.573  6.030  80.8  2.5050   1.0  273.0   \n",
      "29    1.00245   0.0   8.14   0.0  0.538  6.674  87.3  4.2390   4.0  307.0   \n",
      "59    0.10328  25.0   5.13   0.0  0.453  5.927  47.2  6.9320   8.0  284.0   \n",
      "289   0.04297  52.5   5.32   0.0  0.405  6.565  22.9  7.3172   6.0  293.0   \n",
      "..        ...   ...    ...   ...    ...    ...   ...     ...   ...    ...   \n",
      "87    0.07151   0.0   4.49   0.0  0.449  6.121  56.8  3.7476   3.0  247.0   \n",
      "385  16.81180   0.0  18.10   0.0  0.700  5.277  98.1  1.4261  24.0  666.0   \n",
      "99    0.06860   0.0   2.89   0.0  0.445  7.416  62.5  3.4952   2.0  276.0   \n",
      "369   5.66998   0.0  18.10   1.0  0.631  6.683  96.8  1.3567  24.0  666.0   \n",
      "319   0.47547   0.0   9.90   0.0  0.544  6.113  58.8  4.0019   4.0  304.0   \n",
      "\n",
      "     PTRATIO       B  LSTAT  target  is_train  \n",
      "84      18.5  396.90   9.62    23.9         1  \n",
      "505     21.0  396.90   7.88    11.9         1  \n",
      "29      21.0  380.23  11.98    21.0         1  \n",
      "59      19.7  396.90   9.22    19.6         1  \n",
      "289     16.6  371.72   9.51    24.8         0  \n",
      "..       ...     ...    ...     ...       ...  \n",
      "87      18.5  395.15   8.44    22.2         1  \n",
      "385     20.2  396.90  30.81     7.2         1  \n",
      "99      18.0  396.90   6.19    33.2         1  \n",
      "369     20.2  375.33   3.73    50.0         1  \n",
      "319     18.4  396.23  12.73    21.0         1  \n",
      "\n",
      "[506 rows x 15 columns]\n"
     ]
    }
   ],
   "source": [
    "# 使用隨機森林，因為簡單不用標準化，方便\n",
    "\n",
    "\n",
    "data = load_boston(return_X_y=False)\n",
    "# print(x.shape, y.shape)\n",
    "print(data['data'].shape)\n",
    "print(data['target'].shape)\n",
    "print(data.keys())\n",
    "\n",
    "df = pd.DataFrame(data=np.concatenate((data['data'], data['target'].reshape(-1,  1)), axis=1), columns=data['feature_names'].tolist()+['target'])\n",
    "\n",
    "\n",
    "# 1. 加上新變數 is_train, 這邊的例子我先打散一次，再把前面80%當做train, 後20%當做test\n",
    "num = int(len(df) * 0.8)\n",
    "\n",
    "df = df.sample(frac=1)\n",
    "label = [1 for _ in range(num)] + [0 for _ in range(len(df)-num)]\n",
    "df['is_train'] = label\n",
    "print(df)\n",
    "\n",
    "\n",
    "# 2. shuffle\n",
    "df = df.sample(frac=1)\n",
    "print(df)\n",
    "\n",
    "\n",
    "# 3. 切分成train/test\n",
    "X_train, X_test, y_train, y_test = train_test_split(df.iloc[:, :-1], df.iloc[:, -1], test_size=0.2, random_state=42)"
   ]
  },
  {
   "cell_type": "code",
   "execution_count": 5,
   "metadata": {
    "ExecuteTime": {
     "end_time": "2021-11-13T02:53:10.310820Z",
     "start_time": "2021-11-13T02:53:07.766463Z"
    }
   },
   "outputs": [
    {
     "name": "stdout",
     "output_type": "stream",
     "text": [
      "{'AGE': {'acc_test': 0.6764705882352942, 'auc_test': 0.2883874518436984},\n",
      " 'B': {'acc_test': 0.7450980392156863, 'auc_test': 0.6576774903687397},\n",
      " 'CHAS': {'acc_test': 0.7745098039215687, 'auc_test': 0.48183819482663737},\n",
      " 'CRIM': {'acc_test': 0.696078431372549, 'auc_test': 0.5476059438635112},\n",
      " 'DIS': {'acc_test': 0.696078431372549, 'auc_test': 0.5465052283984589},\n",
      " 'INDUS': {'acc_test': 0.7647058823529411, 'auc_test': 0.4479911942762796},\n",
      " 'LSTAT': {'acc_test': 0.696078431372549, 'auc_test': 0.5701706108970831},\n",
      " 'NOX': {'acc_test': 0.7745098039215687, 'auc_test': 0.5253164556962026},\n",
      " 'PTRATIO': {'acc_test': 0.7941176470588235, 'auc_test': 0.5140341221794167},\n",
      " 'RAD': {'acc_test': 0.7745098039215687, 'auc_test': 0.4722069345074299},\n",
      " 'RM': {'acc_test': 0.6764705882352942, 'auc_test': 0.5324711062190424},\n",
      " 'TAX': {'acc_test': 0.7450980392156863, 'auc_test': 0.538800220143093},\n",
      " 'ZN': {'acc_test': 0.7745098039215687, 'auc_test': 0.4625756741882223},\n",
      " 'target': {'acc_test': 0.6274509803921569, 'auc_test': 0.43285635663181066}}\n"
     ]
    }
   ],
   "source": [
    "# 4. 透過每一個特徵去預測\n",
    "\n",
    "d = {}\n",
    "\n",
    "for i in range(len(X_train.columns)):\n",
    "    x = X_train.iloc[:, i:i+1] # 這樣寫才會是2-d\n",
    "    rf = RandomForestClassifier()\n",
    "    rf.fit(x, y_train)\n",
    "    y_pred = rf.predict(x)     # 類別\n",
    "    y_test_pred = rf.predict(X_test.iloc[:, i:i+1])\n",
    "        \n",
    "    acc_train = accuracy_score(y_train, y_pred)\n",
    "    auc_train = roc_auc_score(y_train, rf.predict_proba(x)[:, 1])\n",
    "    \n",
    "    acc_test = accuracy_score(y_test, y_test_pred)\n",
    "    auc_test = roc_auc_score(y_test, rf.predict_proba(X_test.iloc[:, i:i+1])[:, 1])\n",
    "    d[X_train.columns[i]] = {\n",
    "        #'acc_train': acc_train,\n",
    "        'acc_test': acc_test,\n",
    "        #'auc_train': auc_train,\n",
    "        'auc_test': auc_test\n",
    "    }\n",
    "\n",
    "pprint(d)"
   ]
  },
  {
   "cell_type": "code",
   "execution_count": null,
   "metadata": {},
   "outputs": [],
   "source": [
    "def check_data_shift(x_train, y_train, x_test, y_test, s_type='convariate shift') -> dict:\n",
    "    \"\"\"\n",
    "        將上述過程包裝成可重複利用的function\n",
    "        *先想輸入輸出，也許先把其他種寫好再說\n",
    "    \"\"\"\n",
    "    if s_type == 'convariate shift':\n",
    "        x_train['is_train'] = 1\n",
    "        x_test['is_train'] = 0\n",
    "        X = x_train.append(x_test, ignore_index=True)\n",
    "        y = y_train.append(y_test, ingore_index=True)\n",
    "        "
   ]
  },
  {
   "cell_type": "markdown",
   "metadata": {},
   "source": [
    "### Prior probability shift\n",
    "公式定義\n",
    "$$P(X|Y)_{train} = P(X|Y)_{test}, but P(Y)_{train} \\neq P(Y)_{test}$$\n",
    "步驟\n",
    "1. 計算訓練、測試集的各自的類別機率\n",
    "2. 透過ANOVA、T-test 去檢驗是否有顯著差異\n",
    "    - Yes -> 拒絕$H_{0}$, 代表有 Prior probability shift\n",
    "    - No  -> 不拒絕$H_{0}$, 代表 沒有 Prior probality shift"
   ]
  },
  {
   "cell_type": "code",
   "execution_count": 65,
   "metadata": {
    "ExecuteTime": {
     "end_time": "2021-11-13T18:13:20.570626Z",
     "start_time": "2021-11-13T18:13:20.521625Z"
    }
   },
   "outputs": [
    {
     "name": "stdout",
     "output_type": "stream",
     "text": [
      "(426,) (143,)\n"
     ]
    }
   ],
   "source": [
    "from sklearn.datasets import load_breast_cancer\n",
    "\n",
    "X, y = load_breast_cancer(return_X_y=True, as_frame=True)\n",
    "# print(X)\n",
    "# print(y)\n",
    "\n",
    "x_train, x_test, y_train, y_test = train_test_split(X, y, test_size=0.25, random_state=6)\n",
    "print(y_train.shape, y_test.shape)"
   ]
  },
  {
   "cell_type": "code",
   "execution_count": 66,
   "metadata": {
    "ExecuteTime": {
     "end_time": "2021-11-13T18:13:20.758690Z",
     "start_time": "2021-11-13T18:13:20.748691Z"
    }
   },
   "outputs": [
    {
     "name": "stdout",
     "output_type": "stream",
     "text": [
      "0.6572769953051644 0.5384615384615384\n"
     ]
    }
   ],
   "source": [
    "# 1. 計算P(Y)\n",
    "\n",
    "py_train = (y_train == 1).sum() / len(y_train)\n",
    "py_test = (y_test == 1).sum() / len(y_test)\n",
    "\n",
    "print(py_train, py_test)"
   ]
  },
  {
   "cell_type": "code",
   "execution_count": 67,
   "metadata": {
    "ExecuteTime": {
     "end_time": "2021-11-13T18:13:20.932541Z",
     "start_time": "2021-11-13T18:13:20.925539Z"
    }
   },
   "outputs": [
    {
     "name": "stdout",
     "output_type": "stream",
     "text": [
      "0.010946905364189472\n",
      "2.5527999897365663\n"
     ]
    }
   ],
   "source": [
    "from scipy.stats import ttest_ind\n",
    "\n",
    "# 2. t-test\n",
    "\n",
    "result = ttest_ind(y_train, y_test)\n",
    "print(result.pvalue)\n",
    "print(result.statistic)"
   ]
  },
  {
   "cell_type": "markdown",
   "metadata": {},
   "source": [
    "> 透過將random_state設定，找到P(Y)是有差距的樣本，可以去發現其$p_{value}$ < 0.05, 是拒絕$H_{0}$的，有產生data shift"
   ]
  },
  {
   "cell_type": "code",
   "execution_count": 68,
   "metadata": {
    "ExecuteTime": {
     "end_time": "2021-11-13T18:13:24.007483Z",
     "start_time": "2021-11-13T18:13:23.793452Z"
    }
   },
   "outputs": [
    {
     "name": "stdout",
     "output_type": "stream",
     "text": [
      "1.0 0.958041958041958\n"
     ]
    }
   ],
   "source": [
    "# 此時透過模型去預測看看\n",
    "\n",
    "rf = RandomForestClassifier()\n",
    "rf.fit(x_train, y_train)\n",
    "y_pred = rf.predict(x_train)\n",
    "acc_train = accuracy_score(y_train, y_pred)\n",
    "\n",
    "y_pred_test= rf.predict(x_test)\n",
    "acc_test = accuracy_score(y_test, y_pred_test)\n",
    "\n",
    "print(acc_train, acc_test)"
   ]
  },
  {
   "cell_type": "code",
   "execution_count": null,
   "metadata": {},
   "outputs": [],
   "source": []
  }
 ],
 "metadata": {
  "kernelspec": {
   "display_name": "Python 3.7.3 64-bit",
   "language": "python",
   "name": "python37364bit6893c7013b164b1189a865dcaea9fb2f"
  },
  "language_info": {
   "codemirror_mode": {
    "name": "ipython",
    "version": 3
   },
   "file_extension": ".py",
   "mimetype": "text/x-python",
   "name": "python",
   "nbconvert_exporter": "python",
   "pygments_lexer": "ipython3",
   "version": "3.7.3"
  }
 },
 "nbformat": 4,
 "nbformat_minor": 4
}
