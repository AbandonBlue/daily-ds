{
  "nbformat": 4,
  "nbformat_minor": 0,
  "metadata": {
    "colab": {
      "name": "Bidirectional 序列模型 on IMDN",
      "provenance": []
    },
    "kernelspec": {
      "name": "python3",
      "display_name": "Python 3"
    },
    "language_info": {
      "name": "python"
    },
    "accelerator": "GPU"
  },
  "cells": [
    {
      "cell_type": "code",
      "metadata": {
        "id": "IN2UtLYF5r7f"
      },
      "source": [
        "import tensorflow as tf\n",
        "from tensorflow import keras\n",
        "from tensorflow.keras import layers\n",
        "import numpy as np"
      ],
      "execution_count": 2,
      "outputs": []
    },
    {
      "cell_type": "code",
      "metadata": {
        "id": "QPdp20Gw9D4T"
      },
      "source": [
        "max_tokens = 20000\n",
        "maxlen = 200"
      ],
      "execution_count": 3,
      "outputs": []
    },
    {
      "cell_type": "code",
      "metadata": {
        "colab": {
          "base_uri": "https://localhost:8080/"
        },
        "id": "OSWPAXhC_e_4",
        "outputId": "1bbe5361-d85c-411e-ef90-c6e2e6cd9ca3"
      },
      "source": [
        "# datasets\n",
        "\n",
        "(x_train, y_train), (x_test, y_test) = keras.datasets.imdb.load_data(num_words=max_tokens)\n",
        "\n",
        "x_train.shape, y_train.shape, x_test.shape, y_test.shape"
      ],
      "execution_count": 5,
      "outputs": [
        {
          "output_type": "stream",
          "text": [
            "Downloading data from https://storage.googleapis.com/tensorflow/tf-keras-datasets/imdb.npz\n",
            "17465344/17464789 [==============================] - 1s 0us/step\n"
          ],
          "name": "stdout"
        },
        {
          "output_type": "stream",
          "text": [
            "<string>:6: VisibleDeprecationWarning: Creating an ndarray from ragged nested sequences (which is a list-or-tuple of lists-or-tuples-or ndarrays with different lengths or shapes) is deprecated. If you meant to do this, you must specify 'dtype=object' when creating the ndarray\n",
            "/usr/local/lib/python3.7/dist-packages/tensorflow/python/keras/datasets/imdb.py:159: VisibleDeprecationWarning: Creating an ndarray from ragged nested sequences (which is a list-or-tuple of lists-or-tuples-or ndarrays with different lengths or shapes) is deprecated. If you meant to do this, you must specify 'dtype=object' when creating the ndarray\n",
            "  x_train, y_train = np.array(xs[:idx]), np.array(labels[:idx])\n",
            "/usr/local/lib/python3.7/dist-packages/tensorflow/python/keras/datasets/imdb.py:160: VisibleDeprecationWarning: Creating an ndarray from ragged nested sequences (which is a list-or-tuple of lists-or-tuples-or ndarrays with different lengths or shapes) is deprecated. If you meant to do this, you must specify 'dtype=object' when creating the ndarray\n",
            "  x_test, y_test = np.array(xs[idx:]), np.array(labels[idx:])\n"
          ],
          "name": "stderr"
        },
        {
          "output_type": "execute_result",
          "data": {
            "text/plain": [
              "((25000,), (25000,), (25000,), (25000,))"
            ]
          },
          "metadata": {
            "tags": []
          },
          "execution_count": 5
        }
      ]
    },
    {
      "cell_type": "code",
      "metadata": {
        "colab": {
          "base_uri": "https://localhost:8080/"
        },
        "id": "_KcakE7f_2Zq",
        "outputId": "24ab697b-3af0-4bf9-da12-877a1ecebacd"
      },
      "source": [
        "type(x_train), len(x_train[0])"
      ],
      "execution_count": 10,
      "outputs": [
        {
          "output_type": "execute_result",
          "data": {
            "text/plain": [
              "(numpy.ndarray, 218)"
            ]
          },
          "metadata": {
            "tags": []
          },
          "execution_count": 10
        }
      ]
    },
    {
      "cell_type": "code",
      "metadata": {
        "id": "tKQzejlaAQFs"
      },
      "source": [
        "# 長度不一\n",
        "\n",
        "x_train = keras.preprocessing.sequence.pad_sequences(sequences=x_train, maxlen=maxlen, dtype='int64', padding='post')\n",
        "x_test = keras.preprocessing.sequence.pad_sequences(sequences=x_test, maxlen=maxlen, dtype='int64', padding='post')"
      ],
      "execution_count": 11,
      "outputs": []
    },
    {
      "cell_type": "code",
      "metadata": {
        "colab": {
          "base_uri": "https://localhost:8080/"
        },
        "id": "sna5KJTXA1kX",
        "outputId": "0f833c62-29f3-4273-f118-b0f307e61551"
      },
      "source": [
        "x_train.shape, x_test.shape"
      ],
      "execution_count": 12,
      "outputs": [
        {
          "output_type": "execute_result",
          "data": {
            "text/plain": [
              "((25000, 200), (25000, 200))"
            ]
          },
          "metadata": {
            "tags": []
          },
          "execution_count": 12
        }
      ]
    },
    {
      "cell_type": "code",
      "metadata": {
        "colab": {
          "base_uri": "https://localhost:8080/"
        },
        "id": "FCxuuIKl9PLj",
        "outputId": "7443354a-29e0-4979-b461-cb705d93340a"
      },
      "source": [
        "# model\n",
        "\n",
        "def create_model():\n",
        "    inputs = keras.Input(shape=(maxlen, ), dtype='int64')           # 如果將maxlen改成None, 會變成自動識別\n",
        "    x = layers.Embedding(input_dim=max_tokens, output_dim=128, input_length=maxlen)(inputs)\n",
        "    x = layers.Bidirectional(layer=layers.GRU(units=32, return_sequences=True))(x)\n",
        "    x = layers.Bidirectional(layer=layers.GRU(units=16, return_sequences=False))(x)\n",
        "    output = layers.Dense(units=1, activation='sigmoid')(x)\n",
        "\n",
        "    model = keras.Model(inputs, output)\n",
        "    return model\n",
        "\n",
        "bi_model = create_model()\n",
        "bi_model.summary()"
      ],
      "execution_count": 17,
      "outputs": [
        {
          "output_type": "stream",
          "text": [
            "Model: \"model_1\"\n",
            "_________________________________________________________________\n",
            "Layer (type)                 Output Shape              Param #   \n",
            "=================================================================\n",
            "input_2 (InputLayer)         [(None, 200)]             0         \n",
            "_________________________________________________________________\n",
            "embedding_1 (Embedding)      (None, 200, 128)          2560000   \n",
            "_________________________________________________________________\n",
            "bidirectional_2 (Bidirection (None, 200, 64)           31104     \n",
            "_________________________________________________________________\n",
            "bidirectional_3 (Bidirection (None, 32)                7872      \n",
            "_________________________________________________________________\n",
            "dense_1 (Dense)              (None, 1)                 33        \n",
            "=================================================================\n",
            "Total params: 2,599,009\n",
            "Trainable params: 2,599,009\n",
            "Non-trainable params: 0\n",
            "_________________________________________________________________\n"
          ],
          "name": "stdout"
        }
      ]
    },
    {
      "cell_type": "code",
      "metadata": {
        "colab": {
          "base_uri": "https://localhost:8080/"
        },
        "id": "xzfjvPXF_P11",
        "outputId": "6e62c994-d5c8-4117-aa87-faab3127d47c"
      },
      "source": [
        "# model setup\n",
        "\n",
        "\n",
        "\n",
        "bi_model.compile(optimizer='adam', loss='binary_crossentropy', metrics=['acc', 'AUC'])\n",
        "bi_model.fit(\n",
        "    x=x_train, y=y_train,\n",
        "    batch_size=128,\n",
        "    epochs=5,\n",
        "    validation_split=0.2\n",
        ")"
      ],
      "execution_count": 18,
      "outputs": [
        {
          "output_type": "stream",
          "text": [
            "Epoch 1/5\n",
            "157/157 [==============================] - 42s 226ms/step - loss: 0.6203 - acc: 0.6165 - auc: 0.6746 - val_loss: 0.3522 - val_acc: 0.8604 - val_auc: 0.9281\n",
            "Epoch 2/5\n",
            "157/157 [==============================] - 34s 217ms/step - loss: 0.2396 - acc: 0.9141 - auc: 0.9650 - val_loss: 0.3237 - val_acc: 0.8828 - val_auc: 0.9398\n",
            "Epoch 3/5\n",
            "157/157 [==============================] - 34s 216ms/step - loss: 0.1190 - acc: 0.9616 - auc: 0.9901 - val_loss: 0.3631 - val_acc: 0.8708 - val_auc: 0.9364\n",
            "Epoch 4/5\n",
            "157/157 [==============================] - 34s 217ms/step - loss: 0.0711 - acc: 0.9794 - auc: 0.9960 - val_loss: 0.4567 - val_acc: 0.8612 - val_auc: 0.9262\n",
            "Epoch 5/5\n",
            "157/157 [==============================] - 34s 217ms/step - loss: 0.0449 - acc: 0.9884 - auc: 0.9978 - val_loss: 0.4953 - val_acc: 0.8574 - val_auc: 0.9210\n"
          ],
          "name": "stdout"
        },
        {
          "output_type": "execute_result",
          "data": {
            "text/plain": [
              "<tensorflow.python.keras.callbacks.History at 0x7f5449173710>"
            ]
          },
          "metadata": {
            "tags": []
          },
          "execution_count": 18
        }
      ]
    },
    {
      "cell_type": "code",
      "metadata": {
        "colab": {
          "base_uri": "https://localhost:8080/"
        },
        "id": "g7zl-n5JBMD_",
        "outputId": "5b44f741-01d9-4c64-d9e3-deaeb966ffe1"
      },
      "source": [
        "bi_model.evaluate(x_test, y_test)"
      ],
      "execution_count": 21,
      "outputs": [
        {
          "output_type": "stream",
          "text": [
            "782/782 [==============================] - 56s 71ms/step - loss: 0.5488 - acc: 0.8457 - auc: 0.9123\n"
          ],
          "name": "stdout"
        },
        {
          "output_type": "execute_result",
          "data": {
            "text/plain": [
              "[0.5487858653068542, 0.8456799983978271, 0.912342369556427]"
            ]
          },
          "metadata": {
            "tags": []
          },
          "execution_count": 21
        }
      ]
    },
    {
      "cell_type": "code",
      "metadata": {
        "id": "N-Y4qvIpBadu"
      },
      "source": [
        ""
      ],
      "execution_count": null,
      "outputs": []
    }
  ]
}