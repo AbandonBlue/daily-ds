{
 "cells": [
  {
   "cell_type": "markdown",
   "metadata": {},
   "source": [
    "## 流程\n",
    "1. 取得與README.md 同一層的資料夾名稱\n",
    "2. 將其資料夾名稱寫入README.md檔案中\n",
    "3. 搭配Airflow每日更新"
   ]
  },
  {
   "cell_type": "code",
   "execution_count": 33,
   "metadata": {
    "ExecuteTime": {
     "end_time": "2021-05-27T14:32:56.118219Z",
     "start_time": "2021-05-27T14:32:56.111215Z"
    }
   },
   "outputs": [],
   "source": [
    "import os\n",
    "import re"
   ]
  },
  {
   "cell_type": "code",
   "execution_count": 34,
   "metadata": {
    "ExecuteTime": {
     "end_time": "2021-05-27T14:32:56.501522Z",
     "start_time": "2021-05-27T14:32:56.475527Z"
    }
   },
   "outputs": [
    {
     "data": {
      "text/plain": [
       "['auto', 'data-processing', 'dl-model', 'rs', 'web-scraping']"
      ]
     },
     "execution_count": 34,
     "metadata": {},
     "output_type": "execute_result"
    }
   ],
   "source": [
    "# 1.\n",
    "\n",
    "# 現在檔案中的dirs\n",
    "dirs = [dir_name for dir_name in os.listdir('..') if '.' not in dir_name]\n",
    "dirs"
   ]
  },
  {
   "cell_type": "code",
   "execution_count": 35,
   "metadata": {
    "ExecuteTime": {
     "end_time": "2021-05-27T14:32:57.022521Z",
     "start_time": "2021-05-27T14:32:57.004523Z"
    }
   },
   "outputs": [
    {
     "data": {
      "text/plain": [
       "['# daily-ds\\n',\n",
       " 'Practice a piece of concept of data science daily\\n',\n",
       " '\\n',\n",
       " '## 主題\\n',\n",
       " '    - 資料處理相關觀念\\n',\n",
       " '- ### [data-processing](./data-processing)\\n',\n",
       " '- ### [dl-model](./dl-model)\\n']"
      ]
     },
     "execution_count": 35,
     "metadata": {},
     "output_type": "execute_result"
    }
   ],
   "source": [
    "# 2.\n",
    "\n",
    "# \n",
    "with open('../README.md', 'r', encoding='utf-8') as f:\n",
    "    lines = f.readlines()\n",
    "    \n",
    "lines"
   ]
  },
  {
   "cell_type": "code",
   "execution_count": 38,
   "metadata": {
    "ExecuteTime": {
     "end_time": "2021-05-27T14:34:18.607307Z",
     "start_time": "2021-05-27T14:34:18.586303Z"
    }
   },
   "outputs": [
    {
     "data": {
      "text/plain": [
       "['# daily-ds\\n',\n",
       " 'Practice a piece of concept of data science daily\\n',\n",
       " '\\n',\n",
       " '## 主題\\n',\n",
       " '    - 資料處理相關觀念\\n',\n",
       " '- ### [data-processing](./data-processing)\\n',\n",
       " '- ### [dl-model](./dl-model)\\n',\n",
       " '- ### [auto](./auto)\\n',\n",
       " '- ### [rs](./rs)\\n',\n",
       " '- ### [web-scraping](./web-scraping)\\n']"
      ]
     },
     "execution_count": 38,
     "metadata": {},
     "output_type": "execute_result"
    }
   ],
   "source": [
    "new_data = []\n",
    "old_dirs = set()\n",
    "\n",
    "# 舊的資料加入並且記錄title\n",
    "for line in lines:\n",
    "    if '###' not in line:\n",
    "        pass\n",
    "    else:\n",
    "        title = re.findall(pattern='\\[.+\\]', string=line)[0]\n",
    "        title = title[1:-1]\n",
    "        old_dirs.add(title)\n",
    "    new_data.append(line)\n",
    "\n",
    "# dirs去比較\n",
    "for dir_name in dirs:\n",
    "    if dir_name not in old_dirs:\n",
    "        new_title = f'- ### [{dir_name}](./{dir_name})\\n'\n",
    "        new_data.append(new_title)\n",
    "\n",
    "new_data"
   ]
  },
  {
   "cell_type": "code",
   "execution_count": 39,
   "metadata": {
    "ExecuteTime": {
     "end_time": "2021-05-27T14:34:19.667439Z",
     "start_time": "2021-05-27T14:34:19.652437Z"
    }
   },
   "outputs": [
    {
     "name": "stdout",
     "output_type": "stream",
     "text": [
      "['# daily-ds\\n', 'Practice a piece of concept of data science daily\\n', '\\n', '## 主題\\n', '    - 資料處理相關觀念\\n', '- ### [data-processing](./data-processing)\\n', '- ### [dl-model](./dl-model)\\n', '- ### [auto](./auto)\\n', '- ### [rs](./rs)\\n', '- ### [web-scraping](./web-scraping)\\n']\n"
     ]
    }
   ],
   "source": [
    "# 2. 寫入\n",
    "\n",
    "with open('../README.md', 'w+', encoding='utf-8') as f:\n",
    "    # 寫入要是字串\n",
    "    f.write(''.join(new_data))\n",
    "    \n",
    "\n",
    "with open('../README.md',  'r', encoding='utf-8') as f:\n",
    "    data = f.readlines()\n",
    "    print(data)"
   ]
  },
  {
   "cell_type": "code",
   "execution_count": null,
   "metadata": {},
   "outputs": [],
   "source": [
    "# 3. 未完成..."
   ]
  }
 ],
 "metadata": {
  "kernelspec": {
   "display_name": "Python 3.7.3 64-bit",
   "language": "python",
   "name": "python37364bit6893c7013b164b1189a865dcaea9fb2f"
  },
  "language_info": {
   "codemirror_mode": {
    "name": "ipython",
    "version": 3
   },
   "file_extension": ".py",
   "mimetype": "text/x-python",
   "name": "python",
   "nbconvert_exporter": "python",
   "pygments_lexer": "ipython3",
   "version": "3.7.3"
  }
 },
 "nbformat": 4,
 "nbformat_minor": 4
}
