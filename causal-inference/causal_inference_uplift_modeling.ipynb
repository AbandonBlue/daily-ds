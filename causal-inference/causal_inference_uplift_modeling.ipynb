{
  "nbformat": 4,
  "nbformat_minor": 0,
  "metadata": {
    "colab": {
      "provenance": [],
      "collapsed_sections": []
    },
    "kernelspec": {
      "name": "python3",
      "display_name": "Python 3"
    },
    "language_info": {
      "name": "python"
    },
    "widgets": {
      "application/vnd.jupyter.widget-state+json": {
        "0d322208201c4c61a1a0b521ae979df2": {
          "model_module": "@jupyter-widgets/controls",
          "model_name": "HBoxModel",
          "model_module_version": "1.5.0",
          "state": {
            "_dom_classes": [],
            "_model_module": "@jupyter-widgets/controls",
            "_model_module_version": "1.5.0",
            "_model_name": "HBoxModel",
            "_view_count": null,
            "_view_module": "@jupyter-widgets/controls",
            "_view_module_version": "1.5.0",
            "_view_name": "HBoxView",
            "box_style": "",
            "children": [
              "IPY_MODEL_b3c1408f61384fdc801c4e1d6e12b66e",
              "IPY_MODEL_83e91495bd4d4a8bbdbc17ff1211ac11",
              "IPY_MODEL_83809e021cd24efcb241798778f078a2"
            ],
            "layout": "IPY_MODEL_0b1f513789c648ba850c1aa867e294ec"
          }
        },
        "b3c1408f61384fdc801c4e1d6e12b66e": {
          "model_module": "@jupyter-widgets/controls",
          "model_name": "HTMLModel",
          "model_module_version": "1.5.0",
          "state": {
            "_dom_classes": [],
            "_model_module": "@jupyter-widgets/controls",
            "_model_module_version": "1.5.0",
            "_model_name": "HTMLModel",
            "_view_count": null,
            "_view_module": "@jupyter-widgets/controls",
            "_view_module_version": "1.5.0",
            "_view_name": "HTMLView",
            "description": "",
            "description_tooltip": null,
            "layout": "IPY_MODEL_50836ed791ef427290740dafdeb89806",
            "placeholder": "​",
            "style": "IPY_MODEL_a314d608ee804a42955753ccb74cd2c7",
            "value": "Part 1: X5 train: 100%"
          }
        },
        "83e91495bd4d4a8bbdbc17ff1211ac11": {
          "model_module": "@jupyter-widgets/controls",
          "model_name": "FloatProgressModel",
          "model_module_version": "1.5.0",
          "state": {
            "_dom_classes": [],
            "_model_module": "@jupyter-widgets/controls",
            "_model_module_version": "1.5.0",
            "_model_name": "FloatProgressModel",
            "_view_count": null,
            "_view_module": "@jupyter-widgets/controls",
            "_view_module_version": "1.5.0",
            "_view_name": "ProgressView",
            "bar_style": "success",
            "description": "",
            "description_tooltip": null,
            "layout": "IPY_MODEL_dd1eccabd6c14c9e886f983de10d0a21",
            "max": 1182423,
            "min": 0,
            "orientation": "horizontal",
            "style": "IPY_MODEL_3db47567112b4268920f1d115e7ba0c6",
            "value": 1182423
          }
        },
        "83809e021cd24efcb241798778f078a2": {
          "model_module": "@jupyter-widgets/controls",
          "model_name": "HTMLModel",
          "model_module_version": "1.5.0",
          "state": {
            "_dom_classes": [],
            "_model_module": "@jupyter-widgets/controls",
            "_model_module_version": "1.5.0",
            "_model_name": "HTMLModel",
            "_view_count": null,
            "_view_module": "@jupyter-widgets/controls",
            "_view_module_version": "1.5.0",
            "_view_name": "HTMLView",
            "description": "",
            "description_tooltip": null,
            "layout": "IPY_MODEL_316a07fbba9b4d3b9dae7aa6016fcf7e",
            "placeholder": "​",
            "style": "IPY_MODEL_6e697a8497a74622ab037ef551b18df8",
            "value": " 1.18M/1.18M [02:44&lt;00:00, 2.32MiB/s]"
          }
        },
        "0b1f513789c648ba850c1aa867e294ec": {
          "model_module": "@jupyter-widgets/base",
          "model_name": "LayoutModel",
          "model_module_version": "1.2.0",
          "state": {
            "_model_module": "@jupyter-widgets/base",
            "_model_module_version": "1.2.0",
            "_model_name": "LayoutModel",
            "_view_count": null,
            "_view_module": "@jupyter-widgets/base",
            "_view_module_version": "1.2.0",
            "_view_name": "LayoutView",
            "align_content": null,
            "align_items": null,
            "align_self": null,
            "border": null,
            "bottom": null,
            "display": null,
            "flex": null,
            "flex_flow": null,
            "grid_area": null,
            "grid_auto_columns": null,
            "grid_auto_flow": null,
            "grid_auto_rows": null,
            "grid_column": null,
            "grid_gap": null,
            "grid_row": null,
            "grid_template_areas": null,
            "grid_template_columns": null,
            "grid_template_rows": null,
            "height": null,
            "justify_content": null,
            "justify_items": null,
            "left": null,
            "margin": null,
            "max_height": null,
            "max_width": null,
            "min_height": null,
            "min_width": null,
            "object_fit": null,
            "object_position": null,
            "order": null,
            "overflow": null,
            "overflow_x": null,
            "overflow_y": null,
            "padding": null,
            "right": null,
            "top": null,
            "visibility": null,
            "width": null
          }
        },
        "50836ed791ef427290740dafdeb89806": {
          "model_module": "@jupyter-widgets/base",
          "model_name": "LayoutModel",
          "model_module_version": "1.2.0",
          "state": {
            "_model_module": "@jupyter-widgets/base",
            "_model_module_version": "1.2.0",
            "_model_name": "LayoutModel",
            "_view_count": null,
            "_view_module": "@jupyter-widgets/base",
            "_view_module_version": "1.2.0",
            "_view_name": "LayoutView",
            "align_content": null,
            "align_items": null,
            "align_self": null,
            "border": null,
            "bottom": null,
            "display": null,
            "flex": null,
            "flex_flow": null,
            "grid_area": null,
            "grid_auto_columns": null,
            "grid_auto_flow": null,
            "grid_auto_rows": null,
            "grid_column": null,
            "grid_gap": null,
            "grid_row": null,
            "grid_template_areas": null,
            "grid_template_columns": null,
            "grid_template_rows": null,
            "height": null,
            "justify_content": null,
            "justify_items": null,
            "left": null,
            "margin": null,
            "max_height": null,
            "max_width": null,
            "min_height": null,
            "min_width": null,
            "object_fit": null,
            "object_position": null,
            "order": null,
            "overflow": null,
            "overflow_x": null,
            "overflow_y": null,
            "padding": null,
            "right": null,
            "top": null,
            "visibility": null,
            "width": null
          }
        },
        "a314d608ee804a42955753ccb74cd2c7": {
          "model_module": "@jupyter-widgets/controls",
          "model_name": "DescriptionStyleModel",
          "model_module_version": "1.5.0",
          "state": {
            "_model_module": "@jupyter-widgets/controls",
            "_model_module_version": "1.5.0",
            "_model_name": "DescriptionStyleModel",
            "_view_count": null,
            "_view_module": "@jupyter-widgets/base",
            "_view_module_version": "1.2.0",
            "_view_name": "StyleView",
            "description_width": ""
          }
        },
        "dd1eccabd6c14c9e886f983de10d0a21": {
          "model_module": "@jupyter-widgets/base",
          "model_name": "LayoutModel",
          "model_module_version": "1.2.0",
          "state": {
            "_model_module": "@jupyter-widgets/base",
            "_model_module_version": "1.2.0",
            "_model_name": "LayoutModel",
            "_view_count": null,
            "_view_module": "@jupyter-widgets/base",
            "_view_module_version": "1.2.0",
            "_view_name": "LayoutView",
            "align_content": null,
            "align_items": null,
            "align_self": null,
            "border": null,
            "bottom": null,
            "display": null,
            "flex": null,
            "flex_flow": null,
            "grid_area": null,
            "grid_auto_columns": null,
            "grid_auto_flow": null,
            "grid_auto_rows": null,
            "grid_column": null,
            "grid_gap": null,
            "grid_row": null,
            "grid_template_areas": null,
            "grid_template_columns": null,
            "grid_template_rows": null,
            "height": null,
            "justify_content": null,
            "justify_items": null,
            "left": null,
            "margin": null,
            "max_height": null,
            "max_width": null,
            "min_height": null,
            "min_width": null,
            "object_fit": null,
            "object_position": null,
            "order": null,
            "overflow": null,
            "overflow_x": null,
            "overflow_y": null,
            "padding": null,
            "right": null,
            "top": null,
            "visibility": null,
            "width": null
          }
        },
        "3db47567112b4268920f1d115e7ba0c6": {
          "model_module": "@jupyter-widgets/controls",
          "model_name": "ProgressStyleModel",
          "model_module_version": "1.5.0",
          "state": {
            "_model_module": "@jupyter-widgets/controls",
            "_model_module_version": "1.5.0",
            "_model_name": "ProgressStyleModel",
            "_view_count": null,
            "_view_module": "@jupyter-widgets/base",
            "_view_module_version": "1.2.0",
            "_view_name": "StyleView",
            "bar_color": null,
            "description_width": ""
          }
        },
        "316a07fbba9b4d3b9dae7aa6016fcf7e": {
          "model_module": "@jupyter-widgets/base",
          "model_name": "LayoutModel",
          "model_module_version": "1.2.0",
          "state": {
            "_model_module": "@jupyter-widgets/base",
            "_model_module_version": "1.2.0",
            "_model_name": "LayoutModel",
            "_view_count": null,
            "_view_module": "@jupyter-widgets/base",
            "_view_module_version": "1.2.0",
            "_view_name": "LayoutView",
            "align_content": null,
            "align_items": null,
            "align_self": null,
            "border": null,
            "bottom": null,
            "display": null,
            "flex": null,
            "flex_flow": null,
            "grid_area": null,
            "grid_auto_columns": null,
            "grid_auto_flow": null,
            "grid_auto_rows": null,
            "grid_column": null,
            "grid_gap": null,
            "grid_row": null,
            "grid_template_areas": null,
            "grid_template_columns": null,
            "grid_template_rows": null,
            "height": null,
            "justify_content": null,
            "justify_items": null,
            "left": null,
            "margin": null,
            "max_height": null,
            "max_width": null,
            "min_height": null,
            "min_width": null,
            "object_fit": null,
            "object_position": null,
            "order": null,
            "overflow": null,
            "overflow_x": null,
            "overflow_y": null,
            "padding": null,
            "right": null,
            "top": null,
            "visibility": null,
            "width": null
          }
        },
        "6e697a8497a74622ab037ef551b18df8": {
          "model_module": "@jupyter-widgets/controls",
          "model_name": "DescriptionStyleModel",
          "model_module_version": "1.5.0",
          "state": {
            "_model_module": "@jupyter-widgets/controls",
            "_model_module_version": "1.5.0",
            "_model_name": "DescriptionStyleModel",
            "_view_count": null,
            "_view_module": "@jupyter-widgets/base",
            "_view_module_version": "1.2.0",
            "_view_name": "StyleView",
            "description_width": ""
          }
        },
        "7b98c455db384245a6e0439824b08752": {
          "model_module": "@jupyter-widgets/controls",
          "model_name": "HBoxModel",
          "model_module_version": "1.5.0",
          "state": {
            "_dom_classes": [],
            "_model_module": "@jupyter-widgets/controls",
            "_model_module_version": "1.5.0",
            "_model_name": "HBoxModel",
            "_view_count": null,
            "_view_module": "@jupyter-widgets/controls",
            "_view_module_version": "1.5.0",
            "_view_name": "HBoxView",
            "box_style": "",
            "children": [
              "IPY_MODEL_7586065ab23e461b9e9bad11ba38da5f",
              "IPY_MODEL_d183a47337e64e07996e73e74a02e2d4",
              "IPY_MODEL_25cb1e641829450fbf6214f263ff3c92"
            ],
            "layout": "IPY_MODEL_7e0c259643914d3d89ba06510e1d69e9"
          }
        },
        "7586065ab23e461b9e9bad11ba38da5f": {
          "model_module": "@jupyter-widgets/controls",
          "model_name": "HTMLModel",
          "model_module_version": "1.5.0",
          "state": {
            "_dom_classes": [],
            "_model_module": "@jupyter-widgets/controls",
            "_model_module_version": "1.5.0",
            "_model_name": "HTMLModel",
            "_view_count": null,
            "_view_module": "@jupyter-widgets/controls",
            "_view_module_version": "1.5.0",
            "_view_name": "HTMLView",
            "description": "",
            "description_tooltip": null,
            "layout": "IPY_MODEL_742ef2253b3542d3836df7b2bc90914e",
            "placeholder": "​",
            "style": "IPY_MODEL_840ebebf31164a0699c4f9c0c11ee6e5",
            "value": "Part 2: X5 clients: 100%"
          }
        },
        "d183a47337e64e07996e73e74a02e2d4": {
          "model_module": "@jupyter-widgets/controls",
          "model_name": "FloatProgressModel",
          "model_module_version": "1.5.0",
          "state": {
            "_dom_classes": [],
            "_model_module": "@jupyter-widgets/controls",
            "_model_module_version": "1.5.0",
            "_model_name": "FloatProgressModel",
            "_view_count": null,
            "_view_module": "@jupyter-widgets/controls",
            "_view_module_version": "1.5.0",
            "_view_name": "ProgressView",
            "bar_style": "success",
            "description": "",
            "description_tooltip": null,
            "layout": "IPY_MODEL_05c5be017dca49df9ef3d5d2dec489eb",
            "max": 7637755,
            "min": 0,
            "orientation": "horizontal",
            "style": "IPY_MODEL_3c68420d86e24db2bd64cadd47845183",
            "value": 7637755
          }
        },
        "25cb1e641829450fbf6214f263ff3c92": {
          "model_module": "@jupyter-widgets/controls",
          "model_name": "HTMLModel",
          "model_module_version": "1.5.0",
          "state": {
            "_dom_classes": [],
            "_model_module": "@jupyter-widgets/controls",
            "_model_module_version": "1.5.0",
            "_model_name": "HTMLModel",
            "_view_count": null,
            "_view_module": "@jupyter-widgets/controls",
            "_view_module_version": "1.5.0",
            "_view_name": "HTMLView",
            "description": "",
            "description_tooltip": null,
            "layout": "IPY_MODEL_bd95ac4df07c446fa7804b15d93ea796",
            "placeholder": "​",
            "style": "IPY_MODEL_1d76d962c0ff49e79d137c92421d12c4",
            "value": " 7.64M/7.64M [02:43&lt;00:00, 12.0MiB/s]"
          }
        },
        "7e0c259643914d3d89ba06510e1d69e9": {
          "model_module": "@jupyter-widgets/base",
          "model_name": "LayoutModel",
          "model_module_version": "1.2.0",
          "state": {
            "_model_module": "@jupyter-widgets/base",
            "_model_module_version": "1.2.0",
            "_model_name": "LayoutModel",
            "_view_count": null,
            "_view_module": "@jupyter-widgets/base",
            "_view_module_version": "1.2.0",
            "_view_name": "LayoutView",
            "align_content": null,
            "align_items": null,
            "align_self": null,
            "border": null,
            "bottom": null,
            "display": null,
            "flex": null,
            "flex_flow": null,
            "grid_area": null,
            "grid_auto_columns": null,
            "grid_auto_flow": null,
            "grid_auto_rows": null,
            "grid_column": null,
            "grid_gap": null,
            "grid_row": null,
            "grid_template_areas": null,
            "grid_template_columns": null,
            "grid_template_rows": null,
            "height": null,
            "justify_content": null,
            "justify_items": null,
            "left": null,
            "margin": null,
            "max_height": null,
            "max_width": null,
            "min_height": null,
            "min_width": null,
            "object_fit": null,
            "object_position": null,
            "order": null,
            "overflow": null,
            "overflow_x": null,
            "overflow_y": null,
            "padding": null,
            "right": null,
            "top": null,
            "visibility": null,
            "width": null
          }
        },
        "742ef2253b3542d3836df7b2bc90914e": {
          "model_module": "@jupyter-widgets/base",
          "model_name": "LayoutModel",
          "model_module_version": "1.2.0",
          "state": {
            "_model_module": "@jupyter-widgets/base",
            "_model_module_version": "1.2.0",
            "_model_name": "LayoutModel",
            "_view_count": null,
            "_view_module": "@jupyter-widgets/base",
            "_view_module_version": "1.2.0",
            "_view_name": "LayoutView",
            "align_content": null,
            "align_items": null,
            "align_self": null,
            "border": null,
            "bottom": null,
            "display": null,
            "flex": null,
            "flex_flow": null,
            "grid_area": null,
            "grid_auto_columns": null,
            "grid_auto_flow": null,
            "grid_auto_rows": null,
            "grid_column": null,
            "grid_gap": null,
            "grid_row": null,
            "grid_template_areas": null,
            "grid_template_columns": null,
            "grid_template_rows": null,
            "height": null,
            "justify_content": null,
            "justify_items": null,
            "left": null,
            "margin": null,
            "max_height": null,
            "max_width": null,
            "min_height": null,
            "min_width": null,
            "object_fit": null,
            "object_position": null,
            "order": null,
            "overflow": null,
            "overflow_x": null,
            "overflow_y": null,
            "padding": null,
            "right": null,
            "top": null,
            "visibility": null,
            "width": null
          }
        },
        "840ebebf31164a0699c4f9c0c11ee6e5": {
          "model_module": "@jupyter-widgets/controls",
          "model_name": "DescriptionStyleModel",
          "model_module_version": "1.5.0",
          "state": {
            "_model_module": "@jupyter-widgets/controls",
            "_model_module_version": "1.5.0",
            "_model_name": "DescriptionStyleModel",
            "_view_count": null,
            "_view_module": "@jupyter-widgets/base",
            "_view_module_version": "1.2.0",
            "_view_name": "StyleView",
            "description_width": ""
          }
        },
        "05c5be017dca49df9ef3d5d2dec489eb": {
          "model_module": "@jupyter-widgets/base",
          "model_name": "LayoutModel",
          "model_module_version": "1.2.0",
          "state": {
            "_model_module": "@jupyter-widgets/base",
            "_model_module_version": "1.2.0",
            "_model_name": "LayoutModel",
            "_view_count": null,
            "_view_module": "@jupyter-widgets/base",
            "_view_module_version": "1.2.0",
            "_view_name": "LayoutView",
            "align_content": null,
            "align_items": null,
            "align_self": null,
            "border": null,
            "bottom": null,
            "display": null,
            "flex": null,
            "flex_flow": null,
            "grid_area": null,
            "grid_auto_columns": null,
            "grid_auto_flow": null,
            "grid_auto_rows": null,
            "grid_column": null,
            "grid_gap": null,
            "grid_row": null,
            "grid_template_areas": null,
            "grid_template_columns": null,
            "grid_template_rows": null,
            "height": null,
            "justify_content": null,
            "justify_items": null,
            "left": null,
            "margin": null,
            "max_height": null,
            "max_width": null,
            "min_height": null,
            "min_width": null,
            "object_fit": null,
            "object_position": null,
            "order": null,
            "overflow": null,
            "overflow_x": null,
            "overflow_y": null,
            "padding": null,
            "right": null,
            "top": null,
            "visibility": null,
            "width": null
          }
        },
        "3c68420d86e24db2bd64cadd47845183": {
          "model_module": "@jupyter-widgets/controls",
          "model_name": "ProgressStyleModel",
          "model_module_version": "1.5.0",
          "state": {
            "_model_module": "@jupyter-widgets/controls",
            "_model_module_version": "1.5.0",
            "_model_name": "ProgressStyleModel",
            "_view_count": null,
            "_view_module": "@jupyter-widgets/base",
            "_view_module_version": "1.2.0",
            "_view_name": "StyleView",
            "bar_color": null,
            "description_width": ""
          }
        },
        "bd95ac4df07c446fa7804b15d93ea796": {
          "model_module": "@jupyter-widgets/base",
          "model_name": "LayoutModel",
          "model_module_version": "1.2.0",
          "state": {
            "_model_module": "@jupyter-widgets/base",
            "_model_module_version": "1.2.0",
            "_model_name": "LayoutModel",
            "_view_count": null,
            "_view_module": "@jupyter-widgets/base",
            "_view_module_version": "1.2.0",
            "_view_name": "LayoutView",
            "align_content": null,
            "align_items": null,
            "align_self": null,
            "border": null,
            "bottom": null,
            "display": null,
            "flex": null,
            "flex_flow": null,
            "grid_area": null,
            "grid_auto_columns": null,
            "grid_auto_flow": null,
            "grid_auto_rows": null,
            "grid_column": null,
            "grid_gap": null,
            "grid_row": null,
            "grid_template_areas": null,
            "grid_template_columns": null,
            "grid_template_rows": null,
            "height": null,
            "justify_content": null,
            "justify_items": null,
            "left": null,
            "margin": null,
            "max_height": null,
            "max_width": null,
            "min_height": null,
            "min_width": null,
            "object_fit": null,
            "object_position": null,
            "order": null,
            "overflow": null,
            "overflow_x": null,
            "overflow_y": null,
            "padding": null,
            "right": null,
            "top": null,
            "visibility": null,
            "width": null
          }
        },
        "1d76d962c0ff49e79d137c92421d12c4": {
          "model_module": "@jupyter-widgets/controls",
          "model_name": "DescriptionStyleModel",
          "model_module_version": "1.5.0",
          "state": {
            "_model_module": "@jupyter-widgets/controls",
            "_model_module_version": "1.5.0",
            "_model_name": "DescriptionStyleModel",
            "_view_count": null,
            "_view_module": "@jupyter-widgets/base",
            "_view_module_version": "1.2.0",
            "_view_name": "StyleView",
            "description_width": ""
          }
        },
        "8ea4067cff9d46739f28555f18ec3e91": {
          "model_module": "@jupyter-widgets/controls",
          "model_name": "HBoxModel",
          "model_module_version": "1.5.0",
          "state": {
            "_dom_classes": [],
            "_model_module": "@jupyter-widgets/controls",
            "_model_module_version": "1.5.0",
            "_model_name": "HBoxModel",
            "_view_count": null,
            "_view_module": "@jupyter-widgets/controls",
            "_view_module_version": "1.5.0",
            "_view_name": "HBoxView",
            "box_style": "",
            "children": [
              "IPY_MODEL_15c0897797924b519f56767baeac88f5",
              "IPY_MODEL_11aa66312df34217af07f42b8603902c",
              "IPY_MODEL_160bd68b51b3462da794d13d1123851a"
            ],
            "layout": "IPY_MODEL_719db79c2ff045db8254117768eec0ef"
          }
        },
        "15c0897797924b519f56767baeac88f5": {
          "model_module": "@jupyter-widgets/controls",
          "model_name": "HTMLModel",
          "model_module_version": "1.5.0",
          "state": {
            "_dom_classes": [],
            "_model_module": "@jupyter-widgets/controls",
            "_model_module_version": "1.5.0",
            "_model_name": "HTMLModel",
            "_view_count": null,
            "_view_module": "@jupyter-widgets/controls",
            "_view_module_version": "1.5.0",
            "_view_name": "HTMLView",
            "description": "",
            "description_tooltip": null,
            "layout": "IPY_MODEL_12a65cd709584a4b8bbb9bd1d8188c2f",
            "placeholder": "​",
            "style": "IPY_MODEL_966aa277794a4494ae2431ba74de7517",
            "value": "Part 3: X5 purchases: 100%"
          }
        },
        "11aa66312df34217af07f42b8603902c": {
          "model_module": "@jupyter-widgets/controls",
          "model_name": "FloatProgressModel",
          "model_module_version": "1.5.0",
          "state": {
            "_dom_classes": [],
            "_model_module": "@jupyter-widgets/controls",
            "_model_module_version": "1.5.0",
            "_model_name": "FloatProgressModel",
            "_view_count": null,
            "_view_module": "@jupyter-widgets/controls",
            "_view_module_version": "1.5.0",
            "_view_name": "ProgressView",
            "bar_style": "success",
            "description": "",
            "description_tooltip": null,
            "layout": "IPY_MODEL_160f1f49d8a54f309bd7ee7a7151c4c0",
            "max": 669979268,
            "min": 0,
            "orientation": "horizontal",
            "style": "IPY_MODEL_7726ffa7fbff480a9dd1c0a4ed850b6b",
            "value": 669979268
          }
        },
        "160bd68b51b3462da794d13d1123851a": {
          "model_module": "@jupyter-widgets/controls",
          "model_name": "HTMLModel",
          "model_module_version": "1.5.0",
          "state": {
            "_dom_classes": [],
            "_model_module": "@jupyter-widgets/controls",
            "_model_module_version": "1.5.0",
            "_model_name": "HTMLModel",
            "_view_count": null,
            "_view_module": "@jupyter-widgets/controls",
            "_view_module_version": "1.5.0",
            "_view_name": "HTMLView",
            "description": "",
            "description_tooltip": null,
            "layout": "IPY_MODEL_f072df80b93843d49b7c22050d3cb801",
            "placeholder": "​",
            "style": "IPY_MODEL_c7ccb746b53245f08a54ee0dac15e77a",
            "value": " 670M/670M [01:01&lt;00:00, 26.9MiB/s]"
          }
        },
        "719db79c2ff045db8254117768eec0ef": {
          "model_module": "@jupyter-widgets/base",
          "model_name": "LayoutModel",
          "model_module_version": "1.2.0",
          "state": {
            "_model_module": "@jupyter-widgets/base",
            "_model_module_version": "1.2.0",
            "_model_name": "LayoutModel",
            "_view_count": null,
            "_view_module": "@jupyter-widgets/base",
            "_view_module_version": "1.2.0",
            "_view_name": "LayoutView",
            "align_content": null,
            "align_items": null,
            "align_self": null,
            "border": null,
            "bottom": null,
            "display": null,
            "flex": null,
            "flex_flow": null,
            "grid_area": null,
            "grid_auto_columns": null,
            "grid_auto_flow": null,
            "grid_auto_rows": null,
            "grid_column": null,
            "grid_gap": null,
            "grid_row": null,
            "grid_template_areas": null,
            "grid_template_columns": null,
            "grid_template_rows": null,
            "height": null,
            "justify_content": null,
            "justify_items": null,
            "left": null,
            "margin": null,
            "max_height": null,
            "max_width": null,
            "min_height": null,
            "min_width": null,
            "object_fit": null,
            "object_position": null,
            "order": null,
            "overflow": null,
            "overflow_x": null,
            "overflow_y": null,
            "padding": null,
            "right": null,
            "top": null,
            "visibility": null,
            "width": null
          }
        },
        "12a65cd709584a4b8bbb9bd1d8188c2f": {
          "model_module": "@jupyter-widgets/base",
          "model_name": "LayoutModel",
          "model_module_version": "1.2.0",
          "state": {
            "_model_module": "@jupyter-widgets/base",
            "_model_module_version": "1.2.0",
            "_model_name": "LayoutModel",
            "_view_count": null,
            "_view_module": "@jupyter-widgets/base",
            "_view_module_version": "1.2.0",
            "_view_name": "LayoutView",
            "align_content": null,
            "align_items": null,
            "align_self": null,
            "border": null,
            "bottom": null,
            "display": null,
            "flex": null,
            "flex_flow": null,
            "grid_area": null,
            "grid_auto_columns": null,
            "grid_auto_flow": null,
            "grid_auto_rows": null,
            "grid_column": null,
            "grid_gap": null,
            "grid_row": null,
            "grid_template_areas": null,
            "grid_template_columns": null,
            "grid_template_rows": null,
            "height": null,
            "justify_content": null,
            "justify_items": null,
            "left": null,
            "margin": null,
            "max_height": null,
            "max_width": null,
            "min_height": null,
            "min_width": null,
            "object_fit": null,
            "object_position": null,
            "order": null,
            "overflow": null,
            "overflow_x": null,
            "overflow_y": null,
            "padding": null,
            "right": null,
            "top": null,
            "visibility": null,
            "width": null
          }
        },
        "966aa277794a4494ae2431ba74de7517": {
          "model_module": "@jupyter-widgets/controls",
          "model_name": "DescriptionStyleModel",
          "model_module_version": "1.5.0",
          "state": {
            "_model_module": "@jupyter-widgets/controls",
            "_model_module_version": "1.5.0",
            "_model_name": "DescriptionStyleModel",
            "_view_count": null,
            "_view_module": "@jupyter-widgets/base",
            "_view_module_version": "1.2.0",
            "_view_name": "StyleView",
            "description_width": ""
          }
        },
        "160f1f49d8a54f309bd7ee7a7151c4c0": {
          "model_module": "@jupyter-widgets/base",
          "model_name": "LayoutModel",
          "model_module_version": "1.2.0",
          "state": {
            "_model_module": "@jupyter-widgets/base",
            "_model_module_version": "1.2.0",
            "_model_name": "LayoutModel",
            "_view_count": null,
            "_view_module": "@jupyter-widgets/base",
            "_view_module_version": "1.2.0",
            "_view_name": "LayoutView",
            "align_content": null,
            "align_items": null,
            "align_self": null,
            "border": null,
            "bottom": null,
            "display": null,
            "flex": null,
            "flex_flow": null,
            "grid_area": null,
            "grid_auto_columns": null,
            "grid_auto_flow": null,
            "grid_auto_rows": null,
            "grid_column": null,
            "grid_gap": null,
            "grid_row": null,
            "grid_template_areas": null,
            "grid_template_columns": null,
            "grid_template_rows": null,
            "height": null,
            "justify_content": null,
            "justify_items": null,
            "left": null,
            "margin": null,
            "max_height": null,
            "max_width": null,
            "min_height": null,
            "min_width": null,
            "object_fit": null,
            "object_position": null,
            "order": null,
            "overflow": null,
            "overflow_x": null,
            "overflow_y": null,
            "padding": null,
            "right": null,
            "top": null,
            "visibility": null,
            "width": null
          }
        },
        "7726ffa7fbff480a9dd1c0a4ed850b6b": {
          "model_module": "@jupyter-widgets/controls",
          "model_name": "ProgressStyleModel",
          "model_module_version": "1.5.0",
          "state": {
            "_model_module": "@jupyter-widgets/controls",
            "_model_module_version": "1.5.0",
            "_model_name": "ProgressStyleModel",
            "_view_count": null,
            "_view_module": "@jupyter-widgets/base",
            "_view_module_version": "1.2.0",
            "_view_name": "StyleView",
            "bar_color": null,
            "description_width": ""
          }
        },
        "f072df80b93843d49b7c22050d3cb801": {
          "model_module": "@jupyter-widgets/base",
          "model_name": "LayoutModel",
          "model_module_version": "1.2.0",
          "state": {
            "_model_module": "@jupyter-widgets/base",
            "_model_module_version": "1.2.0",
            "_model_name": "LayoutModel",
            "_view_count": null,
            "_view_module": "@jupyter-widgets/base",
            "_view_module_version": "1.2.0",
            "_view_name": "LayoutView",
            "align_content": null,
            "align_items": null,
            "align_self": null,
            "border": null,
            "bottom": null,
            "display": null,
            "flex": null,
            "flex_flow": null,
            "grid_area": null,
            "grid_auto_columns": null,
            "grid_auto_flow": null,
            "grid_auto_rows": null,
            "grid_column": null,
            "grid_gap": null,
            "grid_row": null,
            "grid_template_areas": null,
            "grid_template_columns": null,
            "grid_template_rows": null,
            "height": null,
            "justify_content": null,
            "justify_items": null,
            "left": null,
            "margin": null,
            "max_height": null,
            "max_width": null,
            "min_height": null,
            "min_width": null,
            "object_fit": null,
            "object_position": null,
            "order": null,
            "overflow": null,
            "overflow_x": null,
            "overflow_y": null,
            "padding": null,
            "right": null,
            "top": null,
            "visibility": null,
            "width": null
          }
        },
        "c7ccb746b53245f08a54ee0dac15e77a": {
          "model_module": "@jupyter-widgets/controls",
          "model_name": "DescriptionStyleModel",
          "model_module_version": "1.5.0",
          "state": {
            "_model_module": "@jupyter-widgets/controls",
            "_model_module_version": "1.5.0",
            "_model_name": "DescriptionStyleModel",
            "_view_count": null,
            "_view_module": "@jupyter-widgets/base",
            "_view_module_version": "1.2.0",
            "_view_name": "StyleView",
            "description_width": ""
          }
        }
      }
    }
  },
  "cells": [
    {
      "cell_type": "markdown",
      "source": [
        "## uplift modeling\n",
        "- 以下是分類範例"
      ],
      "metadata": {
        "id": "Er3XAXuf_YIT"
      }
    },
    {
      "cell_type": "code",
      "execution_count": 1,
      "metadata": {
        "colab": {
          "base_uri": "https://localhost:8080/",
          "height": 0
        },
        "id": "lBE8Me7N7Tqf",
        "outputId": "9eeca203-ad2f-4296-fd2e-fa0961fcebd0"
      },
      "outputs": [
        {
          "output_type": "stream",
          "name": "stdout",
          "text": [
            "Looking in indexes: https://pypi.org/simple, https://us-python.pkg.dev/colab-wheels/public/simple/\n",
            "Collecting scikit-uplift\n",
            "  Downloading scikit_uplift-0.5.1-py3-none-any.whl (42 kB)\n",
            "\u001b[K     |████████████████████████████████| 42 kB 715 kB/s \n",
            "\u001b[?25hRequirement already satisfied: numpy>=1.16 in /usr/local/lib/python3.7/dist-packages (from scikit-uplift) (1.21.6)\n",
            "Requirement already satisfied: matplotlib in /usr/local/lib/python3.7/dist-packages (from scikit-uplift) (3.2.2)\n",
            "Requirement already satisfied: requests in /usr/local/lib/python3.7/dist-packages (from scikit-uplift) (2.23.0)\n",
            "Requirement already satisfied: pandas in /usr/local/lib/python3.7/dist-packages (from scikit-uplift) (1.3.5)\n",
            "Requirement already satisfied: scikit-learn>=0.21.0 in /usr/local/lib/python3.7/dist-packages (from scikit-uplift) (1.0.2)\n",
            "Requirement already satisfied: tqdm in /usr/local/lib/python3.7/dist-packages (from scikit-uplift) (4.64.1)\n",
            "Requirement already satisfied: threadpoolctl>=2.0.0 in /usr/local/lib/python3.7/dist-packages (from scikit-learn>=0.21.0->scikit-uplift) (3.1.0)\n",
            "Requirement already satisfied: scipy>=1.1.0 in /usr/local/lib/python3.7/dist-packages (from scikit-learn>=0.21.0->scikit-uplift) (1.7.3)\n",
            "Requirement already satisfied: joblib>=0.11 in /usr/local/lib/python3.7/dist-packages (from scikit-learn>=0.21.0->scikit-uplift) (1.2.0)\n",
            "Requirement already satisfied: pyparsing!=2.0.4,!=2.1.2,!=2.1.6,>=2.0.1 in /usr/local/lib/python3.7/dist-packages (from matplotlib->scikit-uplift) (3.0.9)\n",
            "Requirement already satisfied: kiwisolver>=1.0.1 in /usr/local/lib/python3.7/dist-packages (from matplotlib->scikit-uplift) (1.4.4)\n",
            "Requirement already satisfied: cycler>=0.10 in /usr/local/lib/python3.7/dist-packages (from matplotlib->scikit-uplift) (0.11.0)\n",
            "Requirement already satisfied: python-dateutil>=2.1 in /usr/local/lib/python3.7/dist-packages (from matplotlib->scikit-uplift) (2.8.2)\n",
            "Requirement already satisfied: typing-extensions in /usr/local/lib/python3.7/dist-packages (from kiwisolver>=1.0.1->matplotlib->scikit-uplift) (4.1.1)\n",
            "Requirement already satisfied: six>=1.5 in /usr/local/lib/python3.7/dist-packages (from python-dateutil>=2.1->matplotlib->scikit-uplift) (1.15.0)\n",
            "Requirement already satisfied: pytz>=2017.3 in /usr/local/lib/python3.7/dist-packages (from pandas->scikit-uplift) (2022.5)\n",
            "Requirement already satisfied: chardet<4,>=3.0.2 in /usr/local/lib/python3.7/dist-packages (from requests->scikit-uplift) (3.0.4)\n",
            "Requirement already satisfied: urllib3!=1.25.0,!=1.25.1,<1.26,>=1.21.1 in /usr/local/lib/python3.7/dist-packages (from requests->scikit-uplift) (1.24.3)\n",
            "Requirement already satisfied: idna<3,>=2.5 in /usr/local/lib/python3.7/dist-packages (from requests->scikit-uplift) (2.10)\n",
            "Requirement already satisfied: certifi>=2017.4.17 in /usr/local/lib/python3.7/dist-packages (from requests->scikit-uplift) (2022.9.24)\n",
            "Installing collected packages: scikit-uplift\n",
            "Successfully installed scikit-uplift-0.5.1\n"
          ]
        }
      ],
      "source": [
        "!pip install scikit-uplift"
      ]
    },
    {
      "cell_type": "code",
      "source": [
        "from sklearn.model_selection import train_test_split\n",
        "from sklift.datasets import fetch_x5\n",
        "import pandas as pd\n",
        "import numpy as np\n",
        "\n",
        "pd.set_option('display.max_columns', None)\n",
        "%matplotlib inline"
      ],
      "metadata": {
        "id": "1vlRPh_O7Z8N"
      },
      "execution_count": 60,
      "outputs": []
    },
    {
      "cell_type": "code",
      "source": [
        "dataset = fetch_x5()\n",
        "dataset.keys()"
      ],
      "metadata": {
        "colab": {
          "base_uri": "https://localhost:8080/",
          "height": 131,
          "referenced_widgets": [
            "0d322208201c4c61a1a0b521ae979df2",
            "b3c1408f61384fdc801c4e1d6e12b66e",
            "83e91495bd4d4a8bbdbc17ff1211ac11",
            "83809e021cd24efcb241798778f078a2",
            "0b1f513789c648ba850c1aa867e294ec",
            "50836ed791ef427290740dafdeb89806",
            "a314d608ee804a42955753ccb74cd2c7",
            "dd1eccabd6c14c9e886f983de10d0a21",
            "3db47567112b4268920f1d115e7ba0c6",
            "316a07fbba9b4d3b9dae7aa6016fcf7e",
            "6e697a8497a74622ab037ef551b18df8",
            "7b98c455db384245a6e0439824b08752",
            "7586065ab23e461b9e9bad11ba38da5f",
            "d183a47337e64e07996e73e74a02e2d4",
            "25cb1e641829450fbf6214f263ff3c92",
            "7e0c259643914d3d89ba06510e1d69e9",
            "742ef2253b3542d3836df7b2bc90914e",
            "840ebebf31164a0699c4f9c0c11ee6e5",
            "05c5be017dca49df9ef3d5d2dec489eb",
            "3c68420d86e24db2bd64cadd47845183",
            "bd95ac4df07c446fa7804b15d93ea796",
            "1d76d962c0ff49e79d137c92421d12c4",
            "8ea4067cff9d46739f28555f18ec3e91",
            "15c0897797924b519f56767baeac88f5",
            "11aa66312df34217af07f42b8603902c",
            "160bd68b51b3462da794d13d1123851a",
            "719db79c2ff045db8254117768eec0ef",
            "12a65cd709584a4b8bbb9bd1d8188c2f",
            "966aa277794a4494ae2431ba74de7517",
            "160f1f49d8a54f309bd7ee7a7151c4c0",
            "7726ffa7fbff480a9dd1c0a4ed850b6b",
            "f072df80b93843d49b7c22050d3cb801",
            "c7ccb746b53245f08a54ee0dac15e77a"
          ]
        },
        "id": "g467mtg0A3gl",
        "outputId": "9d115266-06b9-4943-9cbd-91c1f9286180"
      },
      "execution_count": 3,
      "outputs": [
        {
          "output_type": "display_data",
          "data": {
            "text/plain": [
              "Part 1: X5 train:   0%|          | 0.00/1.18M [00:00<?, ?iB/s]"
            ],
            "application/vnd.jupyter.widget-view+json": {
              "version_major": 2,
              "version_minor": 0,
              "model_id": "0d322208201c4c61a1a0b521ae979df2"
            }
          },
          "metadata": {}
        },
        {
          "output_type": "display_data",
          "data": {
            "text/plain": [
              "Part 2: X5 clients:   0%|          | 0.00/7.64M [00:00<?, ?iB/s]"
            ],
            "application/vnd.jupyter.widget-view+json": {
              "version_major": 2,
              "version_minor": 0,
              "model_id": "7b98c455db384245a6e0439824b08752"
            }
          },
          "metadata": {}
        },
        {
          "output_type": "display_data",
          "data": {
            "text/plain": [
              "Part 3: X5 purchases:   0%|          | 0.00/670M [00:00<?, ?iB/s]"
            ],
            "application/vnd.jupyter.widget-view+json": {
              "version_major": 2,
              "version_minor": 0,
              "model_id": "8ea4067cff9d46739f28555f18ec3e91"
            }
          },
          "metadata": {}
        },
        {
          "output_type": "execute_result",
          "data": {
            "text/plain": [
              "dict_keys(['data', 'target', 'treatment', 'DESCR', 'feature_names', 'target_name', 'treatment_name'])"
            ]
          },
          "metadata": {},
          "execution_count": 3
        }
      ]
    },
    {
      "cell_type": "code",
      "source": [
        "dataset.treatment"
      ],
      "metadata": {
        "colab": {
          "base_uri": "https://localhost:8080/",
          "height": 0
        },
        "id": "3fsD_IwjC0ro",
        "outputId": "5d8a42aa-dbc3-49c4-fdf4-2ac73ac8da11"
      },
      "execution_count": 4,
      "outputs": [
        {
          "output_type": "execute_result",
          "data": {
            "text/plain": [
              "0         0\n",
              "1         1\n",
              "2         1\n",
              "3         1\n",
              "4         1\n",
              "         ..\n",
              "200034    0\n",
              "200035    0\n",
              "200036    0\n",
              "200037    1\n",
              "200038    0\n",
              "Name: treatment_flg, Length: 200039, dtype: int64"
            ]
          },
          "metadata": {},
          "execution_count": 4
        }
      ]
    },
    {
      "cell_type": "code",
      "source": [
        "print(f\"Dataset type: {type(dataset)}\\n\")\n",
        "print(f\"Dataset features shape: {dataset.data['clients'].shape}\")  # 用戶資料\n",
        "print(f\"Dataset features shape: {dataset.data['train'].shape}\")   # 訓練資料(但為什麼只有一個feature?) -> 只是client_id\n",
        "print(f\"Dataset target shape: {dataset.target.shape}\")        # 目標資料\n",
        "print(f\"Dataset treatment shape: {dataset.treatment.shape}\")"
      ],
      "metadata": {
        "colab": {
          "base_uri": "https://localhost:8080/",
          "height": 0
        },
        "id": "VcsK4V3RA8-F",
        "outputId": "425218b7-9e6a-4ebb-d802-01eda8d5bcea"
      },
      "execution_count": 5,
      "outputs": [
        {
          "output_type": "stream",
          "name": "stdout",
          "text": [
            "Dataset type: <class 'sklearn.utils.Bunch'>\n",
            "\n",
            "Dataset features shape: (400162, 5)\n",
            "Dataset features shape: (200039, 1)\n",
            "Dataset target shape: (200039,)\n",
            "Dataset treatment shape: (200039,)\n"
          ]
        }
      ]
    },
    {
      "cell_type": "code",
      "source": [
        "# extract data\n",
        "df_clients = dataset.data['clients'].set_index(\"client_id\")   # 取得用戶的資料，並將其index設定\n",
        "df_train = pd.concat([dataset.data['train'], dataset.treatment , dataset.target], axis=1).set_index(\"client_id\")\n",
        "indices_test = pd.Index(set(df_clients.index) - set(df_train.index))\n",
        "\n",
        "# extracting features\n",
        "df_features = df_clients.copy()\n",
        "df_features['first_issue_time'] = \\\n",
        "    (pd.to_datetime(df_features['first_issue_date'])\n",
        "     - pd.Timestamp('1970-01-01')) // pd.Timedelta('1s')\n",
        "df_features['first_redeem_time'] = \\\n",
        "    (pd.to_datetime(df_features['first_redeem_date'])\n",
        "     - pd.Timestamp('1970-01-01')) // pd.Timedelta('1s')\n",
        "df_features['issue_redeem_delay'] = df_features['first_redeem_time'] \\\n",
        "    - df_features['first_issue_time']\n",
        "df_features = df_features.drop(['first_issue_date', 'first_redeem_date'], axis=1)\n",
        "\n",
        "# 因為nan模型會出錯，這邊很粗糙的先解決\n",
        "df_features.fillna(method='backfill', inplace=True)\n",
        "\n",
        "indices_learn, indices_valid = train_test_split(df_train.index, test_size=0.3, random_state=123)"
      ],
      "metadata": {
        "id": "f8IdHyp-BB_R"
      },
      "execution_count": 6,
      "outputs": []
    },
    {
      "cell_type": "code",
      "source": [
        "# 將資料轉換好，得到一些特徵用於訓練\n",
        "\n",
        "df_features"
      ],
      "metadata": {
        "colab": {
          "base_uri": "https://localhost:8080/",
          "height": 455
        },
        "id": "LUMnWe6nD76y",
        "outputId": "439ca781-69f7-453f-ff2c-87356035c5ad"
      },
      "execution_count": 7,
      "outputs": [
        {
          "output_type": "execute_result",
          "data": {
            "text/plain": [
              "            age gender  first_issue_time  first_redeem_time  \\\n",
              "client_id                                                     \n",
              "000012768d   45      U        1501947648       1.515094e+09   \n",
              "000036f903   72      F        1491832463       1.492951e+09   \n",
              "000048b7a6   68      F        1544880791       1.511522e+09   \n",
              "000073194a   60      F        1495544174       1.511522e+09   \n",
              "00007c7133   67      U        1495469828       1.546277e+09   \n",
              "...         ...    ...               ...                ...   \n",
              "fffece623e   67      U        1526224170       1.545938e+09   \n",
              "ffff3dfff8   56      F        1541088412       1.544204e+09   \n",
              "ffffaab9da   23      F        1503686604       1.512756e+09   \n",
              "ffffeb5619   62      U        1512480388       1.503766e+09   \n",
              "fffff6ce77   42      U        1501791912       1.503766e+09   \n",
              "\n",
              "            issue_redeem_delay  \n",
              "client_id                       \n",
              "000012768d          13146559.0  \n",
              "000036f903           1118613.0  \n",
              "000048b7a6          15978107.0  \n",
              "000073194a          15978107.0  \n",
              "00007c7133          50806825.0  \n",
              "...                        ...  \n",
              "fffece623e          19713429.0  \n",
              "ffff3dfff8           3115615.0  \n",
              "ffffaab9da           9068995.0  \n",
              "ffffeb5619           1973789.0  \n",
              "fffff6ce77           1973789.0  \n",
              "\n",
              "[400162 rows x 5 columns]"
            ],
            "text/html": [
              "\n",
              "  <div id=\"df-4f7e834c-ccb4-4161-8bfc-c562d1d7058a\">\n",
              "    <div class=\"colab-df-container\">\n",
              "      <div>\n",
              "<style scoped>\n",
              "    .dataframe tbody tr th:only-of-type {\n",
              "        vertical-align: middle;\n",
              "    }\n",
              "\n",
              "    .dataframe tbody tr th {\n",
              "        vertical-align: top;\n",
              "    }\n",
              "\n",
              "    .dataframe thead th {\n",
              "        text-align: right;\n",
              "    }\n",
              "</style>\n",
              "<table border=\"1\" class=\"dataframe\">\n",
              "  <thead>\n",
              "    <tr style=\"text-align: right;\">\n",
              "      <th></th>\n",
              "      <th>age</th>\n",
              "      <th>gender</th>\n",
              "      <th>first_issue_time</th>\n",
              "      <th>first_redeem_time</th>\n",
              "      <th>issue_redeem_delay</th>\n",
              "    </tr>\n",
              "    <tr>\n",
              "      <th>client_id</th>\n",
              "      <th></th>\n",
              "      <th></th>\n",
              "      <th></th>\n",
              "      <th></th>\n",
              "      <th></th>\n",
              "    </tr>\n",
              "  </thead>\n",
              "  <tbody>\n",
              "    <tr>\n",
              "      <th>000012768d</th>\n",
              "      <td>45</td>\n",
              "      <td>U</td>\n",
              "      <td>1501947648</td>\n",
              "      <td>1.515094e+09</td>\n",
              "      <td>13146559.0</td>\n",
              "    </tr>\n",
              "    <tr>\n",
              "      <th>000036f903</th>\n",
              "      <td>72</td>\n",
              "      <td>F</td>\n",
              "      <td>1491832463</td>\n",
              "      <td>1.492951e+09</td>\n",
              "      <td>1118613.0</td>\n",
              "    </tr>\n",
              "    <tr>\n",
              "      <th>000048b7a6</th>\n",
              "      <td>68</td>\n",
              "      <td>F</td>\n",
              "      <td>1544880791</td>\n",
              "      <td>1.511522e+09</td>\n",
              "      <td>15978107.0</td>\n",
              "    </tr>\n",
              "    <tr>\n",
              "      <th>000073194a</th>\n",
              "      <td>60</td>\n",
              "      <td>F</td>\n",
              "      <td>1495544174</td>\n",
              "      <td>1.511522e+09</td>\n",
              "      <td>15978107.0</td>\n",
              "    </tr>\n",
              "    <tr>\n",
              "      <th>00007c7133</th>\n",
              "      <td>67</td>\n",
              "      <td>U</td>\n",
              "      <td>1495469828</td>\n",
              "      <td>1.546277e+09</td>\n",
              "      <td>50806825.0</td>\n",
              "    </tr>\n",
              "    <tr>\n",
              "      <th>...</th>\n",
              "      <td>...</td>\n",
              "      <td>...</td>\n",
              "      <td>...</td>\n",
              "      <td>...</td>\n",
              "      <td>...</td>\n",
              "    </tr>\n",
              "    <tr>\n",
              "      <th>fffece623e</th>\n",
              "      <td>67</td>\n",
              "      <td>U</td>\n",
              "      <td>1526224170</td>\n",
              "      <td>1.545938e+09</td>\n",
              "      <td>19713429.0</td>\n",
              "    </tr>\n",
              "    <tr>\n",
              "      <th>ffff3dfff8</th>\n",
              "      <td>56</td>\n",
              "      <td>F</td>\n",
              "      <td>1541088412</td>\n",
              "      <td>1.544204e+09</td>\n",
              "      <td>3115615.0</td>\n",
              "    </tr>\n",
              "    <tr>\n",
              "      <th>ffffaab9da</th>\n",
              "      <td>23</td>\n",
              "      <td>F</td>\n",
              "      <td>1503686604</td>\n",
              "      <td>1.512756e+09</td>\n",
              "      <td>9068995.0</td>\n",
              "    </tr>\n",
              "    <tr>\n",
              "      <th>ffffeb5619</th>\n",
              "      <td>62</td>\n",
              "      <td>U</td>\n",
              "      <td>1512480388</td>\n",
              "      <td>1.503766e+09</td>\n",
              "      <td>1973789.0</td>\n",
              "    </tr>\n",
              "    <tr>\n",
              "      <th>fffff6ce77</th>\n",
              "      <td>42</td>\n",
              "      <td>U</td>\n",
              "      <td>1501791912</td>\n",
              "      <td>1.503766e+09</td>\n",
              "      <td>1973789.0</td>\n",
              "    </tr>\n",
              "  </tbody>\n",
              "</table>\n",
              "<p>400162 rows × 5 columns</p>\n",
              "</div>\n",
              "      <button class=\"colab-df-convert\" onclick=\"convertToInteractive('df-4f7e834c-ccb4-4161-8bfc-c562d1d7058a')\"\n",
              "              title=\"Convert this dataframe to an interactive table.\"\n",
              "              style=\"display:none;\">\n",
              "        \n",
              "  <svg xmlns=\"http://www.w3.org/2000/svg\" height=\"24px\"viewBox=\"0 0 24 24\"\n",
              "       width=\"24px\">\n",
              "    <path d=\"M0 0h24v24H0V0z\" fill=\"none\"/>\n",
              "    <path d=\"M18.56 5.44l.94 2.06.94-2.06 2.06-.94-2.06-.94-.94-2.06-.94 2.06-2.06.94zm-11 1L8.5 8.5l.94-2.06 2.06-.94-2.06-.94L8.5 2.5l-.94 2.06-2.06.94zm10 10l.94 2.06.94-2.06 2.06-.94-2.06-.94-.94-2.06-.94 2.06-2.06.94z\"/><path d=\"M17.41 7.96l-1.37-1.37c-.4-.4-.92-.59-1.43-.59-.52 0-1.04.2-1.43.59L10.3 9.45l-7.72 7.72c-.78.78-.78 2.05 0 2.83L4 21.41c.39.39.9.59 1.41.59.51 0 1.02-.2 1.41-.59l7.78-7.78 2.81-2.81c.8-.78.8-2.07 0-2.86zM5.41 20L4 18.59l7.72-7.72 1.47 1.35L5.41 20z\"/>\n",
              "  </svg>\n",
              "      </button>\n",
              "      \n",
              "  <style>\n",
              "    .colab-df-container {\n",
              "      display:flex;\n",
              "      flex-wrap:wrap;\n",
              "      gap: 12px;\n",
              "    }\n",
              "\n",
              "    .colab-df-convert {\n",
              "      background-color: #E8F0FE;\n",
              "      border: none;\n",
              "      border-radius: 50%;\n",
              "      cursor: pointer;\n",
              "      display: none;\n",
              "      fill: #1967D2;\n",
              "      height: 32px;\n",
              "      padding: 0 0 0 0;\n",
              "      width: 32px;\n",
              "    }\n",
              "\n",
              "    .colab-df-convert:hover {\n",
              "      background-color: #E2EBFA;\n",
              "      box-shadow: 0px 1px 2px rgba(60, 64, 67, 0.3), 0px 1px 3px 1px rgba(60, 64, 67, 0.15);\n",
              "      fill: #174EA6;\n",
              "    }\n",
              "\n",
              "    [theme=dark] .colab-df-convert {\n",
              "      background-color: #3B4455;\n",
              "      fill: #D2E3FC;\n",
              "    }\n",
              "\n",
              "    [theme=dark] .colab-df-convert:hover {\n",
              "      background-color: #434B5C;\n",
              "      box-shadow: 0px 1px 3px 1px rgba(0, 0, 0, 0.15);\n",
              "      filter: drop-shadow(0px 1px 2px rgba(0, 0, 0, 0.3));\n",
              "      fill: #FFFFFF;\n",
              "    }\n",
              "  </style>\n",
              "\n",
              "      <script>\n",
              "        const buttonEl =\n",
              "          document.querySelector('#df-4f7e834c-ccb4-4161-8bfc-c562d1d7058a button.colab-df-convert');\n",
              "        buttonEl.style.display =\n",
              "          google.colab.kernel.accessAllowed ? 'block' : 'none';\n",
              "\n",
              "        async function convertToInteractive(key) {\n",
              "          const element = document.querySelector('#df-4f7e834c-ccb4-4161-8bfc-c562d1d7058a');\n",
              "          const dataTable =\n",
              "            await google.colab.kernel.invokeFunction('convertToInteractive',\n",
              "                                                     [key], {});\n",
              "          if (!dataTable) return;\n",
              "\n",
              "          const docLinkHtml = 'Like what you see? Visit the ' +\n",
              "            '<a target=\"_blank\" href=https://colab.research.google.com/notebooks/data_table.ipynb>data table notebook</a>'\n",
              "            + ' to learn more about interactive tables.';\n",
              "          element.innerHTML = '';\n",
              "          dataTable['output_type'] = 'display_data';\n",
              "          await google.colab.output.renderOutput(dataTable, element);\n",
              "          const docLink = document.createElement('div');\n",
              "          docLink.innerHTML = docLinkHtml;\n",
              "          element.appendChild(docLink);\n",
              "        }\n",
              "      </script>\n",
              "    </div>\n",
              "  </div>\n",
              "  "
            ]
          },
          "metadata": {},
          "execution_count": 7
        }
      ]
    },
    {
      "cell_type": "code",
      "source": [
        "df_train"
      ],
      "metadata": {
        "colab": {
          "base_uri": "https://localhost:8080/",
          "height": 455
        },
        "id": "LM41PrprEVIs",
        "outputId": "d328e6d9-69cb-4e3c-d9d1-d94470f6ac67"
      },
      "execution_count": 8,
      "outputs": [
        {
          "output_type": "execute_result",
          "data": {
            "text/plain": [
              "            treatment_flg  target\n",
              "client_id                        \n",
              "000012768d              0       1\n",
              "000036f903              1       1\n",
              "00010925a5              1       1\n",
              "0001f552b0              1       1\n",
              "00020e7b18              1       1\n",
              "...                   ...     ...\n",
              "fffe0abb97              0       0\n",
              "fffe0ed719              0       1\n",
              "fffea1204c              0       1\n",
              "fffeca6d22              1       0\n",
              "fffff6ce77              0       1\n",
              "\n",
              "[200039 rows x 2 columns]"
            ],
            "text/html": [
              "\n",
              "  <div id=\"df-a338aa6b-4d33-43d2-8d38-a3393d532549\">\n",
              "    <div class=\"colab-df-container\">\n",
              "      <div>\n",
              "<style scoped>\n",
              "    .dataframe tbody tr th:only-of-type {\n",
              "        vertical-align: middle;\n",
              "    }\n",
              "\n",
              "    .dataframe tbody tr th {\n",
              "        vertical-align: top;\n",
              "    }\n",
              "\n",
              "    .dataframe thead th {\n",
              "        text-align: right;\n",
              "    }\n",
              "</style>\n",
              "<table border=\"1\" class=\"dataframe\">\n",
              "  <thead>\n",
              "    <tr style=\"text-align: right;\">\n",
              "      <th></th>\n",
              "      <th>treatment_flg</th>\n",
              "      <th>target</th>\n",
              "    </tr>\n",
              "    <tr>\n",
              "      <th>client_id</th>\n",
              "      <th></th>\n",
              "      <th></th>\n",
              "    </tr>\n",
              "  </thead>\n",
              "  <tbody>\n",
              "    <tr>\n",
              "      <th>000012768d</th>\n",
              "      <td>0</td>\n",
              "      <td>1</td>\n",
              "    </tr>\n",
              "    <tr>\n",
              "      <th>000036f903</th>\n",
              "      <td>1</td>\n",
              "      <td>1</td>\n",
              "    </tr>\n",
              "    <tr>\n",
              "      <th>00010925a5</th>\n",
              "      <td>1</td>\n",
              "      <td>1</td>\n",
              "    </tr>\n",
              "    <tr>\n",
              "      <th>0001f552b0</th>\n",
              "      <td>1</td>\n",
              "      <td>1</td>\n",
              "    </tr>\n",
              "    <tr>\n",
              "      <th>00020e7b18</th>\n",
              "      <td>1</td>\n",
              "      <td>1</td>\n",
              "    </tr>\n",
              "    <tr>\n",
              "      <th>...</th>\n",
              "      <td>...</td>\n",
              "      <td>...</td>\n",
              "    </tr>\n",
              "    <tr>\n",
              "      <th>fffe0abb97</th>\n",
              "      <td>0</td>\n",
              "      <td>0</td>\n",
              "    </tr>\n",
              "    <tr>\n",
              "      <th>fffe0ed719</th>\n",
              "      <td>0</td>\n",
              "      <td>1</td>\n",
              "    </tr>\n",
              "    <tr>\n",
              "      <th>fffea1204c</th>\n",
              "      <td>0</td>\n",
              "      <td>1</td>\n",
              "    </tr>\n",
              "    <tr>\n",
              "      <th>fffeca6d22</th>\n",
              "      <td>1</td>\n",
              "      <td>0</td>\n",
              "    </tr>\n",
              "    <tr>\n",
              "      <th>fffff6ce77</th>\n",
              "      <td>0</td>\n",
              "      <td>1</td>\n",
              "    </tr>\n",
              "  </tbody>\n",
              "</table>\n",
              "<p>200039 rows × 2 columns</p>\n",
              "</div>\n",
              "      <button class=\"colab-df-convert\" onclick=\"convertToInteractive('df-a338aa6b-4d33-43d2-8d38-a3393d532549')\"\n",
              "              title=\"Convert this dataframe to an interactive table.\"\n",
              "              style=\"display:none;\">\n",
              "        \n",
              "  <svg xmlns=\"http://www.w3.org/2000/svg\" height=\"24px\"viewBox=\"0 0 24 24\"\n",
              "       width=\"24px\">\n",
              "    <path d=\"M0 0h24v24H0V0z\" fill=\"none\"/>\n",
              "    <path d=\"M18.56 5.44l.94 2.06.94-2.06 2.06-.94-2.06-.94-.94-2.06-.94 2.06-2.06.94zm-11 1L8.5 8.5l.94-2.06 2.06-.94-2.06-.94L8.5 2.5l-.94 2.06-2.06.94zm10 10l.94 2.06.94-2.06 2.06-.94-2.06-.94-.94-2.06-.94 2.06-2.06.94z\"/><path d=\"M17.41 7.96l-1.37-1.37c-.4-.4-.92-.59-1.43-.59-.52 0-1.04.2-1.43.59L10.3 9.45l-7.72 7.72c-.78.78-.78 2.05 0 2.83L4 21.41c.39.39.9.59 1.41.59.51 0 1.02-.2 1.41-.59l7.78-7.78 2.81-2.81c.8-.78.8-2.07 0-2.86zM5.41 20L4 18.59l7.72-7.72 1.47 1.35L5.41 20z\"/>\n",
              "  </svg>\n",
              "      </button>\n",
              "      \n",
              "  <style>\n",
              "    .colab-df-container {\n",
              "      display:flex;\n",
              "      flex-wrap:wrap;\n",
              "      gap: 12px;\n",
              "    }\n",
              "\n",
              "    .colab-df-convert {\n",
              "      background-color: #E8F0FE;\n",
              "      border: none;\n",
              "      border-radius: 50%;\n",
              "      cursor: pointer;\n",
              "      display: none;\n",
              "      fill: #1967D2;\n",
              "      height: 32px;\n",
              "      padding: 0 0 0 0;\n",
              "      width: 32px;\n",
              "    }\n",
              "\n",
              "    .colab-df-convert:hover {\n",
              "      background-color: #E2EBFA;\n",
              "      box-shadow: 0px 1px 2px rgba(60, 64, 67, 0.3), 0px 1px 3px 1px rgba(60, 64, 67, 0.15);\n",
              "      fill: #174EA6;\n",
              "    }\n",
              "\n",
              "    [theme=dark] .colab-df-convert {\n",
              "      background-color: #3B4455;\n",
              "      fill: #D2E3FC;\n",
              "    }\n",
              "\n",
              "    [theme=dark] .colab-df-convert:hover {\n",
              "      background-color: #434B5C;\n",
              "      box-shadow: 0px 1px 3px 1px rgba(0, 0, 0, 0.15);\n",
              "      filter: drop-shadow(0px 1px 2px rgba(0, 0, 0, 0.3));\n",
              "      fill: #FFFFFF;\n",
              "    }\n",
              "  </style>\n",
              "\n",
              "      <script>\n",
              "        const buttonEl =\n",
              "          document.querySelector('#df-a338aa6b-4d33-43d2-8d38-a3393d532549 button.colab-df-convert');\n",
              "        buttonEl.style.display =\n",
              "          google.colab.kernel.accessAllowed ? 'block' : 'none';\n",
              "\n",
              "        async function convertToInteractive(key) {\n",
              "          const element = document.querySelector('#df-a338aa6b-4d33-43d2-8d38-a3393d532549');\n",
              "          const dataTable =\n",
              "            await google.colab.kernel.invokeFunction('convertToInteractive',\n",
              "                                                     [key], {});\n",
              "          if (!dataTable) return;\n",
              "\n",
              "          const docLinkHtml = 'Like what you see? Visit the ' +\n",
              "            '<a target=\"_blank\" href=https://colab.research.google.com/notebooks/data_table.ipynb>data table notebook</a>'\n",
              "            + ' to learn more about interactive tables.';\n",
              "          element.innerHTML = '';\n",
              "          dataTable['output_type'] = 'display_data';\n",
              "          await google.colab.output.renderOutput(dataTable, element);\n",
              "          const docLink = document.createElement('div');\n",
              "          docLink.innerHTML = docLinkHtml;\n",
              "          element.appendChild(docLink);\n",
              "        }\n",
              "      </script>\n",
              "    </div>\n",
              "  </div>\n",
              "  "
            ]
          },
          "metadata": {},
          "execution_count": 8
        }
      ]
    },
    {
      "cell_type": "code",
      "source": [
        "X_train = df_features.loc[indices_learn, :]          # 訓練特徵\n",
        "y_train = df_train.loc[indices_learn, 'target']        # 只取target的維度\n",
        "treat_train = df_train.loc[indices_learn, 'treatment_flg']  # 只取treatment的維度\n",
        "\n",
        "X_val = df_features.loc[indices_valid, :]\n",
        "y_val = df_train.loc[indices_valid, 'target']\n",
        "treat_val =  df_train.loc[indices_valid, 'treatment_flg']\n",
        "\n",
        "X_train_full = df_features.loc[df_train.index, :]\n",
        "y_train_full = df_train.loc[:, 'target']\n",
        "treat_train_full = df_train.loc[:, 'treatment_flg']\n",
        "\n",
        "X_test = df_features.loc[indices_test, :]\n",
        "\n",
        "# cat_features = ['gender']\n",
        "\n",
        "models_results = {\n",
        "    'approach': [],\n",
        "    'uplift@30%': []\n",
        "}"
      ],
      "metadata": {
        "id": "vQI_a6C0BEYy"
      },
      "execution_count": 9,
      "outputs": []
    },
    {
      "cell_type": "code",
      "source": [
        "models_results = {\n",
        "    'approach': [],\n",
        "    'uplift@30%': []\n",
        "}"
      ],
      "metadata": {
        "id": "IcTEXwfcwMr-"
      },
      "execution_count": 71,
      "outputs": []
    },
    {
      "cell_type": "markdown",
      "source": [
        "看一下我們總共需要什麼資料！"
      ],
      "metadata": {
        "id": "n-N3ax98EyMi"
      }
    },
    {
      "cell_type": "code",
      "source": [
        "X_train"
      ],
      "metadata": {
        "colab": {
          "base_uri": "https://localhost:8080/",
          "height": 455
        },
        "id": "IF-6wyLxEtmb",
        "outputId": "2657d382-46bc-4ea7-c1ea-3eca0eaf32f6"
      },
      "execution_count": 10,
      "outputs": [
        {
          "output_type": "execute_result",
          "data": {
            "text/plain": [
              "            age gender  first_issue_time  first_redeem_time  \\\n",
              "client_id                                                     \n",
              "ad6561e2d8   50      F        1512322431       1.527102e+09   \n",
              "7c1ccbf93f   24      F        1510331629       1.519326e+09   \n",
              "b58fadcab6   36      U        1509657465       1.537045e+09   \n",
              "e99e6fabb9   79      F        1526466080       1.527713e+09   \n",
              "27fb6f8520   34      F        1500320188       1.513332e+09   \n",
              "...         ...    ...               ...                ...   \n",
              "999d284453   72      U        1540991437       1.554559e+09   \n",
              "f634deea4e   35      U        1517752292       1.520877e+09   \n",
              "16cb4f99b0   50      F        1519380153       1.559324e+09   \n",
              "23c2b72b2e   55      U        1498935933       1.508353e+09   \n",
              "1430184499   63      M        1495476307       1.519757e+09   \n",
              "\n",
              "            issue_redeem_delay  \n",
              "client_id                       \n",
              "ad6561e2d8          14779510.0  \n",
              "7c1ccbf93f           8994516.0  \n",
              "b58fadcab6          27387871.0  \n",
              "e99e6fabb9           1247284.0  \n",
              "27fb6f8520          13012137.0  \n",
              "...                        ...  \n",
              "999d284453          13567144.0  \n",
              "f634deea4e           3124210.0  \n",
              "16cb4f99b0          39944103.0  \n",
              "23c2b72b2e           9416669.0  \n",
              "1430184499          24280332.0  \n",
              "\n",
              "[140027 rows x 5 columns]"
            ],
            "text/html": [
              "\n",
              "  <div id=\"df-c5949bd5-5f5b-4627-85d2-87f8345842d3\">\n",
              "    <div class=\"colab-df-container\">\n",
              "      <div>\n",
              "<style scoped>\n",
              "    .dataframe tbody tr th:only-of-type {\n",
              "        vertical-align: middle;\n",
              "    }\n",
              "\n",
              "    .dataframe tbody tr th {\n",
              "        vertical-align: top;\n",
              "    }\n",
              "\n",
              "    .dataframe thead th {\n",
              "        text-align: right;\n",
              "    }\n",
              "</style>\n",
              "<table border=\"1\" class=\"dataframe\">\n",
              "  <thead>\n",
              "    <tr style=\"text-align: right;\">\n",
              "      <th></th>\n",
              "      <th>age</th>\n",
              "      <th>gender</th>\n",
              "      <th>first_issue_time</th>\n",
              "      <th>first_redeem_time</th>\n",
              "      <th>issue_redeem_delay</th>\n",
              "    </tr>\n",
              "    <tr>\n",
              "      <th>client_id</th>\n",
              "      <th></th>\n",
              "      <th></th>\n",
              "      <th></th>\n",
              "      <th></th>\n",
              "      <th></th>\n",
              "    </tr>\n",
              "  </thead>\n",
              "  <tbody>\n",
              "    <tr>\n",
              "      <th>ad6561e2d8</th>\n",
              "      <td>50</td>\n",
              "      <td>F</td>\n",
              "      <td>1512322431</td>\n",
              "      <td>1.527102e+09</td>\n",
              "      <td>14779510.0</td>\n",
              "    </tr>\n",
              "    <tr>\n",
              "      <th>7c1ccbf93f</th>\n",
              "      <td>24</td>\n",
              "      <td>F</td>\n",
              "      <td>1510331629</td>\n",
              "      <td>1.519326e+09</td>\n",
              "      <td>8994516.0</td>\n",
              "    </tr>\n",
              "    <tr>\n",
              "      <th>b58fadcab6</th>\n",
              "      <td>36</td>\n",
              "      <td>U</td>\n",
              "      <td>1509657465</td>\n",
              "      <td>1.537045e+09</td>\n",
              "      <td>27387871.0</td>\n",
              "    </tr>\n",
              "    <tr>\n",
              "      <th>e99e6fabb9</th>\n",
              "      <td>79</td>\n",
              "      <td>F</td>\n",
              "      <td>1526466080</td>\n",
              "      <td>1.527713e+09</td>\n",
              "      <td>1247284.0</td>\n",
              "    </tr>\n",
              "    <tr>\n",
              "      <th>27fb6f8520</th>\n",
              "      <td>34</td>\n",
              "      <td>F</td>\n",
              "      <td>1500320188</td>\n",
              "      <td>1.513332e+09</td>\n",
              "      <td>13012137.0</td>\n",
              "    </tr>\n",
              "    <tr>\n",
              "      <th>...</th>\n",
              "      <td>...</td>\n",
              "      <td>...</td>\n",
              "      <td>...</td>\n",
              "      <td>...</td>\n",
              "      <td>...</td>\n",
              "    </tr>\n",
              "    <tr>\n",
              "      <th>999d284453</th>\n",
              "      <td>72</td>\n",
              "      <td>U</td>\n",
              "      <td>1540991437</td>\n",
              "      <td>1.554559e+09</td>\n",
              "      <td>13567144.0</td>\n",
              "    </tr>\n",
              "    <tr>\n",
              "      <th>f634deea4e</th>\n",
              "      <td>35</td>\n",
              "      <td>U</td>\n",
              "      <td>1517752292</td>\n",
              "      <td>1.520877e+09</td>\n",
              "      <td>3124210.0</td>\n",
              "    </tr>\n",
              "    <tr>\n",
              "      <th>16cb4f99b0</th>\n",
              "      <td>50</td>\n",
              "      <td>F</td>\n",
              "      <td>1519380153</td>\n",
              "      <td>1.559324e+09</td>\n",
              "      <td>39944103.0</td>\n",
              "    </tr>\n",
              "    <tr>\n",
              "      <th>23c2b72b2e</th>\n",
              "      <td>55</td>\n",
              "      <td>U</td>\n",
              "      <td>1498935933</td>\n",
              "      <td>1.508353e+09</td>\n",
              "      <td>9416669.0</td>\n",
              "    </tr>\n",
              "    <tr>\n",
              "      <th>1430184499</th>\n",
              "      <td>63</td>\n",
              "      <td>M</td>\n",
              "      <td>1495476307</td>\n",
              "      <td>1.519757e+09</td>\n",
              "      <td>24280332.0</td>\n",
              "    </tr>\n",
              "  </tbody>\n",
              "</table>\n",
              "<p>140027 rows × 5 columns</p>\n",
              "</div>\n",
              "      <button class=\"colab-df-convert\" onclick=\"convertToInteractive('df-c5949bd5-5f5b-4627-85d2-87f8345842d3')\"\n",
              "              title=\"Convert this dataframe to an interactive table.\"\n",
              "              style=\"display:none;\">\n",
              "        \n",
              "  <svg xmlns=\"http://www.w3.org/2000/svg\" height=\"24px\"viewBox=\"0 0 24 24\"\n",
              "       width=\"24px\">\n",
              "    <path d=\"M0 0h24v24H0V0z\" fill=\"none\"/>\n",
              "    <path d=\"M18.56 5.44l.94 2.06.94-2.06 2.06-.94-2.06-.94-.94-2.06-.94 2.06-2.06.94zm-11 1L8.5 8.5l.94-2.06 2.06-.94-2.06-.94L8.5 2.5l-.94 2.06-2.06.94zm10 10l.94 2.06.94-2.06 2.06-.94-2.06-.94-.94-2.06-.94 2.06-2.06.94z\"/><path d=\"M17.41 7.96l-1.37-1.37c-.4-.4-.92-.59-1.43-.59-.52 0-1.04.2-1.43.59L10.3 9.45l-7.72 7.72c-.78.78-.78 2.05 0 2.83L4 21.41c.39.39.9.59 1.41.59.51 0 1.02-.2 1.41-.59l7.78-7.78 2.81-2.81c.8-.78.8-2.07 0-2.86zM5.41 20L4 18.59l7.72-7.72 1.47 1.35L5.41 20z\"/>\n",
              "  </svg>\n",
              "      </button>\n",
              "      \n",
              "  <style>\n",
              "    .colab-df-container {\n",
              "      display:flex;\n",
              "      flex-wrap:wrap;\n",
              "      gap: 12px;\n",
              "    }\n",
              "\n",
              "    .colab-df-convert {\n",
              "      background-color: #E8F0FE;\n",
              "      border: none;\n",
              "      border-radius: 50%;\n",
              "      cursor: pointer;\n",
              "      display: none;\n",
              "      fill: #1967D2;\n",
              "      height: 32px;\n",
              "      padding: 0 0 0 0;\n",
              "      width: 32px;\n",
              "    }\n",
              "\n",
              "    .colab-df-convert:hover {\n",
              "      background-color: #E2EBFA;\n",
              "      box-shadow: 0px 1px 2px rgba(60, 64, 67, 0.3), 0px 1px 3px 1px rgba(60, 64, 67, 0.15);\n",
              "      fill: #174EA6;\n",
              "    }\n",
              "\n",
              "    [theme=dark] .colab-df-convert {\n",
              "      background-color: #3B4455;\n",
              "      fill: #D2E3FC;\n",
              "    }\n",
              "\n",
              "    [theme=dark] .colab-df-convert:hover {\n",
              "      background-color: #434B5C;\n",
              "      box-shadow: 0px 1px 3px 1px rgba(0, 0, 0, 0.15);\n",
              "      filter: drop-shadow(0px 1px 2px rgba(0, 0, 0, 0.3));\n",
              "      fill: #FFFFFF;\n",
              "    }\n",
              "  </style>\n",
              "\n",
              "      <script>\n",
              "        const buttonEl =\n",
              "          document.querySelector('#df-c5949bd5-5f5b-4627-85d2-87f8345842d3 button.colab-df-convert');\n",
              "        buttonEl.style.display =\n",
              "          google.colab.kernel.accessAllowed ? 'block' : 'none';\n",
              "\n",
              "        async function convertToInteractive(key) {\n",
              "          const element = document.querySelector('#df-c5949bd5-5f5b-4627-85d2-87f8345842d3');\n",
              "          const dataTable =\n",
              "            await google.colab.kernel.invokeFunction('convertToInteractive',\n",
              "                                                     [key], {});\n",
              "          if (!dataTable) return;\n",
              "\n",
              "          const docLinkHtml = 'Like what you see? Visit the ' +\n",
              "            '<a target=\"_blank\" href=https://colab.research.google.com/notebooks/data_table.ipynb>data table notebook</a>'\n",
              "            + ' to learn more about interactive tables.';\n",
              "          element.innerHTML = '';\n",
              "          dataTable['output_type'] = 'display_data';\n",
              "          await google.colab.output.renderOutput(dataTable, element);\n",
              "          const docLink = document.createElement('div');\n",
              "          docLink.innerHTML = docLinkHtml;\n",
              "          element.appendChild(docLink);\n",
              "        }\n",
              "      </script>\n",
              "    </div>\n",
              "  </div>\n",
              "  "
            ]
          },
          "metadata": {},
          "execution_count": 10
        }
      ]
    },
    {
      "cell_type": "code",
      "source": [
        "y_train"
      ],
      "metadata": {
        "colab": {
          "base_uri": "https://localhost:8080/",
          "height": 0
        },
        "id": "PsPX0Yd6BGPS",
        "outputId": "4a3b8f77-6fc7-4254-fec3-7ed78070ddaa"
      },
      "execution_count": 11,
      "outputs": [
        {
          "output_type": "execute_result",
          "data": {
            "text/plain": [
              "client_id\n",
              "ad6561e2d8    1\n",
              "7c1ccbf93f    1\n",
              "b58fadcab6    1\n",
              "e99e6fabb9    0\n",
              "27fb6f8520    1\n",
              "             ..\n",
              "999d284453    1\n",
              "f634deea4e    1\n",
              "16cb4f99b0    1\n",
              "23c2b72b2e    1\n",
              "1430184499    1\n",
              "Name: target, Length: 140027, dtype: int64"
            ]
          },
          "metadata": {},
          "execution_count": 11
        }
      ]
    },
    {
      "cell_type": "code",
      "source": [
        "treat_train"
      ],
      "metadata": {
        "colab": {
          "base_uri": "https://localhost:8080/",
          "height": 0
        },
        "id": "8ERxi9HREvBK",
        "outputId": "0c4c35d3-45d1-45b0-9cd7-ebddbebdf70b"
      },
      "execution_count": 12,
      "outputs": [
        {
          "output_type": "execute_result",
          "data": {
            "text/plain": [
              "client_id\n",
              "ad6561e2d8    1\n",
              "7c1ccbf93f    1\n",
              "b58fadcab6    1\n",
              "e99e6fabb9    0\n",
              "27fb6f8520    1\n",
              "             ..\n",
              "999d284453    1\n",
              "f634deea4e    0\n",
              "16cb4f99b0    0\n",
              "23c2b72b2e    1\n",
              "1430184499    0\n",
              "Name: treatment_flg, Length: 140027, dtype: int64"
            ]
          },
          "metadata": {},
          "execution_count": 12
        }
      ]
    },
    {
      "cell_type": "markdown",
      "source": [
        "使用 TwoModels 去實現 uplift model"
      ],
      "metadata": {
        "id": "MtFo3jxCFBEC"
      }
    },
    {
      "cell_type": "code",
      "source": [
        "from sklift.models import TwoModels\n",
        "from sklearn.ensemble import RandomForestClassifier\n",
        "from sklift.metrics import uplift_at_k\n",
        "from sklift.viz import plot_uplift_preds"
      ],
      "metadata": {
        "id": "NgVAj7L7FJg9"
      },
      "execution_count": 13,
      "outputs": []
    },
    {
      "cell_type": "code",
      "source": [
        "X_train.columns"
      ],
      "metadata": {
        "colab": {
          "base_uri": "https://localhost:8080/",
          "height": 0
        },
        "id": "wAzjIXl_Gs9N",
        "outputId": "16cfe604-9790-4bb8-9859-0454cc881e64"
      },
      "execution_count": 14,
      "outputs": [
        {
          "output_type": "execute_result",
          "data": {
            "text/plain": [
              "Index(['age', 'gender', 'first_issue_time', 'first_redeem_time',\n",
              "       'issue_redeem_delay'],\n",
              "      dtype='object')"
            ]
          },
          "metadata": {},
          "execution_count": 14
        }
      ]
    },
    {
      "cell_type": "code",
      "source": [
        "tm = TwoModels(\n",
        "    estimator_trmnt=RandomForestClassifier(random_state=222),\n",
        "    estimator_ctrl=RandomForestClassifier(random_state=222),\n",
        "    method='vanilla'\n",
        ")\n",
        "\n",
        "tm.fit(\n",
        "    X_train[['age', 'first_issue_time', 'first_redeem_time',\n",
        "       'issue_redeem_delay']], y_train, treat_train,\n",
        ")\n",
        "\n",
        "uplift_tm = tm.predict(X_val[['age', 'first_issue_time', 'first_redeem_time',\n",
        "       'issue_redeem_delay']])\n",
        "tm_score = uplift_at_k(y_true=y_val, uplift=uplift_tm, treatment=treat_val, strategy='by_group', k=0.3)"
      ],
      "metadata": {
        "id": "M6zCnMcVEwR6"
      },
      "execution_count": 15,
      "outputs": []
    },
    {
      "cell_type": "code",
      "source": [
        "models_results['approach'].append('TwoModels')\n",
        "models_results['uplift@30%'].append(tm_score)\n",
        "\n",
        "plot_uplift_preds(trmnt_preds=tm.trmnt_preds_, ctrl_preds=tm.ctrl_preds_);"
      ],
      "metadata": {
        "colab": {
          "base_uri": "https://localhost:8080/",
          "height": 430
        },
        "id": "YCOi6fsOGXlN",
        "outputId": "bb3d54a2-bc25-4da4-e8d0-1b3e692a802c"
      },
      "execution_count": 72,
      "outputs": [
        {
          "output_type": "display_data",
          "data": {
            "text/plain": [
              "<Figure size 1440x504 with 3 Axes>"
            ],
            "image/png": "[encoded data removed]"
          },
          "metadata": {
            "needs_background": "light"
          }
        }
      ]
    },
    {
      "cell_type": "markdown",
      "source": [
        "#### 使用 NN 類模型模擬 (Two Model的優勢，所有模型都可使用)\n"
      ],
      "metadata": {
        "id": "O8A5r8WQb747"
      }
    },
    {
      "cell_type": "code",
      "source": [
        "from tensorflow import keras\n",
        "from tensorflow.keras import Model\n",
        "from tensorflow.keras import layers\n",
        "from sklearn.preprocessing import StandardScaler"
      ],
      "metadata": {
        "id": "iSETKFfmbzSf"
      },
      "execution_count": 17,
      "outputs": []
    },
    {
      "cell_type": "code",
      "source": [
        "X_train"
      ],
      "metadata": {
        "colab": {
          "base_uri": "https://localhost:8080/",
          "height": 455
        },
        "id": "0iWkTQ5hcfUz",
        "outputId": "39520493-4bba-4652-f940-bc490ac159d5"
      },
      "execution_count": 18,
      "outputs": [
        {
          "output_type": "execute_result",
          "data": {
            "text/plain": [
              "            age gender  first_issue_time  first_redeem_time  \\\n",
              "client_id                                                     \n",
              "ad6561e2d8   50      F        1512322431       1.527102e+09   \n",
              "7c1ccbf93f   24      F        1510331629       1.519326e+09   \n",
              "b58fadcab6   36      U        1509657465       1.537045e+09   \n",
              "e99e6fabb9   79      F        1526466080       1.527713e+09   \n",
              "27fb6f8520   34      F        1500320188       1.513332e+09   \n",
              "...         ...    ...               ...                ...   \n",
              "999d284453   72      U        1540991437       1.554559e+09   \n",
              "f634deea4e   35      U        1517752292       1.520877e+09   \n",
              "16cb4f99b0   50      F        1519380153       1.559324e+09   \n",
              "23c2b72b2e   55      U        1498935933       1.508353e+09   \n",
              "1430184499   63      M        1495476307       1.519757e+09   \n",
              "\n",
              "            issue_redeem_delay  \n",
              "client_id                       \n",
              "ad6561e2d8          14779510.0  \n",
              "7c1ccbf93f           8994516.0  \n",
              "b58fadcab6          27387871.0  \n",
              "e99e6fabb9           1247284.0  \n",
              "27fb6f8520          13012137.0  \n",
              "...                        ...  \n",
              "999d284453          13567144.0  \n",
              "f634deea4e           3124210.0  \n",
              "16cb4f99b0          39944103.0  \n",
              "23c2b72b2e           9416669.0  \n",
              "1430184499          24280332.0  \n",
              "\n",
              "[140027 rows x 5 columns]"
            ],
            "text/html": [
              "\n",
              "  <div id=\"df-a6569c53-aba3-4da4-b0cb-b80bab193fb1\">\n",
              "    <div class=\"colab-df-container\">\n",
              "      <div>\n",
              "<style scoped>\n",
              "    .dataframe tbody tr th:only-of-type {\n",
              "        vertical-align: middle;\n",
              "    }\n",
              "\n",
              "    .dataframe tbody tr th {\n",
              "        vertical-align: top;\n",
              "    }\n",
              "\n",
              "    .dataframe thead th {\n",
              "        text-align: right;\n",
              "    }\n",
              "</style>\n",
              "<table border=\"1\" class=\"dataframe\">\n",
              "  <thead>\n",
              "    <tr style=\"text-align: right;\">\n",
              "      <th></th>\n",
              "      <th>age</th>\n",
              "      <th>gender</th>\n",
              "      <th>first_issue_time</th>\n",
              "      <th>first_redeem_time</th>\n",
              "      <th>issue_redeem_delay</th>\n",
              "    </tr>\n",
              "    <tr>\n",
              "      <th>client_id</th>\n",
              "      <th></th>\n",
              "      <th></th>\n",
              "      <th></th>\n",
              "      <th></th>\n",
              "      <th></th>\n",
              "    </tr>\n",
              "  </thead>\n",
              "  <tbody>\n",
              "    <tr>\n",
              "      <th>ad6561e2d8</th>\n",
              "      <td>50</td>\n",
              "      <td>F</td>\n",
              "      <td>1512322431</td>\n",
              "      <td>1.527102e+09</td>\n",
              "      <td>14779510.0</td>\n",
              "    </tr>\n",
              "    <tr>\n",
              "      <th>7c1ccbf93f</th>\n",
              "      <td>24</td>\n",
              "      <td>F</td>\n",
              "      <td>1510331629</td>\n",
              "      <td>1.519326e+09</td>\n",
              "      <td>8994516.0</td>\n",
              "    </tr>\n",
              "    <tr>\n",
              "      <th>b58fadcab6</th>\n",
              "      <td>36</td>\n",
              "      <td>U</td>\n",
              "      <td>1509657465</td>\n",
              "      <td>1.537045e+09</td>\n",
              "      <td>27387871.0</td>\n",
              "    </tr>\n",
              "    <tr>\n",
              "      <th>e99e6fabb9</th>\n",
              "      <td>79</td>\n",
              "      <td>F</td>\n",
              "      <td>1526466080</td>\n",
              "      <td>1.527713e+09</td>\n",
              "      <td>1247284.0</td>\n",
              "    </tr>\n",
              "    <tr>\n",
              "      <th>27fb6f8520</th>\n",
              "      <td>34</td>\n",
              "      <td>F</td>\n",
              "      <td>1500320188</td>\n",
              "      <td>1.513332e+09</td>\n",
              "      <td>13012137.0</td>\n",
              "    </tr>\n",
              "    <tr>\n",
              "      <th>...</th>\n",
              "      <td>...</td>\n",
              "      <td>...</td>\n",
              "      <td>...</td>\n",
              "      <td>...</td>\n",
              "      <td>...</td>\n",
              "    </tr>\n",
              "    <tr>\n",
              "      <th>999d284453</th>\n",
              "      <td>72</td>\n",
              "      <td>U</td>\n",
              "      <td>1540991437</td>\n",
              "      <td>1.554559e+09</td>\n",
              "      <td>13567144.0</td>\n",
              "    </tr>\n",
              "    <tr>\n",
              "      <th>f634deea4e</th>\n",
              "      <td>35</td>\n",
              "      <td>U</td>\n",
              "      <td>1517752292</td>\n",
              "      <td>1.520877e+09</td>\n",
              "      <td>3124210.0</td>\n",
              "    </tr>\n",
              "    <tr>\n",
              "      <th>16cb4f99b0</th>\n",
              "      <td>50</td>\n",
              "      <td>F</td>\n",
              "      <td>1519380153</td>\n",
              "      <td>1.559324e+09</td>\n",
              "      <td>39944103.0</td>\n",
              "    </tr>\n",
              "    <tr>\n",
              "      <th>23c2b72b2e</th>\n",
              "      <td>55</td>\n",
              "      <td>U</td>\n",
              "      <td>1498935933</td>\n",
              "      <td>1.508353e+09</td>\n",
              "      <td>9416669.0</td>\n",
              "    </tr>\n",
              "    <tr>\n",
              "      <th>1430184499</th>\n",
              "      <td>63</td>\n",
              "      <td>M</td>\n",
              "      <td>1495476307</td>\n",
              "      <td>1.519757e+09</td>\n",
              "      <td>24280332.0</td>\n",
              "    </tr>\n",
              "  </tbody>\n",
              "</table>\n",
              "<p>140027 rows × 5 columns</p>\n",
              "</div>\n",
              "      <button class=\"colab-df-convert\" onclick=\"convertToInteractive('df-a6569c53-aba3-4da4-b0cb-b80bab193fb1')\"\n",
              "              title=\"Convert this dataframe to an interactive table.\"\n",
              "              style=\"display:none;\">\n",
              "        \n",
              "  <svg xmlns=\"http://www.w3.org/2000/svg\" height=\"24px\"viewBox=\"0 0 24 24\"\n",
              "       width=\"24px\">\n",
              "    <path d=\"M0 0h24v24H0V0z\" fill=\"none\"/>\n",
              "    <path d=\"M18.56 5.44l.94 2.06.94-2.06 2.06-.94-2.06-.94-.94-2.06-.94 2.06-2.06.94zm-11 1L8.5 8.5l.94-2.06 2.06-.94-2.06-.94L8.5 2.5l-.94 2.06-2.06.94zm10 10l.94 2.06.94-2.06 2.06-.94-2.06-.94-.94-2.06-.94 2.06-2.06.94z\"/><path d=\"M17.41 7.96l-1.37-1.37c-.4-.4-.92-.59-1.43-.59-.52 0-1.04.2-1.43.59L10.3 9.45l-7.72 7.72c-.78.78-.78 2.05 0 2.83L4 21.41c.39.39.9.59 1.41.59.51 0 1.02-.2 1.41-.59l7.78-7.78 2.81-2.81c.8-.78.8-2.07 0-2.86zM5.41 20L4 18.59l7.72-7.72 1.47 1.35L5.41 20z\"/>\n",
              "  </svg>\n",
              "      </button>\n",
              "      \n",
              "  <style>\n",
              "    .colab-df-container {\n",
              "      display:flex;\n",
              "      flex-wrap:wrap;\n",
              "      gap: 12px;\n",
              "    }\n",
              "\n",
              "    .colab-df-convert {\n",
              "      background-color: #E8F0FE;\n",
              "      border: none;\n",
              "      border-radius: 50%;\n",
              "      cursor: pointer;\n",
              "      display: none;\n",
              "      fill: #1967D2;\n",
              "      height: 32px;\n",
              "      padding: 0 0 0 0;\n",
              "      width: 32px;\n",
              "    }\n",
              "\n",
              "    .colab-df-convert:hover {\n",
              "      background-color: #E2EBFA;\n",
              "      box-shadow: 0px 1px 2px rgba(60, 64, 67, 0.3), 0px 1px 3px 1px rgba(60, 64, 67, 0.15);\n",
              "      fill: #174EA6;\n",
              "    }\n",
              "\n",
              "    [theme=dark] .colab-df-convert {\n",
              "      background-color: #3B4455;\n",
              "      fill: #D2E3FC;\n",
              "    }\n",
              "\n",
              "    [theme=dark] .colab-df-convert:hover {\n",
              "      background-color: #434B5C;\n",
              "      box-shadow: 0px 1px 3px 1px rgba(0, 0, 0, 0.15);\n",
              "      filter: drop-shadow(0px 1px 2px rgba(0, 0, 0, 0.3));\n",
              "      fill: #FFFFFF;\n",
              "    }\n",
              "  </style>\n",
              "\n",
              "      <script>\n",
              "        const buttonEl =\n",
              "          document.querySelector('#df-a6569c53-aba3-4da4-b0cb-b80bab193fb1 button.colab-df-convert');\n",
              "        buttonEl.style.display =\n",
              "          google.colab.kernel.accessAllowed ? 'block' : 'none';\n",
              "\n",
              "        async function convertToInteractive(key) {\n",
              "          const element = document.querySelector('#df-a6569c53-aba3-4da4-b0cb-b80bab193fb1');\n",
              "          const dataTable =\n",
              "            await google.colab.kernel.invokeFunction('convertToInteractive',\n",
              "                                                     [key], {});\n",
              "          if (!dataTable) return;\n",
              "\n",
              "          const docLinkHtml = 'Like what you see? Visit the ' +\n",
              "            '<a target=\"_blank\" href=https://colab.research.google.com/notebooks/data_table.ipynb>data table notebook</a>'\n",
              "            + ' to learn more about interactive tables.';\n",
              "          element.innerHTML = '';\n",
              "          dataTable['output_type'] = 'display_data';\n",
              "          await google.colab.output.renderOutput(dataTable, element);\n",
              "          const docLink = document.createElement('div');\n",
              "          docLink.innerHTML = docLinkHtml;\n",
              "          element.appendChild(docLink);\n",
              "        }\n",
              "      </script>\n",
              "    </div>\n",
              "  </div>\n",
              "  "
            ]
          },
          "metadata": {},
          "execution_count": 18
        }
      ]
    },
    {
      "cell_type": "code",
      "source": [
        "def get_nn_model():\n",
        "    inputs = keras.Input(shape=(4,))\n",
        "    x = layers.Dense(units=32, activation='relu')(inputs)\n",
        "    x = layers.Dense(units=8, activation='relu')(x)\n",
        "    outputs = layers.Dense(units=1, activation='sigmoid')(x)\n",
        "    return keras.Model(inputs, outputs)"
      ],
      "metadata": {
        "id": "rL4gEynucRGG"
      },
      "execution_count": 19,
      "outputs": []
    },
    {
      "cell_type": "code",
      "source": [
        "nn = get_nn_model()\n",
        "nn.compile(optimizer=keras.optimizers.Adam(), loss=['binary_crossentropy'], metrics=['acc'])"
      ],
      "metadata": {
        "id": "9cCl_eLjdpqA"
      },
      "execution_count": 20,
      "outputs": []
    },
    {
      "cell_type": "markdown",
      "source": [
        "## DNN\n",
        "1. 分為 Treated and not treated data\n",
        "2. 透過 分組去建立 treadted model and not treated model\n",
        "3. 預測 new user's target value by above two models\n",
        "4. 相減 取得 uplift\n",
        "5. 取得 top-k uplift 做為策略投遞對象"
      ],
      "metadata": {
        "id": "s_o6Cik3ory0"
      }
    },
    {
      "cell_type": "code",
      "source": [
        "# 1. 分為 Treated and not treated data\n",
        "\n",
        "scaler = StandardScaler()\n",
        "scaler.fit(X_train[['age', 'first_issue_time', 'first_redeem_time',\n",
        "       'issue_redeem_delay']])\n",
        "X_train_treat_scaled = scaler.transform(X_train[treat_train == 1][['age', 'first_issue_time', 'first_redeem_time',\n",
        "       'issue_redeem_delay']])\n",
        "X_val_treat_scaled = scaler.transform(X_val[treat_val == 1][['age', 'first_issue_time', 'first_redeem_time',\n",
        "       'issue_redeem_delay']])\n",
        "\n",
        "X_train_not_treat_scaled = scaler.transform(X_train[treat_train == 0][['age', 'first_issue_time', 'first_redeem_time',\n",
        "       'issue_redeem_delay']])\n",
        "X_val_not_treat_scaled = scaler.transform(X_val[treat_val == 0][['age', 'first_issue_time', 'first_redeem_time',\n",
        "       'issue_redeem_delay']])\n",
        "\n",
        "y_train_treat = y_train[treat_train == 1]\n",
        "y_train_not_treat = y_train[treat_train == 0]\n",
        "y_val_treat = y_val[treat_val == 1]\n",
        "y_val_not_treat = y_val[treat_val == 0]"
      ],
      "metadata": {
        "id": "dSQmkPynpNq3"
      },
      "execution_count": 54,
      "outputs": []
    },
    {
      "cell_type": "code",
      "source": [
        "# 2. 透過 分組去建立 treadted model and not treated model\n",
        "\n",
        "nn_treat = get_nn_model()\n",
        "nn_treat.compile(optimizer=keras.optimizers.Adam(), loss=['binary_crossentropy'], metrics=['acc'])\n",
        "nn.fit(X_train_treat_scaled, y_train_treat, batch_size=64, epochs=30, validation_data=(X_val_treat_scaled, y_val_treat))"
      ],
      "metadata": {
        "colab": {
          "base_uri": "https://localhost:8080/",
          "height": 0
        },
        "id": "qw12ErJQrKbh",
        "outputId": "7c8bc628-e584-4f3b-9797-380c1048f8f6"
      },
      "execution_count": 55,
      "outputs": [
        {
          "output_type": "stream",
          "name": "stdout",
          "text": [
            "Epoch 1/30\n",
            "1095/1095 [==============================] - 3s 3ms/step - loss: 0.6328 - acc: 0.6592 - val_loss: 0.6341 - val_acc: 0.6586\n",
            "Epoch 2/30\n",
            "1095/1095 [==============================] - 3s 3ms/step - loss: 0.6327 - acc: 0.6592 - val_loss: 0.6339 - val_acc: 0.6592\n",
            "Epoch 3/30\n",
            "1095/1095 [==============================] - 4s 4ms/step - loss: 0.6327 - acc: 0.6588 - val_loss: 0.6343 - val_acc: 0.6587\n",
            "Epoch 4/30\n",
            "1095/1095 [==============================] - 5s 5ms/step - loss: 0.6326 - acc: 0.6594 - val_loss: 0.6341 - val_acc: 0.6586\n",
            "Epoch 5/30\n",
            "1095/1095 [==============================] - 3s 3ms/step - loss: 0.6326 - acc: 0.6597 - val_loss: 0.6338 - val_acc: 0.6583\n",
            "Epoch 6/30\n",
            "1095/1095 [==============================] - 4s 3ms/step - loss: 0.6323 - acc: 0.6597 - val_loss: 0.6334 - val_acc: 0.6590\n",
            "Epoch 7/30\n",
            "1095/1095 [==============================] - 6s 5ms/step - loss: 0.6323 - acc: 0.6597 - val_loss: 0.6344 - val_acc: 0.6588\n",
            "Epoch 8/30\n",
            "1095/1095 [==============================] - 3s 2ms/step - loss: 0.6321 - acc: 0.6601 - val_loss: 0.6328 - val_acc: 0.6586\n",
            "Epoch 9/30\n",
            "1095/1095 [==============================] - 4s 4ms/step - loss: 0.6320 - acc: 0.6596 - val_loss: 0.6331 - val_acc: 0.6592\n",
            "Epoch 10/30\n",
            "1095/1095 [==============================] - 3s 3ms/step - loss: 0.6321 - acc: 0.6600 - val_loss: 0.6333 - val_acc: 0.6590\n",
            "Epoch 11/30\n",
            "1095/1095 [==============================] - 3s 2ms/step - loss: 0.6321 - acc: 0.6593 - val_loss: 0.6332 - val_acc: 0.6594\n",
            "Epoch 12/30\n",
            "1095/1095 [==============================] - 3s 3ms/step - loss: 0.6319 - acc: 0.6603 - val_loss: 0.6332 - val_acc: 0.6584\n",
            "Epoch 13/30\n",
            "1095/1095 [==============================] - 4s 4ms/step - loss: 0.6319 - acc: 0.6597 - val_loss: 0.6327 - val_acc: 0.6591\n",
            "Epoch 14/30\n",
            "1095/1095 [==============================] - 5s 4ms/step - loss: 0.6315 - acc: 0.6603 - val_loss: 0.6333 - val_acc: 0.6596\n",
            "Epoch 15/30\n",
            "1095/1095 [==============================] - 4s 3ms/step - loss: 0.6315 - acc: 0.6604 - val_loss: 0.6323 - val_acc: 0.6593\n",
            "Epoch 16/30\n",
            "1095/1095 [==============================] - 3s 3ms/step - loss: 0.6315 - acc: 0.6604 - val_loss: 0.6324 - val_acc: 0.6594\n",
            "Epoch 17/30\n",
            "1095/1095 [==============================] - 3s 2ms/step - loss: 0.6313 - acc: 0.6606 - val_loss: 0.6320 - val_acc: 0.6592\n",
            "Epoch 18/30\n",
            "1095/1095 [==============================] - 3s 3ms/step - loss: 0.6308 - acc: 0.6598 - val_loss: 0.6344 - val_acc: 0.6584\n",
            "Epoch 19/30\n",
            "1095/1095 [==============================] - 3s 3ms/step - loss: 0.6310 - acc: 0.6604 - val_loss: 0.6345 - val_acc: 0.6594\n",
            "Epoch 20/30\n",
            "1095/1095 [==============================] - 3s 3ms/step - loss: 0.6311 - acc: 0.6604 - val_loss: 0.6333 - val_acc: 0.6597\n",
            "Epoch 21/30\n",
            "1095/1095 [==============================] - 3s 3ms/step - loss: 0.6307 - acc: 0.6599 - val_loss: 0.6316 - val_acc: 0.6590\n",
            "Epoch 22/30\n",
            "1095/1095 [==============================] - 4s 3ms/step - loss: 0.6305 - acc: 0.6602 - val_loss: 0.6317 - val_acc: 0.6589\n",
            "Epoch 23/30\n",
            "1095/1095 [==============================] - 3s 2ms/step - loss: 0.6305 - acc: 0.6605 - val_loss: 0.6322 - val_acc: 0.6591\n",
            "Epoch 24/30\n",
            "1095/1095 [==============================] - 3s 2ms/step - loss: 0.6305 - acc: 0.6602 - val_loss: 0.6328 - val_acc: 0.6595\n",
            "Epoch 25/30\n",
            "1095/1095 [==============================] - 3s 2ms/step - loss: 0.6303 - acc: 0.6606 - val_loss: 0.6317 - val_acc: 0.6584\n",
            "Epoch 26/30\n",
            "1095/1095 [==============================] - 3s 2ms/step - loss: 0.6299 - acc: 0.6608 - val_loss: 0.6314 - val_acc: 0.6600\n",
            "Epoch 27/30\n",
            "1095/1095 [==============================] - 3s 2ms/step - loss: 0.6300 - acc: 0.6604 - val_loss: 0.6303 - val_acc: 0.6598\n",
            "Epoch 28/30\n",
            "1095/1095 [==============================] - 3s 2ms/step - loss: 0.6297 - acc: 0.6599 - val_loss: 0.6303 - val_acc: 0.6594\n",
            "Epoch 29/30\n",
            "1095/1095 [==============================] - 3s 2ms/step - loss: 0.6296 - acc: 0.6604 - val_loss: 0.6319 - val_acc: 0.6597\n",
            "Epoch 30/30\n",
            "1095/1095 [==============================] - 3s 2ms/step - loss: 0.6295 - acc: 0.6607 - val_loss: 0.6308 - val_acc: 0.6599\n"
          ]
        },
        {
          "output_type": "execute_result",
          "data": {
            "text/plain": [
              "<keras.callbacks.History at 0x7f7b83c409d0>"
            ]
          },
          "metadata": {},
          "execution_count": 55
        }
      ]
    },
    {
      "cell_type": "code",
      "source": [
        "# 2. 透過 分組去建立 treadted model and not treated model\n",
        "\n",
        "nn_not_treat = get_nn_model()\n",
        "nn_not_treat.compile(optimizer=keras.optimizers.Adam(), loss=['binary_crossentropy'], metrics=['acc'])\n",
        "nn_not_treat.fit(X_train_not_treat_scaled, y_train_not_treat, batch_size=64, epochs=30, validation_data=(X_val_not_treat_scaled, y_val_not_treat))"
      ],
      "metadata": {
        "colab": {
          "base_uri": "https://localhost:8080/",
          "height": 0
        },
        "id": "pGODyaSdsCHC",
        "outputId": "91ec1db6-0857-46ff-d704-76cda0c4fae0"
      },
      "execution_count": 56,
      "outputs": [
        {
          "output_type": "stream",
          "name": "stdout",
          "text": [
            "Epoch 1/30\n",
            "1094/1094 [==============================] - 3s 3ms/step - loss: 0.6645 - acc: 0.6093 - val_loss: 0.6618 - val_acc: 0.6155\n",
            "Epoch 2/30\n",
            "1094/1094 [==============================] - 3s 2ms/step - loss: 0.6602 - acc: 0.6189 - val_loss: 0.6604 - val_acc: 0.6209\n",
            "Epoch 3/30\n",
            "1094/1094 [==============================] - 3s 2ms/step - loss: 0.6593 - acc: 0.6211 - val_loss: 0.6598 - val_acc: 0.6212\n",
            "Epoch 4/30\n",
            "1094/1094 [==============================] - 3s 2ms/step - loss: 0.6587 - acc: 0.6222 - val_loss: 0.6602 - val_acc: 0.6189\n",
            "Epoch 5/30\n",
            "1094/1094 [==============================] - 4s 4ms/step - loss: 0.6584 - acc: 0.6233 - val_loss: 0.6592 - val_acc: 0.6224\n",
            "Epoch 6/30\n",
            "1094/1094 [==============================] - 3s 3ms/step - loss: 0.6582 - acc: 0.6235 - val_loss: 0.6587 - val_acc: 0.6238\n",
            "Epoch 7/30\n",
            "1094/1094 [==============================] - 3s 3ms/step - loss: 0.6580 - acc: 0.6242 - val_loss: 0.6587 - val_acc: 0.6234\n",
            "Epoch 8/30\n",
            "1094/1094 [==============================] - 3s 3ms/step - loss: 0.6577 - acc: 0.6244 - val_loss: 0.6588 - val_acc: 0.6240\n",
            "Epoch 9/30\n",
            "1094/1094 [==============================] - 3s 3ms/step - loss: 0.6576 - acc: 0.6249 - val_loss: 0.6589 - val_acc: 0.6231\n",
            "Epoch 10/30\n",
            "1094/1094 [==============================] - 3s 3ms/step - loss: 0.6574 - acc: 0.6253 - val_loss: 0.6579 - val_acc: 0.6239\n",
            "Epoch 11/30\n",
            "1094/1094 [==============================] - 3s 3ms/step - loss: 0.6571 - acc: 0.6251 - val_loss: 0.6590 - val_acc: 0.6238\n",
            "Epoch 12/30\n",
            "1094/1094 [==============================] - 3s 3ms/step - loss: 0.6570 - acc: 0.6251 - val_loss: 0.6579 - val_acc: 0.6240\n",
            "Epoch 13/30\n",
            "1094/1094 [==============================] - 3s 2ms/step - loss: 0.6571 - acc: 0.6260 - val_loss: 0.6577 - val_acc: 0.6236\n",
            "Epoch 14/30\n",
            "1094/1094 [==============================] - 6s 6ms/step - loss: 0.6568 - acc: 0.6258 - val_loss: 0.6574 - val_acc: 0.6241\n",
            "Epoch 15/30\n",
            "1094/1094 [==============================] - 3s 2ms/step - loss: 0.6566 - acc: 0.6262 - val_loss: 0.6574 - val_acc: 0.6254\n",
            "Epoch 16/30\n",
            "1094/1094 [==============================] - 3s 2ms/step - loss: 0.6565 - acc: 0.6262 - val_loss: 0.6574 - val_acc: 0.6247\n",
            "Epoch 17/30\n",
            "1094/1094 [==============================] - 3s 2ms/step - loss: 0.6564 - acc: 0.6261 - val_loss: 0.6571 - val_acc: 0.6249\n",
            "Epoch 18/30\n",
            "1094/1094 [==============================] - 3s 3ms/step - loss: 0.6565 - acc: 0.6268 - val_loss: 0.6573 - val_acc: 0.6247\n",
            "Epoch 19/30\n",
            "1094/1094 [==============================] - 3s 3ms/step - loss: 0.6562 - acc: 0.6260 - val_loss: 0.6573 - val_acc: 0.6249\n",
            "Epoch 20/30\n",
            "1094/1094 [==============================] - 4s 3ms/step - loss: 0.6560 - acc: 0.6268 - val_loss: 0.6576 - val_acc: 0.6251\n",
            "Epoch 21/30\n",
            "1094/1094 [==============================] - 3s 3ms/step - loss: 0.6561 - acc: 0.6270 - val_loss: 0.6568 - val_acc: 0.6257\n",
            "Epoch 22/30\n",
            "1094/1094 [==============================] - 3s 2ms/step - loss: 0.6560 - acc: 0.6269 - val_loss: 0.6571 - val_acc: 0.6253\n",
            "Epoch 23/30\n",
            "1094/1094 [==============================] - 3s 2ms/step - loss: 0.6560 - acc: 0.6270 - val_loss: 0.6568 - val_acc: 0.6250\n",
            "Epoch 24/30\n",
            "1094/1094 [==============================] - 3s 3ms/step - loss: 0.6559 - acc: 0.6269 - val_loss: 0.6569 - val_acc: 0.6254\n",
            "Epoch 25/30\n",
            "1094/1094 [==============================] - 3s 3ms/step - loss: 0.6558 - acc: 0.6271 - val_loss: 0.6574 - val_acc: 0.6248\n",
            "Epoch 26/30\n",
            "1094/1094 [==============================] - 3s 3ms/step - loss: 0.6557 - acc: 0.6271 - val_loss: 0.6566 - val_acc: 0.6249\n",
            "Epoch 27/30\n",
            "1094/1094 [==============================] - 3s 2ms/step - loss: 0.6556 - acc: 0.6270 - val_loss: 0.6574 - val_acc: 0.6247\n",
            "Epoch 28/30\n",
            "1094/1094 [==============================] - 4s 3ms/step - loss: 0.6555 - acc: 0.6277 - val_loss: 0.6568 - val_acc: 0.6254\n",
            "Epoch 29/30\n",
            "1094/1094 [==============================] - 3s 2ms/step - loss: 0.6555 - acc: 0.6271 - val_loss: 0.6562 - val_acc: 0.6261\n",
            "Epoch 30/30\n",
            "1094/1094 [==============================] - 3s 2ms/step - loss: 0.6555 - acc: 0.6271 - val_loss: 0.6563 - val_acc: 0.6255\n"
          ]
        },
        {
          "output_type": "execute_result",
          "data": {
            "text/plain": [
              "<keras.callbacks.History at 0x7f7b83b92190>"
            ]
          },
          "metadata": {},
          "execution_count": 56
        }
      ]
    },
    {
      "cell_type": "code",
      "source": [
        "X_val_scaled = scaler.transform(X_val[['age', 'first_issue_time', 'first_redeem_time',\n",
        "       'issue_redeem_delay']])"
      ],
      "metadata": {
        "id": "zb8QuxtFtfTh"
      },
      "execution_count": 57,
      "outputs": []
    },
    {
      "cell_type": "code",
      "source": [
        "# 3. 預測 new user's target value by above two models\n",
        "\n",
        "nn_treat.predict(X_val_scaled)"
      ],
      "metadata": {
        "colab": {
          "base_uri": "https://localhost:8080/",
          "height": 0
        },
        "id": "RRSGDsJmc7Nx",
        "outputId": "a97a1a59-cea5-412a-8071-89a3f975fc65"
      },
      "execution_count": 62,
      "outputs": [
        {
          "output_type": "stream",
          "name": "stdout",
          "text": [
            "1876/1876 [==============================] - 3s 1ms/step\n"
          ]
        },
        {
          "output_type": "execute_result",
          "data": {
            "text/plain": [
              "array([[0.69149894],\n",
              "       [0.60260034],\n",
              "       [0.50538117],\n",
              "       ...,\n",
              "       [0.43748072],\n",
              "       [0.40934512],\n",
              "       [0.20482425]], dtype=float32)"
            ]
          },
          "metadata": {},
          "execution_count": 62
        }
      ]
    },
    {
      "cell_type": "code",
      "source": [
        "# 3. 預測 new user's target value by above two models\n",
        "\n",
        "nn_not_treat.predict(X_val_scaled)"
      ],
      "metadata": {
        "colab": {
          "base_uri": "https://localhost:8080/",
          "height": 0
        },
        "id": "vqPzhzpMtEGN",
        "outputId": "350af3a8-e8e3-45d1-d15f-2065de6d389f"
      },
      "execution_count": 63,
      "outputs": [
        {
          "output_type": "stream",
          "name": "stdout",
          "text": [
            "1876/1876 [==============================] - 3s 1ms/step\n"
          ]
        },
        {
          "output_type": "execute_result",
          "data": {
            "text/plain": [
              "array([[0.32999852],\n",
              "       [0.7115843 ],\n",
              "       [0.58162004],\n",
              "       ...,\n",
              "       [0.57523435],\n",
              "       [0.6328938 ],\n",
              "       [0.5787898 ]], dtype=float32)"
            ]
          },
          "metadata": {},
          "execution_count": 63
        }
      ]
    },
    {
      "cell_type": "code",
      "source": [
        "uplift_tm_nn = nn_treat.predict(X_val_scaled) - nn_not_treat.predict(X_val_scaled)\n",
        "uplift_tm_nn"
      ],
      "metadata": {
        "colab": {
          "base_uri": "https://localhost:8080/",
          "height": 0
        },
        "id": "MsvaxcYMuPno",
        "outputId": "fa15af21-1446-4420-bcd6-8f0978df7fe1"
      },
      "execution_count": 58,
      "outputs": [
        {
          "output_type": "stream",
          "name": "stdout",
          "text": [
            "1876/1876 [==============================] - 3s 1ms/step\n",
            "1876/1876 [==============================] - 3s 1ms/step\n"
          ]
        },
        {
          "output_type": "execute_result",
          "data": {
            "text/plain": [
              "array([[ 0.3615004 ],\n",
              "       [-0.10898399],\n",
              "       [-0.07623887],\n",
              "       ...,\n",
              "       [-0.13775364],\n",
              "       [-0.22354868],\n",
              "       [-0.3739655 ]], dtype=float32)"
            ]
          },
          "metadata": {},
          "execution_count": 58
        }
      ]
    },
    {
      "cell_type": "code",
      "source": [
        "uplift_tm_nn.flatten()"
      ],
      "metadata": {
        "colab": {
          "base_uri": "https://localhost:8080/",
          "height": 0
        },
        "id": "BNS6SPZuv_q7",
        "outputId": "28a6fa8b-a2c1-4e2d-bad9-e8a0e866fc08"
      },
      "execution_count": 73,
      "outputs": [
        {
          "output_type": "execute_result",
          "data": {
            "text/plain": [
              "array([ 0.3615004 , -0.10898399, -0.07623887, ..., -0.13775364,\n",
              "       -0.22354868, -0.3739655 ], dtype=float32)"
            ]
          },
          "metadata": {},
          "execution_count": 73
        }
      ]
    },
    {
      "cell_type": "code",
      "source": [
        "tm_nn_score = uplift_at_k(y_true=y_val, uplift=uplift_tm_nn.flatten(), treatment=treat_val, strategy='by_group', k=0.3)\n",
        "\n",
        "models_results['approach'].append('TwoModels_nn')\n",
        "models_results['uplift@30%'].append(tm_nn_score)\n",
        "\n",
        "plot_uplift_preds(trmnt_preds=nn_treat.predict(X_val_scaled).flatten(), ctrl_preds=nn_not_treat.predict(X_val_scaled).flatten());"
      ],
      "metadata": {
        "colab": {
          "base_uri": "https://localhost:8080/",
          "height": 467
        },
        "id": "NxcEB2mBvWAy",
        "outputId": "6054b4de-9e14-4d0b-e4b4-0c4f0cf4a957"
      },
      "execution_count": 75,
      "outputs": [
        {
          "output_type": "stream",
          "name": "stdout",
          "text": [
            "1876/1876 [==============================] - 3s 1ms/step\n",
            "1876/1876 [==============================] - 3s 1ms/step\n"
          ]
        },
        {
          "output_type": "display_data",
          "data": {
            "text/plain": [
              "<Figure size 1440x504 with 3 Axes>"
            ],
            "image/png": "[encoded data removed]"
          },
          "metadata": {
            "needs_background": "light"
          }
        }
      ]
    },
    {
      "cell_type": "code",
      "source": [
        "models_results"
      ],
      "metadata": {
        "colab": {
          "base_uri": "https://localhost:8080/",
          "height": 0
        },
        "id": "hp8Of2FiVHmo",
        "outputId": "a93e78ed-798b-4183-ee93-8c35cd6819a4"
      },
      "execution_count": 76,
      "outputs": [
        {
          "output_type": "execute_result",
          "data": {
            "text/plain": [
              "{'approach': ['TwoModels', 'TwoModels_nn'],\n",
              " 'uplift@30%': [0.042683187810306444, 0.030141897539704088]}"
            ]
          },
          "metadata": {},
          "execution_count": 76
        }
      ]
    },
    {
      "cell_type": "code",
      "source": [
        "pd.DataFrame(data=models_results).sort_values('uplift@30%', ascending=False)"
      ],
      "metadata": {
        "colab": {
          "base_uri": "https://localhost:8080/",
          "height": 112
        },
        "id": "8ESIwJqdIL5K",
        "outputId": "bebcad74-b141-4292-a0a0-7ca3d4ef322a"
      },
      "execution_count": 77,
      "outputs": [
        {
          "output_type": "execute_result",
          "data": {
            "text/plain": [
              "       approach  uplift@30%\n",
              "0     TwoModels    0.042683\n",
              "1  TwoModels_nn    0.030142"
            ],
            "text/html": [
              "\n",
              "  <div id=\"df-299df334-7495-4dcd-ac7b-a43620e866be\">\n",
              "    <div class=\"colab-df-container\">\n",
              "      <div>\n",
              "<style scoped>\n",
              "    .dataframe tbody tr th:only-of-type {\n",
              "        vertical-align: middle;\n",
              "    }\n",
              "\n",
              "    .dataframe tbody tr th {\n",
              "        vertical-align: top;\n",
              "    }\n",
              "\n",
              "    .dataframe thead th {\n",
              "        text-align: right;\n",
              "    }\n",
              "</style>\n",
              "<table border=\"1\" class=\"dataframe\">\n",
              "  <thead>\n",
              "    <tr style=\"text-align: right;\">\n",
              "      <th></th>\n",
              "      <th>approach</th>\n",
              "      <th>uplift@30%</th>\n",
              "    </tr>\n",
              "  </thead>\n",
              "  <tbody>\n",
              "    <tr>\n",
              "      <th>0</th>\n",
              "      <td>TwoModels</td>\n",
              "      <td>0.042683</td>\n",
              "    </tr>\n",
              "    <tr>\n",
              "      <th>1</th>\n",
              "      <td>TwoModels_nn</td>\n",
              "      <td>0.030142</td>\n",
              "    </tr>\n",
              "  </tbody>\n",
              "</table>\n",
              "</div>\n",
              "      <button class=\"colab-df-convert\" onclick=\"convertToInteractive('df-299df334-7495-4dcd-ac7b-a43620e866be')\"\n",
              "              title=\"Convert this dataframe to an interactive table.\"\n",
              "              style=\"display:none;\">\n",
              "        \n",
              "  <svg xmlns=\"http://www.w3.org/2000/svg\" height=\"24px\"viewBox=\"0 0 24 24\"\n",
              "       width=\"24px\">\n",
              "    <path d=\"M0 0h24v24H0V0z\" fill=\"none\"/>\n",
              "    <path d=\"M18.56 5.44l.94 2.06.94-2.06 2.06-.94-2.06-.94-.94-2.06-.94 2.06-2.06.94zm-11 1L8.5 8.5l.94-2.06 2.06-.94-2.06-.94L8.5 2.5l-.94 2.06-2.06.94zm10 10l.94 2.06.94-2.06 2.06-.94-2.06-.94-.94-2.06-.94 2.06-2.06.94z\"/><path d=\"M17.41 7.96l-1.37-1.37c-.4-.4-.92-.59-1.43-.59-.52 0-1.04.2-1.43.59L10.3 9.45l-7.72 7.72c-.78.78-.78 2.05 0 2.83L4 21.41c.39.39.9.59 1.41.59.51 0 1.02-.2 1.41-.59l7.78-7.78 2.81-2.81c.8-.78.8-2.07 0-2.86zM5.41 20L4 18.59l7.72-7.72 1.47 1.35L5.41 20z\"/>\n",
              "  </svg>\n",
              "      </button>\n",
              "      \n",
              "  <style>\n",
              "    .colab-df-container {\n",
              "      display:flex;\n",
              "      flex-wrap:wrap;\n",
              "      gap: 12px;\n",
              "    }\n",
              "\n",
              "    .colab-df-convert {\n",
              "      background-color: #E8F0FE;\n",
              "      border: none;\n",
              "      border-radius: 50%;\n",
              "      cursor: pointer;\n",
              "      display: none;\n",
              "      fill: #1967D2;\n",
              "      height: 32px;\n",
              "      padding: 0 0 0 0;\n",
              "      width: 32px;\n",
              "    }\n",
              "\n",
              "    .colab-df-convert:hover {\n",
              "      background-color: #E2EBFA;\n",
              "      box-shadow: 0px 1px 2px rgba(60, 64, 67, 0.3), 0px 1px 3px 1px rgba(60, 64, 67, 0.15);\n",
              "      fill: #174EA6;\n",
              "    }\n",
              "\n",
              "    [theme=dark] .colab-df-convert {\n",
              "      background-color: #3B4455;\n",
              "      fill: #D2E3FC;\n",
              "    }\n",
              "\n",
              "    [theme=dark] .colab-df-convert:hover {\n",
              "      background-color: #434B5C;\n",
              "      box-shadow: 0px 1px 3px 1px rgba(0, 0, 0, 0.15);\n",
              "      filter: drop-shadow(0px 1px 2px rgba(0, 0, 0, 0.3));\n",
              "      fill: #FFFFFF;\n",
              "    }\n",
              "  </style>\n",
              "\n",
              "      <script>\n",
              "        const buttonEl =\n",
              "          document.querySelector('#df-299df334-7495-4dcd-ac7b-a43620e866be button.colab-df-convert');\n",
              "        buttonEl.style.display =\n",
              "          google.colab.kernel.accessAllowed ? 'block' : 'none';\n",
              "\n",
              "        async function convertToInteractive(key) {\n",
              "          const element = document.querySelector('#df-299df334-7495-4dcd-ac7b-a43620e866be');\n",
              "          const dataTable =\n",
              "            await google.colab.kernel.invokeFunction('convertToInteractive',\n",
              "                                                     [key], {});\n",
              "          if (!dataTable) return;\n",
              "\n",
              "          const docLinkHtml = 'Like what you see? Visit the ' +\n",
              "            '<a target=\"_blank\" href=https://colab.research.google.com/notebooks/data_table.ipynb>data table notebook</a>'\n",
              "            + ' to learn more about interactive tables.';\n",
              "          element.innerHTML = '';\n",
              "          dataTable['output_type'] = 'display_data';\n",
              "          await google.colab.output.renderOutput(dataTable, element);\n",
              "          const docLink = document.createElement('div');\n",
              "          docLink.innerHTML = docLinkHtml;\n",
              "          element.appendChild(docLink);\n",
              "        }\n",
              "      </script>\n",
              "    </div>\n",
              "  </div>\n",
              "  "
            ]
          },
          "metadata": {},
          "execution_count": 77
        }
      ]
    },
    {
      "cell_type": "code",
      "source": [],
      "metadata": {
        "id": "3NH3FfG2xbIf"
      },
      "execution_count": null,
      "outputs": []
    }
  ]
}