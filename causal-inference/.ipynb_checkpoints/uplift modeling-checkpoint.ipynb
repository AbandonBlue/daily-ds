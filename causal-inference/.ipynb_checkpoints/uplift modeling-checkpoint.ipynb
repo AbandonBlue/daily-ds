{
 "cells": [
  {
   "cell_type": "markdown",
   "metadata": {},
   "source": [
    "## Uplift model\n",
    "- 屬於因果推論的其中一種應用，透過隨機實驗測量 treatment 的增益程度，常用於MarTech，去找出哪一些顧客適合投遞廣告、優惠、活動等等。\n",
    "- package\n",
    "    - [scikit-uplift](https://www.uplift-modeling.com/en/v0.3.1/quick_start.html)\n",
    "- paper behind\n",
    "    - [Causal Inference and Uplift Modeling A review of the literature](http://proceedings.mlr.press/v67/gutierrez17a/gutierrez17a.pdf)\n",
    "- [datasets](https://www.uplift-modeling.com/en/v0.3.1/api/datasets/fetch_x5.html)"
   ]
  },
  {
   "cell_type": "code",
   "execution_count": null,
   "metadata": {
    "ExecuteTime": {
     "end_time": "2022-03-29T14:57:05.236868Z",
     "start_time": "2022-03-29T14:53:46.566278Z"
    }
   },
   "outputs": [],
   "source": [
    "# 資料\n",
    "\n",
    "from sklift.datasets import fetch_criteo\n",
    "\n",
    "dataset = fetch_criteo()"
   ]
  },
  {
   "cell_type": "code",
   "execution_count": null,
   "metadata": {
    "ExecuteTime": {
     "end_time": "2022-03-29T14:57:05.255767Z",
     "start_time": "2022-03-29T14:55:28.696Z"
    }
   },
   "outputs": [],
   "source": [
    "print(f\"Dataset type: {type(dataset)}\\n\")\n",
    "print(f\"Dataset features shape: {dataset.data['clients'].shape}\")\n",
    "print(f\"Dataset features shape: {dataset.data['train'].shape}\")\n",
    "print(f\"Dataset target shape: {dataset.target.shape}\")\n",
    "print(f\"Dataset treatment shape: {dataset.treatment.shape}\")"
   ]
  },
  {
   "cell_type": "code",
   "execution_count": null,
   "metadata": {
    "ExecuteTime": {
     "end_time": "2022-03-29T14:48:18.291194Z",
     "start_time": "2022-03-29T14:48:18.277381Z"
    }
   },
   "outputs": [],
   "source": [
    "# 不同的實踐方式，各有優缺點，詳情可看論文。\n",
    "from sklift.models import SoloModel, ClassTransformation, TwoModels\n",
    "from sklearn.ensemble import RandomForestClassifier\n",
    "\n",
    "# 創建模型: 以TwoModels為例。\n",
    "treatment_model = RandomForestClassifier()\n",
    "control_model = RandomForestClassifier()\n",
    "\n",
    "# 使用方法: TwoModels。\n",
    "tm = TwoModels(estimator_trmnt=treatment_model, estimator_ctrl=control_model, method='vanilla')\n",
    "\n",
    "# 訓練\n",
    "tm = tm.fit(X=x_train, y=y_train, treatment=treat_train)\n",
    "\n",
    "# 預測 uplift\n",
    "uplift_preds = tm.predict(X_val)"
   ]
  },
  {
   "cell_type": "code",
   "execution_count": null,
   "metadata": {},
   "outputs": [],
   "source": []
  }
 ],
 "metadata": {
  "kernelspec": {
   "display_name": "Python 3",
   "language": "python",
   "name": "python3"
  },
  "language_info": {
   "codemirror_mode": {
    "name": "ipython",
    "version": 3
   },
   "file_extension": ".py",
   "mimetype": "text/x-python",
   "name": "python",
   "nbconvert_exporter": "python",
   "pygments_lexer": "ipython3",
   "version": "3.7.3"
  }
 },
 "nbformat": 4,
 "nbformat_minor": 4
}
